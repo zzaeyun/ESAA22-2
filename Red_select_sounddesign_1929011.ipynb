{
  "nbformat": 4,
  "nbformat_minor": 0,
  "metadata": {
    "colab": {
      "provenance": [],
      "authorship_tag": "ABX9TyNl5tnzKOa/NEsNnYvWyfzf",
      "include_colab_link": true
    },
    "kernelspec": {
      "name": "python3",
      "display_name": "Python 3"
    },
    "language_info": {
      "name": "python"
    }
  },
  "cells": [
    {
      "cell_type": "markdown",
      "metadata": {
        "id": "view-in-github",
        "colab_type": "text"
      },
      "source": [
        "<a href=\"https://colab.research.google.com/github/zzaeyun/ESAA22-2/blob/main/Red_select_sounddesign_1929011.ipynb\" target=\"_parent\"><img src=\"https://colab.research.google.com/assets/colab-badge.svg\" alt=\"Open In Colab\"/></a>"
      ]
    },
    {
      "cell_type": "markdown",
      "source": [
        "### **2022-2 사운드 디자인 기말 과제 데이터 가공**\n",
        "**1929011 김채윤** "
      ],
      "metadata": {
        "id": "Yp2WPTGBBn0k"
      }
    },
    {
      "cell_type": "markdown",
      "source": [
        "### **0. 데이터 불러오기**"
      ],
      "metadata": {
        "id": "i5SyKQAs95nv"
      }
    },
    {
      "cell_type": "code",
      "source": [
        "import numpy as np\n",
        "import pandas as pd"
      ],
      "metadata": {
        "id": "L4zItBmi1dIp"
      },
      "execution_count": 110,
      "outputs": []
    },
    {
      "cell_type": "code",
      "source": [
        "Red=pd.read_csv('/Red.csv')"
      ],
      "metadata": {
        "id": "GoPP24KZzhAC"
      },
      "execution_count": 111,
      "outputs": []
    },
    {
      "cell_type": "code",
      "source": [
        "Red.head()"
      ],
      "metadata": {
        "colab": {
          "base_uri": "https://localhost:8080/",
          "height": 206
        },
        "id": "4baYTQUb1jkI",
        "outputId": "c265fad5-9e19-4002-b398-c4baeddd05e3"
      },
      "execution_count": 112,
      "outputs": [
        {
          "output_type": "execute_result",
          "data": {
            "text/plain": [
              "                                 Name  Country     Region  \\\n",
              "0                        Pomerol 2011   France    Pomerol   \n",
              "1                          Lirac 2017   France      Lirac   \n",
              "2  Erta e China Rosso di Toscana 2015    Italy    Toscana   \n",
              "3                      Bardolino 2019    Italy  Bardolino   \n",
              "4      Ried Scheibner Pinot Noir 2016  Austria  Carnuntum   \n",
              "\n",
              "                  Winery  Rating  NumberOfRatings  Price  Year  \n",
              "0  Château La Providence     4.2              100  95.00  2011  \n",
              "1     Château Mont-Redon     4.3              100  15.50  2017  \n",
              "2             Renzo Masi     3.9              100   7.45  2015  \n",
              "3             Cavalchina     3.5              100   8.72  2019  \n",
              "4            Markowitsch     3.9              100  29.15  2016  "
            ],
            "text/html": [
              "\n",
              "  <div id=\"df-8e38d4b0-020d-4397-b9a6-c7a559f5d56f\">\n",
              "    <div class=\"colab-df-container\">\n",
              "      <div>\n",
              "<style scoped>\n",
              "    .dataframe tbody tr th:only-of-type {\n",
              "        vertical-align: middle;\n",
              "    }\n",
              "\n",
              "    .dataframe tbody tr th {\n",
              "        vertical-align: top;\n",
              "    }\n",
              "\n",
              "    .dataframe thead th {\n",
              "        text-align: right;\n",
              "    }\n",
              "</style>\n",
              "<table border=\"1\" class=\"dataframe\">\n",
              "  <thead>\n",
              "    <tr style=\"text-align: right;\">\n",
              "      <th></th>\n",
              "      <th>Name</th>\n",
              "      <th>Country</th>\n",
              "      <th>Region</th>\n",
              "      <th>Winery</th>\n",
              "      <th>Rating</th>\n",
              "      <th>NumberOfRatings</th>\n",
              "      <th>Price</th>\n",
              "      <th>Year</th>\n",
              "    </tr>\n",
              "  </thead>\n",
              "  <tbody>\n",
              "    <tr>\n",
              "      <th>0</th>\n",
              "      <td>Pomerol 2011</td>\n",
              "      <td>France</td>\n",
              "      <td>Pomerol</td>\n",
              "      <td>Château La Providence</td>\n",
              "      <td>4.2</td>\n",
              "      <td>100</td>\n",
              "      <td>95.00</td>\n",
              "      <td>2011</td>\n",
              "    </tr>\n",
              "    <tr>\n",
              "      <th>1</th>\n",
              "      <td>Lirac 2017</td>\n",
              "      <td>France</td>\n",
              "      <td>Lirac</td>\n",
              "      <td>Château Mont-Redon</td>\n",
              "      <td>4.3</td>\n",
              "      <td>100</td>\n",
              "      <td>15.50</td>\n",
              "      <td>2017</td>\n",
              "    </tr>\n",
              "    <tr>\n",
              "      <th>2</th>\n",
              "      <td>Erta e China Rosso di Toscana 2015</td>\n",
              "      <td>Italy</td>\n",
              "      <td>Toscana</td>\n",
              "      <td>Renzo Masi</td>\n",
              "      <td>3.9</td>\n",
              "      <td>100</td>\n",
              "      <td>7.45</td>\n",
              "      <td>2015</td>\n",
              "    </tr>\n",
              "    <tr>\n",
              "      <th>3</th>\n",
              "      <td>Bardolino 2019</td>\n",
              "      <td>Italy</td>\n",
              "      <td>Bardolino</td>\n",
              "      <td>Cavalchina</td>\n",
              "      <td>3.5</td>\n",
              "      <td>100</td>\n",
              "      <td>8.72</td>\n",
              "      <td>2019</td>\n",
              "    </tr>\n",
              "    <tr>\n",
              "      <th>4</th>\n",
              "      <td>Ried Scheibner Pinot Noir 2016</td>\n",
              "      <td>Austria</td>\n",
              "      <td>Carnuntum</td>\n",
              "      <td>Markowitsch</td>\n",
              "      <td>3.9</td>\n",
              "      <td>100</td>\n",
              "      <td>29.15</td>\n",
              "      <td>2016</td>\n",
              "    </tr>\n",
              "  </tbody>\n",
              "</table>\n",
              "</div>\n",
              "      <button class=\"colab-df-convert\" onclick=\"convertToInteractive('df-8e38d4b0-020d-4397-b9a6-c7a559f5d56f')\"\n",
              "              title=\"Convert this dataframe to an interactive table.\"\n",
              "              style=\"display:none;\">\n",
              "        \n",
              "  <svg xmlns=\"http://www.w3.org/2000/svg\" height=\"24px\"viewBox=\"0 0 24 24\"\n",
              "       width=\"24px\">\n",
              "    <path d=\"M0 0h24v24H0V0z\" fill=\"none\"/>\n",
              "    <path d=\"M18.56 5.44l.94 2.06.94-2.06 2.06-.94-2.06-.94-.94-2.06-.94 2.06-2.06.94zm-11 1L8.5 8.5l.94-2.06 2.06-.94-2.06-.94L8.5 2.5l-.94 2.06-2.06.94zm10 10l.94 2.06.94-2.06 2.06-.94-2.06-.94-.94-2.06-.94 2.06-2.06.94z\"/><path d=\"M17.41 7.96l-1.37-1.37c-.4-.4-.92-.59-1.43-.59-.52 0-1.04.2-1.43.59L10.3 9.45l-7.72 7.72c-.78.78-.78 2.05 0 2.83L4 21.41c.39.39.9.59 1.41.59.51 0 1.02-.2 1.41-.59l7.78-7.78 2.81-2.81c.8-.78.8-2.07 0-2.86zM5.41 20L4 18.59l7.72-7.72 1.47 1.35L5.41 20z\"/>\n",
              "  </svg>\n",
              "      </button>\n",
              "      \n",
              "  <style>\n",
              "    .colab-df-container {\n",
              "      display:flex;\n",
              "      flex-wrap:wrap;\n",
              "      gap: 12px;\n",
              "    }\n",
              "\n",
              "    .colab-df-convert {\n",
              "      background-color: #E8F0FE;\n",
              "      border: none;\n",
              "      border-radius: 50%;\n",
              "      cursor: pointer;\n",
              "      display: none;\n",
              "      fill: #1967D2;\n",
              "      height: 32px;\n",
              "      padding: 0 0 0 0;\n",
              "      width: 32px;\n",
              "    }\n",
              "\n",
              "    .colab-df-convert:hover {\n",
              "      background-color: #E2EBFA;\n",
              "      box-shadow: 0px 1px 2px rgba(60, 64, 67, 0.3), 0px 1px 3px 1px rgba(60, 64, 67, 0.15);\n",
              "      fill: #174EA6;\n",
              "    }\n",
              "\n",
              "    [theme=dark] .colab-df-convert {\n",
              "      background-color: #3B4455;\n",
              "      fill: #D2E3FC;\n",
              "    }\n",
              "\n",
              "    [theme=dark] .colab-df-convert:hover {\n",
              "      background-color: #434B5C;\n",
              "      box-shadow: 0px 1px 3px 1px rgba(0, 0, 0, 0.15);\n",
              "      filter: drop-shadow(0px 1px 2px rgba(0, 0, 0, 0.3));\n",
              "      fill: #FFFFFF;\n",
              "    }\n",
              "  </style>\n",
              "\n",
              "      <script>\n",
              "        const buttonEl =\n",
              "          document.querySelector('#df-8e38d4b0-020d-4397-b9a6-c7a559f5d56f button.colab-df-convert');\n",
              "        buttonEl.style.display =\n",
              "          google.colab.kernel.accessAllowed ? 'block' : 'none';\n",
              "\n",
              "        async function convertToInteractive(key) {\n",
              "          const element = document.querySelector('#df-8e38d4b0-020d-4397-b9a6-c7a559f5d56f');\n",
              "          const dataTable =\n",
              "            await google.colab.kernel.invokeFunction('convertToInteractive',\n",
              "                                                     [key], {});\n",
              "          if (!dataTable) return;\n",
              "\n",
              "          const docLinkHtml = 'Like what you see? Visit the ' +\n",
              "            '<a target=\"_blank\" href=https://colab.research.google.com/notebooks/data_table.ipynb>data table notebook</a>'\n",
              "            + ' to learn more about interactive tables.';\n",
              "          element.innerHTML = '';\n",
              "          dataTable['output_type'] = 'display_data';\n",
              "          await google.colab.output.renderOutput(dataTable, element);\n",
              "          const docLink = document.createElement('div');\n",
              "          docLink.innerHTML = docLinkHtml;\n",
              "          element.appendChild(docLink);\n",
              "        }\n",
              "      </script>\n",
              "    </div>\n",
              "  </div>\n",
              "  "
            ]
          },
          "metadata": {},
          "execution_count": 112
        }
      ]
    },
    {
      "cell_type": "markdown",
      "source": [
        "### **1. 데이터 살펴보기**"
      ],
      "metadata": {
        "id": "zQGgOYLk-Bu2"
      }
    },
    {
      "cell_type": "code",
      "source": [
        "#데이터 형식과 NULL값 살펴보기\n",
        "Red.info()"
      ],
      "metadata": {
        "colab": {
          "base_uri": "https://localhost:8080/",
          "height": 0
        },
        "id": "L-wCeFY21qT_",
        "outputId": "b8e1eeb8-572a-47b6-8d6b-d1ccaf213373"
      },
      "execution_count": 113,
      "outputs": [
        {
          "output_type": "stream",
          "name": "stdout",
          "text": [
            "<class 'pandas.core.frame.DataFrame'>\n",
            "RangeIndex: 8666 entries, 0 to 8665\n",
            "Data columns (total 8 columns):\n",
            " #   Column           Non-Null Count  Dtype  \n",
            "---  ------           --------------  -----  \n",
            " 0   Name             8666 non-null   object \n",
            " 1   Country          8666 non-null   object \n",
            " 2   Region           8666 non-null   object \n",
            " 3   Winery           8666 non-null   object \n",
            " 4   Rating           8666 non-null   float64\n",
            " 5   NumberOfRatings  8666 non-null   int64  \n",
            " 6   Price            8666 non-null   float64\n",
            " 7   Year             8666 non-null   object \n",
            "dtypes: float64(2), int64(1), object(5)\n",
            "memory usage: 541.8+ KB\n"
          ]
        }
      ]
    },
    {
      "cell_type": "markdown",
      "source": [
        "- NULL값은 없으며 8개의 변수와 8666개의 관측치를 가지고 있음\n",
        "- 하지만 twotone에서는 2000개의 관측치까지만 받고 있기 때문에 기준을 설정하여 관측치의 일부를 표본으로 추출해야 함"
      ],
      "metadata": {
        "id": "BY8bSym09Nqm"
      }
    },
    {
      "cell_type": "markdown",
      "source": [
        "### **2. 변수 가공**"
      ],
      "metadata": {
        "id": "KZKLwGfs9zK2"
      }
    },
    {
      "cell_type": "markdown",
      "source": [
        "- Country: 문자열로 되어 있어 숫자형으로 변경하는 가공이 필요함"
      ],
      "metadata": {
        "id": "SH6Lu--w-M3n"
      }
    },
    {
      "cell_type": "code",
      "source": [
        "Red.Country.value_counts()"
      ],
      "metadata": {
        "colab": {
          "base_uri": "https://localhost:8080/",
          "height": 0
        },
        "id": "_HpN5dKH16R4",
        "outputId": "21a5e07f-83f5-46e2-dd64-970f1be111ca"
      },
      "execution_count": 114,
      "outputs": [
        {
          "output_type": "execute_result",
          "data": {
            "text/plain": [
              "Italy            2650\n",
              "France           2256\n",
              "Spain            1142\n",
              "South Africa      500\n",
              "United States     374\n",
              "Chile             326\n",
              "Germany           248\n",
              "Australia         246\n",
              "Argentina         246\n",
              "Portugal          230\n",
              "Austria           220\n",
              "New Zealand        63\n",
              "Brazil             40\n",
              "Romania            23\n",
              "Lebanon            15\n",
              "Israel             13\n",
              "Greece             13\n",
              "Switzerland        12\n",
              "Hungary             9\n",
              "Moldova             8\n",
              "Slovenia            8\n",
              "Turkey              6\n",
              "Georgia             5\n",
              "Uruguay             4\n",
              "Croatia             2\n",
              "Bulgaria            2\n",
              "Canada              2\n",
              "Mexico              1\n",
              "China               1\n",
              "Slovakia            1\n",
              "Name: Country, dtype: int64"
            ]
          },
          "metadata": {},
          "execution_count": 114
        }
      ]
    },
    {
      "cell_type": "code",
      "source": [
        "Red.replace({'Italy': 2650, 'France': 2256, 'Spain': 1142, 'South Africa': 500, 'United States': 374, \n",
        "             'Chile': 326, 'Germany': 248, 'Australia': 246, 'Argentina': 246, 'Portugal': 230,\n",
        "             'Austria': 220, 'New Zealand': 63, 'Brazil': 40, 'Romania': 23, 'Lebanon': 15,\n",
        "             'Israel': 13, 'Greece': 13, 'Switzerland': 12, 'Hungary': 9, 'Moldova': 8,\n",
        "             'Slovenia': 8, 'Turkey': 6, 'Georgia': 5, 'Uruguay': 4, 'Croatia': 2,\n",
        "             'Bulgaria': 2, 'Canada': 2, 'Mexico': 1, 'China': 1, 'Slovakia': 1}, inplace=True)"
      ],
      "metadata": {
        "id": "jc0iP9UhLTwr"
      },
      "execution_count": 115,
      "outputs": []
    },
    {
      "cell_type": "markdown",
      "source": [
        "- Year: 연도가 숫자형이 아닌 문자형으로 저장되어 있으므로 숫자형 변수로 변경"
      ],
      "metadata": {
        "id": "ZYFnMykv-5Xe"
      }
    },
    {
      "cell_type": "code",
      "source": [
        "Red.Year.value_counts()"
      ],
      "metadata": {
        "colab": {
          "base_uri": "https://localhost:8080/",
          "height": 0
        },
        "id": "DESzc24-_oGG",
        "outputId": "c6e15127-1812-4cbe-99a1-25a564ccf65c"
      },
      "execution_count": 116,
      "outputs": [
        {
          "output_type": "execute_result",
          "data": {
            "text/plain": [
              "2016    1776\n",
              "2017    1558\n",
              "2015    1396\n",
              "2018    1099\n",
              "2014     798\n",
              "2013     564\n",
              "2012     371\n",
              "2011     278\n",
              "2010     174\n",
              "2005     154\n",
              "2019     116\n",
              "2009      84\n",
              "2008      80\n",
              "2006      44\n",
              "2007      43\n",
              "2004      27\n",
              "2000      19\n",
              "1999      15\n",
              "2001      12\n",
              "2003      11\n",
              "N.V.       8\n",
              "1997       7\n",
              "2002       7\n",
              "1998       6\n",
              "1996       5\n",
              "1995       4\n",
              "1992       3\n",
              "1990       2\n",
              "1989       2\n",
              "1993       1\n",
              "1988       1\n",
              "1991       1\n",
              "Name: Year, dtype: int64"
            ]
          },
          "metadata": {},
          "execution_count": 116
        }
      ]
    },
    {
      "cell_type": "markdown",
      "source": [
        "Year가 N.V.인 와인의 의미:\n",
        "\n",
        "***Wines without a vintage date: Non-vintage wine is made by blending multiple years together. Non-vintage wines are known for their consistent, house style and are usually a good value. For example, a common non-vintage wine is Champagne labeled simply as “N.V.”***"
      ],
      "metadata": {
        "id": "8i7j7BOu_4dO"
      }
    },
    {
      "cell_type": "code",
      "source": [
        "Red[Red.Year=='N.V.']"
      ],
      "metadata": {
        "colab": {
          "base_uri": "https://localhost:8080/",
          "height": 300
        },
        "id": "iNv1KxLOAHaO",
        "outputId": "8856e4b7-d228-4ebe-be1c-ebfae9872327"
      },
      "execution_count": 117,
      "outputs": [
        {
          "output_type": "execute_result",
          "data": {
            "text/plain": [
              "                                         Name  Country  \\\n",
              "197                             Délicate N.V.      500   \n",
              "282                             Overture N.V.      374   \n",
              "943                            Red Blend N.V.      326   \n",
              "2201                Cinquanta Collezione N.V.     2650   \n",
              "2404        Limited Edition 10 Vendemmie N.V.     2650   \n",
              "4527            Lambrusco Reggiano Dolce N.V.     2650   \n",
              "4833    Little James' Basket Press Rouge N.V.     2256   \n",
              "5632  Tre Autoctoni Evoluzione Notturnia N.V.     2650   \n",
              "\n",
              "                       Region                  Winery  Rating  \\\n",
              "197              Stellenbosch                De Toren     4.1   \n",
              "282               Napa Valley                Opus One     4.4   \n",
              "943             Lontue Valley            Caballo Loco     4.4   \n",
              "2201            Vino d'Italia             San Marzano     4.3   \n",
              "2404  Montepulciano d'Abruzzo           Tenuta Ulisse     4.6   \n",
              "4527                 Reggiano                 Riunite     3.7   \n",
              "4833            Vin de France  Château de Saint Cosme     3.6   \n",
              "5632            Vino d'Italia                 Farnese     3.7   \n",
              "\n",
              "      NumberOfRatings   Price  Year  \n",
              "197              1056   14.38  N.V.  \n",
              "282             10799  154.99  N.V.  \n",
              "943             13136   34.07  N.V.  \n",
              "2201            19454   16.38  N.V.  \n",
              "2404             2080   30.90  N.V.  \n",
              "4527              359    5.89  N.V.  \n",
              "4833             3818    7.90  N.V.  \n",
              "5632              461    7.75  N.V.  "
            ],
            "text/html": [
              "\n",
              "  <div id=\"df-f624c6e6-fb8b-4a70-a5e8-3babcd1ff8d3\">\n",
              "    <div class=\"colab-df-container\">\n",
              "      <div>\n",
              "<style scoped>\n",
              "    .dataframe tbody tr th:only-of-type {\n",
              "        vertical-align: middle;\n",
              "    }\n",
              "\n",
              "    .dataframe tbody tr th {\n",
              "        vertical-align: top;\n",
              "    }\n",
              "\n",
              "    .dataframe thead th {\n",
              "        text-align: right;\n",
              "    }\n",
              "</style>\n",
              "<table border=\"1\" class=\"dataframe\">\n",
              "  <thead>\n",
              "    <tr style=\"text-align: right;\">\n",
              "      <th></th>\n",
              "      <th>Name</th>\n",
              "      <th>Country</th>\n",
              "      <th>Region</th>\n",
              "      <th>Winery</th>\n",
              "      <th>Rating</th>\n",
              "      <th>NumberOfRatings</th>\n",
              "      <th>Price</th>\n",
              "      <th>Year</th>\n",
              "    </tr>\n",
              "  </thead>\n",
              "  <tbody>\n",
              "    <tr>\n",
              "      <th>197</th>\n",
              "      <td>Délicate N.V.</td>\n",
              "      <td>500</td>\n",
              "      <td>Stellenbosch</td>\n",
              "      <td>De Toren</td>\n",
              "      <td>4.1</td>\n",
              "      <td>1056</td>\n",
              "      <td>14.38</td>\n",
              "      <td>N.V.</td>\n",
              "    </tr>\n",
              "    <tr>\n",
              "      <th>282</th>\n",
              "      <td>Overture N.V.</td>\n",
              "      <td>374</td>\n",
              "      <td>Napa Valley</td>\n",
              "      <td>Opus One</td>\n",
              "      <td>4.4</td>\n",
              "      <td>10799</td>\n",
              "      <td>154.99</td>\n",
              "      <td>N.V.</td>\n",
              "    </tr>\n",
              "    <tr>\n",
              "      <th>943</th>\n",
              "      <td>Red Blend N.V.</td>\n",
              "      <td>326</td>\n",
              "      <td>Lontue Valley</td>\n",
              "      <td>Caballo Loco</td>\n",
              "      <td>4.4</td>\n",
              "      <td>13136</td>\n",
              "      <td>34.07</td>\n",
              "      <td>N.V.</td>\n",
              "    </tr>\n",
              "    <tr>\n",
              "      <th>2201</th>\n",
              "      <td>Cinquanta Collezione N.V.</td>\n",
              "      <td>2650</td>\n",
              "      <td>Vino d'Italia</td>\n",
              "      <td>San Marzano</td>\n",
              "      <td>4.3</td>\n",
              "      <td>19454</td>\n",
              "      <td>16.38</td>\n",
              "      <td>N.V.</td>\n",
              "    </tr>\n",
              "    <tr>\n",
              "      <th>2404</th>\n",
              "      <td>Limited Edition 10 Vendemmie N.V.</td>\n",
              "      <td>2650</td>\n",
              "      <td>Montepulciano d'Abruzzo</td>\n",
              "      <td>Tenuta Ulisse</td>\n",
              "      <td>4.6</td>\n",
              "      <td>2080</td>\n",
              "      <td>30.90</td>\n",
              "      <td>N.V.</td>\n",
              "    </tr>\n",
              "    <tr>\n",
              "      <th>4527</th>\n",
              "      <td>Lambrusco Reggiano Dolce N.V.</td>\n",
              "      <td>2650</td>\n",
              "      <td>Reggiano</td>\n",
              "      <td>Riunite</td>\n",
              "      <td>3.7</td>\n",
              "      <td>359</td>\n",
              "      <td>5.89</td>\n",
              "      <td>N.V.</td>\n",
              "    </tr>\n",
              "    <tr>\n",
              "      <th>4833</th>\n",
              "      <td>Little James' Basket Press Rouge N.V.</td>\n",
              "      <td>2256</td>\n",
              "      <td>Vin de France</td>\n",
              "      <td>Château de Saint Cosme</td>\n",
              "      <td>3.6</td>\n",
              "      <td>3818</td>\n",
              "      <td>7.90</td>\n",
              "      <td>N.V.</td>\n",
              "    </tr>\n",
              "    <tr>\n",
              "      <th>5632</th>\n",
              "      <td>Tre Autoctoni Evoluzione Notturnia N.V.</td>\n",
              "      <td>2650</td>\n",
              "      <td>Vino d'Italia</td>\n",
              "      <td>Farnese</td>\n",
              "      <td>3.7</td>\n",
              "      <td>461</td>\n",
              "      <td>7.75</td>\n",
              "      <td>N.V.</td>\n",
              "    </tr>\n",
              "  </tbody>\n",
              "</table>\n",
              "</div>\n",
              "      <button class=\"colab-df-convert\" onclick=\"convertToInteractive('df-f624c6e6-fb8b-4a70-a5e8-3babcd1ff8d3')\"\n",
              "              title=\"Convert this dataframe to an interactive table.\"\n",
              "              style=\"display:none;\">\n",
              "        \n",
              "  <svg xmlns=\"http://www.w3.org/2000/svg\" height=\"24px\"viewBox=\"0 0 24 24\"\n",
              "       width=\"24px\">\n",
              "    <path d=\"M0 0h24v24H0V0z\" fill=\"none\"/>\n",
              "    <path d=\"M18.56 5.44l.94 2.06.94-2.06 2.06-.94-2.06-.94-.94-2.06-.94 2.06-2.06.94zm-11 1L8.5 8.5l.94-2.06 2.06-.94-2.06-.94L8.5 2.5l-.94 2.06-2.06.94zm10 10l.94 2.06.94-2.06 2.06-.94-2.06-.94-.94-2.06-.94 2.06-2.06.94z\"/><path d=\"M17.41 7.96l-1.37-1.37c-.4-.4-.92-.59-1.43-.59-.52 0-1.04.2-1.43.59L10.3 9.45l-7.72 7.72c-.78.78-.78 2.05 0 2.83L4 21.41c.39.39.9.59 1.41.59.51 0 1.02-.2 1.41-.59l7.78-7.78 2.81-2.81c.8-.78.8-2.07 0-2.86zM5.41 20L4 18.59l7.72-7.72 1.47 1.35L5.41 20z\"/>\n",
              "  </svg>\n",
              "      </button>\n",
              "      \n",
              "  <style>\n",
              "    .colab-df-container {\n",
              "      display:flex;\n",
              "      flex-wrap:wrap;\n",
              "      gap: 12px;\n",
              "    }\n",
              "\n",
              "    .colab-df-convert {\n",
              "      background-color: #E8F0FE;\n",
              "      border: none;\n",
              "      border-radius: 50%;\n",
              "      cursor: pointer;\n",
              "      display: none;\n",
              "      fill: #1967D2;\n",
              "      height: 32px;\n",
              "      padding: 0 0 0 0;\n",
              "      width: 32px;\n",
              "    }\n",
              "\n",
              "    .colab-df-convert:hover {\n",
              "      background-color: #E2EBFA;\n",
              "      box-shadow: 0px 1px 2px rgba(60, 64, 67, 0.3), 0px 1px 3px 1px rgba(60, 64, 67, 0.15);\n",
              "      fill: #174EA6;\n",
              "    }\n",
              "\n",
              "    [theme=dark] .colab-df-convert {\n",
              "      background-color: #3B4455;\n",
              "      fill: #D2E3FC;\n",
              "    }\n",
              "\n",
              "    [theme=dark] .colab-df-convert:hover {\n",
              "      background-color: #434B5C;\n",
              "      box-shadow: 0px 1px 3px 1px rgba(0, 0, 0, 0.15);\n",
              "      filter: drop-shadow(0px 1px 2px rgba(0, 0, 0, 0.3));\n",
              "      fill: #FFFFFF;\n",
              "    }\n",
              "  </style>\n",
              "\n",
              "      <script>\n",
              "        const buttonEl =\n",
              "          document.querySelector('#df-f624c6e6-fb8b-4a70-a5e8-3babcd1ff8d3 button.colab-df-convert');\n",
              "        buttonEl.style.display =\n",
              "          google.colab.kernel.accessAllowed ? 'block' : 'none';\n",
              "\n",
              "        async function convertToInteractive(key) {\n",
              "          const element = document.querySelector('#df-f624c6e6-fb8b-4a70-a5e8-3babcd1ff8d3');\n",
              "          const dataTable =\n",
              "            await google.colab.kernel.invokeFunction('convertToInteractive',\n",
              "                                                     [key], {});\n",
              "          if (!dataTable) return;\n",
              "\n",
              "          const docLinkHtml = 'Like what you see? Visit the ' +\n",
              "            '<a target=\"_blank\" href=https://colab.research.google.com/notebooks/data_table.ipynb>data table notebook</a>'\n",
              "            + ' to learn more about interactive tables.';\n",
              "          element.innerHTML = '';\n",
              "          dataTable['output_type'] = 'display_data';\n",
              "          await google.colab.output.renderOutput(dataTable, element);\n",
              "          const docLink = document.createElement('div');\n",
              "          docLink.innerHTML = docLinkHtml;\n",
              "          element.appendChild(docLink);\n",
              "        }\n",
              "      </script>\n",
              "    </div>\n",
              "  </div>\n",
              "  "
            ]
          },
          "metadata": {},
          "execution_count": 117
        }
      ]
    },
    {
      "cell_type": "markdown",
      "source": [
        "그렇다면 Non-vintage wine의 경우 year을 숫자로 정의하는 것이 불가능하므로 제외"
      ],
      "metadata": {
        "id": "jtXxgrxrDG_t"
      }
    },
    {
      "cell_type": "code",
      "source": [
        "NV_index=[197,282,943,2201,2404,4527,4833,5632]\n",
        "Red.drop(NV_index, axis=0,inplace=True)"
      ],
      "metadata": {
        "id": "xFlGw0yM_AZw"
      },
      "execution_count": 118,
      "outputs": []
    },
    {
      "cell_type": "code",
      "source": [
        "Red.Year=Red.Year.astype('int')"
      ],
      "metadata": {
        "id": "YvfhpoIzCrud"
      },
      "execution_count": 119,
      "outputs": []
    },
    {
      "cell_type": "markdown",
      "source": [
        "**추가 가공**\n",
        "\n",
        "값이 3000이 넘는 관측치의 경우 twotone에서 price가 낮은 경우 구체적인 구별이 불가능 하여 이상치는 제거\n"
      ],
      "metadata": {
        "id": "4jJnp3tJa9jf"
      }
    },
    {
      "cell_type": "code",
      "source": [
        "Red[Red.Price>3000]"
      ],
      "metadata": {
        "colab": {
          "base_uri": "https://localhost:8080/",
          "height": 81
        },
        "id": "ONJZY9XVa2zn",
        "outputId": "40803db7-14c7-49f8-ba79-dca6256ec531"
      },
      "execution_count": 120,
      "outputs": [
        {
          "output_type": "execute_result",
          "data": {
            "text/plain": [
              "              Name  Country   Region  Winery  Rating  NumberOfRatings  \\\n",
              "2344  Pomerol 2012     2256  Pomerol  Pétrus     4.7              204   \n",
              "\n",
              "        Price  Year  \n",
              "2344  3410.79  2012  "
            ],
            "text/html": [
              "\n",
              "  <div id=\"df-c243f3e9-e421-4ed9-b8ff-085626e52028\">\n",
              "    <div class=\"colab-df-container\">\n",
              "      <div>\n",
              "<style scoped>\n",
              "    .dataframe tbody tr th:only-of-type {\n",
              "        vertical-align: middle;\n",
              "    }\n",
              "\n",
              "    .dataframe tbody tr th {\n",
              "        vertical-align: top;\n",
              "    }\n",
              "\n",
              "    .dataframe thead th {\n",
              "        text-align: right;\n",
              "    }\n",
              "</style>\n",
              "<table border=\"1\" class=\"dataframe\">\n",
              "  <thead>\n",
              "    <tr style=\"text-align: right;\">\n",
              "      <th></th>\n",
              "      <th>Name</th>\n",
              "      <th>Country</th>\n",
              "      <th>Region</th>\n",
              "      <th>Winery</th>\n",
              "      <th>Rating</th>\n",
              "      <th>NumberOfRatings</th>\n",
              "      <th>Price</th>\n",
              "      <th>Year</th>\n",
              "    </tr>\n",
              "  </thead>\n",
              "  <tbody>\n",
              "    <tr>\n",
              "      <th>2344</th>\n",
              "      <td>Pomerol 2012</td>\n",
              "      <td>2256</td>\n",
              "      <td>Pomerol</td>\n",
              "      <td>Pétrus</td>\n",
              "      <td>4.7</td>\n",
              "      <td>204</td>\n",
              "      <td>3410.79</td>\n",
              "      <td>2012</td>\n",
              "    </tr>\n",
              "  </tbody>\n",
              "</table>\n",
              "</div>\n",
              "      <button class=\"colab-df-convert\" onclick=\"convertToInteractive('df-c243f3e9-e421-4ed9-b8ff-085626e52028')\"\n",
              "              title=\"Convert this dataframe to an interactive table.\"\n",
              "              style=\"display:none;\">\n",
              "        \n",
              "  <svg xmlns=\"http://www.w3.org/2000/svg\" height=\"24px\"viewBox=\"0 0 24 24\"\n",
              "       width=\"24px\">\n",
              "    <path d=\"M0 0h24v24H0V0z\" fill=\"none\"/>\n",
              "    <path d=\"M18.56 5.44l.94 2.06.94-2.06 2.06-.94-2.06-.94-.94-2.06-.94 2.06-2.06.94zm-11 1L8.5 8.5l.94-2.06 2.06-.94-2.06-.94L8.5 2.5l-.94 2.06-2.06.94zm10 10l.94 2.06.94-2.06 2.06-.94-2.06-.94-.94-2.06-.94 2.06-2.06.94z\"/><path d=\"M17.41 7.96l-1.37-1.37c-.4-.4-.92-.59-1.43-.59-.52 0-1.04.2-1.43.59L10.3 9.45l-7.72 7.72c-.78.78-.78 2.05 0 2.83L4 21.41c.39.39.9.59 1.41.59.51 0 1.02-.2 1.41-.59l7.78-7.78 2.81-2.81c.8-.78.8-2.07 0-2.86zM5.41 20L4 18.59l7.72-7.72 1.47 1.35L5.41 20z\"/>\n",
              "  </svg>\n",
              "      </button>\n",
              "      \n",
              "  <style>\n",
              "    .colab-df-container {\n",
              "      display:flex;\n",
              "      flex-wrap:wrap;\n",
              "      gap: 12px;\n",
              "    }\n",
              "\n",
              "    .colab-df-convert {\n",
              "      background-color: #E8F0FE;\n",
              "      border: none;\n",
              "      border-radius: 50%;\n",
              "      cursor: pointer;\n",
              "      display: none;\n",
              "      fill: #1967D2;\n",
              "      height: 32px;\n",
              "      padding: 0 0 0 0;\n",
              "      width: 32px;\n",
              "    }\n",
              "\n",
              "    .colab-df-convert:hover {\n",
              "      background-color: #E2EBFA;\n",
              "      box-shadow: 0px 1px 2px rgba(60, 64, 67, 0.3), 0px 1px 3px 1px rgba(60, 64, 67, 0.15);\n",
              "      fill: #174EA6;\n",
              "    }\n",
              "\n",
              "    [theme=dark] .colab-df-convert {\n",
              "      background-color: #3B4455;\n",
              "      fill: #D2E3FC;\n",
              "    }\n",
              "\n",
              "    [theme=dark] .colab-df-convert:hover {\n",
              "      background-color: #434B5C;\n",
              "      box-shadow: 0px 1px 3px 1px rgba(0, 0, 0, 0.15);\n",
              "      filter: drop-shadow(0px 1px 2px rgba(0, 0, 0, 0.3));\n",
              "      fill: #FFFFFF;\n",
              "    }\n",
              "  </style>\n",
              "\n",
              "      <script>\n",
              "        const buttonEl =\n",
              "          document.querySelector('#df-c243f3e9-e421-4ed9-b8ff-085626e52028 button.colab-df-convert');\n",
              "        buttonEl.style.display =\n",
              "          google.colab.kernel.accessAllowed ? 'block' : 'none';\n",
              "\n",
              "        async function convertToInteractive(key) {\n",
              "          const element = document.querySelector('#df-c243f3e9-e421-4ed9-b8ff-085626e52028');\n",
              "          const dataTable =\n",
              "            await google.colab.kernel.invokeFunction('convertToInteractive',\n",
              "                                                     [key], {});\n",
              "          if (!dataTable) return;\n",
              "\n",
              "          const docLinkHtml = 'Like what you see? Visit the ' +\n",
              "            '<a target=\"_blank\" href=https://colab.research.google.com/notebooks/data_table.ipynb>data table notebook</a>'\n",
              "            + ' to learn more about interactive tables.';\n",
              "          element.innerHTML = '';\n",
              "          dataTable['output_type'] = 'display_data';\n",
              "          await google.colab.output.renderOutput(dataTable, element);\n",
              "          const docLink = document.createElement('div');\n",
              "          docLink.innerHTML = docLinkHtml;\n",
              "          element.appendChild(docLink);\n",
              "        }\n",
              "      </script>\n",
              "    </div>\n",
              "  </div>\n",
              "  "
            ]
          },
          "metadata": {},
          "execution_count": 120
        }
      ]
    },
    {
      "cell_type": "code",
      "source": [
        "Red.drop(2344,axis=0,inplace=True)"
      ],
      "metadata": {
        "id": "HlMm1I5cbIwG"
      },
      "execution_count": 121,
      "outputs": []
    },
    {
      "cell_type": "markdown",
      "source": [
        "### **3. sample 선택**"
      ],
      "metadata": {
        "id": "umDeBhdsI1-r"
      }
    },
    {
      "cell_type": "markdown",
      "source": [
        "- Price: 가격을 기준으로 하고 있으므로 분포를 살펴보고 관측치를 어떻게 선택할지 결정"
      ],
      "metadata": {
        "id": "ii_FPWJX-Uom"
      }
    },
    {
      "cell_type": "markdown",
      "source": [
        "Price 변수를 기준으로 정렬"
      ],
      "metadata": {
        "id": "3l6nAB7h-v42"
      }
    },
    {
      "cell_type": "code",
      "source": [
        "Red.sort_values('Price', inplace=True)\n",
        "Red.head(10)"
      ],
      "metadata": {
        "colab": {
          "base_uri": "https://localhost:8080/",
          "height": 363
        },
        "id": "vZBweQa77wKP",
        "outputId": "42f86f7e-af47-4cb2-87cb-47c961bba4a0"
      },
      "execution_count": 122,
      "outputs": [
        {
          "output_type": "execute_result",
          "data": {
            "text/plain": [
              "                                Name  Country           Region  \\\n",
              "5423                     Shiraz 2018     1142         Castilla   \n",
              "2938       Cal Y Canto Full Red 2018     1142        La Mancha   \n",
              "6408               Nero d'Avola 2018     2650  Terre Siciliane   \n",
              "108           Cabernet - Shiraz 2016     1142        La Mancha   \n",
              "6869       Monterio Tempranillo 2016     1142        La Mancha   \n",
              "7821       Tempranillo Cariñena 2018     1142         Cariñena   \n",
              "1057                Tempranillo 2015     1142         Castilla   \n",
              "4033         Cabernet Sauvignon 2018      326   Central Valley   \n",
              "6127  Primo Sangiovese - Merlot 2018     2650           Daunia   \n",
              "2644                  Crucillón 2018     1142   Campo de Borja   \n",
              "\n",
              "                     Winery  Rating  NumberOfRatings  Price  Year  \n",
              "5423             Costa Azul     3.2               44   3.55  2018  \n",
              "2938         Isidro Milagro     3.1               25   3.70  2018  \n",
              "6408         Monte Pietroso     3.8               56   3.79  2018  \n",
              "108                Añoranza     3.4              103   3.95  2016  \n",
              "6869    Bodegas Victorianas     3.2              622   3.99  2016  \n",
              "7821  Marques de Villanueva     3.7               79   3.99  2018  \n",
              "1057                 Maximo     3.4              137   4.16  2015  \n",
              "4033           Sierra Noble     3.8               32   4.25  2018  \n",
              "6127                Farnese     3.5               52   4.28  2018  \n",
              "2644     Bodegas Aragonesas     3.3              228   4.30  2018  "
            ],
            "text/html": [
              "\n",
              "  <div id=\"df-3d147651-17d8-4f46-b95e-4db3d36546d2\">\n",
              "    <div class=\"colab-df-container\">\n",
              "      <div>\n",
              "<style scoped>\n",
              "    .dataframe tbody tr th:only-of-type {\n",
              "        vertical-align: middle;\n",
              "    }\n",
              "\n",
              "    .dataframe tbody tr th {\n",
              "        vertical-align: top;\n",
              "    }\n",
              "\n",
              "    .dataframe thead th {\n",
              "        text-align: right;\n",
              "    }\n",
              "</style>\n",
              "<table border=\"1\" class=\"dataframe\">\n",
              "  <thead>\n",
              "    <tr style=\"text-align: right;\">\n",
              "      <th></th>\n",
              "      <th>Name</th>\n",
              "      <th>Country</th>\n",
              "      <th>Region</th>\n",
              "      <th>Winery</th>\n",
              "      <th>Rating</th>\n",
              "      <th>NumberOfRatings</th>\n",
              "      <th>Price</th>\n",
              "      <th>Year</th>\n",
              "    </tr>\n",
              "  </thead>\n",
              "  <tbody>\n",
              "    <tr>\n",
              "      <th>5423</th>\n",
              "      <td>Shiraz 2018</td>\n",
              "      <td>1142</td>\n",
              "      <td>Castilla</td>\n",
              "      <td>Costa Azul</td>\n",
              "      <td>3.2</td>\n",
              "      <td>44</td>\n",
              "      <td>3.55</td>\n",
              "      <td>2018</td>\n",
              "    </tr>\n",
              "    <tr>\n",
              "      <th>2938</th>\n",
              "      <td>Cal Y Canto Full Red 2018</td>\n",
              "      <td>1142</td>\n",
              "      <td>La Mancha</td>\n",
              "      <td>Isidro Milagro</td>\n",
              "      <td>3.1</td>\n",
              "      <td>25</td>\n",
              "      <td>3.70</td>\n",
              "      <td>2018</td>\n",
              "    </tr>\n",
              "    <tr>\n",
              "      <th>6408</th>\n",
              "      <td>Nero d'Avola 2018</td>\n",
              "      <td>2650</td>\n",
              "      <td>Terre Siciliane</td>\n",
              "      <td>Monte Pietroso</td>\n",
              "      <td>3.8</td>\n",
              "      <td>56</td>\n",
              "      <td>3.79</td>\n",
              "      <td>2018</td>\n",
              "    </tr>\n",
              "    <tr>\n",
              "      <th>108</th>\n",
              "      <td>Cabernet - Shiraz 2016</td>\n",
              "      <td>1142</td>\n",
              "      <td>La Mancha</td>\n",
              "      <td>Añoranza</td>\n",
              "      <td>3.4</td>\n",
              "      <td>103</td>\n",
              "      <td>3.95</td>\n",
              "      <td>2016</td>\n",
              "    </tr>\n",
              "    <tr>\n",
              "      <th>6869</th>\n",
              "      <td>Monterio Tempranillo 2016</td>\n",
              "      <td>1142</td>\n",
              "      <td>La Mancha</td>\n",
              "      <td>Bodegas Victorianas</td>\n",
              "      <td>3.2</td>\n",
              "      <td>622</td>\n",
              "      <td>3.99</td>\n",
              "      <td>2016</td>\n",
              "    </tr>\n",
              "    <tr>\n",
              "      <th>7821</th>\n",
              "      <td>Tempranillo Cariñena 2018</td>\n",
              "      <td>1142</td>\n",
              "      <td>Cariñena</td>\n",
              "      <td>Marques de Villanueva</td>\n",
              "      <td>3.7</td>\n",
              "      <td>79</td>\n",
              "      <td>3.99</td>\n",
              "      <td>2018</td>\n",
              "    </tr>\n",
              "    <tr>\n",
              "      <th>1057</th>\n",
              "      <td>Tempranillo 2015</td>\n",
              "      <td>1142</td>\n",
              "      <td>Castilla</td>\n",
              "      <td>Maximo</td>\n",
              "      <td>3.4</td>\n",
              "      <td>137</td>\n",
              "      <td>4.16</td>\n",
              "      <td>2015</td>\n",
              "    </tr>\n",
              "    <tr>\n",
              "      <th>4033</th>\n",
              "      <td>Cabernet Sauvignon 2018</td>\n",
              "      <td>326</td>\n",
              "      <td>Central Valley</td>\n",
              "      <td>Sierra Noble</td>\n",
              "      <td>3.8</td>\n",
              "      <td>32</td>\n",
              "      <td>4.25</td>\n",
              "      <td>2018</td>\n",
              "    </tr>\n",
              "    <tr>\n",
              "      <th>6127</th>\n",
              "      <td>Primo Sangiovese - Merlot 2018</td>\n",
              "      <td>2650</td>\n",
              "      <td>Daunia</td>\n",
              "      <td>Farnese</td>\n",
              "      <td>3.5</td>\n",
              "      <td>52</td>\n",
              "      <td>4.28</td>\n",
              "      <td>2018</td>\n",
              "    </tr>\n",
              "    <tr>\n",
              "      <th>2644</th>\n",
              "      <td>Crucillón 2018</td>\n",
              "      <td>1142</td>\n",
              "      <td>Campo de Borja</td>\n",
              "      <td>Bodegas Aragonesas</td>\n",
              "      <td>3.3</td>\n",
              "      <td>228</td>\n",
              "      <td>4.30</td>\n",
              "      <td>2018</td>\n",
              "    </tr>\n",
              "  </tbody>\n",
              "</table>\n",
              "</div>\n",
              "      <button class=\"colab-df-convert\" onclick=\"convertToInteractive('df-3d147651-17d8-4f46-b95e-4db3d36546d2')\"\n",
              "              title=\"Convert this dataframe to an interactive table.\"\n",
              "              style=\"display:none;\">\n",
              "        \n",
              "  <svg xmlns=\"http://www.w3.org/2000/svg\" height=\"24px\"viewBox=\"0 0 24 24\"\n",
              "       width=\"24px\">\n",
              "    <path d=\"M0 0h24v24H0V0z\" fill=\"none\"/>\n",
              "    <path d=\"M18.56 5.44l.94 2.06.94-2.06 2.06-.94-2.06-.94-.94-2.06-.94 2.06-2.06.94zm-11 1L8.5 8.5l.94-2.06 2.06-.94-2.06-.94L8.5 2.5l-.94 2.06-2.06.94zm10 10l.94 2.06.94-2.06 2.06-.94-2.06-.94-.94-2.06-.94 2.06-2.06.94z\"/><path d=\"M17.41 7.96l-1.37-1.37c-.4-.4-.92-.59-1.43-.59-.52 0-1.04.2-1.43.59L10.3 9.45l-7.72 7.72c-.78.78-.78 2.05 0 2.83L4 21.41c.39.39.9.59 1.41.59.51 0 1.02-.2 1.41-.59l7.78-7.78 2.81-2.81c.8-.78.8-2.07 0-2.86zM5.41 20L4 18.59l7.72-7.72 1.47 1.35L5.41 20z\"/>\n",
              "  </svg>\n",
              "      </button>\n",
              "      \n",
              "  <style>\n",
              "    .colab-df-container {\n",
              "      display:flex;\n",
              "      flex-wrap:wrap;\n",
              "      gap: 12px;\n",
              "    }\n",
              "\n",
              "    .colab-df-convert {\n",
              "      background-color: #E8F0FE;\n",
              "      border: none;\n",
              "      border-radius: 50%;\n",
              "      cursor: pointer;\n",
              "      display: none;\n",
              "      fill: #1967D2;\n",
              "      height: 32px;\n",
              "      padding: 0 0 0 0;\n",
              "      width: 32px;\n",
              "    }\n",
              "\n",
              "    .colab-df-convert:hover {\n",
              "      background-color: #E2EBFA;\n",
              "      box-shadow: 0px 1px 2px rgba(60, 64, 67, 0.3), 0px 1px 3px 1px rgba(60, 64, 67, 0.15);\n",
              "      fill: #174EA6;\n",
              "    }\n",
              "\n",
              "    [theme=dark] .colab-df-convert {\n",
              "      background-color: #3B4455;\n",
              "      fill: #D2E3FC;\n",
              "    }\n",
              "\n",
              "    [theme=dark] .colab-df-convert:hover {\n",
              "      background-color: #434B5C;\n",
              "      box-shadow: 0px 1px 3px 1px rgba(0, 0, 0, 0.15);\n",
              "      filter: drop-shadow(0px 1px 2px rgba(0, 0, 0, 0.3));\n",
              "      fill: #FFFFFF;\n",
              "    }\n",
              "  </style>\n",
              "\n",
              "      <script>\n",
              "        const buttonEl =\n",
              "          document.querySelector('#df-3d147651-17d8-4f46-b95e-4db3d36546d2 button.colab-df-convert');\n",
              "        buttonEl.style.display =\n",
              "          google.colab.kernel.accessAllowed ? 'block' : 'none';\n",
              "\n",
              "        async function convertToInteractive(key) {\n",
              "          const element = document.querySelector('#df-3d147651-17d8-4f46-b95e-4db3d36546d2');\n",
              "          const dataTable =\n",
              "            await google.colab.kernel.invokeFunction('convertToInteractive',\n",
              "                                                     [key], {});\n",
              "          if (!dataTable) return;\n",
              "\n",
              "          const docLinkHtml = 'Like what you see? Visit the ' +\n",
              "            '<a target=\"_blank\" href=https://colab.research.google.com/notebooks/data_table.ipynb>data table notebook</a>'\n",
              "            + ' to learn more about interactive tables.';\n",
              "          element.innerHTML = '';\n",
              "          dataTable['output_type'] = 'display_data';\n",
              "          await google.colab.output.renderOutput(dataTable, element);\n",
              "          const docLink = document.createElement('div');\n",
              "          docLink.innerHTML = docLinkHtml;\n",
              "          element.appendChild(docLink);\n",
              "        }\n",
              "      </script>\n",
              "    </div>\n",
              "  </div>\n",
              "  "
            ]
          },
          "metadata": {},
          "execution_count": 122
        }
      ]
    },
    {
      "cell_type": "code",
      "source": [
        "import matplotlib.pyplot as plt\n",
        "plt.hist(Red.Price)"
      ],
      "metadata": {
        "colab": {
          "base_uri": "https://localhost:8080/",
          "height": 352
        },
        "id": "9ZJPPjJQ7AM_",
        "outputId": "8ff7685b-b7d5-4144-b3bb-003a9dd43a05"
      },
      "execution_count": 123,
      "outputs": [
        {
          "output_type": "execute_result",
          "data": {
            "text/plain": [
              "(array([8.364e+03, 1.820e+02, 6.100e+01, 2.300e+01, 1.000e+01, 4.000e+00,\n",
              "        7.000e+00, 4.000e+00, 1.000e+00, 1.000e+00]),\n",
              " array([   3.55,  163.19,  322.83,  482.47,  642.11,  801.75,  961.39,\n",
              "        1121.03, 1280.67, 1440.31, 1599.95]),\n",
              " <a list of 10 Patch objects>)"
            ]
          },
          "metadata": {},
          "execution_count": 123
        },
        {
          "output_type": "display_data",
          "data": {
            "text/plain": [
              "<Figure size 432x288 with 1 Axes>"
            ],
            "image/png": "[encoded data removed]"
          },
          "metadata": {
            "needs_background": "light"
          }
        }
      ]
    },
    {
      "cell_type": "markdown",
      "source": [
        "Price가 다양하게 존재할 수 있도록 히스토그램에서 기준으로 하고 있는 값을 사용하여 개수를 지정 "
      ],
      "metadata": {
        "id": "_MBDn2lrEe7V"
      }
    },
    {
      "cell_type": "code",
      "source": [
        "sum(Red.Price>344.274)"
      ],
      "metadata": {
        "colab": {
          "base_uri": "https://localhost:8080/",
          "height": 0
        },
        "id": "BrxqyU0q9H3n",
        "outputId": "cab4627b-3625-481c-c0d4-4cd488c28fa2"
      },
      "execution_count": 124,
      "outputs": [
        {
          "output_type": "execute_result",
          "data": {
            "text/plain": [
              "95"
            ]
          },
          "metadata": {},
          "execution_count": 124
        }
      ]
    },
    {
      "cell_type": "code",
      "source": [
        "sum(Red.Price<344.274)"
      ],
      "metadata": {
        "colab": {
          "base_uri": "https://localhost:8080/",
          "height": 0
        },
        "id": "KNU6A4ayFMK1",
        "outputId": "dad4b96d-d0bd-470e-f081-da6ca68ae654"
      },
      "execution_count": 125,
      "outputs": [
        {
          "output_type": "execute_result",
          "data": {
            "text/plain": [
              "8562"
            ]
          },
          "metadata": {},
          "execution_count": 125
        }
      ]
    },
    {
      "cell_type": "markdown",
      "source": [
        "8562개 중에 100개를 무작위 추출"
      ],
      "metadata": {
        "id": "6WnASUkmHCiq"
      }
    },
    {
      "cell_type": "code",
      "source": [
        "Red_L=Red.iloc[8562:,:]\n",
        "random_Red=np.random.randint(0,8562,100)\n",
        "Red_R=Red.iloc[random_Red,:]\n",
        "Red_R.sort_values('Price', inplace=True)"
      ],
      "metadata": {
        "colab": {
          "base_uri": "https://localhost:8080/",
          "height": 0
        },
        "id": "L1CRCkkSHBs0",
        "outputId": "475989c5-8e02-4da0-b701-d0212cbfa4cc"
      },
      "execution_count": 126,
      "outputs": [
        {
          "output_type": "stream",
          "name": "stderr",
          "text": [
            "/usr/local/lib/python3.8/dist-packages/pandas/util/_decorators.py:311: SettingWithCopyWarning: \n",
            "A value is trying to be set on a copy of a slice from a DataFrame\n",
            "\n",
            "See the caveats in the documentation: https://pandas.pydata.org/pandas-docs/stable/user_guide/indexing.html#returning-a-view-versus-a-copy\n",
            "  return func(*args, **kwargs)\n"
          ]
        }
      ]
    },
    {
      "cell_type": "code",
      "source": [
        "Red_select=pd.concat([Red_R,Red_L])"
      ],
      "metadata": {
        "id": "LksgUeZBH-4U"
      },
      "execution_count": 127,
      "outputs": []
    },
    {
      "cell_type": "markdown",
      "source": [
        "### **4. 최종 dataset**"
      ],
      "metadata": {
        "id": "674RJ8qhkXlM"
      }
    },
    {
      "cell_type": "code",
      "source": [
        "plt.hist(Red_select.Price)"
      ],
      "metadata": {
        "colab": {
          "base_uri": "https://localhost:8080/",
          "height": 334
        },
        "id": "BJV24KdjIsVM",
        "outputId": "851531b2-4853-483d-c68a-7eb54c9b9909"
      },
      "execution_count": 128,
      "outputs": [
        {
          "output_type": "execute_result",
          "data": {
            "text/plain": [
              "(array([98.,  2., 45., 23., 10.,  4.,  7.,  4.,  1.,  1.]),\n",
              " array([   4.75,  164.27,  323.79,  483.31,  642.83,  802.35,  961.87,\n",
              "        1121.39, 1280.91, 1440.43, 1599.95]),\n",
              " <a list of 10 Patch objects>)"
            ]
          },
          "metadata": {},
          "execution_count": 128
        },
        {
          "output_type": "display_data",
          "data": {
            "text/plain": [
              "<Figure size 432x288 with 1 Axes>"
            ],
            "image/png": "[encoded data removed]"
          },
          "metadata": {
            "needs_background": "light"
          }
        }
      ]
    },
    {
      "cell_type": "code",
      "source": [
        "Red_select.to_csv('/Red_select.csv', index = False)"
      ],
      "metadata": {
        "id": "Cc-tMzzWI927"
      },
      "execution_count": 129,
      "outputs": []
    }
  ]
}