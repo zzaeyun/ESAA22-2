{
  "nbformat": 4,
  "nbformat_minor": 0,
  "metadata": {
    "colab": {
      "provenance": [],
      "authorship_tag": "ABX9TyNmQfEvhH+CTM+8lPxg2b/Y",
      "include_colab_link": true
    },
    "kernelspec": {
      "name": "python3",
      "display_name": "Python 3"
    },
    "language_info": {
      "name": "python"
    }
  },
  "cells": [
    {
      "cell_type": "markdown",
      "metadata": {
        "id": "view-in-github",
        "colab_type": "text"
      },
      "source": [
        "<a href=\"https://colab.research.google.com/github/zzaeyun/ESAA22-2/blob/main/%ED%8C%8C%EC%9D%B4%EC%8D%AC%EB%A8%B8%EC%8B%A0%EB%9F%AC%EB%8B%9D%EC%99%84%EB%B2%BD%EA%B0%80%EC%9D%B4%EB%93%9C_319to341.ipynb\" target=\"_parent\"><img src=\"https://colab.research.google.com/assets/colab-badge.svg\" alt=\"Open In Colab\"/></a>"
      ]
    },
    {
      "cell_type": "markdown",
      "source": [
        "## **06 규제 선형 모델 - 릿지, 라쏘, 엘라스틱넷**\n",
        "\n",
        "\n",
        "---\n",
        "\n",
        "**규제 선형 모델의 개요**\n",
        "\n",
        "- 회귀모델은 적절히 데이터에 적합하면서도 회귀 계수가 기하급수적으로 커지는 것을 제어할 수 있어야 함.\n",
        "- 이전까지 선형 모델의 비용 함수는 RSS를 최소화하는, 즉 실제 값과 예측값의 차이를 최소화하는 것만 고려: 학습데이터에 지나치게 맞추게 되고, 회귀 계수가 쉽게 커짐\n",
        "- 위의 경우 변동성이 오히려 심해져서 테스트 데이터 세트에서는 예측 성능이 저하되기 쉬움\n",
        "- 이를 반영해 비용 함수는 학습 데이터의 잔차 오류 값을 최소로 하는 RSS 최소화 방법과 과적합을 방지하기 위해 회귀 계수 갑시 커지지 않도록 하는 방법이 균형을 이루어야 함.\n",
        "\n",
        "\n",
        "---\n",
        "\n",
        "alpha:\n",
        "- alpha 값을 크게 하면 비용 함수는 회귀 계수 W의 값ㅇㄹ 작게 해 과적합을 개선할 수 있음\n",
        "- alpha 값을 작게 하면 회귀 계수 W의 값이 커져도 어느 정도 상쇄가 가능하므로 학습 데이터 적합을 더 개선 할 수 있음.\n",
        "\n",
        "\n",
        "---\n",
        "**규제 (Regularization)**\n",
        "- alpha 값으로 패널티를 부여해 회귀 계수 값의 크기를 감소시켜 과적합을 개선하는 방식\n",
        "- L2 방식: W의 제곱에 대해 페널티를 부여하는 방식: 릿지\n",
        "- L1 방식: W의 절댓값에 대해 페널티를 부여하는 방식: 라쏘\n"
      ],
      "metadata": {
        "id": "k492Uz_itA00"
      }
    },
    {
      "cell_type": "markdown",
      "source": [
        "### **릿지 회귀**\n",
        "\n",
        "- 사이킷런의 Ridge 클래스\n",
        "- Ridge 클래스의 주요 생성 파라미터는 alpha: alpha L2 규제 \n",
        "- cross_val_score( )로 평가"
      ],
      "metadata": {
        "id": "lGPsSwzGxmlJ"
      }
    },
    {
      "cell_type": "code",
      "source": [
        "#보스턴 주택 가격 데이터 세트\n",
        "import numpy as np\n",
        "import matplotlib.pyplot as plt\n",
        "import pandas as pd\n",
        "import seaborn as sns\n",
        "from scipy import stats\n",
        "from sklearn.datasets import load_boston\n",
        "from sklearn.model_selection import train_test_split\n",
        "%matplotlib inline\n",
        "\n",
        "boston=load_boston()\n",
        "\n",
        "bostonDF=pd.DataFrame(boston.data, columns=boston.feature_names)\n",
        "\n",
        "bostonDF['PRICE']=boston.target\n",
        "\n",
        "y_target=bostonDF['PRICE']\n",
        "X_data=bostonDF.drop(['PRICE'], axis=1, inplace=False)\n",
        "\n",
        "X_train, X_test, y_train, y_test=train_test_split(X_data,y_target, test_size=0.3, random_state=156)"
      ],
      "metadata": {
        "id": "UKd0MofftAmf"
      },
      "execution_count": null,
      "outputs": []
    },
    {
      "cell_type": "code",
      "source": [
        "from sklearn.linear_model import Ridge\n",
        "from sklearn.model_selection import cross_val_score\n",
        "\n",
        "ridge=Ridge(alpha=10)\n",
        "neg_mse_scores=cross_val_score(ridge, X_data, y_target, scoring='neg_mean_squared_error', cv=5)\n",
        "rmse_scores=np.sqrt(-1*neg_mse_scores)\n",
        "avg_rmse=np.mean(rmse_scores)\n",
        "\n",
        "print('5 folds 의 개별 Negative MSE socres: ', np.round(neg_mse_scores,3))\n",
        "print('5 folds 의 개별 RMSE scores:', np.round(rmse_scores, 3))\n",
        "print('5 folds 의 평균 RMSE: {0:.3f}'.format(avg_rmse))"
      ],
      "metadata": {
        "id": "zJ_k4vdItAjH",
        "colab": {
          "base_uri": "https://localhost:8080/"
        },
        "outputId": "222b4034-8e2e-491e-8c3e-1c279cea03f9"
      },
      "execution_count": null,
      "outputs": [
        {
          "output_type": "stream",
          "name": "stdout",
          "text": [
            "5 folds 의 개별 Negative MSE socres:  [-11.422 -24.294 -28.144 -74.599 -28.517]\n",
            "5 folds 의 개별 RMSE scores: [3.38  4.929 5.305 8.637 5.34 ]\n",
            "5 folds 의 평균 RMSE: 5.518\n"
          ]
        }
      ]
    },
    {
      "cell_type": "markdown",
      "source": [
        "LinearRegression의 RMSE 평균보다 더 뛰어난 예측 성능 \n",
        "\n",
        "\n",
        "---\n",
        "릿지의 alpha 값을 변화 시키면서 RMSE와 회귀 계수 값의 변화 살펴보기\n"
      ],
      "metadata": {
        "id": "V6GSmiimtlUM"
      }
    },
    {
      "cell_type": "code",
      "source": [
        "alphas=[0, 0.1, 1, 10, 100]\n",
        "\n",
        "for alpha in alphas :\n",
        "  ridge=Ridge(alpha=alpha)\n",
        "  \n",
        "  neg_mse_scores=cross_val_score(ridge, X_data, y_target, scoring='neg_mean_squared_error', cv=5)\n",
        "  rmse_scores=np.sqrt(-1*neg_mse_scores)  \n",
        "  avg_rmse=np.mean(rmse_scores)\n",
        "  print('alpha {0} 일 때 5 folds 의 평균 RMSE: {1:.3f}'.format(alpha, avg_rmse))\n"
      ],
      "metadata": {
        "id": "jgJ61qg0tAgh",
        "colab": {
          "base_uri": "https://localhost:8080/"
        },
        "outputId": "1abfd9b1-bc21-43ec-d04f-70fee5fbf431"
      },
      "execution_count": null,
      "outputs": [
        {
          "output_type": "stream",
          "name": "stdout",
          "text": [
            "alpha 0 일 때 5 folds 의 평균 RMSE: 5.829\n",
            "alpha 0.1 일 때 5 folds 의 평균 RMSE: 5.788\n",
            "alpha 1 일 때 5 folds 의 평균 RMSE: 5.653\n",
            "alpha 10 일 때 5 folds 의 평균 RMSE: 5.518\n",
            "alpha 100 일 때 5 folds 의 평균 RMSE: 5.330\n"
          ]
        }
      ]
    },
    {
      "cell_type": "code",
      "source": [
        "fig, axs=plt.subplots(figsize=(18,6), nrows=1, ncols=5)\n",
        "coeff_df=pd.DataFrame()\n",
        "\n",
        "for pos, alpha in enumerate(alphas):\n",
        "  ridge=Ridge(alpha=alpha)\n",
        "  ridge.fit(X_data, y_target)\n",
        "\n",
        "  coeff=pd.Series(data=ridge.coef_, index=X_data.columns)\n",
        "  colname='alpha:'+str(alpha)\n",
        "  coeff_df[colname]=coeff\n",
        "\n",
        "  coeff=coeff.sort_values(ascending=False)\n",
        "  axs[pos].set_title(colname)\n",
        "  axs[pos].set_xlim(-3,6)\n",
        "  sns.barplot(x=coeff.values, y=coeff.index, ax=axs[pos])\n",
        "\n",
        "\n",
        "plt.show()"
      ],
      "metadata": {
        "id": "-f25ZUIStAdL",
        "colab": {
          "base_uri": "https://localhost:8080/",
          "height": 308
        },
        "outputId": "e359f420-b7e2-405a-9de5-028f8e6321b6"
      },
      "execution_count": null,
      "outputs": [
        {
          "output_type": "display_data",
          "data": {
            "text/plain": [
              "<Figure size 1296x432 with 5 Axes>"
            ],
            "image/png": "[encoded data removed]"
          },
          "metadata": {
            "needs_background": "light"
          }
        }
      ]
    },
    {
      "cell_type": "markdown",
      "source": [
        "alpha 값이 증가시킬수록 회귀 계수 값은 지속적으로 작아짐"
      ],
      "metadata": {
        "id": "iGPe6p_DwPUh"
      }
    },
    {
      "cell_type": "code",
      "source": [
        "ridge_alphas = [0, 0.1, 1, 10, 100]\n",
        "sort_column = 'alpha:'+str(ridge_alphas[0])\n",
        "coeff_df.sort_values(by = sort_column, ascending = False)"
      ],
      "metadata": {
        "id": "8cFmj_fatAZY",
        "colab": {
          "base_uri": "https://localhost:8080/",
          "height": 457
        },
        "outputId": "f83a98ed-936d-4622-fd35-99b87315b1cb"
      },
      "execution_count": null,
      "outputs": [
        {
          "output_type": "execute_result",
          "data": {
            "text/plain": [
              "           alpha:0  alpha:0.1    alpha:1  alpha:10  alpha:100\n",
              "RM        3.809865   3.818233   3.854000  3.702272   2.334536\n",
              "CHAS      2.686734   2.670019   2.552393  1.952021   0.638335\n",
              "RAD       0.306049   0.303515   0.290142  0.279596   0.315358\n",
              "ZN        0.046420   0.046572   0.047443  0.049579   0.054496\n",
              "INDUS     0.020559   0.015999  -0.008805 -0.042962  -0.052826\n",
              "B         0.009312   0.009368   0.009673  0.010037   0.009393\n",
              "AGE       0.000692  -0.000269  -0.005415 -0.010707   0.001212\n",
              "TAX      -0.012335  -0.012421  -0.012912 -0.013993  -0.015856\n",
              "CRIM     -0.108011  -0.107474  -0.104595 -0.101435  -0.102202\n",
              "LSTAT    -0.524758  -0.525966  -0.533343 -0.559366  -0.660764\n",
              "PTRATIO  -0.952747  -0.940759  -0.876074 -0.797945  -0.829218\n",
              "DIS      -1.475567  -1.459626  -1.372654 -1.248808  -1.153390\n",
              "NOX     -17.766611 -16.684645 -10.777015 -2.371619  -0.262847"
            ],
            "text/html": [
              "\n",
              "  <div id=\"df-8162951e-a98d-42fa-b3c9-c522ac1dd7e9\">\n",
              "    <div class=\"colab-df-container\">\n",
              "      <div>\n",
              "<style scoped>\n",
              "    .dataframe tbody tr th:only-of-type {\n",
              "        vertical-align: middle;\n",
              "    }\n",
              "\n",
              "    .dataframe tbody tr th {\n",
              "        vertical-align: top;\n",
              "    }\n",
              "\n",
              "    .dataframe thead th {\n",
              "        text-align: right;\n",
              "    }\n",
              "</style>\n",
              "<table border=\"1\" class=\"dataframe\">\n",
              "  <thead>\n",
              "    <tr style=\"text-align: right;\">\n",
              "      <th></th>\n",
              "      <th>alpha:0</th>\n",
              "      <th>alpha:0.1</th>\n",
              "      <th>alpha:1</th>\n",
              "      <th>alpha:10</th>\n",
              "      <th>alpha:100</th>\n",
              "    </tr>\n",
              "  </thead>\n",
              "  <tbody>\n",
              "    <tr>\n",
              "      <th>RM</th>\n",
              "      <td>3.809865</td>\n",
              "      <td>3.818233</td>\n",
              "      <td>3.854000</td>\n",
              "      <td>3.702272</td>\n",
              "      <td>2.334536</td>\n",
              "    </tr>\n",
              "    <tr>\n",
              "      <th>CHAS</th>\n",
              "      <td>2.686734</td>\n",
              "      <td>2.670019</td>\n",
              "      <td>2.552393</td>\n",
              "      <td>1.952021</td>\n",
              "      <td>0.638335</td>\n",
              "    </tr>\n",
              "    <tr>\n",
              "      <th>RAD</th>\n",
              "      <td>0.306049</td>\n",
              "      <td>0.303515</td>\n",
              "      <td>0.290142</td>\n",
              "      <td>0.279596</td>\n",
              "      <td>0.315358</td>\n",
              "    </tr>\n",
              "    <tr>\n",
              "      <th>ZN</th>\n",
              "      <td>0.046420</td>\n",
              "      <td>0.046572</td>\n",
              "      <td>0.047443</td>\n",
              "      <td>0.049579</td>\n",
              "      <td>0.054496</td>\n",
              "    </tr>\n",
              "    <tr>\n",
              "      <th>INDUS</th>\n",
              "      <td>0.020559</td>\n",
              "      <td>0.015999</td>\n",
              "      <td>-0.008805</td>\n",
              "      <td>-0.042962</td>\n",
              "      <td>-0.052826</td>\n",
              "    </tr>\n",
              "    <tr>\n",
              "      <th>B</th>\n",
              "      <td>0.009312</td>\n",
              "      <td>0.009368</td>\n",
              "      <td>0.009673</td>\n",
              "      <td>0.010037</td>\n",
              "      <td>0.009393</td>\n",
              "    </tr>\n",
              "    <tr>\n",
              "      <th>AGE</th>\n",
              "      <td>0.000692</td>\n",
              "      <td>-0.000269</td>\n",
              "      <td>-0.005415</td>\n",
              "      <td>-0.010707</td>\n",
              "      <td>0.001212</td>\n",
              "    </tr>\n",
              "    <tr>\n",
              "      <th>TAX</th>\n",
              "      <td>-0.012335</td>\n",
              "      <td>-0.012421</td>\n",
              "      <td>-0.012912</td>\n",
              "      <td>-0.013993</td>\n",
              "      <td>-0.015856</td>\n",
              "    </tr>\n",
              "    <tr>\n",
              "      <th>CRIM</th>\n",
              "      <td>-0.108011</td>\n",
              "      <td>-0.107474</td>\n",
              "      <td>-0.104595</td>\n",
              "      <td>-0.101435</td>\n",
              "      <td>-0.102202</td>\n",
              "    </tr>\n",
              "    <tr>\n",
              "      <th>LSTAT</th>\n",
              "      <td>-0.524758</td>\n",
              "      <td>-0.525966</td>\n",
              "      <td>-0.533343</td>\n",
              "      <td>-0.559366</td>\n",
              "      <td>-0.660764</td>\n",
              "    </tr>\n",
              "    <tr>\n",
              "      <th>PTRATIO</th>\n",
              "      <td>-0.952747</td>\n",
              "      <td>-0.940759</td>\n",
              "      <td>-0.876074</td>\n",
              "      <td>-0.797945</td>\n",
              "      <td>-0.829218</td>\n",
              "    </tr>\n",
              "    <tr>\n",
              "      <th>DIS</th>\n",
              "      <td>-1.475567</td>\n",
              "      <td>-1.459626</td>\n",
              "      <td>-1.372654</td>\n",
              "      <td>-1.248808</td>\n",
              "      <td>-1.153390</td>\n",
              "    </tr>\n",
              "    <tr>\n",
              "      <th>NOX</th>\n",
              "      <td>-17.766611</td>\n",
              "      <td>-16.684645</td>\n",
              "      <td>-10.777015</td>\n",
              "      <td>-2.371619</td>\n",
              "      <td>-0.262847</td>\n",
              "    </tr>\n",
              "  </tbody>\n",
              "</table>\n",
              "</div>\n",
              "      <button class=\"colab-df-convert\" onclick=\"convertToInteractive('df-8162951e-a98d-42fa-b3c9-c522ac1dd7e9')\"\n",
              "              title=\"Convert this dataframe to an interactive table.\"\n",
              "              style=\"display:none;\">\n",
              "        \n",
              "  <svg xmlns=\"http://www.w3.org/2000/svg\" height=\"24px\"viewBox=\"0 0 24 24\"\n",
              "       width=\"24px\">\n",
              "    <path d=\"M0 0h24v24H0V0z\" fill=\"none\"/>\n",
              "    <path d=\"M18.56 5.44l.94 2.06.94-2.06 2.06-.94-2.06-.94-.94-2.06-.94 2.06-2.06.94zm-11 1L8.5 8.5l.94-2.06 2.06-.94-2.06-.94L8.5 2.5l-.94 2.06-2.06.94zm10 10l.94 2.06.94-2.06 2.06-.94-2.06-.94-.94-2.06-.94 2.06-2.06.94z\"/><path d=\"M17.41 7.96l-1.37-1.37c-.4-.4-.92-.59-1.43-.59-.52 0-1.04.2-1.43.59L10.3 9.45l-7.72 7.72c-.78.78-.78 2.05 0 2.83L4 21.41c.39.39.9.59 1.41.59.51 0 1.02-.2 1.41-.59l7.78-7.78 2.81-2.81c.8-.78.8-2.07 0-2.86zM5.41 20L4 18.59l7.72-7.72 1.47 1.35L5.41 20z\"/>\n",
              "  </svg>\n",
              "      </button>\n",
              "      \n",
              "  <style>\n",
              "    .colab-df-container {\n",
              "      display:flex;\n",
              "      flex-wrap:wrap;\n",
              "      gap: 12px;\n",
              "    }\n",
              "\n",
              "    .colab-df-convert {\n",
              "      background-color: #E8F0FE;\n",
              "      border: none;\n",
              "      border-radius: 50%;\n",
              "      cursor: pointer;\n",
              "      display: none;\n",
              "      fill: #1967D2;\n",
              "      height: 32px;\n",
              "      padding: 0 0 0 0;\n",
              "      width: 32px;\n",
              "    }\n",
              "\n",
              "    .colab-df-convert:hover {\n",
              "      background-color: #E2EBFA;\n",
              "      box-shadow: 0px 1px 2px rgba(60, 64, 67, 0.3), 0px 1px 3px 1px rgba(60, 64, 67, 0.15);\n",
              "      fill: #174EA6;\n",
              "    }\n",
              "\n",
              "    [theme=dark] .colab-df-convert {\n",
              "      background-color: #3B4455;\n",
              "      fill: #D2E3FC;\n",
              "    }\n",
              "\n",
              "    [theme=dark] .colab-df-convert:hover {\n",
              "      background-color: #434B5C;\n",
              "      box-shadow: 0px 1px 3px 1px rgba(0, 0, 0, 0.15);\n",
              "      filter: drop-shadow(0px 1px 2px rgba(0, 0, 0, 0.3));\n",
              "      fill: #FFFFFF;\n",
              "    }\n",
              "  </style>\n",
              "\n",
              "      <script>\n",
              "        const buttonEl =\n",
              "          document.querySelector('#df-8162951e-a98d-42fa-b3c9-c522ac1dd7e9 button.colab-df-convert');\n",
              "        buttonEl.style.display =\n",
              "          google.colab.kernel.accessAllowed ? 'block' : 'none';\n",
              "\n",
              "        async function convertToInteractive(key) {\n",
              "          const element = document.querySelector('#df-8162951e-a98d-42fa-b3c9-c522ac1dd7e9');\n",
              "          const dataTable =\n",
              "            await google.colab.kernel.invokeFunction('convertToInteractive',\n",
              "                                                     [key], {});\n",
              "          if (!dataTable) return;\n",
              "\n",
              "          const docLinkHtml = 'Like what you see? Visit the ' +\n",
              "            '<a target=\"_blank\" href=https://colab.research.google.com/notebooks/data_table.ipynb>data table notebook</a>'\n",
              "            + ' to learn more about interactive tables.';\n",
              "          element.innerHTML = '';\n",
              "          dataTable['output_type'] = 'display_data';\n",
              "          await google.colab.output.renderOutput(dataTable, element);\n",
              "          const docLink = document.createElement('div');\n",
              "          docLink.innerHTML = docLinkHtml;\n",
              "          element.appendChild(docLink);\n",
              "        }\n",
              "      </script>\n",
              "    </div>\n",
              "  </div>\n",
              "  "
            ]
          },
          "metadata": {},
          "execution_count": 17
        }
      ]
    },
    {
      "cell_type": "markdown",
      "source": [
        "**라쏘 회귀**\n",
        "- W의 절댓값에 페널티를 부여하는 L1 규제를 선형 회귀에 적용\n",
        "- L1 규제는 불필요한 회귀 계수를 급격하게 감소시켜 0으로 만들고 제거"
      ],
      "metadata": {
        "id": "4yDAUtvnyBMm"
      }
    },
    {
      "cell_type": "code",
      "source": [
        "from sklearn.linear_model import Lasso, ElasticNet\n",
        "\n",
        "def get_linear_reg_eval(model_name, params=None, X_data_n=None, y_target_n=None, verbose=True):\n",
        "  coeff_df=pd.DataFrame()\n",
        "  if verbose: print('######', model_name, '######')\n",
        "  for param in params:\n",
        "    if model_name=='Ridge': model=Ridge(alpha=param)\n",
        "    elif  model_name=='Lasso': model=Lasso(alpha=param)\n",
        "    elif  model_name=='ElasticNet': model=ElasticNet(alpha=param, l1_ratio=0.7)\n",
        "    neg_mse_scores=cross_val_score(model, X_data_n, y_target_n, scoring='neg_mean_squared_error', cv=5)\n",
        "    avg_rmse=np.mean(np.sqrt(-1*neg_mse_scores))\n",
        "    print('alpha {0}일 때 5 폴드 세트의 평균 RMSE: {1:.3f}'.format(param, avg_rmse))\n",
        "\n",
        "    model.fit(X_data,y_target)\n",
        "\n",
        "    coeff=pd.Series(data=model.coef_,index=X_data.columns)\n",
        "    colname='alpha:'+str(param)\n",
        "    coeff_df[colname]=coeff\n",
        "  return coeff_df"
      ],
      "metadata": {
        "id": "S77nrjPktAWW"
      },
      "execution_count": null,
      "outputs": []
    },
    {
      "cell_type": "code",
      "source": [
        "lasso_alphas=[0.07,0.1,0.5,1,3]\n",
        "coeff_lasso_df=get_linear_reg_eval('Lasso', params=lasso_alphas, X_data_n=X_data, y_target_n=y_target)"
      ],
      "metadata": {
        "id": "KH9U500ktAS5",
        "colab": {
          "base_uri": "https://localhost:8080/"
        },
        "outputId": "d9a281cb-5615-4719-afbb-8dd9a8b6186a"
      },
      "execution_count": null,
      "outputs": [
        {
          "output_type": "stream",
          "name": "stdout",
          "text": [
            "###### Lasso ######\n",
            "alpha 0.07일 때 5 폴드 세트의 평균 RMSE: 5.612\n",
            "alpha 0.1일 때 5 폴드 세트의 평균 RMSE: 5.615\n",
            "alpha 0.5일 때 5 폴드 세트의 평균 RMSE: 5.669\n",
            "alpha 1일 때 5 폴드 세트의 평균 RMSE: 5.776\n",
            "alpha 3일 때 5 폴드 세트의 평균 RMSE: 6.189\n"
          ]
        }
      ]
    },
    {
      "cell_type": "code",
      "source": [
        "#피처별 회귀 계수\n",
        "sort_column='alpha:'+str(lasso_alphas[0])\n",
        "coeff_lasso_df.sort_values(by=sort_column, ascending=False)"
      ],
      "metadata": {
        "id": "fti6tT9utAPv",
        "colab": {
          "base_uri": "https://localhost:8080/",
          "height": 457
        },
        "outputId": "4dcef407-4912-4dd9-d874-7ff8573942d4"
      },
      "execution_count": null,
      "outputs": [
        {
          "output_type": "execute_result",
          "data": {
            "text/plain": [
              "         alpha:0.07  alpha:0.1  alpha:0.5   alpha:1   alpha:3\n",
              "RM         3.789725   3.703202   2.498212  0.949811  0.000000\n",
              "CHAS       1.434343   0.955190   0.000000  0.000000  0.000000\n",
              "RAD        0.270936   0.274707   0.277451  0.264206  0.061864\n",
              "ZN         0.049059   0.049211   0.049544  0.049165  0.037231\n",
              "B          0.010248   0.010249   0.009469  0.008247  0.006510\n",
              "NOX       -0.000000  -0.000000  -0.000000 -0.000000  0.000000\n",
              "AGE       -0.011706  -0.010037   0.003604  0.020910  0.042495\n",
              "TAX       -0.014290  -0.014570  -0.015442 -0.015212 -0.008602\n",
              "INDUS     -0.042120  -0.036619  -0.005253 -0.000000 -0.000000\n",
              "CRIM      -0.098193  -0.097894  -0.083289 -0.063437 -0.000000\n",
              "LSTAT     -0.560431  -0.568769  -0.656290 -0.761115 -0.807679\n",
              "PTRATIO   -0.765107  -0.770654  -0.758752 -0.722966 -0.265072\n",
              "DIS       -1.176583  -1.160538  -0.936605 -0.668790 -0.000000"
            ],
            "text/html": [
              "\n",
              "  <div id=\"df-fe623156-e663-4f94-a47f-1671d8602a85\">\n",
              "    <div class=\"colab-df-container\">\n",
              "      <div>\n",
              "<style scoped>\n",
              "    .dataframe tbody tr th:only-of-type {\n",
              "        vertical-align: middle;\n",
              "    }\n",
              "\n",
              "    .dataframe tbody tr th {\n",
              "        vertical-align: top;\n",
              "    }\n",
              "\n",
              "    .dataframe thead th {\n",
              "        text-align: right;\n",
              "    }\n",
              "</style>\n",
              "<table border=\"1\" class=\"dataframe\">\n",
              "  <thead>\n",
              "    <tr style=\"text-align: right;\">\n",
              "      <th></th>\n",
              "      <th>alpha:0.07</th>\n",
              "      <th>alpha:0.1</th>\n",
              "      <th>alpha:0.5</th>\n",
              "      <th>alpha:1</th>\n",
              "      <th>alpha:3</th>\n",
              "    </tr>\n",
              "  </thead>\n",
              "  <tbody>\n",
              "    <tr>\n",
              "      <th>RM</th>\n",
              "      <td>3.789725</td>\n",
              "      <td>3.703202</td>\n",
              "      <td>2.498212</td>\n",
              "      <td>0.949811</td>\n",
              "      <td>0.000000</td>\n",
              "    </tr>\n",
              "    <tr>\n",
              "      <th>CHAS</th>\n",
              "      <td>1.434343</td>\n",
              "      <td>0.955190</td>\n",
              "      <td>0.000000</td>\n",
              "      <td>0.000000</td>\n",
              "      <td>0.000000</td>\n",
              "    </tr>\n",
              "    <tr>\n",
              "      <th>RAD</th>\n",
              "      <td>0.270936</td>\n",
              "      <td>0.274707</td>\n",
              "      <td>0.277451</td>\n",
              "      <td>0.264206</td>\n",
              "      <td>0.061864</td>\n",
              "    </tr>\n",
              "    <tr>\n",
              "      <th>ZN</th>\n",
              "      <td>0.049059</td>\n",
              "      <td>0.049211</td>\n",
              "      <td>0.049544</td>\n",
              "      <td>0.049165</td>\n",
              "      <td>0.037231</td>\n",
              "    </tr>\n",
              "    <tr>\n",
              "      <th>B</th>\n",
              "      <td>0.010248</td>\n",
              "      <td>0.010249</td>\n",
              "      <td>0.009469</td>\n",
              "      <td>0.008247</td>\n",
              "      <td>0.006510</td>\n",
              "    </tr>\n",
              "    <tr>\n",
              "      <th>NOX</th>\n",
              "      <td>-0.000000</td>\n",
              "      <td>-0.000000</td>\n",
              "      <td>-0.000000</td>\n",
              "      <td>-0.000000</td>\n",
              "      <td>0.000000</td>\n",
              "    </tr>\n",
              "    <tr>\n",
              "      <th>AGE</th>\n",
              "      <td>-0.011706</td>\n",
              "      <td>-0.010037</td>\n",
              "      <td>0.003604</td>\n",
              "      <td>0.020910</td>\n",
              "      <td>0.042495</td>\n",
              "    </tr>\n",
              "    <tr>\n",
              "      <th>TAX</th>\n",
              "      <td>-0.014290</td>\n",
              "      <td>-0.014570</td>\n",
              "      <td>-0.015442</td>\n",
              "      <td>-0.015212</td>\n",
              "      <td>-0.008602</td>\n",
              "    </tr>\n",
              "    <tr>\n",
              "      <th>INDUS</th>\n",
              "      <td>-0.042120</td>\n",
              "      <td>-0.036619</td>\n",
              "      <td>-0.005253</td>\n",
              "      <td>-0.000000</td>\n",
              "      <td>-0.000000</td>\n",
              "    </tr>\n",
              "    <tr>\n",
              "      <th>CRIM</th>\n",
              "      <td>-0.098193</td>\n",
              "      <td>-0.097894</td>\n",
              "      <td>-0.083289</td>\n",
              "      <td>-0.063437</td>\n",
              "      <td>-0.000000</td>\n",
              "    </tr>\n",
              "    <tr>\n",
              "      <th>LSTAT</th>\n",
              "      <td>-0.560431</td>\n",
              "      <td>-0.568769</td>\n",
              "      <td>-0.656290</td>\n",
              "      <td>-0.761115</td>\n",
              "      <td>-0.807679</td>\n",
              "    </tr>\n",
              "    <tr>\n",
              "      <th>PTRATIO</th>\n",
              "      <td>-0.765107</td>\n",
              "      <td>-0.770654</td>\n",
              "      <td>-0.758752</td>\n",
              "      <td>-0.722966</td>\n",
              "      <td>-0.265072</td>\n",
              "    </tr>\n",
              "    <tr>\n",
              "      <th>DIS</th>\n",
              "      <td>-1.176583</td>\n",
              "      <td>-1.160538</td>\n",
              "      <td>-0.936605</td>\n",
              "      <td>-0.668790</td>\n",
              "      <td>-0.000000</td>\n",
              "    </tr>\n",
              "  </tbody>\n",
              "</table>\n",
              "</div>\n",
              "      <button class=\"colab-df-convert\" onclick=\"convertToInteractive('df-fe623156-e663-4f94-a47f-1671d8602a85')\"\n",
              "              title=\"Convert this dataframe to an interactive table.\"\n",
              "              style=\"display:none;\">\n",
              "        \n",
              "  <svg xmlns=\"http://www.w3.org/2000/svg\" height=\"24px\"viewBox=\"0 0 24 24\"\n",
              "       width=\"24px\">\n",
              "    <path d=\"M0 0h24v24H0V0z\" fill=\"none\"/>\n",
              "    <path d=\"M18.56 5.44l.94 2.06.94-2.06 2.06-.94-2.06-.94-.94-2.06-.94 2.06-2.06.94zm-11 1L8.5 8.5l.94-2.06 2.06-.94-2.06-.94L8.5 2.5l-.94 2.06-2.06.94zm10 10l.94 2.06.94-2.06 2.06-.94-2.06-.94-.94-2.06-.94 2.06-2.06.94z\"/><path d=\"M17.41 7.96l-1.37-1.37c-.4-.4-.92-.59-1.43-.59-.52 0-1.04.2-1.43.59L10.3 9.45l-7.72 7.72c-.78.78-.78 2.05 0 2.83L4 21.41c.39.39.9.59 1.41.59.51 0 1.02-.2 1.41-.59l7.78-7.78 2.81-2.81c.8-.78.8-2.07 0-2.86zM5.41 20L4 18.59l7.72-7.72 1.47 1.35L5.41 20z\"/>\n",
              "  </svg>\n",
              "      </button>\n",
              "      \n",
              "  <style>\n",
              "    .colab-df-container {\n",
              "      display:flex;\n",
              "      flex-wrap:wrap;\n",
              "      gap: 12px;\n",
              "    }\n",
              "\n",
              "    .colab-df-convert {\n",
              "      background-color: #E8F0FE;\n",
              "      border: none;\n",
              "      border-radius: 50%;\n",
              "      cursor: pointer;\n",
              "      display: none;\n",
              "      fill: #1967D2;\n",
              "      height: 32px;\n",
              "      padding: 0 0 0 0;\n",
              "      width: 32px;\n",
              "    }\n",
              "\n",
              "    .colab-df-convert:hover {\n",
              "      background-color: #E2EBFA;\n",
              "      box-shadow: 0px 1px 2px rgba(60, 64, 67, 0.3), 0px 1px 3px 1px rgba(60, 64, 67, 0.15);\n",
              "      fill: #174EA6;\n",
              "    }\n",
              "\n",
              "    [theme=dark] .colab-df-convert {\n",
              "      background-color: #3B4455;\n",
              "      fill: #D2E3FC;\n",
              "    }\n",
              "\n",
              "    [theme=dark] .colab-df-convert:hover {\n",
              "      background-color: #434B5C;\n",
              "      box-shadow: 0px 1px 3px 1px rgba(0, 0, 0, 0.15);\n",
              "      filter: drop-shadow(0px 1px 2px rgba(0, 0, 0, 0.3));\n",
              "      fill: #FFFFFF;\n",
              "    }\n",
              "  </style>\n",
              "\n",
              "      <script>\n",
              "        const buttonEl =\n",
              "          document.querySelector('#df-fe623156-e663-4f94-a47f-1671d8602a85 button.colab-df-convert');\n",
              "        buttonEl.style.display =\n",
              "          google.colab.kernel.accessAllowed ? 'block' : 'none';\n",
              "\n",
              "        async function convertToInteractive(key) {\n",
              "          const element = document.querySelector('#df-fe623156-e663-4f94-a47f-1671d8602a85');\n",
              "          const dataTable =\n",
              "            await google.colab.kernel.invokeFunction('convertToInteractive',\n",
              "                                                     [key], {});\n",
              "          if (!dataTable) return;\n",
              "\n",
              "          const docLinkHtml = 'Like what you see? Visit the ' +\n",
              "            '<a target=\"_blank\" href=https://colab.research.google.com/notebooks/data_table.ipynb>data table notebook</a>'\n",
              "            + ' to learn more about interactive tables.';\n",
              "          element.innerHTML = '';\n",
              "          dataTable['output_type'] = 'display_data';\n",
              "          await google.colab.output.renderOutput(dataTable, element);\n",
              "          const docLink = document.createElement('div');\n",
              "          docLink.innerHTML = docLinkHtml;\n",
              "          element.appendChild(docLink);\n",
              "        }\n",
              "      </script>\n",
              "    </div>\n",
              "  </div>\n",
              "  "
            ]
          },
          "metadata": {},
          "execution_count": 22
        }
      ]
    },
    {
      "cell_type": "markdown",
      "source": [
        "엘라스틱넷 회귀\n",
        "- L2 규제와 L1 규제를 결합한 회귀\n",
        "- 라쏘 회귀가 서로 상관관계가 높은 피처들의 경우에 이들 중에서 중요 피처만을 셀렉션하고 다른 피처들은 모두 회귀 계수를 0으로 만드는 성향이 강함: alpha 값에 따라 회귀 계수의 값이 급격히 변동할 수 있음\n",
        "- 이런 단점을 완화하기 위해 L2 규제를 라쏘 회귀에 추가\n",
        "- 엘라스틱넷 회귀의 단점은 수행시간이 오래걸린다는 것\n"
      ],
      "metadata": {
        "id": "x9iHR7nt0cXQ"
      }
    },
    {
      "cell_type": "code",
      "source": [
        "#위의 함수에서 l1_ratio를 0.7로 고정해둔 것을 유의\n",
        "\n",
        "elastic_alphas=[0.07,0.1,0.5,1,3]\n",
        "coeff_elastic_df=get_linear_reg_eval('ElasticNet', params=elastic_alphas, X_data_n=X_data, y_target_n=y_target)"
      ],
      "metadata": {
        "id": "hkjxPwnmtAMA",
        "colab": {
          "base_uri": "https://localhost:8080/"
        },
        "outputId": "a59b2f3a-a43f-4ec4-dc7d-b840e3808c95"
      },
      "execution_count": null,
      "outputs": [
        {
          "output_type": "stream",
          "name": "stdout",
          "text": [
            "###### ElasticNet ######\n",
            "alpha 0.07일 때 5 폴드 세트의 평균 RMSE: 5.542\n",
            "alpha 0.1일 때 5 폴드 세트의 평균 RMSE: 5.526\n",
            "alpha 0.5일 때 5 폴드 세트의 평균 RMSE: 5.467\n",
            "alpha 1일 때 5 폴드 세트의 평균 RMSE: 5.597\n",
            "alpha 3일 때 5 폴드 세트의 평균 RMSE: 6.068\n"
          ]
        }
      ]
    },
    {
      "cell_type": "code",
      "source": [
        "sort_column='alpha:'+str(elastic_alphas[0])\n",
        "coeff_elastic_df.sort_values(by=sort_column, ascending=False)"
      ],
      "metadata": {
        "id": "jsasuvgUtAJD",
        "colab": {
          "base_uri": "https://localhost:8080/",
          "height": 457
        },
        "outputId": "f38409d4-326b-4a69-a797-f8140cf1bfaf"
      },
      "execution_count": null,
      "outputs": [
        {
          "output_type": "execute_result",
          "data": {
            "text/plain": [
              "         alpha:0.07  alpha:0.1  alpha:0.5   alpha:1   alpha:3\n",
              "RM         3.574162   3.414154   1.918419  0.938789  0.000000\n",
              "CHAS       1.330724   0.979706   0.000000  0.000000  0.000000\n",
              "RAD        0.278880   0.283443   0.300761  0.289299  0.146846\n",
              "ZN         0.050107   0.050617   0.052878  0.052136  0.038268\n",
              "B          0.010122   0.010067   0.009114  0.008320  0.007020\n",
              "AGE       -0.010116  -0.008276   0.007760  0.020348  0.043446\n",
              "TAX       -0.014522  -0.014814  -0.016046 -0.016218 -0.011417\n",
              "INDUS     -0.044855  -0.042719  -0.023252 -0.000000 -0.000000\n",
              "CRIM      -0.099468  -0.099213  -0.089070 -0.073577 -0.019058\n",
              "NOX       -0.175072  -0.000000  -0.000000 -0.000000 -0.000000\n",
              "LSTAT     -0.574822  -0.587702  -0.693861 -0.760457 -0.800368\n",
              "PTRATIO   -0.779498  -0.784725  -0.790969 -0.738672 -0.423065\n",
              "DIS       -1.189438  -1.173647  -0.975902 -0.725174 -0.031208"
            ],
            "text/html": [
              "\n",
              "  <div id=\"df-804d829f-9481-46ba-8e60-2acc202fc337\">\n",
              "    <div class=\"colab-df-container\">\n",
              "      <div>\n",
              "<style scoped>\n",
              "    .dataframe tbody tr th:only-of-type {\n",
              "        vertical-align: middle;\n",
              "    }\n",
              "\n",
              "    .dataframe tbody tr th {\n",
              "        vertical-align: top;\n",
              "    }\n",
              "\n",
              "    .dataframe thead th {\n",
              "        text-align: right;\n",
              "    }\n",
              "</style>\n",
              "<table border=\"1\" class=\"dataframe\">\n",
              "  <thead>\n",
              "    <tr style=\"text-align: right;\">\n",
              "      <th></th>\n",
              "      <th>alpha:0.07</th>\n",
              "      <th>alpha:0.1</th>\n",
              "      <th>alpha:0.5</th>\n",
              "      <th>alpha:1</th>\n",
              "      <th>alpha:3</th>\n",
              "    </tr>\n",
              "  </thead>\n",
              "  <tbody>\n",
              "    <tr>\n",
              "      <th>RM</th>\n",
              "      <td>3.574162</td>\n",
              "      <td>3.414154</td>\n",
              "      <td>1.918419</td>\n",
              "      <td>0.938789</td>\n",
              "      <td>0.000000</td>\n",
              "    </tr>\n",
              "    <tr>\n",
              "      <th>CHAS</th>\n",
              "      <td>1.330724</td>\n",
              "      <td>0.979706</td>\n",
              "      <td>0.000000</td>\n",
              "      <td>0.000000</td>\n",
              "      <td>0.000000</td>\n",
              "    </tr>\n",
              "    <tr>\n",
              "      <th>RAD</th>\n",
              "      <td>0.278880</td>\n",
              "      <td>0.283443</td>\n",
              "      <td>0.300761</td>\n",
              "      <td>0.289299</td>\n",
              "      <td>0.146846</td>\n",
              "    </tr>\n",
              "    <tr>\n",
              "      <th>ZN</th>\n",
              "      <td>0.050107</td>\n",
              "      <td>0.050617</td>\n",
              "      <td>0.052878</td>\n",
              "      <td>0.052136</td>\n",
              "      <td>0.038268</td>\n",
              "    </tr>\n",
              "    <tr>\n",
              "      <th>B</th>\n",
              "      <td>0.010122</td>\n",
              "      <td>0.010067</td>\n",
              "      <td>0.009114</td>\n",
              "      <td>0.008320</td>\n",
              "      <td>0.007020</td>\n",
              "    </tr>\n",
              "    <tr>\n",
              "      <th>AGE</th>\n",
              "      <td>-0.010116</td>\n",
              "      <td>-0.008276</td>\n",
              "      <td>0.007760</td>\n",
              "      <td>0.020348</td>\n",
              "      <td>0.043446</td>\n",
              "    </tr>\n",
              "    <tr>\n",
              "      <th>TAX</th>\n",
              "      <td>-0.014522</td>\n",
              "      <td>-0.014814</td>\n",
              "      <td>-0.016046</td>\n",
              "      <td>-0.016218</td>\n",
              "      <td>-0.011417</td>\n",
              "    </tr>\n",
              "    <tr>\n",
              "      <th>INDUS</th>\n",
              "      <td>-0.044855</td>\n",
              "      <td>-0.042719</td>\n",
              "      <td>-0.023252</td>\n",
              "      <td>-0.000000</td>\n",
              "      <td>-0.000000</td>\n",
              "    </tr>\n",
              "    <tr>\n",
              "      <th>CRIM</th>\n",
              "      <td>-0.099468</td>\n",
              "      <td>-0.099213</td>\n",
              "      <td>-0.089070</td>\n",
              "      <td>-0.073577</td>\n",
              "      <td>-0.019058</td>\n",
              "    </tr>\n",
              "    <tr>\n",
              "      <th>NOX</th>\n",
              "      <td>-0.175072</td>\n",
              "      <td>-0.000000</td>\n",
              "      <td>-0.000000</td>\n",
              "      <td>-0.000000</td>\n",
              "      <td>-0.000000</td>\n",
              "    </tr>\n",
              "    <tr>\n",
              "      <th>LSTAT</th>\n",
              "      <td>-0.574822</td>\n",
              "      <td>-0.587702</td>\n",
              "      <td>-0.693861</td>\n",
              "      <td>-0.760457</td>\n",
              "      <td>-0.800368</td>\n",
              "    </tr>\n",
              "    <tr>\n",
              "      <th>PTRATIO</th>\n",
              "      <td>-0.779498</td>\n",
              "      <td>-0.784725</td>\n",
              "      <td>-0.790969</td>\n",
              "      <td>-0.738672</td>\n",
              "      <td>-0.423065</td>\n",
              "    </tr>\n",
              "    <tr>\n",
              "      <th>DIS</th>\n",
              "      <td>-1.189438</td>\n",
              "      <td>-1.173647</td>\n",
              "      <td>-0.975902</td>\n",
              "      <td>-0.725174</td>\n",
              "      <td>-0.031208</td>\n",
              "    </tr>\n",
              "  </tbody>\n",
              "</table>\n",
              "</div>\n",
              "      <button class=\"colab-df-convert\" onclick=\"convertToInteractive('df-804d829f-9481-46ba-8e60-2acc202fc337')\"\n",
              "              title=\"Convert this dataframe to an interactive table.\"\n",
              "              style=\"display:none;\">\n",
              "        \n",
              "  <svg xmlns=\"http://www.w3.org/2000/svg\" height=\"24px\"viewBox=\"0 0 24 24\"\n",
              "       width=\"24px\">\n",
              "    <path d=\"M0 0h24v24H0V0z\" fill=\"none\"/>\n",
              "    <path d=\"M18.56 5.44l.94 2.06.94-2.06 2.06-.94-2.06-.94-.94-2.06-.94 2.06-2.06.94zm-11 1L8.5 8.5l.94-2.06 2.06-.94-2.06-.94L8.5 2.5l-.94 2.06-2.06.94zm10 10l.94 2.06.94-2.06 2.06-.94-2.06-.94-.94-2.06-.94 2.06-2.06.94z\"/><path d=\"M17.41 7.96l-1.37-1.37c-.4-.4-.92-.59-1.43-.59-.52 0-1.04.2-1.43.59L10.3 9.45l-7.72 7.72c-.78.78-.78 2.05 0 2.83L4 21.41c.39.39.9.59 1.41.59.51 0 1.02-.2 1.41-.59l7.78-7.78 2.81-2.81c.8-.78.8-2.07 0-2.86zM5.41 20L4 18.59l7.72-7.72 1.47 1.35L5.41 20z\"/>\n",
              "  </svg>\n",
              "      </button>\n",
              "      \n",
              "  <style>\n",
              "    .colab-df-container {\n",
              "      display:flex;\n",
              "      flex-wrap:wrap;\n",
              "      gap: 12px;\n",
              "    }\n",
              "\n",
              "    .colab-df-convert {\n",
              "      background-color: #E8F0FE;\n",
              "      border: none;\n",
              "      border-radius: 50%;\n",
              "      cursor: pointer;\n",
              "      display: none;\n",
              "      fill: #1967D2;\n",
              "      height: 32px;\n",
              "      padding: 0 0 0 0;\n",
              "      width: 32px;\n",
              "    }\n",
              "\n",
              "    .colab-df-convert:hover {\n",
              "      background-color: #E2EBFA;\n",
              "      box-shadow: 0px 1px 2px rgba(60, 64, 67, 0.3), 0px 1px 3px 1px rgba(60, 64, 67, 0.15);\n",
              "      fill: #174EA6;\n",
              "    }\n",
              "\n",
              "    [theme=dark] .colab-df-convert {\n",
              "      background-color: #3B4455;\n",
              "      fill: #D2E3FC;\n",
              "    }\n",
              "\n",
              "    [theme=dark] .colab-df-convert:hover {\n",
              "      background-color: #434B5C;\n",
              "      box-shadow: 0px 1px 3px 1px rgba(0, 0, 0, 0.15);\n",
              "      filter: drop-shadow(0px 1px 2px rgba(0, 0, 0, 0.3));\n",
              "      fill: #FFFFFF;\n",
              "    }\n",
              "  </style>\n",
              "\n",
              "      <script>\n",
              "        const buttonEl =\n",
              "          document.querySelector('#df-804d829f-9481-46ba-8e60-2acc202fc337 button.colab-df-convert');\n",
              "        buttonEl.style.display =\n",
              "          google.colab.kernel.accessAllowed ? 'block' : 'none';\n",
              "\n",
              "        async function convertToInteractive(key) {\n",
              "          const element = document.querySelector('#df-804d829f-9481-46ba-8e60-2acc202fc337');\n",
              "          const dataTable =\n",
              "            await google.colab.kernel.invokeFunction('convertToInteractive',\n",
              "                                                     [key], {});\n",
              "          if (!dataTable) return;\n",
              "\n",
              "          const docLinkHtml = 'Like what you see? Visit the ' +\n",
              "            '<a target=\"_blank\" href=https://colab.research.google.com/notebooks/data_table.ipynb>data table notebook</a>'\n",
              "            + ' to learn more about interactive tables.';\n",
              "          element.innerHTML = '';\n",
              "          dataTable['output_type'] = 'display_data';\n",
              "          await google.colab.output.renderOutput(dataTable, element);\n",
              "          const docLink = document.createElement('div');\n",
              "          docLink.innerHTML = docLinkHtml;\n",
              "          element.appendChild(docLink);\n",
              "        }\n",
              "      </script>\n",
              "    </div>\n",
              "  </div>\n",
              "  "
            ]
          },
          "metadata": {},
          "execution_count": 24
        }
      ]
    },
    {
      "cell_type": "markdown",
      "source": [
        "### **선형 회귀 모델을 위한 데이터 변환**\n",
        "\n",
        "- 선형 모델은 피처와 타깃값 간에 선형의 관계가 있다고 가정하고 최적의 선형함수를 찾아내 결과값 예측\n",
        "- 정규 분포 형태를 매우 선호\n",
        "- 타깃값의 경우 특정값의 분포가 치우친 왜곡된 형태의 분포도일 경우 예측 성능에 부정적인 영향을 미칠 수 있음\n",
        "- 따라서 선형 회귀 모델을 적용하기 전에 먼저 데이터에 대한 스케일링/정규화 작업을 수행하는 것이 일반적\n",
        "\n",
        "\n",
        "\n",
        "---\n",
        "사이킷런을 이용하여 핌처 데이터 세트에 적용하는 변환 작업\n",
        "1. StandardScaler 클래스를 이용해 평균이 0 분산이 1인 표준 정규 분포를 가진 데이터 세트로 변환하거나 MinMaxScaler 클래스를 이용해 최솟값이 0이고 최댓값이 1인 값으로 정규화를 수행\n",
        "2. 스케일링/정규화를 수행한 데이터 세트에 다시 다항 특성을적용하여 변환, 1번 방법을 통해 예측 성능에 향상이 없을 경우 사용\n",
        "3. 원래 값에 log 함수를 적용하면 보다 정규 분포에 가까운 형태로 값이 분포\n",
        "\n",
        "\n",
        "---\n",
        "- 타깃값의 경우는 일반적으로 로그 변환 적용\n",
        "- 보스턴 주택가격 피처 데이터 세트에 위에서 언급한 변환을 적용 후 RMSE 측정\n",
        "\n"
      ],
      "metadata": {
        "id": "ZidyRlWJ15PY"
      }
    },
    {
      "cell_type": "code",
      "source": [
        "from sklearn.preprocessing import StandardScaler, MinMaxScaler, PolynomialFeatures\n",
        "def get_scaled_data(method='None', p_degree=None, input_data=None):\n",
        "  if method=='Standard':\n",
        "    scaled_data=StandardScaler().fit_transform(input_data)\n",
        "  elif method=='MinMax':\n",
        "    scaled_data=MinMaxScaler().fit_transform(input_data)\n",
        "  elif method=='Log':\n",
        "    scaled_data=np.log1p(input_data)\n",
        "  else:\n",
        "    scaled_data=input_data\n",
        "  \n",
        "  if p_degree!=None:\n",
        "    scalerd_data=PolynomialFeatures(degree=p_degree, include_bias=False).fit_transform(scaled_data)\n",
        "\n",
        "  return scaled_data"
      ],
      "metadata": {
        "id": "M0xaDlq5tAGF"
      },
      "execution_count": null,
      "outputs": []
    },
    {
      "cell_type": "code",
      "source": [
        "alphas=[0.1,1,10,100]\n",
        "\n",
        "scale_methods=[(None, None), ('Standard', None), ('Standard', 2),\n",
        "               ('MinMax',None), ('MinMax',2), ('Log',None)]\n",
        "for scale_method in scale_methods:\n",
        "  X_data_scaled=get_scaled_data(method=scale_method[0], p_degree=scale_method[1],\n",
        "                                input_data=X_data)\n",
        "  print('\\n## 변환 유형: {0}, Polynomial Degree:{1}'.format(scale_method[0], scale_method[1]))\n",
        "  get_linear_reg_eval('Ridge', params=alphas, X_data_n=X_data_scaled, y_target_n=y_target, verbose=False)"
      ],
      "metadata": {
        "id": "-myNGwBbtADG",
        "colab": {
          "base_uri": "https://localhost:8080/"
        },
        "outputId": "3d7214e5-e43a-4843-bb6c-d0f7d8028592"
      },
      "execution_count": null,
      "outputs": [
        {
          "output_type": "stream",
          "name": "stdout",
          "text": [
            "\n",
            "## 변환 유형: None, Polynomial Degree:None\n",
            "alpha 0.1일 때 5 폴드 세트의 평균 RMSE: 5.788\n",
            "alpha 1일 때 5 폴드 세트의 평균 RMSE: 5.653\n",
            "alpha 10일 때 5 폴드 세트의 평균 RMSE: 5.518\n",
            "alpha 100일 때 5 폴드 세트의 평균 RMSE: 5.330\n",
            "\n",
            "## 변환 유형: Standard, Polynomial Degree:None\n",
            "alpha 0.1일 때 5 폴드 세트의 평균 RMSE: 5.826\n",
            "alpha 1일 때 5 폴드 세트의 평균 RMSE: 5.803\n",
            "alpha 10일 때 5 폴드 세트의 평균 RMSE: 5.637\n",
            "alpha 100일 때 5 폴드 세트의 평균 RMSE: 5.421\n",
            "\n",
            "## 변환 유형: Standard, Polynomial Degree:2\n",
            "alpha 0.1일 때 5 폴드 세트의 평균 RMSE: 5.826\n",
            "alpha 1일 때 5 폴드 세트의 평균 RMSE: 5.803\n",
            "alpha 10일 때 5 폴드 세트의 평균 RMSE: 5.637\n",
            "alpha 100일 때 5 폴드 세트의 평균 RMSE: 5.421\n",
            "\n",
            "## 변환 유형: MinMax, Polynomial Degree:None\n",
            "alpha 0.1일 때 5 폴드 세트의 평균 RMSE: 5.764\n",
            "alpha 1일 때 5 폴드 세트의 평균 RMSE: 5.465\n",
            "alpha 10일 때 5 폴드 세트의 평균 RMSE: 5.754\n",
            "alpha 100일 때 5 폴드 세트의 평균 RMSE: 7.635\n",
            "\n",
            "## 변환 유형: MinMax, Polynomial Degree:2\n",
            "alpha 0.1일 때 5 폴드 세트의 평균 RMSE: 5.764\n",
            "alpha 1일 때 5 폴드 세트의 평균 RMSE: 5.465\n",
            "alpha 10일 때 5 폴드 세트의 평균 RMSE: 5.754\n",
            "alpha 100일 때 5 폴드 세트의 평균 RMSE: 7.635\n",
            "\n",
            "## 변환 유형: Log, Polynomial Degree:None\n",
            "alpha 0.1일 때 5 폴드 세트의 평균 RMSE: 4.770\n",
            "alpha 1일 때 5 폴드 세트의 평균 RMSE: 4.676\n",
            "alpha 10일 때 5 폴드 세트의 평균 RMSE: 4.836\n",
            "alpha 100일 때 5 폴드 세트의 평균 RMSE: 6.241\n"
          ]
        }
      ]
    },
    {
      "cell_type": "markdown",
      "source": [
        "## **07 로지스틱 회귀**\n",
        "\n",
        "- 선형 회귀 방식을 분류에 적용한 알고리즘\n",
        "- 회귀가 선형인지 여부는 독립변수가 아닌 가중치 변수가 선형인지 아닌지에 따름\n",
        "- 로지스틱 회귀가 선형 회귀와 다른 점은 학습을 통해 선형 함수의 회귀 최적선을 찾는 것이 아니라 시그모이드 함수 최적선을 찾고 이 시그모이드 함수의 반환 값을 확률로 간주해 확률에 따라 분류를 결정한다는 것\n",
        "\n",
        "**시그모이드 함수**\n",
        "- x 값이 - + 로 아무리 커져도 y 값은 0과 1 사이 값을 반환\n",
        "- 이를 이용하면 0과 1에 대해 분류를 할 수 있음\n"
      ],
      "metadata": {
        "id": "HBBkM2PU5-_y"
      }
    },
    {
      "cell_type": "markdown",
      "source": [
        "![image.png](data:image/png;base64,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)"
      ],
      "metadata": {
        "id": "N5akMj1-SIMj"
      }
    },
    {
      "cell_type": "code",
      "source": [
        "#위스콘신 유방암 데이터 세트를 이용하여 로지스틱 회귀로 암 여부 판단\n",
        "\n",
        "import pandas as pd\n",
        "import matplotlib.pyplot as plt\n",
        "%matplotlib inline\n",
        "\n",
        "from sklearn.datasets import load_breast_cancer\n",
        "from sklearn.linear_model import LogisticRegression\n",
        "\n",
        "cancer=load_breast_cancer()"
      ],
      "metadata": {
        "id": "tXDrGSwMtAAT"
      },
      "execution_count": 2,
      "outputs": []
    },
    {
      "cell_type": "code",
      "source": [
        "from sklearn.preprocessing import StandardScaler\n",
        "from sklearn.model_selection import train_test_split\n",
        "\n",
        "scaler=StandardScaler()\n",
        "data_scaled=scaler.fit_transform(cancer.data)\n",
        "\n",
        "X_train,X_test, y_train, y_test=train_test_split(data_scaled, cancer.target, test_size=0.3, random_state=0)"
      ],
      "metadata": {
        "id": "F7tgry1Is_9i"
      },
      "execution_count": 3,
      "outputs": []
    },
    {
      "cell_type": "code",
      "source": [
        "from sklearn.metrics import accuracy_score, roc_auc_score\n",
        "\n",
        "lr_clf=LogisticRegression()\n",
        "lr_clf.fit(X_train, y_train)\n",
        "lr_preds=lr_clf.predict(X_test)\n",
        "\n",
        "print('accuracy: {:0.3f}'.format(accuracy_score(y_test,lr_preds)))\n",
        "print('roc_auc: {:0.3f}'.format(roc_auc_score(y_test, lr_preds)))"
      ],
      "metadata": {
        "id": "_cqQSHEOs_6w",
        "colab": {
          "base_uri": "https://localhost:8080/"
        },
        "outputId": "475e452d-2dd6-4f44-a3bd-21f494d64788"
      },
      "execution_count": 5,
      "outputs": [
        {
          "output_type": "stream",
          "name": "stdout",
          "text": [
            "accuracy: 0.977\n",
            "roc_auc: 0.972\n"
          ]
        }
      ]
    },
    {
      "cell_type": "markdown",
      "source": [
        "- 사이킷런 LogisticRegression 클래스의 주요 하이퍼 파라미터: penalty와 C\n",
        "-penalty는 규제의 유형을 설정: 'l2' 로 설정시 L2 규제, 기본은 L2 규제\n",
        "- C는 규제 강도를 조절하는 alpha값의 역수"
      ],
      "metadata": {
        "id": "pp5XYNWXUZ_q"
      }
    },
    {
      "cell_type": "code",
      "source": [
        "from sklearn.model_selection import GridSearchCV\n",
        "\n",
        "params={'penalty': ['l2','l1'],\n",
        "        'C':[0.01,0.1,1,1,5,10]}\n",
        "\n",
        "grid_clf=GridSearchCV(lr_clf, param_grid=params, scoring='accuracy',cv=3)\n",
        "grid_clf.fit(data_scaled, cancer.target)\n",
        "print('최적 하이퍼 파라미터: {0}, 최적 평균 정확도: {1:.3f}'.format(grid_clf.best_params_, grid_clf.best_score_))"
      ],
      "metadata": {
        "id": "C1YobX_Ws_3z",
        "colab": {
          "base_uri": "https://localhost:8080/"
        },
        "outputId": "14a5e8fd-6d5b-403d-e6dc-24f8e465e435"
      },
      "execution_count": 7,
      "outputs": [
        {
          "output_type": "stream",
          "name": "stdout",
          "text": [
            "최적 하이퍼 파라미터: {'C': 1, 'penalty': 'l2'}, 최적 평균 정확도: 0.975\n"
          ]
        },
        {
          "output_type": "stream",
          "name": "stderr",
          "text": [
            "/usr/local/lib/python3.7/dist-packages/sklearn/model_selection/_validation.py:372: FitFailedWarning: \n",
            "18 fits failed out of a total of 36.\n",
            "The score on these train-test partitions for these parameters will be set to nan.\n",
            "If these failures are not expected, you can try to debug them by setting error_score='raise'.\n",
            "\n",
            "Below are more details about the failures:\n",
            "--------------------------------------------------------------------------------\n",
            "18 fits failed with the following error:\n",
            "Traceback (most recent call last):\n",
            "  File \"/usr/local/lib/python3.7/dist-packages/sklearn/model_selection/_validation.py\", line 680, in _fit_and_score\n",
            "    estimator.fit(X_train, y_train, **fit_params)\n",
            "  File \"/usr/local/lib/python3.7/dist-packages/sklearn/linear_model/_logistic.py\", line 1461, in fit\n",
            "    solver = _check_solver(self.solver, self.penalty, self.dual)\n",
            "  File \"/usr/local/lib/python3.7/dist-packages/sklearn/linear_model/_logistic.py\", line 449, in _check_solver\n",
            "    % (solver, penalty)\n",
            "ValueError: Solver lbfgs supports only 'l2' or 'none' penalties, got l1 penalty.\n",
            "\n",
            "  warnings.warn(some_fits_failed_message, FitFailedWarning)\n",
            "/usr/local/lib/python3.7/dist-packages/sklearn/model_selection/_search.py:972: UserWarning: One or more of the test scores are non-finite: [0.94555834        nan 0.97364708        nan 0.97539218        nan\n",
            " 0.97539218        nan 0.97011974        nan 0.96661097        nan]\n",
            "  category=UserWarning,\n"
          ]
        }
      ]
    },
    {
      "cell_type": "markdown",
      "source": [
        "##**08 회귀 트리**\n",
        "\n",
        "- 선형 회귀는 회귀 계순의 관계를 모두 선형으로 가정\n",
        "- 일반적으로 선형 회귀는 회귀 계수를 선형으로 결합하는 회귀 함수를 구해, 여기에 독립변수를 입력해 결괏값을 예측하는 것\n",
        "- 비선형 회귀는 회귀 계수의 결합이 비선형일 뿐\n",
        "- 회귀 트리는 회귀 함수를 기반으로 하지 않고 결정 트리와 같이 트리를 기반으로 하는 회귀 방식을 소개\n",
        "\n",
        "\n",
        "---\n",
        "\n",
        "트리 기반의 회귀는 회귀 트리를 이용\n",
        "- 회귀를 위한 트리를 생성하고 이를 기반으로 회귀 에측 수행\n",
        "- 회귀 트리는 리프 노드에 속한 데이터 값의 평균을 구해 회귀 예측값을 계산\n",
        "\n"
      ],
      "metadata": {
        "id": "4NLkH7ZnVexb"
      }
    },
    {
      "cell_type": "markdown",
      "source": [
        "![image.png](data:image/png;base64,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)"
      ],
      "metadata": {
        "id": "0N2tpmICWSQ6"
      }
    },
    {
      "cell_type": "markdown",
      "source": [
        "사이킷런에서는 결정 트리, 랜덤 포레스트, GBM에서 CART 기반의 회귀 수행을 할 수 있는 Estimator 클래스 제공\n",
        "\n",
        "\n",
        "\n",
        "---\n",
        "\n",
        "RandomForestRegressor를 이용해 앞의 선형 회귀에서 다룬 보스턴 주택 가격 예측을 수행"
      ],
      "metadata": {
        "id": "6cilHi1rWS_F"
      }
    },
    {
      "cell_type": "code",
      "source": [
        "#보스턴 주택 가격 데이터 세트\n",
        "import numpy as np\n",
        "import matplotlib.pyplot as plt\n",
        "import pandas as pd\n",
        "import seaborn as sns\n",
        "from scipy import stats\n",
        "from sklearn.datasets import load_boston\n",
        "from sklearn.model_selection import cross_val_score\n",
        "from sklearn.ensemble import RandomForestRegressor\n",
        "%matplotlib inline\n",
        "\n",
        "boston=load_boston()\n",
        "\n",
        "bostonDF=pd.DataFrame(boston.data, columns=boston.feature_names)\n",
        "\n",
        "bostonDF['PRICE']=boston.target\n",
        "\n",
        "y_target=bostonDF['PRICE']\n",
        "X_data=bostonDF.drop(['PRICE'], axis=1, inplace=False)\n",
        "\n",
        "rf=RandomForestRegressor(random_state=0, n_estimators=1000)\n",
        "neg_mse_scores=cross_val_score(rf, X_data, y_target, scoring='neg_mean_squared_error', cv=5)\n",
        "rmse_scores=np.sqrt(-1*neg_mse_scores)\n",
        "avg_rmse=np.mean(rmse_scores)\n",
        "\n",
        "\n",
        "print('5 folds 의 개별 Negative MSE socres: ', np.round(neg_mse_scores,2))\n",
        "print('5 folds 의 개별 RMSE scores:', np.round(rmse_scores, 2))\n",
        "print('5 folds 의 평균 RMSE: {0:.3f}'.format(avg_rmse))"
      ],
      "metadata": {
        "id": "rZz7FyEBs_04",
        "colab": {
          "base_uri": "https://localhost:8080/"
        },
        "outputId": "25fe8328-ed5f-4846-87fd-88bc869af503"
      },
      "execution_count": 12,
      "outputs": [
        {
          "output_type": "stream",
          "name": "stderr",
          "text": [
            "/usr/local/lib/python3.7/dist-packages/sklearn/utils/deprecation.py:87: FutureWarning: Function load_boston is deprecated; `load_boston` is deprecated in 1.0 and will be removed in 1.2.\n",
            "\n",
            "    The Boston housing prices dataset has an ethical problem. You can refer to\n",
            "    the documentation of this function for further details.\n",
            "\n",
            "    The scikit-learn maintainers therefore strongly discourage the use of this\n",
            "    dataset unless the purpose of the code is to study and educate about\n",
            "    ethical issues in data science and machine learning.\n",
            "\n",
            "    In this special case, you can fetch the dataset from the original\n",
            "    source::\n",
            "\n",
            "        import pandas as pd\n",
            "        import numpy as np\n",
            "\n",
            "\n",
            "        data_url = \"http://lib.stat.cmu.edu/datasets/boston\"\n",
            "        raw_df = pd.read_csv(data_url, sep=\"\\s+\", skiprows=22, header=None)\n",
            "        data = np.hstack([raw_df.values[::2, :], raw_df.values[1::2, :2]])\n",
            "        target = raw_df.values[1::2, 2]\n",
            "\n",
            "    Alternative datasets include the California housing dataset (i.e.\n",
            "    :func:`~sklearn.datasets.fetch_california_housing`) and the Ames housing\n",
            "    dataset. You can load the datasets as follows::\n",
            "\n",
            "        from sklearn.datasets import fetch_california_housing\n",
            "        housing = fetch_california_housing()\n",
            "\n",
            "    for the California housing dataset and::\n",
            "\n",
            "        from sklearn.datasets import fetch_openml\n",
            "        housing = fetch_openml(name=\"house_prices\", as_frame=True)\n",
            "\n",
            "    for the Ames housing dataset.\n",
            "    \n",
            "  warnings.warn(msg, category=FutureWarning)\n"
          ]
        },
        {
          "output_type": "stream",
          "name": "stdout",
          "text": [
            "5 folds 의 개별 Negative MSE socres:  [ -7.88 -13.14 -20.57 -46.23 -18.88]\n",
            "5 folds 의 개별 RMSE scores: [2.81 3.63 4.54 6.8  4.34]\n",
            "5 folds 의 평균 RMSE: 4.423\n"
          ]
        }
      ]
    },
    {
      "cell_type": "markdown",
      "source": [
        "다른 모델도 모두 사용 해보기\n"
      ],
      "metadata": {
        "id": "mTaeInkdXjq-"
      }
    },
    {
      "cell_type": "code",
      "source": [
        "def get_modelf_cv_prediction(model, X_data, y_target):\n",
        "  neg_mse_scores=cross_val_score(model, X_data,y_target,scoring='neg_mean_squared_error', cv=5)\n",
        "  rmse_scores=np.sqrt(-1*neg_mse_scores)\n",
        "  avg_rmse=np.mean(rmse_scores)\n",
        "  print('#####', model.__class__.__name__,'#####')\n",
        "  print(' 5 교차 검증의 평균 RMSE : {0:.3f}'.format(avg_rmse))"
      ],
      "metadata": {
        "id": "d2UV4Mlos_x9"
      },
      "execution_count": 14,
      "outputs": []
    },
    {
      "cell_type": "code",
      "source": [
        "from sklearn.tree import DecisionTreeRegressor\n",
        "from sklearn.ensemble import GradientBoostingRegressor\n",
        "from xgboost import XGBRegressor\n",
        "from lightgbm import LGBMRegressor\n",
        "\n",
        "dt_reg=DecisionTreeRegressor(random_state=0, max_depth=4)\n",
        "rf_reg=RandomForestRegressor(random_state=0, n_estimators=1000)\n",
        "gb_reg=GradientBoostingRegressor(random_state=0, n_estimators=1000)\n",
        "xgb_reg=XGBRegressor(n_estimators=1000)\n",
        "lgb_reg=LGBMRegressor(n_estimators=1000)\n",
        "\n",
        "models=[dt_reg,rf_reg, gb_reg, xgb_reg, lgb_reg]\n",
        "for model in models:\n",
        "  get_modelf_cv_prediction(model, X_data, y_target)"
      ],
      "metadata": {
        "id": "foA9CiMCs_vC",
        "colab": {
          "base_uri": "https://localhost:8080/"
        },
        "outputId": "ab537b76-6f53-449b-8605-4dc062920e06"
      },
      "execution_count": 16,
      "outputs": [
        {
          "output_type": "stream",
          "name": "stdout",
          "text": [
            "##### DecisionTreeRegressor #####\n",
            " 5 교차 검증의 평균 RMSE : 5.978\n",
            "##### RandomForestRegressor #####\n",
            " 5 교차 검증의 평균 RMSE : 4.423\n",
            "##### GradientBoostingRegressor #####\n",
            " 5 교차 검증의 평균 RMSE : 4.269\n",
            "[04:06:09] WARNING: /workspace/src/objective/regression_obj.cu:152: reg:linear is now deprecated in favor of reg:squarederror.\n",
            "[04:06:10] WARNING: /workspace/src/objective/regression_obj.cu:152: reg:linear is now deprecated in favor of reg:squarederror.\n",
            "[04:06:10] WARNING: /workspace/src/objective/regression_obj.cu:152: reg:linear is now deprecated in favor of reg:squarederror.\n",
            "[04:06:11] WARNING: /workspace/src/objective/regression_obj.cu:152: reg:linear is now deprecated in favor of reg:squarederror.\n",
            "[04:06:11] WARNING: /workspace/src/objective/regression_obj.cu:152: reg:linear is now deprecated in favor of reg:squarederror.\n",
            "##### XGBRegressor #####\n",
            " 5 교차 검증의 평균 RMSE : 4.089\n",
            "##### LGBMRegressor #####\n",
            " 5 교차 검증의 평균 RMSE : 4.646\n"
          ]
        }
      ]
    },
    {
      "cell_type": "markdown",
      "source": [
        "- 회귀 트리 Regressor 클래스는 선형 회귀와 다른 처리 방식이므로 회귀 계수를 제공하는 coef_ 속성이 없음\n",
        "- 대신 feature_importances_를 이용해 피처별 중요도를 알 수 있음\n",
        "- feature_importances_를 이용해 보스터 주택 가격 모델의 피처별 중요도를 시각화"
      ],
      "metadata": {
        "id": "uGuxd5jYaag6"
      }
    },
    {
      "cell_type": "code",
      "source": [
        "import seaborn as sns\n",
        "%matplotlib inline\n",
        "\n",
        "rf_reg=RandomForestRegressor(n_estimators=1000)\n",
        "\n",
        "rf_reg.fit(X_data,y_target)\n",
        "\n",
        "feature_series=pd.Series(data=rf_reg.feature_importances_, index=X_data.columns)\n",
        "feature_series=feature_series.sort_values(ascending=False)\n",
        "sns.barplot(x=feature_series, y=feature_series.index)"
      ],
      "metadata": {
        "id": "JfbUOWQBs_sM",
        "colab": {
          "base_uri": "https://localhost:8080/",
          "height": 283
        },
        "outputId": "d92d3a71-1a82-4678-feba-f11cf3e34652"
      },
      "execution_count": 20,
      "outputs": [
        {
          "output_type": "execute_result",
          "data": {
            "text/plain": [
              "<matplotlib.axes._subplots.AxesSubplot at 0x7fec73fdbc10>"
            ]
          },
          "metadata": {},
          "execution_count": 20
        },
        {
          "output_type": "display_data",
          "data": {
            "text/plain": [
              "<Figure size 432x288 with 1 Axes>"
            ],
            "image/png": "[encoded data removed]"
          },
          "metadata": {
            "needs_background": "light"
          }
        }
      ]
    },
    {
      "cell_type": "markdown",
      "source": [
        "보스턴 데이터 세트의 개수를 100개만 샘플링하고 RM과 PRICE 칼럼만 추출\n",
        "- 직관적으로 예측값을 시각화"
      ],
      "metadata": {
        "id": "a5kj4k3nbiCy"
      }
    },
    {
      "cell_type": "code",
      "execution_count": 23,
      "metadata": {
        "id": "HTOYOnOHsqEU",
        "colab": {
          "base_uri": "https://localhost:8080/",
          "height": 302
        },
        "outputId": "3f27ee81-7323-4b6d-f213-eadb36a5ca6c"
      },
      "outputs": [
        {
          "output_type": "stream",
          "name": "stdout",
          "text": [
            "(100, 2)\n"
          ]
        },
        {
          "output_type": "execute_result",
          "data": {
            "text/plain": [
              "<matplotlib.collections.PathCollection at 0x7fec7354f410>"
            ]
          },
          "metadata": {},
          "execution_count": 23
        },
        {
          "output_type": "display_data",
          "data": {
            "text/plain": [
              "<Figure size 432x288 with 1 Axes>"
            ],
            "image/png": "[encoded data removed]"
          },
          "metadata": {
            "needs_background": "light"
          }
        }
      ],
      "source": [
        "bostonDF_sample=bostonDF[['RM', 'PRICE']]\n",
        "bostonDF_sample=bostonDF_sample.sample(n=100, random_state=0)\n",
        "print(bostonDF_sample.shape)\n",
        "plt.figure()\n",
        "plt.scatter(bostonDF_sample.RM, bostonDF_sample.PRICE, c='darkorange')"
      ]
    },
    {
      "cell_type": "markdown",
      "source": [
        "max_depth를 2, 7로 해서 학습"
      ],
      "metadata": {
        "id": "NJ9_fcckcG_L"
      }
    },
    {
      "cell_type": "code",
      "source": [
        "from sklearn.linear_model import LinearRegression\n",
        "lr_reg=LinearRegression()\n",
        "rf_reg2=DecisionTreeRegressor(max_depth=2)\n",
        "rf_reg7=DecisionTreeRegressor(max_depth=7)\n",
        "\n",
        "X_test=np.arange(4.5,8.5,0.04).reshape(-1,1)\n",
        "\n",
        "X_feature=bostonDF_sample['RM'].values.reshape(-1,1)\n",
        "y_target=bostonDF_sample['PRICE'].values.reshape(-1,1)\n",
        "\n",
        "lr_reg.fit(X_feature, y_target)\n",
        "rf_reg2.fit(X_feature, y_target)\n",
        "rf_reg7.fit(X_feature, y_target)\n",
        "\n",
        "pred_lr=lr_reg.predict(X_test)\n",
        "pred_rf2=rf_reg2.predict(X_test)\n",
        "pred_rf7=rf_reg7.predict(X_test)"
      ],
      "metadata": {
        "id": "rP5SbAhpcK57"
      },
      "execution_count": 27,
      "outputs": []
    },
    {
      "cell_type": "code",
      "source": [
        "fig, (ax1, ax2, ax3)=plt.subplots(figsize=(14,4), ncols=3)\n",
        "\n",
        "ax1.set_title('Linear Regression')\n",
        "ax1.scatter(bostonDF_sample.RM, bostonDF_sample.PRICE, c='darkorange')\n",
        "ax1.plot(X_test,pred_lr,label='linear',linewidth=2)\n",
        "\n",
        "ax2.set_title('Decision Tree Regression: \\n max_depth=2')\n",
        "ax2.scatter(bostonDF_sample.RM, bostonDF_sample.PRICE, c='darkorange')\n",
        "ax2.plot(X_test,pred_rf2,label='amx_depth:2',linewidth=2)\n",
        "\n",
        "ax3.set_title('Decision Tree Regression: \\n max_depth=7')\n",
        "ax3.scatter(bostonDF_sample.RM, bostonDF_sample.PRICE, c='darkorange')\n",
        "ax3.plot(X_test,pred_rf7,label='amx_depth:7',linewidth=2)"
      ],
      "metadata": {
        "colab": {
          "base_uri": "https://localhost:8080/",
          "height": 314
        },
        "id": "n5UWwvtScMGt",
        "outputId": "07438600-ab63-485c-a911-145bfd3d4b36"
      },
      "execution_count": 29,
      "outputs": [
        {
          "output_type": "execute_result",
          "data": {
            "text/plain": [
              "[<matplotlib.lines.Line2D at 0x7fec7329e150>]"
            ]
          },
          "metadata": {},
          "execution_count": 29
        },
        {
          "output_type": "display_data",
          "data": {
            "text/plain": [
              "<Figure size 1008x288 with 3 Axes>"
            ],
            "image/png": "[encoded data removed]"
          },
          "metadata": {
            "needs_background": "light"
          }
        }
      ]
    }
  ]
}