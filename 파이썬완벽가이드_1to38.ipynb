{
  "nbformat": 4,
  "nbformat_minor": 0,
  "metadata": {
    "colab": {
      "provenance": [],
      "collapsed_sections": [],
      "authorship_tag": "ABX9TyMu4EVOLLsCZD9CECRHm2dN",
      "include_colab_link": true
    },
    "kernelspec": {
      "name": "python3",
      "display_name": "Python 3"
    },
    "language_info": {
      "name": "python"
    }
  },
  "cells": [
    {
      "cell_type": "markdown",
      "metadata": {
        "id": "view-in-github",
        "colab_type": "text"
      },
      "source": [
        "<a href=\"https://colab.research.google.com/github/zzaeyun/ESAA22-2/blob/main/%ED%8C%8C%EC%9D%B4%EC%8D%AC%EC%99%84%EB%B2%BD%EA%B0%80%EC%9D%B4%EB%93%9C_1to38.ipynb\" target=\"_parent\"><img src=\"https://colab.research.google.com/assets/colab-badge.svg\" alt=\"Open In Colab\"/></a>"
      ]
    },
    {
      "cell_type": "markdown",
      "source": [
        "## **01 머신러닝의 개념**\n",
        "\n",
        "---\n",
        "\n",
        "**머신러닝이란?**\n",
        "- 애플리케이션을 수정하지 않고도 데이터를 기반으로 패턴을 학습하고 결과를 예측하는 알고리즘 기법\n",
        "- 수시로 변화하는 정보에 맞춰서 기존 로직을 수정하고 검증하는 프로세스에는 많은 비용과 시간이 요구되기 때문에 일정한 패턴을 찾기 어려운 경우 머신러닝이 훌륭한 솔루션\n",
        "- 데이터 내의 패턴을 스스로 인지하고 신뢰도 있는 예측 결과를 도출\n",
        "\n",
        "**머신러닝의 분류**\n",
        "1. 지도학습 - 분류, 회귀, 추천 시스템, 시각/음성 감지/인지, 텍스트 분석, NLP\n",
        "2. 비지도학습 - 클러스터링, 차원 축소, 강화 학습\n",
        "3. 강화학습\n",
        "\n",
        "**데이터 전쟁**\n",
        "\n",
        "머신러닝의 중요한 요소: 데이터, 머신러닝 알고리즘\n",
        "\n",
        "좋은 품질의 데이터를 갖추지 못한다면 머시러닝의 수행 결과도 좋을 수 없음 → 데이터에 의존적\n",
        "\n",
        "데이터를 이해하고 효율적으로 가공, 처리, 추출해 최적의 데이터를 기반으로 알고리즘을 구동할 수 있도록 준비하는 능력이 중요\n",
        "\n",
        "**파이썬과 R 기반의 머신러닝 비교**\n",
        "\n",
        "R: 통계 전용 프로그램\n",
        "파이썬: 다양한 영역에서 사용되는 개발 전문 프로그램 언어 → 직관적인 문법, 객체지향, 유연한 프로그램 아키텍처, 다양한 라이브러리\n",
        ": 딥러닝에 대한 관심이 증가하며 파이썬에 대한 관심도 급격히 증가\n",
        "\n",
        "*파이썬은 소리없이 프로그래밍 세계를 점령하고 있는 언어*\n",
        "- 전 세계 개발자들이 파이썬을 선호, 높은 활용도\n",
        "- 많은 라이브러리로 높은 생산성 보장\n",
        "- 뛰어난 확장성, 유연성, 호환성\n",
        "- 머신러닝 애플리케이션과 다양한 애플리케이션 개발 가능\n",
        "- 다양한 기업 환경으로의 확산 가능\n",
        "\n",
        "앞으로 딥러닝 프레임워크는 파이썬 중심으로 발전될 가능성이 있음\n",
        "\n",
        "\n"
      ],
      "metadata": {
        "id": "IDbOqOZ5Y6J2"
      }
    },
    {
      "cell_type": "markdown",
      "source": [
        "## **02 파이썬 머신러닝 생태계를 구성하는 주요 패키지**\n",
        "\n",
        "\n",
        "\n",
        "---\n",
        "\n",
        "머신러닝 패키지: 사이킷런(Scikit-Learn)\n",
        "\n",
        "행렬/선형대수/통계 패키지: 넘파이(NumPy)\n",
        "\n",
        "데이터 핸들링: 판다스, 맷플롯립(Matplotlib)\n",
        "\n",
        "시각화: 맷플롯립 (+시본)\n",
        "\n",
        "아이파이썬(주피터 노트북): 대화형 파이썬, 중요 코드 단위로 설명을 적고 코드를 수행해 그 결과를 볼 수 있게 하여 직관적으로 어떤 코드가 어떤 역할을 하는지 쉬운 이해 가능\n",
        "\n"
      ],
      "metadata": {
        "id": "1L7_dQG5ig5j"
      }
    },
    {
      "cell_type": "markdown",
      "source": [
        "## **03 넘파이**\n",
        "\n",
        "---\n",
        "\n",
        "\n",
        "\n",
        "- 선형대수 기반의 프로그램을 쉽게 만들 수 있도록 지원\n",
        "\n",
        "- 빠른 배열 연산속도 보장\n",
        "\n",
        "- 호환 API 제공\n",
        "\n",
        "- 다양한 데이터 핸들링 기능 제공\n",
        "\n",
        "**넘파이 ndarray 개요**\n"
      ],
      "metadata": {
        "id": "aY7O2dOvketf"
      }
    },
    {
      "cell_type": "code",
      "source": [
        "import numpy as np"
      ],
      "metadata": {
        "id": "J06bmDBylJp7"
      },
      "execution_count": 1,
      "outputs": []
    },
    {
      "cell_type": "markdown",
      "source": [
        "array(): 리스트와 같은 인자를 입력 받아서 ndarray로 변환\n",
        "- shape: ndarray의 크기, 행과 열의 수를 튜플 형태로 가지고 있음"
      ],
      "metadata": {
        "id": "dG793i2Ll0VL"
      }
    },
    {
      "cell_type": "code",
      "source": [
        "array1=np.array([1,2,3])\n",
        "print('array1 type:', type(array1))\n",
        "print('array1 array 형태:', array1.shape)\n",
        "\n",
        "array2=np.array([[1,2,3],\n",
        "                [2,3,4]])\n",
        "print('array2 type:', type(array2))\n",
        "print('array2 array 형태:', array2.shape)\n",
        "\n",
        "array3=np.array([[1,2,3]])\n",
        "print('array3 type:', type(array3))\n",
        "print('array3 array 형태:', array3.shape)"
      ],
      "metadata": {
        "colab": {
          "base_uri": "https://localhost:8080/"
        },
        "id": "PfZoTS6DlMN8",
        "outputId": "7bcd0dd5-f7a5-4653-d644-b6abe96072f6"
      },
      "execution_count": 3,
      "outputs": [
        {
          "output_type": "stream",
          "name": "stdout",
          "text": [
            "array1 type: <class 'numpy.ndarray'>\n",
            "array1 array 형태: (3,)\n",
            "array2 type: <class 'numpy.ndarray'>\n",
            "array2 array 형태: (2, 3)\n",
            "array3 type: <class 'numpy.ndarray'>\n",
            "array3 array 형태: (1, 3)\n"
          ]
        }
      ]
    },
    {
      "cell_type": "markdown",
      "source": [
        "ndarray.ndim 이용"
      ],
      "metadata": {
        "id": "VrvpQ5QNnh-P"
      }
    },
    {
      "cell_type": "code",
      "source": [
        "print('array1: {:0}차원, array2:{:1}차원, array3:{:2}차원'.format(array1.ndim, array2.ndim, array3.ndim))"
      ],
      "metadata": {
        "colab": {
          "base_uri": "https://localhost:8080/"
        },
        "id": "ukwDLuNhnmUq",
        "outputId": "ac67d17c-cb17-4607-b6d4-3034a7460fb1"
      },
      "execution_count": 7,
      "outputs": [
        {
          "output_type": "stream",
          "name": "stdout",
          "text": [
            "array1: 1차원, array2:2차원, array3: 2차원\n"
          ]
        }
      ]
    },
    {
      "cell_type": "markdown",
      "source": [
        "**ndarray의 데이터 타입**\n",
        "\n",
        "ndarray내의 데이터 값은 숫자 값, 문자열 값, 불 값 등이 모두 가능\n",
        "숫자형: int(8bit, 16bit, 32bit), float(16bit, 64bit, 128bit), complex \n",
        "\n",
        "- 연산: 같은 데이터 타입만 가능, 한 개의 ndarray 객체에 int와 float가 함께 있을 수 없음\n",
        "- dtype속성으로 데이터 타입 확인 가능"
      ],
      "metadata": {
        "id": "aHAlX0BooPJL"
      }
    },
    {
      "cell_type": "code",
      "source": [
        "list1=[1,2,3]\n",
        "print(type(list1))\n",
        "array1=np.array(list1)\n",
        "print(type(array1))\n",
        "print(array1, array1.dtype)"
      ],
      "metadata": {
        "colab": {
          "base_uri": "https://localhost:8080/"
        },
        "id": "iVNTfCrKpATZ",
        "outputId": "57da1dd9-1a52-491e-c766-61611ee98af7"
      },
      "execution_count": 8,
      "outputs": [
        {
          "output_type": "stream",
          "name": "stdout",
          "text": [
            "<class 'list'>\n",
            "<class 'numpy.ndarray'>\n",
            "[1 2 3] int64\n"
          ]
        }
      ]
    },
    {
      "cell_type": "code",
      "source": [
        "list2=[1,2,'test']\n",
        "array2=np.array(list2)\n",
        "print(array2, array2.dtype)\n",
        "\n",
        "list3=[1,2,3.0]\n",
        "array3=np.array(list3)\n",
        "print(array3, array3.dtype)\n",
        "\n",
        "# int와 문자열이 섞여 있는 경우 모두 문자열로 변환\n",
        "# int와 float인 경우 모두 float으로 변환"
      ],
      "metadata": {
        "colab": {
          "base_uri": "https://localhost:8080/"
        },
        "id": "ezjQKFn9pR2w",
        "outputId": "dc6f04a3-cf4a-4f35-d7ca-e47d355640f2"
      },
      "execution_count": 9,
      "outputs": [
        {
          "output_type": "stream",
          "name": "stdout",
          "text": [
            "['1' '2' 'test'] <U21\n",
            "[1. 2. 3.] float64\n"
          ]
        }
      ]
    },
    {
      "cell_type": "markdown",
      "source": [
        "**ndarray를 편리하게 생성하기 - arange, zeros, ones**\n",
        "\n",
        "arange( ): array를 range( )로 표현, 0부터 인자값 -1값까지의 값을 순차적으로 ndarray의 데이터값으로 변환해 줍니다."
      ],
      "metadata": {
        "id": "cX5gAwpBqCMj"
      }
    },
    {
      "cell_type": "code",
      "source": [
        "sequence_array=np.arange(10)\n",
        "print(sequence_array)\n",
        "print(sequence_array.dtype, sequence_array.shape)"
      ],
      "metadata": {
        "colab": {
          "base_uri": "https://localhost:8080/"
        },
        "id": "arnZGba1qYQd",
        "outputId": "7240bcfa-f2f7-41ec-baeb-88ebd7540948"
      },
      "execution_count": 11,
      "outputs": [
        {
          "output_type": "stream",
          "name": "stdout",
          "text": [
            "[0 1 2 3 4 5 6 7 8 9]\n",
            "int64 (10,)\n"
          ]
        }
      ]
    },
    {
      "cell_type": "markdown",
      "source": [
        "zeros( ): 튜플 형태의 shape값을 입력하면 모든 값을 0으로 채운 해당 shape를 가진 ndarray를 봔환\n",
        "\n",
        "ones( ): zeros()에서 0대신 1"
      ],
      "metadata": {
        "id": "crR_IL4Jqn0b"
      }
    },
    {
      "cell_type": "code",
      "source": [
        "zero_array=np.zeros((3,2),dtype='int32')\n",
        "print(zero_array)\n",
        "print(zero_array.dtype, zero_array.shape)\n",
        "\n",
        "one_array=np.ones((3,2))\n",
        "print(one_array)\n",
        "print(one_array.dtype, one_array.shape)"
      ],
      "metadata": {
        "colab": {
          "base_uri": "https://localhost:8080/"
        },
        "id": "TifiVGE0qmWw",
        "outputId": "f8ea02f0-00df-4ce9-cc57-22ac2267aa73"
      },
      "execution_count": 13,
      "outputs": [
        {
          "output_type": "stream",
          "name": "stdout",
          "text": [
            "[[0 0]\n",
            " [0 0]\n",
            " [0 0]]\n",
            "int32 (3, 2)\n",
            "[[1. 1.]\n",
            " [1. 1.]\n",
            " [1. 1.]]\n",
            "float64 (3, 2)\n"
          ]
        }
      ]
    },
    {
      "cell_type": "markdown",
      "source": [
        "**ndarray의 차원과 크기를 변경하는 reshape( )**"
      ],
      "metadata": {
        "id": "Mp0hg_c6rM8H"
      }
    },
    {
      "cell_type": "code",
      "source": [
        "array1=np.arange(10)\n",
        "print('array1:\\n', array1)\n",
        "\n",
        "array2=array1.reshape(2,5)\n",
        "print('array2:\\n', array2)\n",
        "\n",
        "array3=array1.reshape(5,2)\n",
        "print('array3:\\n',array3)"
      ],
      "metadata": {
        "colab": {
          "base_uri": "https://localhost:8080/"
        },
        "id": "pi7fudnDqmQ5",
        "outputId": "19964133-cfd2-48ec-daf4-3e941f54d3a8"
      },
      "execution_count": 14,
      "outputs": [
        {
          "output_type": "stream",
          "name": "stdout",
          "text": [
            "array1:\n",
            " [0 1 2 3 4 5 6 7 8 9]\n",
            "array2:\n",
            " [[0 1 2 3 4]\n",
            " [5 6 7 8 9]]\n",
            "array3:\n",
            " [[0 1]\n",
            " [2 3]\n",
            " [4 5]\n",
            " [6 7]\n",
            " [8 9]]\n"
          ]
        }
      ]
    },
    {
      "cell_type": "code",
      "source": [
        "#array1.reshape(4,3)\n",
        "#오류 확인"
      ],
      "metadata": {
        "colab": {
          "base_uri": "https://localhost:8080/",
          "height": 174
        },
        "id": "7HYOWfQJqmOI",
        "outputId": "edf0107c-09a2-4e4a-8186-e0c869628486"
      },
      "execution_count": 15,
      "outputs": [
        {
          "output_type": "error",
          "ename": "ValueError",
          "evalue": "ignored",
          "traceback": [
            "\u001b[0;31m---------------------------------------------------------------------------\u001b[0m",
            "\u001b[0;31mValueError\u001b[0m                                Traceback (most recent call last)",
            "\u001b[0;32m<ipython-input-15-a40469ec5825>\u001b[0m in \u001b[0;36m<module>\u001b[0;34m\u001b[0m\n\u001b[0;32m----> 1\u001b[0;31m \u001b[0marray1\u001b[0m\u001b[0;34m.\u001b[0m\u001b[0mreshape\u001b[0m\u001b[0;34m(\u001b[0m\u001b[0;36m4\u001b[0m\u001b[0;34m,\u001b[0m\u001b[0;36m3\u001b[0m\u001b[0;34m)\u001b[0m\u001b[0;34m\u001b[0m\u001b[0;34m\u001b[0m\u001b[0m\n\u001b[0m",
            "\u001b[0;31mValueError\u001b[0m: cannot reshape array of size 10 into shape (4,3)"
          ]
        }
      ]
    },
    {
      "cell_type": "code",
      "source": [
        "# 인자로 -1 사용\n",
        "array1=np.arange(10)\n",
        "print(array1)\n",
        "array2=array1.reshape(-1,5)\n",
        "print('array2 shape:', array2.shape)\n",
        "array3=array1.reshape(5,-1)\n",
        "print('array3 shape:', array3.shape)"
      ],
      "metadata": {
        "colab": {
          "base_uri": "https://localhost:8080/"
        },
        "id": "9kYmx15KqmLp",
        "outputId": "f143ee3f-403c-45d9-ce32-3b8f55a958f6"
      },
      "execution_count": 18,
      "outputs": [
        {
          "output_type": "stream",
          "name": "stdout",
          "text": [
            "[0 1 2 3 4 5 6 7 8 9]\n",
            "array2 shape: (2, 5)\n",
            "array3 shape: (5, 2)\n"
          ]
        }
      ]
    },
    {
      "cell_type": "code",
      "source": [
        "array1=np.arange(10)\n",
        "#array4=array1.reshape(-1,4)\n",
        "#오류 확인"
      ],
      "metadata": {
        "colab": {
          "base_uri": "https://localhost:8080/",
          "height": 193
        },
        "id": "WUnDhARPql0Q",
        "outputId": "3bdfdd58-2734-4392-83a8-800fb419cf9e"
      },
      "execution_count": 20,
      "outputs": [
        {
          "output_type": "error",
          "ename": "ValueError",
          "evalue": "ignored",
          "traceback": [
            "\u001b[0;31m---------------------------------------------------------------------------\u001b[0m",
            "\u001b[0;31mValueError\u001b[0m                                Traceback (most recent call last)",
            "\u001b[0;32m<ipython-input-20-7f01f0f59baa>\u001b[0m in \u001b[0;36m<module>\u001b[0;34m\u001b[0m\n\u001b[1;32m      1\u001b[0m \u001b[0marray1\u001b[0m\u001b[0;34m=\u001b[0m\u001b[0mnp\u001b[0m\u001b[0;34m.\u001b[0m\u001b[0marange\u001b[0m\u001b[0;34m(\u001b[0m\u001b[0;36m10\u001b[0m\u001b[0;34m)\u001b[0m\u001b[0;34m\u001b[0m\u001b[0;34m\u001b[0m\u001b[0m\n\u001b[0;32m----> 2\u001b[0;31m \u001b[0marray4\u001b[0m\u001b[0;34m=\u001b[0m\u001b[0marray1\u001b[0m\u001b[0;34m.\u001b[0m\u001b[0mreshape\u001b[0m\u001b[0;34m(\u001b[0m\u001b[0;34m-\u001b[0m\u001b[0;36m1\u001b[0m\u001b[0;34m,\u001b[0m\u001b[0;36m4\u001b[0m\u001b[0;34m)\u001b[0m\u001b[0;34m\u001b[0m\u001b[0;34m\u001b[0m\u001b[0m\n\u001b[0m",
            "\u001b[0;31mValueError\u001b[0m: cannot reshape array of size 10 into shape (4)"
          ]
        }
      ]
    },
    {
      "cell_type": "code",
      "source": [
        "array1=np.arange(8)\n",
        "array3d=array1.reshape((2,2,2))\n",
        "print('array3d:\\n', array3d.tolist())\n",
        "\n",
        "#3차원 ndarray를 2차원 ndqrray로 변환\n",
        "array5=array3d.reshape(-1,1)\n",
        "print('array5:\\n', array5.tolist())\n",
        "print('array5 shape:', array5.shape)\n",
        "\n",
        "#1차원 ndarray를 2차원 ndqrray로 변환\n",
        "array6=array1.reshape(-1,1)\n",
        "print('array6:\\n', array6.tolist())\n",
        "print('array6 shape:', array6.shape)"
      ],
      "metadata": {
        "colab": {
          "base_uri": "https://localhost:8080/"
        },
        "id": "GXVihDhns3hH",
        "outputId": "c238e976-670d-4f0f-b88e-856a5c346ac5"
      },
      "execution_count": 21,
      "outputs": [
        {
          "output_type": "stream",
          "name": "stdout",
          "text": [
            "array3d:\n",
            " [[[0, 1], [2, 3]], [[4, 5], [6, 7]]]\n",
            "array5:\n",
            " [[0], [1], [2], [3], [4], [5], [6], [7]]\n",
            "array5 shape: (8, 1)\n",
            "array6:\n",
            " [[0], [1], [2], [3], [4], [5], [6], [7]]\n",
            "array6 shape: (8, 1)\n"
          ]
        }
      ]
    },
    {
      "cell_type": "markdown",
      "source": [
        "**넘파이의 ndarray의 데이터 세트 선택하기 - 인덱싱(indexing)**\n",
        "\n",
        "1. 특정한 데이터만 추출\n",
        "2. 슬라이싱\n",
        "3. 팬시 슬라이싱: 리스트 또는 ndarray 형태로 지정해 ndarray를 반환\n",
        "4. 불린 인덱싱: True에 해당하는 인덱싱 위치에 있는 데이터의 ndarray를 반환"
      ],
      "metadata": {
        "id": "FdvcdUdStxi3"
      }
    },
    {
      "cell_type": "markdown",
      "source": [
        "**단일 값 추출**"
      ],
      "metadata": {
        "id": "bjFUyJswuPaU"
      }
    },
    {
      "cell_type": "code",
      "source": [
        "#1부터 9까지의 1차원 ndarray 생성\n",
        "array1= np.arange(start=1, stop=10)\n",
        "print('array1:', array1)\n",
        "\n",
        "#index는 0부터 시작하므로 array1[2]는 3번째 index 위치의 데이터값을 의미\n",
        "value=array1[2]\n",
        "print('value:', value)\n",
        "print(type(value))"
      ],
      "metadata": {
        "colab": {
          "base_uri": "https://localhost:8080/"
        },
        "id": "AOZcoC22uOS8",
        "outputId": "23547f29-c31c-4622-835d-688fd72389b7"
      },
      "execution_count": 22,
      "outputs": [
        {
          "output_type": "stream",
          "name": "stdout",
          "text": [
            "array1: [1 2 3 4 5 6 7 8 9]\n",
            "value: 3\n",
            "<class 'numpy.int64'>\n"
          ]
        }
      ]
    },
    {
      "cell_type": "code",
      "source": [
        "print('맨 뒤의 값:', array1[-1], '맨 뒤에서 두 번째 값:', array1[-2])"
      ],
      "metadata": {
        "colab": {
          "base_uri": "https://localhost:8080/"
        },
        "id": "LoUJeyD_uOQI",
        "outputId": "7702041a-164c-43a0-8bd1-a08da61bf8fa"
      },
      "execution_count": 23,
      "outputs": [
        {
          "output_type": "stream",
          "name": "stdout",
          "text": [
            "맨 뒤의 값: 9 맨 뒤에서 두 번째 값: 8\n"
          ]
        }
      ]
    },
    {
      "cell_type": "code",
      "source": [
        "#단일 인덱스로 데이터값 수정 가능\n",
        "array1[0]=9\n",
        "array1[8]=0\n",
        "print('array1:',array1)"
      ],
      "metadata": {
        "colab": {
          "base_uri": "https://localhost:8080/"
        },
        "id": "MMzVaaXMuONN",
        "outputId": "6010eb68-5caa-4d7b-9944-94f365a37e76"
      },
      "execution_count": 24,
      "outputs": [
        {
          "output_type": "stream",
          "name": "stdout",
          "text": [
            "array1: [9 2 3 4 5 6 7 8 0]\n"
          ]
        }
      ]
    },
    {
      "cell_type": "code",
      "source": [
        "#다차원\n",
        "\n",
        "array1d=np.arange(start=1, stop=10)\n",
        "array2d=array1d.reshape(3,3)\n",
        "print(array2d)\n",
        "\n",
        "print('(row=0, col=0) index 가리키는 값:', array2d[0,0])\n",
        "print('(row=0, col=1) index 가리키는 값:', array2d[0,1])\n",
        "print('(row=1, col=0) index 가리키는 값:', array2d[1,0])\n",
        "print('(row=2, col=2) index 가리키는 값:', array2d[2,2])"
      ],
      "metadata": {
        "colab": {
          "base_uri": "https://localhost:8080/"
        },
        "id": "RCNI1rz0uOKo",
        "outputId": "7d50787b-726b-4aea-bedf-ffd920bf54d5"
      },
      "execution_count": 26,
      "outputs": [
        {
          "output_type": "stream",
          "name": "stdout",
          "text": [
            "[[1 2 3]\n",
            " [4 5 6]\n",
            " [7 8 9]]\n",
            "(row=0, col=0) index 가리키는 값: 1\n",
            "(row=0, col=1) index 가리키는 값: 2\n",
            "(row=1, col=0) index 가리키는 값: 4\n",
            "(row=2, col=2) index 가리키는 값: 9\n"
          ]
        }
      ]
    },
    {
      "cell_type": "markdown",
      "source": [
        "**슬라이싱**\n",
        "\n",
        ": 기호를 이용하여 연속한 데이터 슬라이싱해서 추출"
      ],
      "metadata": {
        "id": "MzHcNHpT0GiJ"
      }
    },
    {
      "cell_type": "code",
      "source": [
        "from numpy.core.getlimits import array\n",
        "array1=np.arange(start=1, stop=10)\n",
        "array3=array1[0:3]\n",
        "print(array3)\n",
        "print(type(array3))"
      ],
      "metadata": {
        "colab": {
          "base_uri": "https://localhost:8080/"
        },
        "id": "oI_SOgFiuNaJ",
        "outputId": "6b17d2a8-d42b-4c74-c5b6-afbc34417cbe"
      },
      "execution_count": 28,
      "outputs": [
        {
          "output_type": "stream",
          "name": "stdout",
          "text": [
            "[1 2 3]\n",
            "<class 'numpy.ndarray'>\n"
          ]
        }
      ]
    },
    {
      "cell_type": "code",
      "source": [
        "array1=np.arange(start=1, stop=10)\n",
        "array4=array1[:3]\n",
        "print(array4)\n",
        "\n",
        "array5=array1[3:]\n",
        "print(array5)\n",
        "\n",
        "array6=array1[:]\n",
        "print(array6)\n"
      ],
      "metadata": {
        "colab": {
          "base_uri": "https://localhost:8080/"
        },
        "id": "qKqo0JWYwjIu",
        "outputId": "5213803f-8b45-46da-c302-4ad6f89dd68f"
      },
      "execution_count": 29,
      "outputs": [
        {
          "output_type": "stream",
          "name": "stdout",
          "text": [
            "[1 2 3]\n",
            "[4 5 6 7 8 9]\n",
            "[1 2 3 4 5 6 7 8 9]\n"
          ]
        }
      ]
    },
    {
      "cell_type": "code",
      "source": [
        "array1d=np.arange(start=1, stop=10)\n",
        "array2d=array1d.reshape(3,3)\n",
        "print('array2d:\\n', array2d)\n",
        "\n",
        "print('array2d[0:2, 0:2]:\\n', array2d[0:2, 0:2])\n",
        "print('array2d[1:3, 0:3]:\\n', array2d[1:3, 0:3])\n",
        "print('array2d[1:3, :]:\\n', array2d[1:3, :])\n",
        "print('array2d[:, :]:\\n', array2d[:, :])\n",
        "print('array2d[:2, 1:]:\\n', array2d[:2, 1:])\n",
        "print('array2d[:2, 0]:\\n', array2d[:2, 0])"
      ],
      "metadata": {
        "colab": {
          "base_uri": "https://localhost:8080/"
        },
        "id": "_B4LCf6UwjFd",
        "outputId": "3f91cf40-3c8a-4077-f3e6-35e1f178e831"
      },
      "execution_count": 31,
      "outputs": [
        {
          "output_type": "stream",
          "name": "stdout",
          "text": [
            "array2d:\n",
            " [[1 2 3]\n",
            " [4 5 6]\n",
            " [7 8 9]]\n",
            "array2d[0:2, 0:2]:\n",
            " [[1 2]\n",
            " [4 5]]\n",
            "array2d[1:3, 0:3]:\n",
            " [[4 5 6]\n",
            " [7 8 9]]\n",
            "array2d[1:3, :]:\n",
            " [[4 5 6]\n",
            " [7 8 9]]\n",
            "array2d[:, :]:\n",
            " [[1 2 3]\n",
            " [4 5 6]\n",
            " [7 8 9]]\n",
            "array2d[:2, 1:]:\n",
            " [[2 3]\n",
            " [5 6]]\n",
            "array2d[:2, 0]:\n",
            " [1 4]\n"
          ]
        }
      ]
    },
    {
      "cell_type": "code",
      "source": [
        "print(array2d[0])\n",
        "print(array2d[1])\n",
        "print('array2d[0] shape:', array2d[0].shape, 'array2d[1] shape:', array2d[1].shape)"
      ],
      "metadata": {
        "colab": {
          "base_uri": "https://localhost:8080/"
        },
        "id": "f7aa3kovwjDJ",
        "outputId": "8303f3f3-64ac-4395-e5cd-619935d771ea"
      },
      "execution_count": 32,
      "outputs": [
        {
          "output_type": "stream",
          "name": "stdout",
          "text": [
            "[1 2 3]\n",
            "[4 5 6]\n",
            "array2d[0] shape: (3,) array2d[1] shape: (3,)\n"
          ]
        }
      ]
    },
    {
      "cell_type": "markdown",
      "source": [
        "**팬시 인덱싱**\n",
        "\n",
        "인덱스 집항르 지정하면 해당 위치의 인덱스에 해당하는 ndarray를 반환하는 인덱싱 방식"
      ],
      "metadata": {
        "id": "j29XACCw34rQ"
      }
    },
    {
      "cell_type": "code",
      "source": [
        "array1d=np.arange(start=1, stop=10)\n",
        "array2d=array1d.reshape(3,3)\n",
        "\n",
        "array3=array2d[[0,1],2]\n",
        "print('array2d[[0,1],2] =>', array3.tolist())\n",
        "\n",
        "array4=array2d[[0,1],0:2]\n",
        "print('array2d[[0,1],0:2] =>', array4.tolist())\n",
        "\n",
        "array5=array2d[[0,1]]\n",
        "print('array2d[[0,1]] =>', array5.tolist())"
      ],
      "metadata": {
        "colab": {
          "base_uri": "https://localhost:8080/"
        },
        "id": "dPfpfyOVwjAa",
        "outputId": "a64f423e-42c7-4f0b-e55a-afc49f1b3f1a"
      },
      "execution_count": 33,
      "outputs": [
        {
          "output_type": "stream",
          "name": "stdout",
          "text": [
            "array2d[[0,1],2] => [3, 6]\n",
            "array2d[[0,1],0:2] => [[1, 2], [4, 5]]\n",
            "array2d[[0,1]] => [[1, 2, 3], [4, 5, 6]]\n"
          ]
        }
      ]
    },
    {
      "cell_type": "markdown",
      "source": [
        "**불린 인덱싱**\n",
        "\n",
        "for loop/if else문보다 훨씬 간단하게 구현 가능"
      ],
      "metadata": {
        "id": "smUyl_cQ4gvU"
      }
    },
    {
      "cell_type": "code",
      "source": [
        "array1d=np.arange(start=1, stop=10)\n",
        "# [ ] 안에 array1d > 5 Boolean indexing을 적용\n",
        "array3=array1d[array1d>5]\n",
        "print('array1d>5 불린 인덱싱 결과 값:', array3)"
      ],
      "metadata": {
        "colab": {
          "base_uri": "https://localhost:8080/"
        },
        "id": "ieeC92wewi95",
        "outputId": "6d72ad6d-1e1e-441b-bd25-2b8de877c039"
      },
      "execution_count": 35,
      "outputs": [
        {
          "output_type": "stream",
          "name": "stdout",
          "text": [
            "array1d>5 불린 인덱싱 결과 값: [6 7 8 9]\n"
          ]
        }
      ]
    },
    {
      "cell_type": "code",
      "source": [
        "array1d>5"
      ],
      "metadata": {
        "colab": {
          "base_uri": "https://localhost:8080/"
        },
        "id": "ZYGHyG9xwi7a",
        "outputId": "5a66e922-6716-4f0f-96b5-d10e05978106"
      },
      "execution_count": 36,
      "outputs": [
        {
          "output_type": "execute_result",
          "data": {
            "text/plain": [
              "array([False, False, False, False, False,  True,  True,  True,  True])"
            ]
          },
          "metadata": {},
          "execution_count": 36
        }
      ]
    },
    {
      "cell_type": "code",
      "source": [
        "boolean_indexes=np.array([False, False, False, False, False,  True,  True,  True,  True])\n",
        "array3=array1d[boolean_indexes]\n",
        "print('불린 인덱스로 필터링 결과: ', array3)"
      ],
      "metadata": {
        "colab": {
          "base_uri": "https://localhost:8080/"
        },
        "id": "U6gSQgkw4_rV",
        "outputId": "6583eeab-a018-4d20-80e3-b22116c9da35"
      },
      "execution_count": 37,
      "outputs": [
        {
          "output_type": "stream",
          "name": "stdout",
          "text": [
            "불린 인덱스로 필터링 결과:  [6 7 8 9]\n"
          ]
        }
      ]
    },
    {
      "cell_type": "code",
      "source": [
        "indexes=np.array([5,6,7,8])\n",
        "array4=array1d[indexes]\n",
        "print('일반 인덱스로 필터링 결과:', array4)"
      ],
      "metadata": {
        "colab": {
          "base_uri": "https://localhost:8080/"
        },
        "id": "wFcRTaEq4_on",
        "outputId": "70513de6-6c42-4781-ba1f-f534bbece5e1"
      },
      "execution_count": 38,
      "outputs": [
        {
          "output_type": "stream",
          "name": "stdout",
          "text": [
            "일반 인덱스로 필터링 결과: [6 7 8 9]\n"
          ]
        }
      ]
    },
    {
      "cell_type": "markdown",
      "source": [
        "**행렬의 정렬 - sort( )와 argsort( )**\n",
        "\n",
        "- 행렬 정렬"
      ],
      "metadata": {
        "id": "KxqGFOl_5Zcc"
      }
    },
    {
      "cell_type": "code",
      "source": [
        "org_array=np.array([3, 1, 9, 5])\n",
        "print('원본 행렬:', org_array)\n",
        "#np.sort( )로 정렬\n",
        "sort_array1=np.sort(org_array)\n",
        "print('np.sort( ) 호출 후 반환된 정렬 행렬:', sort_array1)\n",
        "print('np.sort( ) 호출 후 원본 행렬:', org_array)\n",
        "#ndarray.sort( )로 정렬\n",
        "sort_array2=org_array.sort()\n",
        "print('org_array.sort( ) 호출 후 반환된 행렬:', sort_array2)\n",
        "print('org_array.sort( ) 호출 후 원본 행렬:', org_array)"
      ],
      "metadata": {
        "colab": {
          "base_uri": "https://localhost:8080/"
        },
        "id": "21EclLSn4_mM",
        "outputId": "88a7bb7b-7924-4eea-8819-d92018eeb61d"
      },
      "execution_count": 40,
      "outputs": [
        {
          "output_type": "stream",
          "name": "stdout",
          "text": [
            "원본 행렬: [3 1 9 5]\n",
            "np.sort( ) 호출 후 반환된 정렬 행렬: [1 3 5 9]\n",
            "np.sort( ) 호출 후 원본 행렬: [3 1 9 5]\n",
            "org_array.sort( ) 호출 후 반환된 행렬: None\n",
            "org_array.sort( ) 호출 후 원본 행렬: [1 3 5 9]\n"
          ]
        }
      ]
    },
    {
      "cell_type": "code",
      "source": [
        "sort_array1_desc=np.sort(org_array[::-1])\n",
        "print('내림차순으로 정렬:', sort_array1_desc)"
      ],
      "metadata": {
        "colab": {
          "base_uri": "https://localhost:8080/"
        },
        "id": "Re4C2Q6b4_ju",
        "outputId": "c2a90d88-9414-4161-ddfe-536181c65f12"
      },
      "execution_count": 41,
      "outputs": [
        {
          "output_type": "stream",
          "name": "stdout",
          "text": [
            "내림차순으로 정렬: [1 3 5 9]\n"
          ]
        }
      ]
    },
    {
      "cell_type": "code",
      "source": [
        "array2d=np.array([[8,12],\n",
        "                  [7,1 ]])\n",
        "sort_array2d_axis0=np.sort(array2d, axis=0)\n",
        "print('로우 방향으로 정렬:\\n', sort_array2d_axis0)\n",
        "\n",
        "sort_array2d_axis1=np.sort(array2d, axis=1)\n",
        "print('칼럼 방향으로 정렬:\\n', sort_array2d_axis1)"
      ],
      "metadata": {
        "colab": {
          "base_uri": "https://localhost:8080/"
        },
        "id": "YYvWGroJ6XJQ",
        "outputId": "40c91323-b673-4202-e99c-160787cd8beb"
      },
      "execution_count": 43,
      "outputs": [
        {
          "output_type": "stream",
          "name": "stdout",
          "text": [
            "로우 방향으로 정렬:\n",
            " [[ 7  1]\n",
            " [ 8 12]]\n",
            "칼럼 방향으로 정렬:\n",
            " [[ 8 12]\n",
            " [ 1  7]]\n"
          ]
        }
      ]
    },
    {
      "cell_type": "markdown",
      "source": [
        "- 정렬된 행렬의 인덱스를 반환하기"
      ],
      "metadata": {
        "id": "zaAJ2Img7EDS"
      }
    },
    {
      "cell_type": "code",
      "source": [
        "org_array=np.array([3, 1, 9, 5])\n",
        "sort_indices=np.argsort(org_array)\n",
        "print(type(sort_indices))\n",
        "print('행렬 정렬 시 원본 행렬의 인덱스:', sort_indices)"
      ],
      "metadata": {
        "colab": {
          "base_uri": "https://localhost:8080/"
        },
        "id": "p0x1VB8H6wyW",
        "outputId": "a97b2dd3-48d9-46ea-aa96-2521d90da6f6"
      },
      "execution_count": 45,
      "outputs": [
        {
          "output_type": "stream",
          "name": "stdout",
          "text": [
            "<class 'numpy.ndarray'>\n",
            "행렬 정렬 시 원본 행렬의 인덱스: [1 0 3 2]\n"
          ]
        }
      ]
    },
    {
      "cell_type": "code",
      "source": [
        "org_array=np.array([3, 1, 9, 5])\n",
        "sort_indices_desc=np.argsort(org_array[::-1])\n",
        "print('행렬 내림차순 정렬 시 원본 행렬의 인덱스:', sort_indices_desc)"
      ],
      "metadata": {
        "colab": {
          "base_uri": "https://localhost:8080/"
        },
        "id": "TL6ylV7b8aJ9",
        "outputId": "7458ee17-4488-4d62-eba7-5a09a723e489"
      },
      "execution_count": 47,
      "outputs": [
        {
          "output_type": "stream",
          "name": "stdout",
          "text": [
            "행렬 내림차순 정렬 시 원본 행렬의 인덱스: [2 3 0 1]\n"
          ]
        }
      ]
    },
    {
      "cell_type": "code",
      "source": [
        "import numpy as np\n",
        "\n",
        "name_array=np.array(['John', 'Mike', 'Sarah', 'Kate', 'Samuel'])\n",
        "score_array=np.array([78, 95, 84, 98, 88])\n",
        "\n",
        "sort_indices_asc=np.argsort(score_array)\n",
        "print('성적 오름차순 정렬 시 score_array의 인덱스:', sort_indices_asc)\n",
        "print('성적 오름차순으로 name_array의 이름 출력:', name_array[sort_indices_asc])"
      ],
      "metadata": {
        "colab": {
          "base_uri": "https://localhost:8080/"
        },
        "id": "jXL5n7Cv7Aiq",
        "outputId": "b8f97208-477b-4df5-fd97-7f421120ba70"
      },
      "execution_count": 50,
      "outputs": [
        {
          "output_type": "stream",
          "name": "stdout",
          "text": [
            "성적 오름차순 정렬 시 score_array의 인덱스: [0 2 4 1 3]\n",
            "성적 오름차순으로 name_array의 이름 출력: ['John' 'Sarah' 'Samuel' 'Mike' 'Kate']\n"
          ]
        }
      ]
    },
    {
      "cell_type": "markdown",
      "source": [
        "**선형대수 연산 - 행렬 내적과 전치 행렬 구하기**\n",
        "\n",
        "- 행렬 내적(행렬 곱)\n",
        ": np.dot( ) 이용"
      ],
      "metadata": {
        "id": "rJabkbJm6PWO"
      }
    },
    {
      "cell_type": "code",
      "source": [
        "A=np.array([[1,2,3],\n",
        "            [4,5,6]])\n",
        "B=np.array([[7,8],\n",
        "            [9,10],\n",
        "            [11,12]])\n",
        "\n",
        "dot_product=np.dot(A,B)\n",
        "print('행렬 내적 결과:\\n', dot_product)"
      ],
      "metadata": {
        "colab": {
          "base_uri": "https://localhost:8080/"
        },
        "id": "Ij4pogvg4_hI",
        "outputId": "d7b0c0ac-9d4d-4dfb-c1c9-073b9e560b7f"
      },
      "execution_count": 52,
      "outputs": [
        {
          "output_type": "stream",
          "name": "stdout",
          "text": [
            "행렬 내적 결과:\n",
            " [[ 58  64]\n",
            " [139 154]]\n"
          ]
        }
      ]
    },
    {
      "cell_type": "markdown",
      "source": [
        "- 전치 행렬\n",
        ": transpose( )"
      ],
      "metadata": {
        "id": "G8TiUTUw-D67"
      }
    },
    {
      "cell_type": "code",
      "source": [
        "A= np.array([[1,2],\n",
        "             [3,4]])\n",
        "transpose_mat=np.transpose(A)\n",
        "print('A의 전치 행렬: \\n', transpose_mat)"
      ],
      "metadata": {
        "colab": {
          "base_uri": "https://localhost:8080/"
        },
        "id": "K02ygUco4_eV",
        "outputId": "768fe5aa-893d-4f78-944b-e0cef442e514"
      },
      "execution_count": 53,
      "outputs": [
        {
          "output_type": "stream",
          "name": "stdout",
          "text": [
            "A의 전치 행렬: \n",
            " [[1 3]\n",
            " [2 4]]\n"
          ]
        }
      ]
    }
  ]
}