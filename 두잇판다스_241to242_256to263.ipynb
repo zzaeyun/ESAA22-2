{
  "nbformat": 4,
  "nbformat_minor": 0,
  "metadata": {
    "colab": {
      "provenance": [],
      "collapsed_sections": [],
      "authorship_tag": "ABX9TyOoIqKq/u7ZeK4LB8KTDMfw",
      "include_colab_link": true
    },
    "kernelspec": {
      "name": "python3",
      "display_name": "Python 3"
    },
    "language_info": {
      "name": "python"
    }
  },
  "cells": [
    {
      "cell_type": "markdown",
      "metadata": {
        "id": "view-in-github",
        "colab_type": "text"
      },
      "source": [
        "<a href=\"https://colab.research.google.com/github/zzaeyun/ESAA22-2/blob/main/%EB%91%90%EC%9E%87%ED%8C%90%EB%8B%A4%EC%8A%A4_241to242_256to263.ipynb\" target=\"_parent\"><img src=\"https://colab.research.google.com/assets/colab-badge.svg\" alt=\"Open In Colab\"/></a>"
      ]
    },
    {
      "cell_type": "markdown",
      "source": [
        "## **12-1 datetime 오브젝트**\n",
        "\n",
        "datetime 라이브러리: 날짜, 시간 처리\n",
        "- date 오브젝트: 날짜\n",
        "- time 오브젝트: 시간\n",
        "- datetime 오브젝트: 날짜와 시간 포함\n"
      ],
      "metadata": {
        "id": "FP9vXn8HST9W"
      }
    },
    {
      "cell_type": "markdown",
      "source": [
        "1. datetime 오브젝트를 사용을 위한 datetime 라이브러리 호출"
      ],
      "metadata": {
        "id": "vkP2JrecSonL"
      }
    },
    {
      "cell_type": "code",
      "source": [
        "from datetime import datetime"
      ],
      "metadata": {
        "id": "mAlfw1f3SVNJ"
      },
      "execution_count": 1,
      "outputs": []
    },
    {
      "cell_type": "markdown",
      "source": [
        "2. now, today 메서드: 현재 시간 출력"
      ],
      "metadata": {
        "id": "1KilNdLBS3Oz"
      }
    },
    {
      "cell_type": "code",
      "source": [
        "now1=datetime.now()\n",
        "print( now1)"
      ],
      "metadata": {
        "colab": {
          "base_uri": "https://localhost:8080/"
        },
        "id": "B7hVJV04SVKz",
        "outputId": "15220c69-04a8-41ed-8e55-374bbb5a7937"
      },
      "execution_count": 2,
      "outputs": [
        {
          "output_type": "stream",
          "name": "stdout",
          "text": [
            "2022-10-10 07:05:02.140072\n"
          ]
        }
      ]
    },
    {
      "cell_type": "code",
      "source": [
        "now2=datetime.today()\n",
        "print(now2)"
      ],
      "metadata": {
        "colab": {
          "base_uri": "https://localhost:8080/"
        },
        "id": "cB5-ohRmSVIY",
        "outputId": "0696cb9e-d79a-41e5-c234-5e64214ce2ce"
      },
      "execution_count": 3,
      "outputs": [
        {
          "output_type": "stream",
          "name": "stdout",
          "text": [
            "2022-10-10 07:05:02.177782\n"
          ]
        }
      ]
    },
    {
      "cell_type": "markdown",
      "source": [
        "3. datetime 오브젝트를 생성할 때, 시간을 직접 입력하여 인자로 전달\n"
      ],
      "metadata": {
        "id": "vQFq7YxeTBjD"
      }
    },
    {
      "cell_type": "code",
      "source": [
        "t1=datetime.now()\n",
        "t2=datetime(1970, 1, 1)\n",
        "t3=datetime(1970, 12, 12, 13, 24, 34)\n",
        "\n",
        "print(t1)\n",
        "print(t2)\n",
        "print(t3)"
      ],
      "metadata": {
        "colab": {
          "base_uri": "https://localhost:8080/"
        },
        "id": "ZbEcBKGBTkTi",
        "outputId": "34cda114-691d-4c2a-b31e-44915b9288ee"
      },
      "execution_count": 4,
      "outputs": [
        {
          "output_type": "stream",
          "name": "stdout",
          "text": [
            "2022-10-10 07:05:02.192418\n",
            "1970-01-01 00:00:00\n",
            "1970-12-12 13:24:34\n"
          ]
        }
      ]
    },
    {
      "cell_type": "markdown",
      "source": [
        "4. datetime 오브젝트는 시간 계산이 가능"
      ],
      "metadata": {
        "id": "d7TdwujUTx89"
      }
    },
    {
      "cell_type": "code",
      "source": [
        "diff1=t1-t2\n",
        "\n",
        "print(diff1)\n",
        "print(type(diff1))"
      ],
      "metadata": {
        "colab": {
          "base_uri": "https://localhost:8080/"
        },
        "id": "UIiQrddkSVFx",
        "outputId": "efa88b7e-0c9f-49fa-817c-064f073f32e0"
      },
      "execution_count": 5,
      "outputs": [
        {
          "output_type": "stream",
          "name": "stdout",
          "text": [
            "19275 days, 7:05:02.192418\n",
            "<class 'datetime.timedelta'>\n"
          ]
        }
      ]
    },
    {
      "cell_type": "code",
      "source": [
        "diff2=t2-t1\n",
        "print(diff2)\n",
        "print(type(diff2))"
      ],
      "metadata": {
        "colab": {
          "base_uri": "https://localhost:8080/"
        },
        "id": "YcYUQxiNSVDD",
        "outputId": "35fb8066-25ba-4afe-a2c3-f7a54eb9b510"
      },
      "execution_count": 6,
      "outputs": [
        {
          "output_type": "stream",
          "name": "stdout",
          "text": [
            "-19276 days, 16:54:57.807582\n",
            "<class 'datetime.timedelta'>\n"
          ]
        }
      ]
    },
    {
      "cell_type": "markdown",
      "source": [
        "테슬라 주식 데이터로 시간 계산하기"
      ],
      "metadata": {
        "id": "AK8rdq5paGIq"
      }
    },
    {
      "cell_type": "code",
      "source": [
        "!pip instal pandas-datareader"
      ],
      "metadata": {
        "colab": {
          "base_uri": "https://localhost:8080/"
        },
        "id": "ZDgOF5nRSU60",
        "outputId": "c1dcb993-979f-41a1-9f9e-4712b2b35b34"
      },
      "execution_count": 7,
      "outputs": [
        {
          "output_type": "stream",
          "name": "stdout",
          "text": [
            "ERROR: unknown command \"instal\" - maybe you meant \"install\"\n"
          ]
        }
      ]
    },
    {
      "cell_type": "code",
      "source": [
        "import pandas as pd"
      ],
      "metadata": {
        "id": "Om295JI0tlpp"
      },
      "execution_count": 9,
      "outputs": []
    },
    {
      "cell_type": "code",
      "source": [
        "pd.core.common.is_list_like=pd.api.types.is_list_like\n",
        "import pandas_datareader as pdr\n",
        "\n",
        "tesla=pdr.get_data_quandl('TSLA', api_key='2yNp7CjHR4sqdCZKV5ds')\n",
        "\n",
        "tesla.to_csv('/data/tesla_stock_quandl.csv')"
      ],
      "metadata": {
        "id": "9XiNdn9xSU4L"
      },
      "execution_count": 12,
      "outputs": []
    },
    {
      "cell_type": "code",
      "source": [
        "print(tesla.head())"
      ],
      "metadata": {
        "colab": {
          "base_uri": "https://localhost:8080/"
        },
        "id": "OvjBaVaRSUzO",
        "outputId": "6c0e5264-96f7-443e-e4a1-8e9f29a2ced7"
      },
      "execution_count": 13,
      "outputs": [
        {
          "output_type": "stream",
          "name": "stdout",
          "text": [
            "              Open    High     Low   Close      Volume  ExDividend  \\\n",
            "Date                                                                 \n",
            "2018-03-27  304.00  304.27  277.18  279.18  13696168.0         0.0   \n",
            "2018-03-26  307.34  307.59  291.36  304.18   8324639.0         0.0   \n",
            "2018-03-23  311.25  311.61  300.45  301.54   6600538.0         0.0   \n",
            "2018-03-22  313.89  318.82  308.18  309.10   4914307.0         0.0   \n",
            "2018-03-21  310.25  322.44  310.19  316.53   5927881.0         0.0   \n",
            "\n",
            "            SplitRatio  AdjOpen  AdjHigh  AdjLow  AdjClose   AdjVolume  \n",
            "Date                                                                    \n",
            "2018-03-27         1.0   304.00   304.27  277.18    279.18  13696168.0  \n",
            "2018-03-26         1.0   307.34   307.59  291.36    304.18   8324639.0  \n",
            "2018-03-23         1.0   311.25   311.61  300.45    301.54   6600538.0  \n",
            "2018-03-22         1.0   313.89   318.82  308.18    309.10   4914307.0  \n",
            "2018-03-21         1.0   310.25   322.44  310.19    316.53   5927881.0  \n"
          ]
        }
      ]
    },
    {
      "cell_type": "code",
      "source": [
        "tesla=pd.read_csv('/data/tesla_stock_quandl.csv', parse_dates=[0])\n",
        "print(tesla.info())"
      ],
      "metadata": {
        "id": "ptrSOiqXSUui",
        "colab": {
          "base_uri": "https://localhost:8080/"
        },
        "outputId": "570f36f4-d524-4a7d-d22e-f7e918aec9a4"
      },
      "execution_count": 14,
      "outputs": [
        {
          "output_type": "stream",
          "name": "stdout",
          "text": [
            "<class 'pandas.core.frame.DataFrame'>\n",
            "RangeIndex: 114 entries, 0 to 113\n",
            "Data columns (total 13 columns):\n",
            " #   Column      Non-Null Count  Dtype         \n",
            "---  ------      --------------  -----         \n",
            " 0   Date        114 non-null    datetime64[ns]\n",
            " 1   Open        114 non-null    float64       \n",
            " 2   High        114 non-null    float64       \n",
            " 3   Low         114 non-null    float64       \n",
            " 4   Close       114 non-null    float64       \n",
            " 5   Volume      114 non-null    float64       \n",
            " 6   ExDividend  114 non-null    float64       \n",
            " 7   SplitRatio  114 non-null    float64       \n",
            " 8   AdjOpen     114 non-null    float64       \n",
            " 9   AdjHigh     114 non-null    float64       \n",
            " 10  AdjLow      114 non-null    float64       \n",
            " 11  AdjClose    114 non-null    float64       \n",
            " 12  AdjVolume   114 non-null    float64       \n",
            "dtypes: datetime64[ns](1), float64(12)\n",
            "memory usage: 11.7 KB\n",
            "None\n"
          ]
        }
      ]
    },
    {
      "cell_type": "code",
      "source": [
        "print(tesla.loc[(tesla.Date.dt.year==2010)&(tesla.Date.dt.month==6)])"
      ],
      "metadata": {
        "id": "c7UUaoZUSUsM",
        "colab": {
          "base_uri": "https://localhost:8080/"
        },
        "outputId": "aac77601-c664-483a-d2f4-e5638e9359c7"
      },
      "execution_count": 21,
      "outputs": [
        {
          "output_type": "stream",
          "name": "stdout",
          "text": [
            "Empty DataFrame\n",
            "Columns: [Date, Open, High, Low, Close, Volume, ExDividend, SplitRatio, AdjOpen, AdjHigh, AdjLow, AdjClose, AdjVolume]\n",
            "Index: []\n"
          ]
        }
      ]
    },
    {
      "cell_type": "markdown",
      "source": [
        "DatetimeIndex\n",
        "\n",
        "datetime 오브젝트를 인덱스로 설정해 데이터 추출하기"
      ],
      "metadata": {
        "id": "3MJkQJ7du9ME"
      }
    },
    {
      "cell_type": "code",
      "source": [
        "tesla.index=tesla['Date']\n",
        "print(tesla.index)"
      ],
      "metadata": {
        "id": "8OpxjL7BSUqH",
        "colab": {
          "base_uri": "https://localhost:8080/"
        },
        "outputId": "02e535a1-929f-4412-de75-4e26979863f8"
      },
      "execution_count": 22,
      "outputs": [
        {
          "output_type": "stream",
          "name": "stdout",
          "text": [
            "DatetimeIndex(['2018-03-27', '2018-03-26', '2018-03-23', '2018-03-22',\n",
            "               '2018-03-21', '2018-03-20', '2018-03-19', '2018-03-16',\n",
            "               '2018-03-15', '2018-03-14',\n",
            "               ...\n",
            "               '2017-10-24', '2017-10-23', '2017-10-20', '2017-10-19',\n",
            "               '2017-10-18', '2017-10-17', '2017-10-16', '2017-10-13',\n",
            "               '2017-10-12', '2017-10-11'],\n",
            "              dtype='datetime64[ns]', name='Date', length=114, freq=None)\n"
          ]
        }
      ]
    },
    {
      "cell_type": "code",
      "source": [
        "print(tesla['2015'].iloc[:5,:5])\n",
        "#2015년 데이터"
      ],
      "metadata": {
        "id": "4ihVH889SUng",
        "colab": {
          "base_uri": "https://localhost:8080/"
        },
        "outputId": "dccee23d-24ea-4427-d6a3-0ed114e58f44"
      },
      "execution_count": 23,
      "outputs": [
        {
          "output_type": "stream",
          "name": "stdout",
          "text": [
            "Empty DataFrame\n",
            "Columns: [Date, Open, High, Low, Close]\n",
            "Index: []\n"
          ]
        },
        {
          "output_type": "stream",
          "name": "stderr",
          "text": [
            "/usr/local/lib/python3.7/dist-packages/ipykernel_launcher.py:1: FutureWarning: Indexing a DataFrame with a datetimelike index using a single string to slice the rows, like `frame[string]`, is deprecated and will be removed in a future version. Use `frame.loc[string]` instead.\n",
            "  \"\"\"Entry point for launching an IPython kernel.\n"
          ]
        }
      ]
    },
    {
      "cell_type": "code",
      "source": [
        "print(tesla['2010-06'].iloc[:,:5])"
      ],
      "metadata": {
        "id": "K7Rw2lIUSUkp",
        "colab": {
          "base_uri": "https://localhost:8080/"
        },
        "outputId": "bf8668d7-153c-4c46-ff6d-8d6f09a2fe9a"
      },
      "execution_count": 26,
      "outputs": [
        {
          "output_type": "stream",
          "name": "stdout",
          "text": [
            "Empty DataFrame\n",
            "Columns: [Date, Open, High, Low, Close]\n",
            "Index: []\n"
          ]
        },
        {
          "output_type": "stream",
          "name": "stderr",
          "text": [
            "/usr/local/lib/python3.7/dist-packages/ipykernel_launcher.py:1: FutureWarning: Indexing a DataFrame with a datetimelike index using a single string to slice the rows, like `frame[string]`, is deprecated and will be removed in a future version. Use `frame.loc[string]` instead.\n",
            "  \"\"\"Entry point for launching an IPython kernel.\n"
          ]
        }
      ]
    },
    {
      "cell_type": "markdown",
      "source": [
        "TimedeltaIndex\n",
        "시간간격으로 인덱스 설정"
      ],
      "metadata": {
        "id": "g2ahWKmIvgj5"
      }
    },
    {
      "cell_type": "code",
      "source": [
        "tesla['ref_date']=tesla['Date']-tesla['Date'].min()"
      ],
      "metadata": {
        "id": "aBlGCNp5SUiT"
      },
      "execution_count": 27,
      "outputs": []
    },
    {
      "cell_type": "code",
      "source": [
        "tesla.index=tesla['ref_date']\n",
        "print(tesla.iloc[:5,:5])"
      ],
      "metadata": {
        "id": "Z4b2VDIZSUf9",
        "colab": {
          "base_uri": "https://localhost:8080/"
        },
        "outputId": "f7b1c1a7-7860-4b75-f67b-c17322661109"
      },
      "execution_count": 28,
      "outputs": [
        {
          "output_type": "stream",
          "name": "stdout",
          "text": [
            "               Date    Open    High     Low   Close\n",
            "ref_date                                           \n",
            "167 days 2018-03-27  304.00  304.27  277.18  279.18\n",
            "166 days 2018-03-26  307.34  307.59  291.36  304.18\n",
            "163 days 2018-03-23  311.25  311.61  300.45  301.54\n",
            "162 days 2018-03-22  313.89  318.82  308.18  309.10\n",
            "161 days 2018-03-21  310.25  322.44  310.19  316.53\n"
          ]
        }
      ]
    },
    {
      "cell_type": "code",
      "source": [
        "#데이터 수집한 이후 최초 5일\n",
        "\n",
        "print(tesla['5 days':].iloc[:5,:5])"
      ],
      "metadata": {
        "id": "QPZxzRjfSUdR",
        "colab": {
          "base_uri": "https://localhost:8080/"
        },
        "outputId": "01e24077-991a-460a-8db3-d05826a7e226"
      },
      "execution_count": 29,
      "outputs": [
        {
          "output_type": "stream",
          "name": "stdout",
          "text": [
            "               Date    Open    High     Low   Close\n",
            "ref_date                                           \n",
            "5 days   2017-10-16  353.76  354.48  347.16  350.60\n",
            "2 days   2017-10-13  356.98  358.49  353.68  355.57\n",
            "1 days   2017-10-12  352.95  359.78  352.64  355.68\n",
            "0 days   2017-10-11  353.89  357.60  351.15  354.60\n"
          ]
        }
      ]
    },
    {
      "cell_type": "markdown",
      "source": [
        "**시간범위를 생성하여 인덱스로**\n",
        "\n",
        "누락된 데이터도 포함시켜 데이터를 살펴보려면 시간 범위를 생성하여 인덱스 지정"
      ],
      "metadata": {
        "id": "PBOmhDk3wJmJ"
      }
    },
    {
      "cell_type": "code",
      "source": [
        "ebola=pd.read_csv('https://raw.githubusercontent.com/cmrivers/ebola/master/country_timeseries.csv', parse_dates=[0])\n",
        "print(ebola.iloc[:5,:5])"
      ],
      "metadata": {
        "id": "0WY4QpRjSUae",
        "colab": {
          "base_uri": "https://localhost:8080/"
        },
        "outputId": "63644bd2-9635-434d-9e2b-437b32114f34"
      },
      "execution_count": 32,
      "outputs": [
        {
          "output_type": "stream",
          "name": "stdout",
          "text": [
            "        Date  Day  Cases_Guinea  Cases_Liberia  Cases_SierraLeone\n",
            "0 2015-01-05  289        2776.0            NaN            10030.0\n",
            "1 2015-01-04  288        2775.0            NaN             9780.0\n",
            "2 2015-01-03  287        2769.0         8166.0             9722.0\n",
            "3 2015-01-02  286           NaN         8157.0                NaN\n",
            "4 2014-12-31  284        2730.0         8115.0             9633.0\n"
          ]
        }
      ]
    },
    {
      "cell_type": "code",
      "source": [
        "print(ebola.iloc[-5:,:5])"
      ],
      "metadata": {
        "id": "SpOAEu-cSUXq",
        "colab": {
          "base_uri": "https://localhost:8080/"
        },
        "outputId": "f1fa3d9c-8767-4c06-ff7f-41a99a9460ad"
      },
      "execution_count": 33,
      "outputs": [
        {
          "output_type": "stream",
          "name": "stdout",
          "text": [
            "          Date  Day  Cases_Guinea  Cases_Liberia  Cases_SierraLeone\n",
            "117 2014-03-27    5         103.0            8.0                6.0\n",
            "118 2014-03-26    4          86.0            NaN                NaN\n",
            "119 2014-03-25    3          86.0            NaN                NaN\n",
            "120 2014-03-24    2          86.0            NaN                NaN\n",
            "121 2014-03-22    0          49.0            NaN                NaN\n"
          ]
        }
      ]
    },
    {
      "cell_type": "code",
      "source": [
        "head_range=pd.date_range(start='2014-12-31', end='2015-01-05')\n",
        "print(head_range)"
      ],
      "metadata": {
        "id": "rzs497GVSUVK",
        "colab": {
          "base_uri": "https://localhost:8080/"
        },
        "outputId": "7cb18232-0522-459d-aa6c-b35b23e88221"
      },
      "execution_count": 34,
      "outputs": [
        {
          "output_type": "stream",
          "name": "stdout",
          "text": [
            "DatetimeIndex(['2014-12-31', '2015-01-01', '2015-01-02', '2015-01-03',\n",
            "               '2015-01-04', '2015-01-05'],\n",
            "              dtype='datetime64[ns]', freq='D')\n"
          ]
        }
      ]
    },
    {
      "cell_type": "code",
      "source": [
        "ebola_5=ebola.head()\n",
        "ebola_5.index=ebola_5['Date']\n",
        "ebola_5.reindex(head_range)\n",
        "print(ebola_5.iloc[:5,:5])"
      ],
      "metadata": {
        "id": "NesKAx82SUSv",
        "colab": {
          "base_uri": "https://localhost:8080/"
        },
        "outputId": "ea9556af-64ca-45a5-b94c-1b501282341c"
      },
      "execution_count": 35,
      "outputs": [
        {
          "output_type": "stream",
          "name": "stdout",
          "text": [
            "                 Date  Day  Cases_Guinea  Cases_Liberia  Cases_SierraLeone\n",
            "Date                                                                      \n",
            "2015-01-05 2015-01-05  289        2776.0            NaN            10030.0\n",
            "2015-01-04 2015-01-04  288        2775.0            NaN             9780.0\n",
            "2015-01-03 2015-01-03  287        2769.0         8166.0             9722.0\n",
            "2015-01-02 2015-01-02  286           NaN         8157.0                NaN\n",
            "2014-12-31 2014-12-31  284        2730.0         8115.0             9633.0\n"
          ]
        }
      ]
    },
    {
      "cell_type": "markdown",
      "source": [
        "**시간 범위의 주기 설정하기**\n",
        "\n",
        "DatetimeIndex의 feq 속성값으로 지정할 수 있는 시간 주기\n",
        "\n",
        "\n",
        "- B: 평일만 포함\n",
        "- C: 사용자가 정의한 평일만 포함\n",
        "- D: 달력 일자 담위\n",
        "- W: 주간 단위\n",
        "- M: 월 마지막 날만 포함\n",
        "- SM: 15일과 월 마지막 날만 포함\n",
        "- BM: M 주기의 값이 휴일이면 제외하고 평일만 포함\n",
        "- CBM: 월 시작일만 포함\n",
        "- SMS: 월 시작일과 15일만 포함\n",
        "- BMS: MS 주기의 값이 휴일이면 제외하고 평일만 포함\n",
        "- CBMS: BMS에 사용자 정의 평일을 적용\n",
        "- Q; 3, 6, 9, 12월 분기 마지막 날만 포함\n",
        "- BQ: 3, 6, 9, 12월 분기 마지막 날이 휴일이면 제외하고 평일만 포함\n",
        "- QS: 3, 6, 9, 12월 분기 시작일만 포함\n",
        "- BQS: 3, 6, 9, 12월 분기 시작일이 휴일이면 제외하고 평일만 포함\n",
        "- A: 년의 마지막 날만 포함\n",
        "- BA: 년의 마지막 날이 휴일이면 제외하고 평일만 포함\n",
        "- AS: 년의 시작일만 포함\n",
        "- BAS: 년의 시작일이 휴일이면 제외하고 평일만 포함\n",
        "- BH: 평일을 시간 단위로 포함(09:00~16:00)\n",
        "- H: 시간 단위로 포함(00:00~00:00)\n",
        "- T: 분 단위 퐇ㅁ\n",
        "- S: 초 단위 포함\n",
        "- L: 밀리초 단위 포함\n",
        "- U: 마이크로초 단위 포함\n",
        "- N: 나노초 단위 포함"
      ],
      "metadata": {
        "id": "hJdGSNIyyh67"
      }
    },
    {
      "cell_type": "code",
      "source": [
        "print(pd.date_range('2017-01-01','2017-01-02', freq='T'))"
      ],
      "metadata": {
        "colab": {
          "base_uri": "https://localhost:8080/"
        },
        "id": "C8Us8SkXzRgo",
        "outputId": "ba51fee1-af09-4362-9a0b-0d3d39e363e5"
      },
      "execution_count": 37,
      "outputs": [
        {
          "output_type": "stream",
          "name": "stdout",
          "text": [
            "DatetimeIndex(['2017-01-01 00:00:00', '2017-01-01 00:01:00',\n",
            "               '2017-01-01 00:02:00', '2017-01-01 00:03:00',\n",
            "               '2017-01-01 00:04:00', '2017-01-01 00:05:00',\n",
            "               '2017-01-01 00:06:00', '2017-01-01 00:07:00',\n",
            "               '2017-01-01 00:08:00', '2017-01-01 00:09:00',\n",
            "               ...\n",
            "               '2017-01-01 23:51:00', '2017-01-01 23:52:00',\n",
            "               '2017-01-01 23:53:00', '2017-01-01 23:54:00',\n",
            "               '2017-01-01 23:55:00', '2017-01-01 23:56:00',\n",
            "               '2017-01-01 23:57:00', '2017-01-01 23:58:00',\n",
            "               '2017-01-01 23:59:00', '2017-01-02 00:00:00'],\n",
            "              dtype='datetime64[ns]', length=1441, freq='T')\n"
          ]
        }
      ]
    }
  ]
}