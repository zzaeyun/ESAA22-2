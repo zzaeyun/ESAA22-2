{
  "nbformat": 4,
  "nbformat_minor": 0,
  "metadata": {
    "colab": {
      "provenance": [],
      "collapsed_sections": [],
      "authorship_tag": "ABX9TyNaZsXtOM0O8usDV2EPpKif",
      "include_colab_link": true
    },
    "kernelspec": {
      "name": "python3",
      "display_name": "Python 3"
    },
    "language_info": {
      "name": "python"
    }
  },
  "cells": [
    {
      "cell_type": "markdown",
      "metadata": {
        "id": "view-in-github",
        "colab_type": "text"
      },
      "source": [
        "<a href=\"https://colab.research.google.com/github/zzaeyun/ESAA22-2/blob/main/%ED%8C%8C%EC%9D%B4%EC%8D%AC%EB%A8%B8%EC%8B%A0%EB%9F%AC%EB%8B%9D%EC%99%84%EB%B2%BD%EA%B0%80%EC%9D%B4%EB%93%9C_147to174.ipynb\" target=\"_parent\"><img src=\"https://colab.research.google.com/assets/colab-badge.svg\" alt=\"Open In Colab\"/></a>"
      ]
    },
    {
      "cell_type": "markdown",
      "source": [
        "\n",
        "\n",
        "> ## **03 평가**\n",
        "\n",
        "\n",
        "\n",
        "**머신러닝**\n",
        ": 데이터 가공/변환 - 모델 학습/예측 - 평가(Evaluation)\n",
        "\n",
        "이때 평가할 때 여러가지 방법으로 예측 성능을 평가할 수 있고, \n",
        "**성능 평가 지표** 는 모델이 분류/회귀 인지에 따라 달라짐\n",
        "\n",
        "- 회귀: 실제값과 예측값의 오차 평균값에 기반\n",
        "- 분류: 실제 결과 데이터와 예측 결과 데이터가 얼마나 정확하고 오류가 적게 발생하는가에 기반, 하지만 정확도만 가지고 판단하면 잘못된 평가 결과에 빠질 수 있음\n",
        "\n",
        "**분류의 성능 평가 지표**\n",
        "- 정확도(Accuracy)\n",
        "- 오차행렬(Confusion Matrix)\n",
        "- 정밀도(Precision)\n",
        "- 재현율(Recall)\n",
        "- F1 스코어\n",
        "- ROC AUC\n",
        "\n",
        "결정 클래스 값 종류의 유형에 따라 긍정/부정과 같은 2개의 결과값만을 가지는 이진 분류와 여러 개의 결정 클래스 값을 갖는 멀티 분류로 나눌 수 있고, 위의 평가 지표는 이진 분류에서 강조됨\n",
        "\n",
        "\n",
        "---\n",
        "\n"
      ],
      "metadata": {
        "id": "mnaXZGV9M1cG"
      }
    },
    {
      "cell_type": "markdown",
      "source": [
        "## **01 정확도(Accuracy)**\n",
        "\n",
        "\n",
        "\n",
        "---\n",
        "\n",
        "실제 데이터에서 예측 데이터가 얼마나 같은지를 판단\n",
        "\n",
        "### ***정확도(Accuracy) = (예측 결과가 동일한 데이터 건수)/(전체 예측 데이터 건수)***\n",
        "\n",
        "이진 분류의 경우 데이터의 구성에 따라 ML 모델의 성능을 왜곡할 수 있으므로 하나만 가지고 성능을 평가하지 않음\n",
        "\n",
        "*(범주형에서) 이진 분류에서 애초에 결과값의 차이가 매우 크다면 그냥 큰쪽에 맞춰서 전부 몰아서 예측하면 정확도는 매우 좋게 나오지만 Recall 값은 0으로 나오거나 할 수 있음\n"
      ],
      "metadata": {
        "id": "IJKpKR1uP64H"
      }
    },
    {
      "cell_type": "code",
      "source": [
        "import numpy as np\n",
        "import pandas as pd"
      ],
      "metadata": {
        "id": "RVSOLm9QUQkp"
      },
      "execution_count": 1,
      "outputs": []
    },
    {
      "cell_type": "code",
      "execution_count": 2,
      "metadata": {
        "id": "9wbC_TTRGRmH"
      },
      "outputs": [],
      "source": [
        "from sklearn.base import BaseEstimator\n",
        "\n",
        "class MyDummyClassifier(BaseEstimator):\n",
        "  #fit( ) 메서드는 아무것도 학습하지 않음.\n",
        "  def fit(self, X, y=None):\n",
        "    pass\n",
        "  # predict( ) 메서드는 단순히 Sex 피처가 1이면 0, 그렇지 않으면 1로 예측\n",
        "  def predict(self, X):\n",
        "    pred=np.zeros( ( X.shape[0],1))\n",
        "    for i in range(X.shape[0]):\n",
        "      if X['Sex'].iloc[i] ==1:\n",
        "        pred[i]=0\n",
        "      else:\n",
        "        pred[i]=1\n",
        "    \n",
        "    return pred"
      ]
    },
    {
      "cell_type": "code",
      "source": [
        "#이전에 사용했던 transform_features 함수 사용\n",
        "\n",
        "from sklearn.model_selection import train_test_split\n",
        "from sklearn.metrics import accuracy_score\n",
        "from sklearn.preprocessing import LabelEncoder\n",
        "\n",
        "def fillna(df):\n",
        "  df['Age'].fillna(df['Age'].mean(), inplace=True)\n",
        "  df['Cabin'].fillna('N', inplace=True)\n",
        "  df['Embarked'].fillna('N', inplace=True)\n",
        "  df['Fare'].fillna(0, inplace=True)\n",
        "  return df\n",
        "                  \n",
        "def drop_features(df):\n",
        "  df.drop(['PassengerId', 'Name', 'Ticket'], axis=1, inplace=True)\n",
        "  return df\n",
        "\n",
        "def format_features(df):\n",
        "  df['Cabin']=df['Cabin'].str[:1]\n",
        "  features=['Cabin', 'Sex', 'Embarked']\n",
        "  for feature in features:\n",
        "    le=LabelEncoder()\n",
        "    le.fit(df[feature])\n",
        "    df[feature]=le.transform(df[feature])\n",
        "  return df\n",
        "\n",
        "def transform_features(df):\n",
        "  df=fillna(df)\n",
        "  df=drop_features(df)\n",
        "  df=format_features(df)\n",
        "  return df"
      ],
      "metadata": {
        "id": "lfBC1qh6X8k2"
      },
      "execution_count": 3,
      "outputs": []
    },
    {
      "cell_type": "code",
      "source": [
        "import pandas as pandas\n",
        "from sklearn.model_selection import train_test_split \n",
        "from sklearn.metrics import accuracy_score\n",
        "\n",
        "#원본 데이터를 재로딩, 데이터 가공, 학습 데이터/테스트 데이터 분할\n",
        "titanic_df=pd.read_csv('/titanic_train.csv')\n",
        "y_titanic_df=titanic_df['Survived']\n",
        "X_titanic_df=titanic_df.drop('Survived', axis=1)\n",
        "X_titanic_df=transform_features(X_titanic_df)\n",
        "X_train, X_test, y_train, y_test=train_test_split(X_titanic_df, y_titanic_df, test_size=0.2, random_state=0)"
      ],
      "metadata": {
        "id": "ZWH_HQ99Wm_j"
      },
      "execution_count": 4,
      "outputs": []
    },
    {
      "cell_type": "code",
      "source": [
        "myclf=MyDummyClassifier()\n",
        "myclf.fit(X_train, y_train)"
      ],
      "metadata": {
        "id": "hkhAmZzVcKHy"
      },
      "execution_count": 5,
      "outputs": []
    },
    {
      "cell_type": "code",
      "source": [
        "mypredictions=myclf.predict(X_test)\n",
        "print('Dummy Classifier의 정확도는: {0:.4f}'.format(accuracy_score(y_test,mypredictions)))"
      ],
      "metadata": {
        "colab": {
          "base_uri": "https://localhost:8080/"
        },
        "id": "wPtQaOZzcjjr",
        "outputId": "dfc53cba-b587-4cb2-dd87-ccd6ecbb49c8"
      },
      "execution_count": 6,
      "outputs": [
        {
          "output_type": "stream",
          "name": "stdout",
          "text": [
            "Dummy Classifier의 정확도는: 0.7877\n"
          ]
        }
      ]
    },
    {
      "cell_type": "markdown",
      "source": [
        "단순한 알고리즘으로 예측해도 78%의 정확도를 보이고 있기 때문에 이것만으로 판단하기에는 무리가 있음\n",
        "\n",
        "이처럼 **불균형한 레이블 값 분포** 에서 ML 모델의 성능을 판단할 경우에는 **부적합**\n",
        "\n",
        "\n",
        "---\n",
        "\n",
        "\n",
        "MNIST 데이터 세트: 0부터 9까지의 숫자 이미지의 픽셀 정보, 이를 기반으로 숫자 Digit을 예측\n",
        "- 레이블 값이 인 것만 True 나머지는 False\n",
        "- 이와같이 이진분류로 바꾸면 저체 데이터의 10%만 True 나머지 90%는 False인 불균형 데이터\n",
        "\n",
        "**이때 모두 예측값을 False로 하면 90퍼센트의 예측 정확도**\n"
      ],
      "metadata": {
        "id": "MU4TnzGUcxzh"
      }
    },
    {
      "cell_type": "code",
      "source": [
        "from sklearn.datasets import load_digits \n",
        "from sklearn.model_selection import train_test_split\n",
        "from sklearn.base import BaseEstimator\n",
        "from sklearn.metrics import accuracy_score\n",
        "import numpy as np\n",
        "import pandas as pd\n",
        "\n",
        "class MyFakeClassifier(BaseEstimator):\n",
        "  def fit(self, X, y):\n",
        "    pass\n",
        "  #입력값으로 들어오는 X 데이터 세트의 크기만큼 모두 0값으로 만들어 반환\n",
        "  def predict(self,X):\n",
        "    return np.zeros((len(X),1),dtype=bool)\n",
        "\n",
        "digits=load_digits()\n",
        "\n",
        "y=(digits.target==7).astype(int)\n",
        "X_train, X_test, y_train, y_test= train_test_split(digits.data, y, random_state=11)"
      ],
      "metadata": {
        "id": "UO9FPGQZe2ph"
      },
      "execution_count": 7,
      "outputs": []
    },
    {
      "cell_type": "code",
      "source": [
        "print('레이블 테스트 세트 크기:', y_test.shape)\n",
        "print('테스트 세트 레이블 0 과 1의 분포도')\n",
        "print(pd.Series(y_test).value_counts())\n",
        "\n",
        "#pd.Series 함수를 이용하면 그냥 vector에도 value_counts( ) 사용"
      ],
      "metadata": {
        "colab": {
          "base_uri": "https://localhost:8080/"
        },
        "id": "kLiodLIme3Z4",
        "outputId": "8f221fab-08a6-45ad-c70d-760c24c429fa"
      },
      "execution_count": 8,
      "outputs": [
        {
          "output_type": "stream",
          "name": "stdout",
          "text": [
            "레이블 테스트 세트 크기: (450,)\n",
            "테스트 세트 레이블 0 과 1의 분포도\n",
            "0    405\n",
            "1     45\n",
            "dtype: int64\n"
          ]
        }
      ]
    },
    {
      "cell_type": "code",
      "source": [
        "fakeclf=MyFakeClassifier()\n",
        "fakeclf.fit(X_train, y_train)\n",
        "fakepred=fakeclf.predict(X_test)\n",
        "print('모든 예측을 0으로 하여도 정확도는: {:.3f}'.format(accuracy_score(y_test, fakepred)))"
      ],
      "metadata": {
        "colab": {
          "base_uri": "https://localhost:8080/"
        },
        "id": "4eKoQdH2e3Wg",
        "outputId": "ec39a938-a083-4af0-bf1b-4eb8e851075e"
      },
      "execution_count": 9,
      "outputs": [
        {
          "output_type": "stream",
          "name": "stdout",
          "text": [
            "모든 예측을 0으로 하여도 정확도는: 0.900\n"
          ]
        }
      ]
    },
    {
      "cell_type": "markdown",
      "source": [
        "## **02 오차 행렬 (confustion matricx, 혼동행렬)**\n",
        "\n",
        "---\n",
        "\n",
        "오차행렬은 예측을 수행하면서 얼마나 헥갈리고 있는지도 함께 보여주는 지표\n",
        "\n",
        "**오차행렬**\n",
        ": 4분면으로 나누어 왼쪽, 오른쪽을 예측된 클래스 값 기준으로 Negative와 Positive로 분류, 위 아래를 실제 클래스 값 기준으로 Negative와 Positive로 분류\n",
        "\n",
        "- TN: True Negative\n",
        "- FP: False Positive\n",
        "- FN: False Negative\n",
        "- TP: True Positive"
      ],
      "metadata": {
        "id": "660hpKq4hSYm"
      }
    },
    {
      "cell_type": "markdown",
      "source": [
        "![confusion matrics.PNG](data:image/png;base64,iVBORw0KGgoAAAANSUhEUgAAAkoAAAE7CAYAAAAita5gAAAAAXNSR0IArs4c6QAAAARnQU1BAACxjwv8YQUAAAAJcEhZcwAADsMAAA7DAcdvqGQAAP+lSURBVHhe7J0FoBXF28b/0qnYrZQg3d3d3d1d0kiIpDQIKhg0SCvd3d15ydvdp8+59/neZ87dywG56qcY4Dzw3t2zOzszOzs789uZ2dn/QUtLS0tLS0tL64nSoKSlpaWlpaWllYQ0KGlpaWlpaWlpJSENSlpaWlpaWlpaSUiDkpaWlpaWlpZWEtKgpKWlpaWlpaWVhDQoaWlpaWlpaWklIQ1KWlpaWlpaWlpJSIOSlpaWlpaWllYS0qCkpaWlpaWlpZWENChpaWlpaWlpaSUhDUpaWlpaWlpaWklIg5KWlpaWlpaWVhLSoKSlpaWlpaWllYQ0KGlpaWlpaWlpJSENSlpaWlpaWlpaSUiDkpaWlpaWlpZWEtKgpKWlpaWlpaWVhDQoaWlpaWlpaWklIQ1KWlpaWlpaWlpJSIOSlpaWlpaWllYS0qCkpaWlpaWlpZWENChpaWlpaWlpaSUhDUpaWlpaWlpaWklIg5KWlpaWlpaWVhLSoKSlpaWlpaWllYQ0KGlpaWlpaWlpJSENSlpaWlpaWlpaSUiDkpaWlpaWlpZWEtKgpKWlpaWlpaWVhDQoaWlpaWlpaWklIQ1KWlpaWlpaWlpJSIOSlpaWlpaWllYS0qCkpaX1lyg+Pv53W1J6otuknf9Cvzj2V8S9hik98kNWf+GP24Hn9sT9Hsc9SY+41dLS+ldLg5KWltZTkWfl72lxcXHKjHWXy5W4zel0Jm73lHGsi27iXMqdy+lCvEuOE/u9Mvwx7EnbDIujCeFwqbbFJZjxO8HiZBstPl7iEu+Q86HJukMsIY487kl61B93mmhpaf27pUFJS0vrqciAoMfNAKKH+53qt7HNvRTASICHxGMJSAIjTllX7h3iTkBEwYgHcPya6J9hhttfhJNgnm6TskR3LrcfTqdVttllKfvsLkC2xzN+TwAlhsvzMPzgupaW1r9fGpS0tLSeilj5OxwOWK1W2O12ZTabTS25ncubN29i9epV8PPzwenTJzFs2FDs2rVD4MENToZbBUZiDtl++eoVjBw5EkuXLIHVbIHDRjBxAweXjwOTJxBxP+MQGBiIoKAgBAcHJxq3GduDAmVfQCDM0bECPBKu3R0HxoVmhJV4LjYnzpw5jUWLvxM//BAaGo4pk6Zg1fIVcMqxSYGS5/lxyTTT0tL6d0uDkpaW1lMRQYCVv9lsxu3bt7Fp0yYcPHgQ0dHRClYsFgtGjRqFNGlT44cfvsWiRd/hhWT/w6TJ4wVE3EBCN/fu3cPFixdx6dIlXLh8CXPmfonUqVOjZImSOHv6DC5fvKT20+g3ISYpUOK+q1ev4o033sArr7yCl19++RF79dVXlXHfm5lewaJvFsBpE9iTeFjtNnjJeTAehjHMO3fuiL/xGDBggMQrBTZu2oAHD3zwzhtvo0aVqgrmngRKhKKQkBCMHTsWn3/+OSIjI1X8tLS0/t3SoKSlpfXnJVzAsT12gZ0TJ04ga9asSJkyJdKkSYOuXbsiIiJCtTQNHjwYyZK/gIWLvlWWLPn/MH3GZLALi60tsbGxKFasGJInT47kKVIgWYrkSJEyhfIrRXJZiiVLlkztp99bt25VAOIJHJ6gRPjy9fVF3bp1Ua5cuV9Y+fLllb399tvIkCwllnz9LVwWu2q1CheQKVKsqAovhcSFxvWaNWpIeHHo3r0bUqZKLnHYBB8fP7z9+luoVa06bBZrkqB0/fp1BWbvvP0OAgICEluU6PqXR2hpaf0bpEFJS0vrT4sDmB0CK8FREShdqiReTJceFStWwgdZsiFN2rSYMGE8Tpw8iboNGiN5sv/h++++wfwF8xU0TZs6CXEudxcdYWrgwIFo3LgxGjRogIaNGuGtt95SkEJYqlChAhrJNhrdHD16VEESu7IIHbTHQenu3bvYvHkzNm7ciHXr1mH9+vWP2Jo1a1CsaDGkEwha/M18OK3sMrQjKiYWffv3R/0GDVG/YWPkzV8AqSQO9evUhMsZj27dugnMvSB+rMGDB7547623UbemgJLVIoEnAJDEgfFjixrjeOzYMWTIkAGvZXoZZ06dhlPi53Sxi9EFR5xuXdLS+jdKg5KWltafl4CSXSr8/SePIWP6DGjVpCmio2OwY89+ZBIoSJM6FdKlT4/kqdIiZfJk+Hb+N5g77yu8kCw5pk+ZLODhBiWTyaRgiYDD34cOHUKWLFmQKlUq1YLEbiu2OhljfQggXBJCCCQGLFGEFHblTZo0SbVAGa1CNPrnuY3r6VMkx6qlS2G3WCUOAktOARz6K/7ZXPHYtG0HUgso1apSSQ3m7ty5s4DS/xQo3blzD2+99hpqVasioGSW0B/GwTgXxrVv374K+FJLmJMmTEyMOyGJ6aelpfXvkwYlLS2tPy8BB7tU9kvWrhKYSIUvp89UA6IDg8OQJ09eZMqYEa1atkL2HLkEEpLj+2/n4+tv5iOZgNKMaVMUKBGQYmJi1Big7777Dl26dFHdVOnSpUOtWrUUMKVNm1a1Ko0ZM0ZB1IMHDxSAGJBEMPE0AsqFCxcwefJkBUxc0qZMmYI5c+Zgw4YNqpUpZ86cyJg6Lfbt3Amn1SLwIhBm50BwB2JNZsQIPG3auh2pBbBqV6usQKldu3ZIlToF1m9Yizu3BZRefw21q7tBKT7ePW7KaE3iuK2ffvpJnQ/PIU3q1Pjwgw9UN6WCPgmPQOYZd8pzXUtL65+RBiUtLa0/L3a9SUU/cfZ0NY5o7YofYbdxzJEZ5cqURdb338ddr9sYMGAIUiVPjh++W4BvvlmgQIktSnEJLUqECba4sIWHQFGwYEEsWrRItQx5eXmhTZs2eOeddxJbgcqUKaPgyuh+M4BJtdI4HAqKOnbsiE6dOqmlp7FFiNsJPByj9GL6F1G3di0MGzoQUZFhMMda0K/vQJQtVwEVq1THex9mUYBTo3KFxK631GmSo3yFsqherSbSCUTVrFoJVotJwne3eNEISezeYxcioW/69On4fNw4dX4EtH179ymodCXE3zBP8NPS0vrnpEFJS0vrTyveGadalEZ/MQEpBWJWLFqiJoYkKJUvXRbZBJRu37yFnj37IuULL2DRD99hzpdz8b//vYBJ4z+Hy+EGpaioKAGob9TYIb6tRtAwute4nwAUGhqq3qb7/vvvVWsRt7E1inBBNwZosBuPoEWoUoPBZcnB2Fxn15vR7WZ0wyVPlgqp5PfLL2fE3Ts3ER1hQpFCJcR9aqTN8JIy7m9Qu7pqUSJspUzFgd7JxV92pyVDjSoVFShZLWY19cC3336LsmXLuluR0qTBoEGDFDjFmk3o2KWzCptjlmrXqIntW7aqfTwf4zw0KGlp/fPSoKSlpfWnxcHcnEH7awEgDnieN3uOmiAyOjIWJYuWwLuvv4nZM2ajQoWqSCuwsWzpYsz68kuBk+SYOW2KwIFVTQtAsClcuLBa5s2bF/nz50e+fPnUb5paL1AABfIXQOFCbneDBT4cAhaEKaNVicbfV69ew/nzF3Du3HlZuu3s2bM4c+4szp4/h7PnzuD0mVPu5anT4u6MuDmFmJgIRIZHo2D+onjzjTdx8tQZeHndwc3r1xHo663eamvbroNAVHJMmvg5Nm7aitdeeQXVK1WA1RwjIOUUP8/h3XffVWCWO3duLFmyRLV+EfwsdhtiTLH4cu6XqgsuXZq0KFWiBMLDwxOB0IAkDUpaWv+sNChpaWn9abGbiHCyZ88epE+fXo0hYtfb9Wu38OE7mZEhdUZkzPAyUqbJoEBp5Y8rMHPePKROnhLffjUPDgElb29vfPzxxwou3n//fbU01tnd9t5777m3yfoH776H98TefvtdjPp0JBw2qwqPgGEM5ubSIbB29OgxZM6cFVmzZke2bB/JMhsyZ8+KzNmyIHe+3Mid92Nkz5EFH+fIjpUrliVAlxOR0TEoWrQ4cn2UA6FBwYizOxDncKmZt/k5lTbtuyjA2bdjC27dvo+33nwLTerWhs1iEj9siDWbsXTFCqwQ4/xJBCTGzwA6GqHI399fQdTu3bvVPqajBiUtrX+PNChpaWn9aRFKaPfv31dg88EHH2DBggXo0qk70qVKj8b1GmPG9NnIW6CQervsh4Xf48tv5iN1spRY8OWXAgburjN2PXGmbEKTj4+PWnIeJJqfn5+ye3fv4e7tO/D39YOJLTRWARCO8ZHjGQcDLLjOwdgnT55GoUJFULAgW6AKq/UCBQuJFUZ+iU/+AoXxxltvI33qlJg9daoAkUCM+BcdGYPCBYvgg3fexdZNm3FcgGvjTz/jqzlf4uKFS2jZtpOAUjrs3vIzbt/xxptvvIVGtWvCZo4VkHKoViObLB9v6TIAydjOpQFInqZBSUvr3yENSlpaWn9arMwJJqz4J06cqMbjpEyZCmlSp0WenLlx+7qXgpaOHAD9wv/w7fyvMWPWbKRJlgJzpkyRY92tQQSGoUOHKtDipJWZM2fGhx9+qOCLxvW333kPr7/6OiqWKYXosFDEC1S4P1L7KFhwaRfouStg9dVX32DWrDmYPftLzJg2A19K2PO+nIfp02bjiykzkPPj/EiXIgWmjR+POImnSywiJBz58+RXg9PZnci3+WgpkifHuLHj0bBJS6ROlRo/rVqOG7fu4pWXX0PtqpVVi5LNZlVzI1kFlJguBvxw3fjN86UZ+x6HpsfPR0tL65+RBiUtLa2nIgKA8Yr/4sWL0bp1awzo3x9XL11WLTTcN2j4UGRKnQrrV6/CV9/MR4bkafDd3LlwOiyJsMBuqJo1ayqrXbs2KleujEqVKqFKlSrK8hUojJdeegVlihRCVGigAiWXsMSTcIIfq92+fQdefDGTHPMyUgu4ZUiXDhlSJUeGNKkFgFIhZap0SJs+E16U7ewGjHMIvIiZzVZ8M38BhgwZghEjRigA/Oqrr9SnWR7ce4CuPfoJHL2CPVs3wev2A7z+2huq681uNStQ+vaH79GzT281gJt+DB8+XM0Dxc+48De3c6ZyWp8+fdQcS6tWrVKgxLTUoKSl9e+QBiUtLa2nIoKO0aXEJSeGtFqscNrsAg/ueZJ69+8ncJQcyxYtwrx5XyNdspT4evoMASX3m200juXh2280Qhe/icZBzvyuG+3gkRPI9PLrKJTrIwGlAMTHCWBJ+E/CCY412rRpC9Kly4BSpcrgwIGD2LNrJyaOHoqf1qzAgX17sP/gIRw4ehwHD+zDg/t3YeM5OF2wyrFOOSdCCwGO52SsuwTAuvboq7re9mzbjDv3fFTXW4uG9VTXW0xMFOo3bIDX3ngdb775ppoagFMQcJwVl48bv0VHd5z+gGnAMDQoaWn9O6RBSUtL66nJs3JPtLh4NVUAQaNvv35qHqWli5dg3pdzkSZFSsycMhVxj4HBr9mZ0+eRMUMmZM3yngCUvwIl2fxEUCK8cVJJY16m1157Da+//jpef+1VARsu3b9f4zax4sWLq/FQBBV+u84zXKOVx2j5at++g5puYM3qVbh1y0t9WLdm9erqg7p0w2kMOM6KE2jyjT5+SoXjr4zxVlwPDg5W0wgYRiBkOIYZYWtpaf1z0qCkpaX1l4uVPltK+FHYFcuW4/7de2r5/nvv4dv5C9RbZL9XV6/cQK5ceVG6THGERwSK3wJK7hfdfiECDd/EM6YZoBnTDjzJqlWrpgakE3QeBxQDWriPrV6nT5/GypUr1YBzglCuXLnU5JXc9zjscGkAluEHjWniud9w43mslpbWPysNSlpaz5GMipXLpOyfECt9z641LjkhJCGDXXQEhN8ru80JPz9/+Pv7wOG0iN9Jg5IRJsOicYZvGrsBaZ7r3G9M+Mj4PJ5WRvpxn9HFSKN7nlNAQADCwsISj/c0z20GFBkw9Lh7z/1P+3oZ/hnnYpiWllbS0qCkpfUcybMi9Kx0jXVP+zsrSCM+ygRsHjfG5/eKb7i54YLdYwSspM/D83x5jHHehnnu97RfE48jINGdZ7o+KZ0TzzlhuyFPN08yhvFXiH4zHTzh7K8KS0vreZEGJS2t50hGpWdU5kalaFSM/1QFybASQUB+P8l+r+LjH4Udt57sg6e7JwGI535P+zV5ujP8/L1m6En7Hre/QkYeMFr1+JvnoKWllbQ0KGlpPUcyKlguWRnapTK0O+xqyY+uOmx2NR7ol5UjK+eHlb7akrDuue3PyPAnTsLhQGm2DLlkSXNyGyHKwzzDphl6HJTc9tugRPs1Pe6W5hJ/aY9sS4DMJ9mvxf/xbU9y91eLkMRuRpvFCgcn6pTf7kHrstMwLS2tR6RBSUvrORQrXbvTAavdhnPnz6sPuD64d1/NZ8RvsP2yImfl/8vKnWa4fTqif+y2IqwROmh8Df9hV5Zn65cnTDxJnvFMyv6/8jyWk0baVPfgw242u8TXEN0Y8fNc91wa7miGHzSu04x9tL9aDG/WrFmYNX0mbDFmNzjL+amgDdPS0npEGpS0tJ5DsdI1q++NmdCgQUO8/upruHHtuoIko4I2KuyH5u6uU2N/pPJ0ONwDlrnv6VXihAV2CToQKxX1jh27sHXzZgQH+qsWMNqhQ4ewZcsW9eo8YYmWVPiMm3E+htvfA1i/Jh5D/3jusTYLjp07oyaZvHn9BuwSP36axBDdesbBiAeXnnEw9tFP2oULF3Dw4EE1HQDdG3M0/dViWJwI9NVML+P8ydNw8Pt1Ej+VTIZpaWk9Ig1KWlrPkQww4JItIWelQs6YLj16de2uPhrrEEAhjBw/fhzr1q3Dxo0ble3csQdXr1xXkzva7VapzC1iCV0zfxA4niyplOPcIHb9phcyvfQqXkqTFjs3b1JdQnxzjB++5ZxHn332mdpGsEgqfANIPN9c45LgYez7/4phGfASaTWhasO6SJkiBUYOHqomz7QJQBqiW4ZD9zTGlXG4cuUKFi5ciEWLFmH16tVq3iSmO91w0syCBQsiVapU2Lp1a+LxfwcoMSx+fDd92nQYNmCgii9by1TyGqalpfWINChpaT1HMoBCcAQWlwMjRo9CmuQpcGj3PjilUmQlHxERoeYS4iSMKQQA1DfZ0mTE66+/g48/zoUZM6chMioEVptJVaRPG5SgQCkO171u49WXX8dradPjwNZtCkw4SSMh4qWXXsL8+fNV+L8GSvTHgBROLFm2bFn8+OOPbgAQKPgj8faEnwirGWVrV1PpNHrQUPUdOM7cbYhuGQfDPSeT5FxKr776qpqMkjDEY7Nly6Y+60JYIoxmyZJF0j0lduzYoc7biO9fLcaRUyKUKVkKH32YGSFBQRqUtLR+QxqUtLSeIxlgQFAyCSgVLVEcOT7MgqiQMPU5EY65ISgVLVosoQLPilq1aqFq5ZrIlSs/0md4USwdvvvuawGl2EdaZui3AoOEpac9aVuSpsYkuXDj9h0FSq+kSoNDAkpG6xFh4+TJkzCb3KBGM8J/Ujis6AkAgwcNQmoBk0kTJ6k4OyTunvF+knG/Ah21TNgWL/5JHBluuNWESvVrIbVAzdjBwxFvl+0KaNxUQfc8lm45hxI/QZI6dWpkyJABpUqXRucuXVCuXDn1u1+/fgpS2KLEySkJUdu2bUuELC494/b/tV+kTcL5eJpKF4nrZEmjdClT4/DBg+40UO6fJhBraT0/0qCkpfUcitXdLZ/76rMcVctVcFfEqiKMQ3h0FPLlLYIU/0uG0SOHSkUpIGR3ITAoBPWbtcALUoEXKZAP0RHhAksO3LhxC6dOnYEp1ozoyBhs3bEd69etR1R4hBrzZLHZcOXaZfz00wYsW7oCZ06fUxM32u0WuKRStsp+k82KyKgoHD18BCuXLsPBA4dw7vwl9aHa9KlSYu+2rQI2TtjE/akzp3Ho4H4E+/mqVjDVXeiwwywgdf7SJTVeaN2atTgifvFbcGarBUeOH0PVKlWQLlly9OrWHQcOHMClU+dgt9hgFkA0mSzwfuCDzRu34IcF3+PAnr0ICwmVfWZY6bdd3FklnuL23OXLWChx3Lpth+oerFqtOtIlT47RAmJxdomPAIjQnqSwGyzUm4VOF76YOhVp06RBpowvYsniJbAKqFkk7uyK27x5s/pkCd3zd66P8yhQ3b59s4ALAZFvo9nV9+3OnDmDZcsk/K1bce/uPTjkHPhZFBsH50tco+Scjx07JjD7nQItziTOliqLpINJzoPr169exbrVa7BW0un6lauwmMywJXxvj5D609btSJ4qHRbMmYk48dMm8XfE2VX+0NLSelQalLS0nkMRlA6cOIa0adNgzNARCpJUq4lUhKFSGefNUwQpX0iGUZ8OhnrrTADAIlC0QgAoRZq0eO/N1xHk76vgoU7d+gpoVq1cjQb1GiJVmtR49ZVXEejnD3NsLMaO+xwvv5YJ6dKlRaqUaQUWMqq37CLCQ9wfxBWQCA4LQ7MWzZEudRqkS5UaGdK/hCxZcyBVKnGfMjl2CUjYJPzw6Bhky/ERkiV7AfO/miuQJPAkwBEdG4PRn43Bq2+8jtSpU8nx6RWU9OjRA9sE3DJkegkpZXu65CmQWozdikXzFUBMlICUgMY2gZ733vsAqVKkRspk4iZlKlStXEVBBkFLDXwXmJg8ZSpeefV1Oce0SJFSzvP1t5BJzjX1Cy9g7LBh6pt0Dra6JICSao1yxQm8xCJ/wUJII5DZoU3bh+PBxNgqZ7SWPQQld9fnxo3rFShx/5o161CgQIHE7jq2TOX4KAfOnjjlHkQu5hcYiEZNGktap1Ndd/SDH9pdtWoVTAKnMXIu48ePx+svv4LU4gfHVr2YPgNat2ylwmVcnALGRwVm02TIhA7Nm8BhNsHGb/G5bBqUtLSeIA1KWlrPoQhKazb9rCrS+bPnKkBydy8ZoFRYtSiNHD4QfAONrTkWqx2Tps5AaoGE7Fk+RHhYiAKlGjVrS6WcGi9meAmvZnoVFStWxJgxYxAbE4Mfvv8BaQTG3nn3bXzyyQAMFSjLni2nGow9Y8ZUBWBmiwU9+/QWf1PjpYwZ0VYq7f79P0FOgYV06TIiQ+qU2LFpI2wOJ4IiwvFh9mx4QUBpwTfzYJGKna1Ro8aMVsenEThq2bw5Bn0yEEUKF1Fvx12+egVValRH6gwCXQJBH32QGZUrV8bwwUMRE2PC2XPnFfykTZsebVu3w8gRI1G+QgWkFmBr1qSpu6XFYcfm7duR8cVMAjtpUb5sBQweMgwlypZDcgGwlMlfwMhBAxEnsON8vEVJzvHy1Wt48SWBRQHB7Zu2wMWxTIQbATC25hmwxPTnJ1v4rbrkAnQ/Cyg5BVC4b9Soz5ApUyYFf4MGDVKD2nn9KkkcYqKjlV/TZs1UoEqgmj17NoYMGYLcuXNj586dCiiPnDoh8XgJbwjcDR8yFBMnTETFcuXRrm07mGJNqnWPoHTX1x8vv/EOqpcvI6BkVq1kTt2ipKX1RGlQ0tJ6DkVQ+m75EiRPlgzffzVfjUFRJpVkWELXWyqBiv59u8OHH3W9fx9z532NN99+TyrnlPikfx+YzTEwma2oULEyUqZIhTdffwv7du+D1WxRFX9oeDhy582DNKlT48eVy2Ubu32c2LVzD1566UVUqVIRpugY3L13Fx9kyaxAZ+TwEe7JDgXMjp84pUCJLUo7t2yCSYAjJCYa2XLlxP9e+B++/24+zAIw127fwjvvvataWr6YNFl1I3HSzOioaNVKw4o/IDQEeYoWROoXkmP6+EmqdYWtMFabHW3bdZBj02DAgIECRXY4HS7c9/dFtixZ8PpLL+P65SuIMZlQrWYtpBIgrFiqHMICQ1W3o3dwMIqWLYMUAkpjR45AvITlcApMeIASx/3sP3hYHfvGy6/g4qmzaiwTQYkARlBytzy5x3oRlD7OmUeB0pYtP8Ou3jB0IFrSim/9Ga1PP/30kwLOTOkz4KrEkaDUtkN7JE+RAiNGjEj8bh3HnDEMdk/OX/i92l+0YCFERUQqCDSxe1LSjN2YvG4OF4E0Em9/kBUVShSFzWyCRSDV5iTI8by0tLQ8pUFJS+s5FEFp0aoVeOF/L+CbhBYlA5TCBUby5S2KVMmTI03KFxSA/C9ZcqlgUyN1qvQoVrQ47t69pVo6YgWUqlStruCpb+9+cAoIxbObRirdU+fOIm2G9HgxQwYMHz4E3333Lb7+agEGDRyKjBkz4N1330ZQYBA2SIWfKm0aZJBtFy9cFD/cLVhXr91A+vQvIk2KZNi3cztsAhHhFhOy5vkY/0vxP8yf/xXMUqkvW7taHf/+e+/D5/4D1VqjZheXeBA8CEpRclze0sWQ6oVkmDNlOuzsIpNjOa4pT558qkWsc+eumPflVxg3fgIGfDoU7779Nl5KnRb7duyCj58v3n6fXXOpMH3cF3CZCRVOhAmIVKxdEy8IKH326XAFSoQjA5SY0gSg7Tt3q2Nfz/Qybp6/hHhJpzjOWSXxo3iMAVUcV5U9e07VvbZ12yYBL6uADudZilMDvTkGq1u3bihRooRqQUuXMhWOHjmqoOvbhT8gbbq0ePnll9GhQwfs27cvYTyYXU0ueuj4MWR6OZOkaUqUK1VaAHYl/P38FNxaEgCX6eUfGo633s+C8sWKKFB62PWmQUlL63FpUNLSeg5FUFr388+qJWj6pC8EKtia4ZJKUir/6Cjkz1dQjeV587VXUaZ0GZQrXx516tbFt99+h4jwCKlU+cYZx8U4ULV6XaSVinfq+PEKcDjuyCkAsGXfbqRIk0oAIQVSCKAke+EFsWQCZ8mQQiDs7TffRIAAyNJly5A8dRrVJXT39m3YrWbVYnLt+i1kyPAS0qZMiV1bt8AqlXWYORZZcudQoPTll7NgkfiO+2ISUqZOjWxZsiJKKniXAAgre45fUp8/kbhESnxzFymMFAJ8syZOUZ/nsLsc8BNQe/Otd5AiJadCSK5gJnmyFAKGL6jWthRiO7dvx9mzZ5HppUySJimxZulKxAnoELaCBcBKVquMZMn+J6A0TMGP00VQYgq7jfBz7tw5gb4MSJsqDdavWI14q8TNwbfZ3K1IhnmCEluUNm/+SbbZVRfj8VOnBWDzqmkFXnnlFXzw4YcS7xRIkyo1jh09qiAn1mTC6DFjkF4AVe0TkKpRowa8H3i7W9AEllasWKGmH2C3XYrUqZD5ww+wcsVy94Bwdr1JOt+8dx8vvfkGypctDbtsV92DTt31pqX1JGlQ0tJ6TnXq9Fk1rqhLu46IE8CJ4yvv8Q6ExQgo5c8vcPMCBg/45GFLAytLWRJiaOxKIyjVqdcc6QUgZk2eqLqd4qTyt4lf529dR7pXXkJGAQS+YXXpwkXVYnTx/AVlN69zJnArNvz0M9JKPDJkfBG3blwT2GALigPXb9xCxoyZVIvJgd27YZEKPMpuRc4CefFCymQKlMxSea9YsxqpBJQ+fO99BPr4KVAyBqfzO2yEphizGQVLlkJqAZU5U2cI6NhUV5JJloWLFkXyFC9gytRJOH/uvMTtEi5evKhmxz5//rya14hdXh++/76CRx7PsVV8Ay9UAKxsjapyfDKMGz1SAacCpQQZrUT0I+fHuRSEDejVD06LQ/wQqJL0YrrSjWEEpRw5c6lz2rZ1k+p6C46IQP7CRdTkoJMnTYKXlxfOnj+Hl17OpFr8jgoo8Th2y/EaXbl2FWM+H4s33ngDqQQ027RqraZ/4CBy7veX81kicFS4WFGkTp0Cr736spzrOff1lTgdOnECKTOkRbsOHSSedpWmBE/VWqalpfWINChpaT2nCg0Ll8o/M4oVKCwVtxUuvoEVZ1egxMHAKf73AoYNGqxe8WcFzgqdZrR88G04qwBD1eoNkF4AYMaE8bALzLDbyyp+BUZFIHuunOrNqnFjP1djj+xWm/p+GNc5NYDLacPVa9fwyutvIZ0A1ZxZAiE2tijZcfzEGaRNmxEZ06TF3u3bYbG7ECvbcwkoJUv+AuYJKBHITp09i1dfe021rMyePkO1nLBS51tcHO/DbkCTxYziZcurLraRQ4dLHKzixgaTxKdl69ZInvIF1KtfG+FhYRJHgqB7DJHxJhg/JVJMgIqgVK9mbcRGxyh/vQU4chUqiOQJXW+ECo7DMqS6/iQuBMthw4YrUHr5xVewcvlKREeJH5J+DIPdaadOnVJhcQqAHDlzI62c964d2+R8LDhy4jgyZnoZH2XNJsdFKSA6JtvSZcyAlAJKR44cUfHl+fJ4DtzmwOyFixYqkCqYvwDCQ0IVLIWEhKj9HNN039cHmTN/gDSpU2HBgvkq3ewOF35YslTSODnmzpsLfsaE15TnEK9aybS0tDylQUlL6zkVW1waNWyMNzK9intet2GzmgU8bAiNjESB/PmRKllyDBk4yF1Bxj+clNAwdtVxLqDqNRshrbidOu5zNV8Q3fNr/7Y4J2ZLRcu33l7K+CI6tu+Ab+cvwIRx49GwfgNcOHdOIMw9oLpFm/YCK6nw6ssvoW/P7hjQvz8yZ8kuAJIK6QWAdm3eIpW4C9EWCz7OlwepUqfAd/O/VmDBuY442zWB4MUMGdFe1gcNHKjebBs1cpTbjdmCLt17CVSkwZuvv4H+fftg7pezYRaYOHb8OF56+UXxMzlq1ayFCZ9PxKhRo9C4cWN8//336nwIIRMmTUQ6gZeX0qZHg9p1MVjCKFWqjPIzZYrkGPXpMIEsqxoMbojpRFDi8Q8e+KBo0eKSHuklrLSoUqUaBg8equLJQdmE08DAQAU6+fMVUi1xHVq3QFCgP67duIEXM72CDGnToW/vPurzLXny5VVTHqRImVK1KHEsEt+GK1asGKZMm4qFixehQcMGapqA6lWrKUjl3ErZs2fHyNGjsHrdWkyYMhkvvZRRoCw1Dh48oODPLpDYpVsPNW3A2TNn5Ld7UlECs+YkLa1fSoOSltZzKoLHd99+r95u+/6bBQI+TljsZgSGh6pKO33qNBj9qbs7iRX+4yIoma121GvQEmlfSI7JUvma2bUj7jlQml/Rj46JwWefj1WDi1MmT6G+Icbl22+9hXVr1yhQYjwuXLmGEiVLIW2qlMiQJqWAQxqULVcRWQSW0qdOjf07dgrwOBEVG4s8+Tn4Ojm+mTtHVf58c8vb2xstWrRQM1yzq4nzIDGspo2bwBxrUq0iFy5dwVtvvyuQInCRPDnefetN+Pj6qpaXjZs2IGs292DtVMlTK+hKnz49BgwYoFp8CDshEeFo3aYNMoq/GQTe0orbXDlyoWzJMkiTOiVGjhwu4djheKxFiZDBlh625ly7dgOVqtdAqvTpkFyOTyPAxLA415HxCRPa6FFj3fNJSXoc2rdHQVD3Hr0kfVKrFjoeU6FSRWTOmkUN+uYEk+zeGzx4MDJmzIhkAm6EKL7hljNnThzjYG8Jf+6XX6qw0kr4nEYgufifMWN6fDpimITB7+DZEBgUjGzZcqB04aKIjYlV11J1Y8p1elI+0NL6r0uDkpbWcypWfv5+/siRNTvKly4DU2yMGrDLeYluXL+O0ydPISggUEHCkypIbuN4lms3buPUseMI9vWGVWDG6nC4K1e2QsiSb2NxvM/C73/AyE8/xU/rN4j/NxRUuGQfBw+zJSo4JARrV6/C+LFjcODAfsQI4Ny4cQvHDh9GTHgk7DbO4m3HmbNncfDAAQRyZm4BIBpbjWIERvbL9okTJmDalKk4tP+AegVejVkSY0vJxUuXMOfLORg2dAh2bd+GqKhoCZ8Dv224f/8ONm/cjBHDPlUtL/wwMAHF6DqzyZJhcNZudt+tWLoMfg98EOQfgEMHD+DuXS93t5+kgaGH3ZRuIxSGCzzuP3oUM2fPQb9+/dVkkPfu3VOAxLBo4WERWL3yR3z26Qj4eT9Q4UdFx2CVbOOr/3v27JHfUWos0qFDh1QrFNOAxoHn879dgMFDhuDHVT/iAWfmtloVUDLN7969i+UrV2DgkMGYMXsWTp86Kdtt6lh2OS5fsRLp02XA3GkzVboxfdQnTOQ6aVDS0vqlNChpaT2nYuXLsS4TBCzYCsHvpxmVNSt1VSn+Rr3I3cqJciuVqfHbQ4//fpIeunH784j483FPjG2PbzfkuT8pd49sS8rRQyW6MFYeMWPl1/XIIdzwa1KO5M9vOvxjelIcmCeqVaum3oq7e+euyguEPS0traSlQUlL6zkVYYigxIHKHEzMVgnV6iGVJZda/z3xurOFit+RY97QoKSl9dvSoKSl9ZyKQGS0KrElietG1w8rTF1B/vfE6+7ugnPnC+YBnQ+0tH5dGpS0tJ5TsQJkxWgYf7O7zVjq8Sj/PRnX38gbRl7Q0tJKWhqUtLT+Y/KsLLX+WzLAyDMPaFDS0vp1aVDS0vqPyagodQX535PntTeuv84HWlq/Lg1KWlpaWlpaWlpJSIOSlpaWlpaWllYS0qCkpaWlpaWlpZWENChpaWlpaWlpaSUhDUpaWlpaWlpaWklIg5KWlpaWlpaWVhLSoKSlpaWlpaWllYQ0KGlpaWlpaWlpJSENSlpaWlpaWlpaSUiDkpaWlpaWlpZWEtKgpKWlpaWlpaWVhDQoaWlpaWlpaWklIQ1KWlpaWlpaWlpJSIOSlpaWlpaWllYS0qCkpaWlpaWlpZWENChpPYeKF3N6WJzaEq/+cJ3mSjCn+v1XSAUnRt9dHqbi4ZI/cXGIkwW3/RnFyz8XzytOzscl5yN+x4k5JWCXBBDnkn0uCSVO0iLeiIWELccxdexiVjnOFmeHkwfJhnjGTe3Vet4VrzKkexnH6+5hidslryRul7xE43aa0+l8xO3vlRGeK8EvY93hcCg/aUYYvJG4cOdcWZd87XK63cbJUjK6yrP/n/C1tH6vNChpPYdiwf7wn7uYlwKWhTFNfrn/Gvb0C1f6aBgLdgNPiGaqMCchEWJkwe1/Roy/S/x0saKRSsMlsKNAyeGC0y6VmPxWAEWQEqBSNY4EzMpGrcrS5XDC7rTAIe7iHOKEFU+8rGg99zLggkuCB2HFbrc/Aj+8b5i/FMBIXmE+oxvanwEl5bcca0AS/bJarY+AEve53bofe3i/MO8yrjZxazdb4bIJ3dOd8llL6+lKg5LWcykCCAtVw1iME5ochApZZ6GbaPL7aYt+PmLyRxX2RowSAlcVAdf/jOiVnCAbgxwCSAQlU1QU7l+9gjirBXGszAR8nBKOU9yyMYvGuk01MMnG8Hu+CPW+DbvDDJsknooTW6C0nnsxDxpLA1AILZ7wQzBhy6SCKIcdjgR3NAN0DLe/Vyrvy3FGWPwdJfl2/vz5MJvNCoQMNyoOzJJyHM0ApdOnTmHpD4vgsFgT4P73h6+l9XulQUnrmZa7AHWbUeCqgpUtKWwlcTnhEIpgi0tcnEvWHVLgSwHMVhYpbKVsVVBg+PFr8gzrSWYU6MqtGBlEFezczvDkKTzeJU/qQifsElOtONERiLPEPlI5efr5uyTOCEoOWVoJRDYb1s2fhzG9usAeFS6g5BBQkkpQzt/F9BCzyrqV4ChxiZPfO5Ysw5S+3WEO84VZ9hGqxHFCAFp/t4z85DbmbblWkl/YNWq1siVH8nFCXmG+8cz7hv1aPvLcR7c8nq1DR44cwZUrV9R6op/0n61IYgQkmwDKyTOncfbc2cQWJcOtZzy47hmOEZYhYxvdGdC1cOFCzJo165GWKrWPcaDfytz+250OBPj7o3O79nhw567qgjPCp79aWk9LGpS0nmkZhS2NBSoLWBaUEffvIfTuLThsMbA4rVKoSiEv+6wxIfD3ug5nTIwCCJu4JUQZfvyauJ9+01ggP14RGPvUfjHVkkUv5U+8Qwpwiw1Oi0CLIw4WqxMRAQH4tE0TfPfZ8MTuBjXmQo41/PxdolsJwy5Lu8Qpxu8BepYrglNb18j5x8JOIBNwtEZFwufyOfhdOouoIG9Y7TGwSdpYrRb437qGXtXK4dL2n8QPqaQYNilS6x8Rr71R6bOF8Pq1Wxg8aDhGj/ocI4aPxpAhw/DVV1/h/v37Ks/QFFCI8Tj+NvIo/TCk/JNthjsa7xm6Dw0NRalSpTBw4EDVokOzCXR737sv940JTrlf7OIuxmJGj359ULlyZQQHBz8SthEu/aQZ655xYxw848Fj6CY2NhZt2rRRsObpX1BQEPbs34cpX0zBXa/b7gcMhx0Wuw1WiwUTPhuLlQL6jB9Bjn7/7ntHS+t3SIOS1jMtAyji2GokBS/NIYX7J83qo5vAwt1zR2BzWaXAlwLcacPxnT+jddlieHDxnBSsNgElKVgFCNTgZfGDwMFmILbQGC1N7t4pghD9FyBjq40Yn/LdhbK4l+1sMTKeeLlPkM0NYbLN9/YtbFy0CJZokxTy8RIfF0KkkutbqzIWjPgEFotVKgU+rbObzD0gm2OKGAdGyThHd5z42w1hyhgHccuWM0ecA8c2rMLAsoVhDZYKzikVis2O6IBAfNqhDerkzIamObKhV80KuHl0L1zWWDEbHNZIzO3fC4sG9Vbb7PSY/XNa/4jU9WaelOvAVqTdu/ahbOmK6NKphwDDDIwYMQp16tRGzZo1BJbuihs3JCiT/MM8pGBDQEPlD/nnzktivE/UWDYBFclzysStRaBj27ZtuHXrZiLo+Pr6oUGderh16Rqcko+sNrmXxO9zVy5jz969iV1kdMsljX4ZgETQ4jZ1bxrhJbT8GNtoFnF3Rfzs2KG9AiYDlB48eIA2bdugVNmyKFuqLC6ePi+gJP7IsbxX6P+hffvRtX1HxERGi18PYUxL62lJg5LWsy2pyw2IUBUEC2WBoh5VyqLrOy9iVofGiI2Jku0CEi4z9q9ejvaZ38C9YwcQLQUqwcJduRCk5AlYjG7thB2ppOLEP6v4byG0WKUgtoo7u7tyYQFPKLILUHDAdJzDJoU0TUBH/LTFS6UhfsTHWbF5ySx0K/YxogL93P5bHLBJRRImvy1REbBZJFyrxCPOIsdYAbscJ2DnlAKfcWH3mDNOKiPCmvhpVDBqAHcC1KjKzhmLOZ/0wZyeXSQcK0xyjk5rDJaNGIAOhXLh+M8/48rx4+hZuwyG166ASIEpm90slVosNi9YjGEViyE28DbMhCS77nr7p2SAEit9gtL+3ftRuWwleN/xluvKPOHC1WtXULlSWUyfMkGAQa6hbIuRPBUtwBMaEY6Q0BBYLSbxR/KsPBCw69UhbuwCPGGBoQjw9oeJ4M48LXmJAGM1m9QxZpNJ/LRj/4HDqFCmEk7uP4Jo8TPWHA2b3CMmkxUxMTFyrE1ZbHQMHGzRUflUwpG8yFZSU6y7JYrnYLc5xV8LwsMjER4WIQ8Mkr/l/mJrZ6zcf0uW/4DRwwcnnLP4k+DHzZs3MffLr1G1eGVcPHpRtvNhRR5wBA7pd5B/AGpXrY4r5y4gTvKsujfFD6ahltbTkAYlrWdbHqCkxuAQHgQ6uhYrif6Fc6JbnvdwYdtGWAUaWCgfWL0CHbO+iQcnDyFGjmNhbXaaEezzAAdXrcbeFUtw9fwhmCzh7lYjKeD5Rk3Y/TvYt3oJ1i2Yi3O7NuHszp9wZt82mKLCpVKQiiI8GBcO7cbmHxdi37qVCL95XZ7AYyRMF3zv3sLU3m3QIetbOLr0B1w9dECOC4XZFoUbEo+oe15qwPWtk2fhff64rAvYSdhqXIY1FrdOHUTI/Zvym61NDpjDQ3FBnqK3L1mM60f2wx4TLJWNWQBOKsqwQPSrWAZHli+SuNthlfSI9H+AVvmz4seJIxEnlaDVasL1fRvRNsvbOLltLexOq8CSBXdPX0DHPB/C58IhWAhKEgetf0aPgJLY3t17UbZEGYQFh6mWR4sAgsliRv++PdG/T3dY5LpaJA8dO3USHbp0RplyZVG5ShXMmjkTAX4+4o8AicBFjNmMOXPmokOrDqhZuTpaNWuFk8dPKVgxCcRMHD8GG9avkjBs2Lv3ABo2aoHCBUugTrXaaNWqObZu3yR52o4tP23G2FFjVDfYjWvX0a5NW9zxuq3ghmOHGOcfvv8Bs2fOEpByd+9evHgBY8aMRoMG9dG2bRusWr0SNpNZ3SOxkleHjxyMxd9+nXjeid3RYlcuX0elIhVwZPshydcEJd7r7geWmKhotGneAicOH0WcPCSphyXZr0FJ62lJg5LWs61fgJI8TQoo9SlcCsuG98NX7RpgaLUyiAr3U0++e39cik453sH9kwcRKwWyQwrj2zt3oHfFSuhbvSamd+mIbiVyY82kEXBa3ON77p44io4lCmJI07oY3bkZaud4HQ1zvo6+9Svi3tXz8L1+Bd2rVxM3JdCzfBm0z5Edn5YqCZ8zx2E32zBz4gS0LpgDbd96CV0L5UKv2lVx78Z5hIbdQ4cqxbFlzlTVcjVv+KfoVDwfYr2vwhzngEUqkDsn9qFNsSwCaQvhsJnhe+sK+jWqhW41qmNo40ZoUzIfpvRpCXNsoMTXiQjf+2iX8wPcP3VEjctiK8FNgbF6WV7Dtb2bpLK0wRTvQLT3HfTPnR2Lxn4ChwCYVSrZwJu30aNYNpzaIGGxm0+O1/rnZMASW0+2b92Glk2aST6OUHBgFVAKk/WG9epg2KABAjmxuHLtBsqVK4MePbth+/btWL58BaoIDLVv1QpREWGqq2rz9m0oWKgIjh05gZtXb2DJD0tw9vQ5BUrh4eGoU6sK5s2doWDo3r0HGD9+KkqVrIBF3y3EseNH4B/oo/LFhFGfY1j/gQLnDgQGBKJC2XJYt+JHd/ebQEpkZCTq16uPZUuWKnC5ffsWGjduiLlz58Db+z6OHDmE5i2a4Oc1a+UedCDGZkX7Di2xY9MGdd40wo4CRQnv8qVrqFaiEs4fPiVhuOFRgZKkjcVsQddOnbF9y1b1Aoe7dcw9tYCW1tOQBiWtZ1ssCwlL8o+TLrKAjJNCf2CZUvju0wHwPX0Q7XJlxrZvZ8BhjsSuFUvQJtsbuH1yP0wCVhF+fhhYuhAWjBiAkGA/WEyR2P3dXPQs+jFuHdsjFZIVn7drjrG1yiHGR56Yo8OwfvoYdC70PnxP7YbTHCMVVgj2bduIwFvXYQv1w4WNq9A1VzYsHzZIvbYcERSEmR1bYUDBbAg8fQjRfg+kcohFWPBdtCiSBTvnfgGn1Y7ze3ei/gev4MJPy2F2WGGxu7BxzniBp2wIv3cL9thIDGteBwNrVUDQjatwRkXgzE8/olXe93Bkw1LxMw5+d66hY5738ODiGVji4uVp3IEDa5ehUZZX4XPhGKxxUrEIKFnCQjGybBHMH9weLodN3MUh3N8PAyrmwe5vJsAlaROnpwf4R2WAEq/hboH5quUr4OjBgzh9+hSOnzqNgYOGolTx4jh2+BA4Bm/EyNGoVqUC/HzuyzXlHEMOHDx4FAVz58G6VT/CarNh/g/fo2HTprglUGyNtcBlc8kDBMcXCWRHRKBOzRoY+9kYdR+xa3jt+g0CSmVx7dJV1crkYvevQNSY4aMxZuAwlW85FmnCuHEY1KM3zDEm2CS+N2/dUoO9r1y6DKvJjNGjxqB79x6q241v7FnloWX27Bno1LKNxMEJk4BSm9bNcPzA3oSzd5+/AUunT51FleJlcfPCJYEjdiW6u735cMRxUl06d8bKZcsT33yjaVDSelrSoKT1bMsDlNTYCKkgCEp9yhbEN4P7yNNmDJYMH4gBxXPD/+55AaXFaCHQQFCKlcL0wKZN6FL4PdzYuRbmoDDEBEbD78I1dCqYE7vmfwGTNRr9qpXGuiHdYDNFwGRx4uLurWiU9VXcPbBN/LfCJIUzx33YYk0I8XmAU1vWo1fhvJhUoypMEZFwSkUyp1dndM3/IUID7wkEOSWecQjzv4eOZXJi6/TPpLKSp3CBrE6lcmPp8H4KsKwmC0Y2r4kv+3WEI9oE31tX0bHABzjx/WyYosMRGhWNqLu3MaR8KTUI2y6gdOnKSbQr+BYeXDuvuhZtcQ7s/fF7NMnyCnwvnYJFKkB2ZcRGRqF/2UKYP6QV4q1mqRjjBdwCMKhKPuyYNVI9qctzuTuNtf4RGaDELtdD+/eifMkSKFuyOIoVK4IixUugYaNmWLtqjcBJDCIjolGjZh2MGvqJwIvACt9aM9kQK1atfEWMGzVK3RsXrl5BhWrVUK1aLSz+bhGCA4LhYHeV5OGYmFg0rt8EkydNVa1WzAObtvyEwgUK4NzRUwlAzUlJHRg+9FP069AVTr7JKe6OHjqMOuUr477XHZW/li1fLvDSRY1dio2KRcP6zdGiWTssmL8Iy5auwfp1m9GuTRs0q9sAUSERMAvEtRVQ2rx2lfvcxTjwXLUciV26eA1l8hfFiX17VRwIStzHgeVmqwUDBgzA0iVLVWuSBiWtpy0NSlrPtlgYcsA0C1X1lClmd2FQxSKY27sDrE4bIgK80VvAac34T3Bkw2K0yf4q7hzbB6tUHEunT0bjd9NgiEBD3zLlMLBsVfQpWBgtMr+DNTOnwGkyYWbHthhUpiii7t1GRFQ4vhzcGW0KZ0GMzz2pfJwCNNE4te0nfNa8MXpXqYJBtWugdda3MK5GKQGSIDjlqX1e997oUzS7xOU+YhwSR1s8IsOC0CH/R9g2bazqnnBKhbVw8AAMq1wG1pBg+HjdRZsSOXBk1VdwWa04sX0T2n/4Lvp8/DH61CiP7hVLom/JYmiW+T2Bwt5wmh0I8rqJtvnfh8/50+Cr3FaXFce3rkKTd16C99njCJf0cUY7EBMcjH7l82HJqG7qTSarwKWv9210LZMPJ+ZPgyXOJmmZkMZa/4iYp1W+lmu2Z/suNK5WB4d37oePtw+8fXxVC5GaC0z2h4WGoUb1mpg2fgJcAuacsZrdc6HR0ahbuxY6tG0Du92mumP9A4Mw9+v5qFq1GmrJMds2bRH3NoSGhaGJgBIBit1adqcd+47sRwnJY5fOnhGgMglQ8S02F0aPnIAhfQa45yqT8GIEvOtUrILlAiuMV9/effD13HlqX5TAUo0atdGhfSdMmvQFxo4dh6lTp6v5kpYtWYKYqBiYLRa0a9cWK5ctU61ZHBRuF0gkCDEfXz17DcVyF8Kh3bvhsFsTutfcXWycpLJ58+bYsmWL+q1aleVYDUpaT0salLSebT0GSixA4xxx+LRScSzo1U4qDbMUtjbs+GEuOhbIhq97tELHbJnc3WpOB37+7mu0z/k+Dn07F/fOn8G9q5dx+8wJeF8+KwV8KKIEGM7u34ym77+JYSXL4tN6jTG0XAmcXPwDnLFW2CTMQ5vXoWbOzFj+xXgE3L6N6EBf9K9TFpMalkF0rJ8q7Of064Nu+d9FmK+XetvOaY9HeHQQOhfOgW2zPxegEXhxxePS7u1okTsLrspy23cL0LNiAUTev6TeKDq3byda5/wQq0YNx/lDO3Dx4G5cO7gX14/uQ6SPF1wCXzHevuhYPCeu7dqkul841un+5VNo8vbLuLRxHaIlvibZHiTuOxXJgs3T2Xrkfq371rWzaFvwYzw4uB0OOW+nHsv9j4tVPd9q3LNtF5rXaoiogFDY2QLkMdCeUMDup44dOia8Jh+lrmes1YJzVy+hpIDOpEkCUIQOyUdmi00eEpzwCwzAp8NHoGXTZggRcA4SOG9Svx6mT56sHjg41mjtzxtRsnQpXL9yUe4ti4QtJn4M6DsUYwYNV623zJuEtQmffY4JEybgzp07aFS/AS6dv+AGpZgYdOrUSc3PxAHaahyTGPfxOC5pU6dOxSQBPfUmnMAO3zTlfcGxVeePn0fVspVx9cIFuaf5thxbj9ky60BgYKDq5jt06FAiKBmQqaX1NKRBSevZFgtEqUgeeevNLk+8VUphxYCuiJOnYL6FYw4JxOCaVdD9w1fR6aOMuHlmv3p1/uKh/Wj54bs4vnIxLNYoRAhUcWZqh90Chzxls2BfM3MSRjStiqtHt+LYga2IDvJxd41ZpVCOc2JKj3YYULkYLOH+MEsBHhnohz4VC2Fa/dKIjXmA2HgzZgzuhT4F3kPMg5uq8HdZ7YiI9kP34h9h+5cTYHPGI0LOIyY8CL0rl8HGzz/F1x2aYH7/TnCaTQI3cQh6cAetC32AFZ9/Ik/30YhhhSPnFmePhtMWCwvnZ4qKxqdt6mLjnM8FlCwCX07EhgWjW9G8WDz0E9is8vTuMmPvj9+hRY63cefgVlgFJh02K04LELbJmw3hD26In1JBqWpa658WW5QO7juA8sVLISIoVM0dRMAwpLrnBA42CtQUK1QYG9auQyy7gcNCMWrsZ6herTKOHzuiAGTfvv24eOmKQJRNID4WI0d8iqYNGyEsNFR+x6BD+5aYOnmc+CfwIqR85vxllCheGmtWrkBMVLjkn1iBGicmT5iOYb36wxptUnGxCswcPnoE9Rs2wOQpX6Bvr96IlbzIeHHM0ubNm1GhQgVs3bpVxZ/3FSeS5BQDBjRxX89u3dV9x+47u9yHUaZYhIWH46e1W1Cneh1s/ukn+Pv5wBzrfluOfh0+fBhNmjRRE2bSH/qnW5S0nqY0KGk925KykAUiQYmDudVkjwIh/cuXxOLBvaXCNwlAyJOrPH2eXLsenT54Ax0Kvo1bF4/BIlBljYrArA4t0a10IexfuRCB8uR8fccuHFq2Ag6TAIQA0ZQu7TGocnHcOrgF3ldO4M7FCwi8fQ/2aHlyF8j4dvQnaJHnLexaPBeXDx7EvD590f6dVzGlZnnYwv0EjCzYungBmr31IrbPnAKv8+dhDY5ETIQ/epXIi12zpyLeyvFELtX9tmayVDT5c6Br7rdwZfsG2CwOxDogy1gsHdMXHXN/gH0LvsHds+dw7+xJ7Fs8H1ECQyYBRJs8bS+cPhYTOtZFnDlMzlEqUYGeNdMmoVm+HNi3fBku7t2BIZXLYmrbFrCGBsLMmcsdViz/YgTGtqgFc0w44u1xAkp6jNK/Qex62rplMyqVL4/IiAiBAZsCAUMGKBE6Jk2chJLFS6BVq1aoWrUqSpYqiR9XLhOoYJeZHRMnTUKlylXRoUs3dOvZA+XKlMVP69YrwIiU/NyqdRMsX75QueWkqZGRsejTsz8K5s2PDm1bY/u2TeLWgUkTpqB/l55qxnmLQDYHY0cL1DRr1RLFihfDxg0/SV52QwtbhwhG7GqrUqUKhg4dik8//RStW7fGrl27lBvu5yzfLZo2g88992zjhK8VK1eiXt16qFypFgoXKoZGAmLly5XB5p83C7S5W6LmzZuHUaNGqQkzjQkuNShpPU1pUNJ6tuUJSgkVRpzVgS96d8eGr2cKJMSo2bcdAkW2sEh8PbQfBjSrBJ+bV+GwxcNqMyM64C6+HTsMHcoVR5N8udC/RlUsnvQ5YkzhiLHH4sjaZWiX7QN0yZUHXfLnR+33sqJJ5g8xtX1DxAT7wP/eHQyTCqZR7szoVrUS1s2cheWffYoFg/rCERUloBSHYH8/zOrZBfWzf4AWFSvg8oHjarzTyOaNcWTlcgElzhDOTz3E4faZC+hZuRjGtKiBSJ+7qkWB3SAs/O3R4Vgx/nO0kLjUl7g2LVUA03p1RkSAL+xWixp35XX5DBrnewchtziuhBAk0BMdiu/Gj0Kd3HlQPuv7+KJtEwR73VAgpQZ3R0diYpPq2PrDFPXKt5oROt6WkMha/6TYuhMlQH/9xlXJrxYBAfekpobYokMjIBBa+K22JUuWqJYWjmfitw2VscVV8qJ/QBBOnj2LLdu3IdA/APyYLMco8Rtu9x7cFWAJUn6p78sJuMdExeLYwaPYvmUTvB/cESAxqxm7b1297m7BEX8JNRwA7iv5/Oixo4gMC4eTLUPiD1uUeF9y3cvLCzt37sTu3btx7949BUjcziUhZ6o8JMyeMk3C5YzyVnj7+ODkiZNy7rdx5NhJ7N23BzdvXJMHg0hx457SgFB4UB5QeH8YgGSYltbTkAYlrWdbHqDEQpJdb/wAbZyZn+aIlcLfDDtnJZaKxGl3wm6JgiM2AHHy9OmwcIZjKZCdVtVNZQ4ORJTfA5iigsUfzihsQmyQP0bUrYWtc6fBO8BLKohb8L1/DdvmjUezzJlwcddWmPmKdXQsoqQScYSHqbAsnKHbHKMKc5PExywVhdMUjegHXogM8FHffItiJRIZIdtjJO7sxrOpAaxWqZzMEd6wR/pL5WNRFVw8P+Yr+0wCMHZ5ijcHBCNMICoixFuOj5Qne07OZ4NZIMcaG4WJ3Zph0fihAmDylM1uNA7CtcQiwtsXoQEP4IgJlHhZEcsWJ7MNR3ZuwScCZwF3TrpnPJZwGOa/XY9XiM9jBcnJIh1yfTmxKc1ut8i2h6DE8yVs0NjNbBHoIDgRXDh+iLO6x/Pjx5J/FLgwP8g+BeA8TqBEDY6WfMbWK+7ndjeAcb/4IfnEpYCH4QtUJbYWMW8Zr+sn+Ed3Cf4qQBIzYI6/jSXhyPjN4/jb58EDdG7bHv5+fmp6AsITz8MmeZ7jqviNN8aDs+MzzseOHcPYsWPVZ0/ojwYlrb9CGpS0nkt5Fshceq5zqQp0DzO2GWMc+LkFvvZ8++IJNP8oK65tWA+TPUoKb6vASDi2fz8HTTJ/gAdnT8mT78PvXdH/R/yRJf1mgU8ztnsa97OAN8w4xthnFPhGhWhUeNynzoeVmcsqcBanjNB39+IxLBg3GnFSgbCSjZVKyypA57C5W90MY1is4Hb9uBg71y2V31FwCiAJd0oNrYL9V4tp8njlSHueZJwTrxevO685z9kQ9xl54vF8Z+QXQ4+7oxl5gf5yu5GHjfxh+MOuLU//jeONdfqt8mOCf8axXHK7YXRnxINmbDfccj4nhmVsM9w8HhbvJ7ojJHE7tz1v117r3yENSlrPpYzC2DCj0OXy8d+Pb3MbW4WciI4OwqzePdEpX2F8M3gElo37Al/06Ynulctj19ffwG4xwypP0zzGMyzDjEL+SWEaxn1GZUgztnnup4wK0diWuC7xjJMnfX4XjjNqu+IEdJxRiLfFIk4gjq1VqgXBJv47xA+BqUeOl/hz+gGnQCBb2BzxAmcKlP79lY6RXka68py47XmSZ74w7PFz5G/jmj68ru6lp1vPbZ7u+dvYZoRhbDd+0zzBxtOSOt5YGvs9zdhu3Dtcp3v+NqDI8MvYZ/hJN573kmcYWlpPWxqUtJ5LGYXm7zVDids4RkcAJMbBD39G4f7Fi9izeh12rFyBy8cPIjbQF/Fmi7vA9vDnSfaIv0ls85Tnds/9T9quKggxoR/1m7Dkiue6TUyAiV0uCeO34tX32+iR8k65T/SHx4o5EpbcJp67Hf6LxUqSLQscq8Iv33NAs4r7cyTP6+RpT9Lj+x93+6R9T/qd1DYa85wnmBjrhoztxjbP38Y26knbPX97hvF7zDheS+tpS4OSltYTxAKXcGFz2dVYHrPLAauAk1UAxM45hjgGSfYRUtT0BLKk/RNKrCzkn2oIkiVNYvbwH+sP/lGmDntE3ExYoqnKRtmzAUpsfTh9+jTq1KmDgIAAd/y1tLS0npI0KGlpPUGCQLAJKLCrymlzwsUB4g4xl2yzu9RAWCsHWKvxPP9stw9D5LBrp0IjxiGBc7gjwRgvib0AFN08LjpweliCHwl7/81iurNVj29TtWzZEn5+fv8YsGppaT2f0qCkpfUEKeRIoAW2GD1sZeHC/VuZAhOP32J/txii29z/1DYVz8Qd7rgl/ntcCY49TC0S9v6b5QlKderUhL+/r8Q9IeZcPAsnoaWl9a+WBiUtLa1nVmw9IihduHQBDVs0gn9wAFwJoKdBSUtL62lIg5KWltYzK2OMkn+AP+Yv+R4+IYHqzT8NSlpaWk9LGpS0tLSeWRGUaF63vdCrb0/4Bfq7B6RzpwYlLS2tpyANSlpaWs+s2PXGGZ0vXjiP7u3aIdjXT83MzhalODHNSVpaWn9WGpS0tLSePSW0FvEtRL6BeOXqFbRoVB/BfgJKfDNRQRKH5GtU0tLS+nPSoKSlpfXsyQOUHC4nbty5hUZNasM/wFd1xbnFpZ4qQEtL689Jg5KWltazJwOUnC71Ydazl86jecuGCAz0E1Ay4EiDkpaW1p+XBiUtLa1nTwmgxC/I84vyZy+fR5t2TeHj80CDkpaW1lOVBiUtLa1nTwmgxMlAbQJK93wfoGXrxggM8kccR3EraVDS0tL689KgpKWl9ezJo0XJZrfjwtVLqF6jPAICfN2fMFH7BZSege/VaWlp/bulQUlLS+vZFEHJ5YJdQOn0mVNo2LAG/P3vCxs5ZJ/sJCMRmLS0tLT+hDQoaWlpPbNi65HFYsGdO/wobiN4e9+RbfywL3eKaVDS0tL6k9KgpKWl9czKaFG6evUqateqgQB/P8S5EkDJMC0tLa0/IQ1KWlpaz6wISjabDWfOnEHjho0R6B+o5lbSoKSlpfW0pEFJS0vrmRVBiZ8wuX79Bjq274zgwFD1JpwGJS0traclDUpaWlrPrJxOpxqjdOHCeVSvUQ1BQQGIk20czK2/9aalpfU0pEFJS0vrmZXD4VB2/MRxVKpaAQEBPohXY5T4pTcNSlpaWn9eGpS0tLSeWbHrjaB0y+smGjSuh5CQAA1KWlpaT1UalLS0tJ5ZseuNY5Ru3LyBeg1rw9/fGy6HXYOSlpbWU5MGJS0trWdWBCW+9Xb02BE0aFwXwcH+iHO6J5zUoKSlpfU0pEFJS0vrmZXx1tulyxdRo2YVhAT5I162uUEpXv3T0tLS+jPSoKSlpfXMijNzc8LJixfPo3KFkvDzeQCXg6DEvfqjuFpaWn9eGpS0tLSeWRmgdOrkCZQtVRj+vt6IcwklaVDS0tJ6StKgpKWl9czKeOvt1KkTaNqoNkICAx7OzK1BSUtL6ylIg5KWltYzKwOUbty4hjYtGyHQ1xsup+5609LSenrSoKSl9VcrnrX2k0399dzvsar12yIo8a23kyePo2bV8mqMUpxTtyg9TT2eHR/+NtY8TUvr+ZMGpedQrHg9jeM4aEnpcfc0rV+XZzp5plvitgSTDYiPc0p9zVfWORFigsnveKnI+WZWXLz8jXfAJdvj46Ryd3FbwvFavyoDlC5evIAundshMMgXroTpAdwpqFPx12TkWZYPj+Rfj3WXpKHkWPnNP270lJwq/wiissZ8m2huf7S0nidpUHoOZYCRZ+GXFCixovF05+ne2K71ZHmm0+PppdKR21xiUnmwO8ilAEjWlTsjzd3HOWVJdIpT29zuZE35pZW0OI8Su95u3ryBxk3qw9f3vqSzgJJOu9+UkX+NMuBxc+dPjzwreZkWJxTvUvnW+YjFx9Ofh+WJltbzIg1Kz6FYeRjGSoRLz4LPsxDz3M8Ck+tcegKU1pPFtOMbV4+nmdvkt+ynG6uD1yEONqsLVrsLFoekM3uHmLRMdzGrVEAO2W6T4+zyzB6nns512v+WmPZmsxlnz55B1Wrub72x0tag9Nti/mL60ZiPmVcf5l+B94TtKm9LHo4T2I+TpVPMJftUHk/I906n+16gH8Z9oKX1vEiD0nMozwKO3RLGb6MA9KyAuY+FG43rNKPwoztdWT9ZTMfw8HAsWrQI8+fPx7x58/Dll1+q5VdffaVs3pdz8c2C+fDz94NLroPLZIHTFAOX1Srpy7RVHkmlY4XTaoIrxgSb0wJxJZuN7iOtXxPzK0HpxIljqFe/FoJD/CVtdYvSb8m4t5mPAwMDsWXLFmzatEktt2/fjq1bt2Lz5s1q6e/nL5BvFci34+ZtL5w8dQrXrl6Fl9dt3LhxU+A0UJUvdjvLEXd58ng5o6X1LOu5BiWjMPiv3bAG/FgsFsTGxiYC0JNAiQUc93FJ94+71XqymIbXr19HunTpkDZtWqRIkQIpU6ZMXKZKlRpp06THy6++jP37dsL7+iVM69sDcwd0x4VdWxEvlQrHIbFbwxQdhK9HDcTCYUMQGewtoGRHvFwDCSQhNK2kxDzKh4GrV68oUAriJ0x0i9JvivnXuMd//vlnlWeTJUum8i8tefLkiXl51apVAvAOXL13GyWrVEDpSuVRplxZlC5dDlWrVkejRk0we/aXiIiITIAlh/L/v1buaj2/eq5Byd0knNC6wmZjKRTUDSz7ZA1OeWp3urjP6e5/l+3uvU9fRqFkxIlLYxvN2MZCxnDz/yloDLdcupvBbQJJMRjQvx98fX3gkG1sPmc60G8nw1DhsbncDrPVjJGjRiq3BjwxXrqwe7KYNmFhYZg+fTqmfDEFwz8dgXc/eB8pkiVHnly5ZPsMzJv7FWbPmQlfn/s4JXBU5bW0aPhGagyuUwZRfvfhcMWrrrawkLuo9WEmdPj4Pfh7XYA93uXOjzrtf1PGvXPp0gVUr1EZfv7ekm4EfKadYVq/kOSteMl/Dsl/6zf+hFQCRalSJEP1alXRrVs3dO3aVS179+6NM6dPwyplxNELZ1GsQmn07NMTl65cwMWLl3D06EmMHPk5ihUriS8mjZeyw6LKL+ZdnX+1nhc916DEAtTdJGyHzWJNhCUWo3yTw+Iww2KJUV8b5xM8b2tu/yvEcA0AMozfqOLTMJeXL1+Gt7e3Wqf9fyHFcEvQszltMFtM2Ll9Gzq0bQOzORYWmwUWs5wvzSrrNgmbkCRLu90KsxRw46Wg+/zzz8SNScXr/xuH/5KYLryeyiRfRUuaVapVHaleSIZWTZrBLteXAG6TdHUK9Jzbuw+N386Axi+nQIsPM2L7ghmS9xwwyfEhIXfQIEsmdMuRCX5e55TfejD37xPTnw8Xx44dRZ161RDIb70l5lk9PUCSYhoR1CWfrd+2EWlSJUeG1CmwS8oMo8xkuqoHN45LknQ+d+MKylcoi3kzp0nelnLDwTJE8m94FFq1bosGdaoiIixQlW263NB6nvRcgxJvclb4o0aOxM/rN8Bpd6g3kXgPsxL6adN6LFr8HZwCC381KLHgYAHC7q2goCAVLxZG/P3gwQO88cYbGDp0qHLDeP9/CxvDLc/L7hR/rSa0at4MO7dtkcrailj5bRJA2rZjOxo2bIhGDRpg9syZMEVHKVAy2Uy4decWypQuhaDAABU3DUpJi+liwC/NJHmoTuMGSJcyFVo3bQ4Ht8s1dMVJZSMgdX7fftR/PR2avP86umR9G2Mql0C0721EyzUJC/ZD46wvo2fOl92gFKdB6feKac976eKlC6hVuzICA9n1ZqSbBqUkxfvaA5TSpkohoJQSe3fvUmlqlENcVwO4ZXn+1lWUKl0S0yaOh1MeMp0um5QpNljsLnw6cixKFS0CrxvXNShpPXf6T3S9FS5YCNk/zALve/fVmxusiNg8P3b8GNSpUwN2q9z0BAO5uZ1xD7vEeCxNFRYJ0GCsP26e241K1HO7EZdz586hQoUKiI6OVr8NWOLg36tXr8JkMqltj4f7uF9celriNjkvu8sBP39fFMibG9GREVLgSWHmtOGwPHVnzpoFixcvxt6du1CmRElMnTRRwjfB4rAg1hKL1q1aYPWPP6rKh3HQBd6TZeQFplGcLE2SXvWbNUbaFCnRrnlLVbFwO0HJLk/dF/cfQJN3MqJfmWL4unUztHvvZaybPBwOczTCgwPR4P2M6JI5PXxvnJE8KvlTjtWg9NviNWCFfuHCOQVKAYF+6j5I2CumQemJ4n0toGSJd2HD9k1InSIZMmVIi727dqrB8SyHuGRZxI8MOySfHzh9HKUFlGZ+MVFAySL52gablKeRMWa0bNUe1SpUkzL2gX7I0nru9FyDEm9WVmSlBAhKFCiMwf0GwG62wGETEJGnpImTx6FevVpwyFO9Uyo6q5jZZlUDoENCQhARQchwt+4YrVNcZ9cYx6dERkaqAoXuWTjQDZd0x+ODg4MTu9d4HJeHDh1Cvnz51JsmBCRu43ExMTFqSfeJBZRUAjyO61wa4RnH8HiGwbjwGG7nNofLiW/mf41mjRsJAErYAk4mgcFmzZvj888/T4iLHbt370Z2Aae7d2/DLAWf1WnFJHlaHDXy08TC7mGlo+UpTxjmXElsUapRvw7SJE+BDi3bCHBzuxuUXALmFw8cRNN3X8SYyqVwe992NMz5PvrmzYLwS2cRGuyLem+nQ48sGRFw8xziNSj9bjH9mVdPnDiOajU4PQBByUg3DUpJihAj6eQJSmnFMn/wPvLkyYPcuXMjZ86cmDFjBlx2Kf+kzNh78giKlyiKSWNHIyQ4AF5e93H7ng+mzJiNPHkLYMn3i1Wr/R8ZOqCl9W/Wc9+ixBu2XJmy2Lh6HQrlzotTx07AbrEKKDnw+YTPUKtWNQVKDgEKjtm5cOkSmjZtqgqJggUL4qt582CKiZX9bhA6fPiw6rri/gIFCqB69eqoWbMmvv/uO1VAHDlyBB06dECWLFnw5ptvoWfPnvD381MAs2bNGhQpUgQvvfgSKlaogMaNGyMqKgpmixnNBWIuXrigCn0OoPz+++8TAYnnERAQgDp16qjw6Rd/Dxs6DB999JGyVq1aqW2Mg9VhxQQBntkzpisAdDjtCAsPw3vvvINdO3Yqf+0Cin6BAXj/vXexfu0a2FwCePKEuHbdGlSrXEW9Dsyw3QWeJKYu85KWJBBBqXKtGkiTIgVaNm6iQInbOQkfQencvn2onSkFRhbPi0jfW/h8UG90fDkjVg7oieAALzTP8gp6ZX8ZIV4XBZTckKUT/dfF1FEtSpJPz507iwYNa8HPz1vyraSdSjoNSkmKeTMBlNZt/VmBUprkL+CN117FW2+9pcouDgcYMWKEGt9pl7Lv1JULKFSoAKqWL4uaNaqiapX6qFqtPqpUr4XZc+bAFC0Pe3wITSizNChpPS967luUaKWKl8DRvYcweuQoKUwbISomWnW1jZkwBrWrV4VDQMViNePO/fsoXKAQJo6bCK9793Dw8CEUzZsPa79bKKDkUCDCJ61Ro0bh9u3bWLZ8Od57910MHzwE169cVU9Tffr0weRJk7F//yGsWLkKOT7KgYF9eqlB01dv3UTXXj2R5d33sei7H7Bjxw7VQhQSGYGPsmTF7k3bFMBN+HwcalapBnNUjOoqtMm2LZs3I1fOHPD2uY9YUwwaNayPWtWq4cqVK7gnce3UqZMCOLPZBIdAT/ce3fCDwBvjxFd2r9y4juw5ssHX+4E8ITokHDaZx6JkuVJYvXCxev2Xbs/dvIHqZSvBabG5B7+ryl4S0zCtX0oSyCSgXathPTWYu12LVqoLV1VGkmZMw7MHdqD266kwukRJmHx9cOuaVOyZX0fHXB/Aa9dP6FPkY7R890UEXTsHh+RZ91g5neC/JqYOZ4hmK/B1ubfq166D4MAg1cKnk+63xRZLh4DS2p/XIVWqZHgpXWqsWb1MypgHuH/vAe7ckbImVsoTgR+OuTt08hjKlSqJzq1aYueOLQKn53H69BmEJ7S8K5MyREOS1vOm/wQoFS9SBLu3bkFwUADy5s+DlauWw24z47OJAkrVqsDON8GksB099jN0atdRnqDssLAFyeXE4m+/RY2SpVThyxYhgpJqBWL3mMOOTh07YtSwEQosLGb3PEQOG+GET7pxWDB/PooXyIuYyEiYxf2qDetQ4OPciAmPSOxCCyYoZc2G7Rs2qYLmxvXreO/Nt3Hp7HnV7M2nuXZt26Jf716w2izYun0L8uXJDe87d1TrEP3x9/fHhx9+iGvXrsHutKFlq+ZYsmgR7BIvzvi8ffcufPTxR4iMCE+cXTfWYkGVWlUx7bOxcr42te22wGDN8lXgMPMtQacGpd8jeTJnixJBKeULL6D9E0DpwuHdaPBuegwr8BGivW+rtwxXfzEOjd/JiAkNK6NL7g/R7O2MCLx6Fnap/F06vX9TTB7Oam6WvHvgyCE0rFMPwQGBamoFnXa/LU9QSpnyBWQSUDp8eI+UFxwqECdlEcc+irG8EPg5LKBUulgxLPxqnmx3tzgbrd4sx4yWJA1KWs+b/hstSiWK48CuLVLxm7Fk+Q8oXrIwAgN8MXr8KDRv3BBOgZ7o2GiUrVAeTRo0xozpszBz9mzMmDkTfXv2QJkihRXAcJbajz/+WM3ITFDimKZGDRth/JjPFFiwNYjQcu/OPcyZMw9du/VEzo9y4P03XkOAry/MTjvWb96IEgULCyhFqsKH3QZsUcqeOQt2b9oqAOd+NbdOzVqYOHac8pcQlPvjnDh8YL96g23s55+Jv9kxe/p0zJQ4zpa4Tp48GW+++SZOnToFq8OCHj27YcnChar1iKB08OgxBUrR0VGId7oSQMmKqrWqYcH0mapFiYB34Y4XaleorsCPBV8ci1Oj0tZl35MleSzWanGPUUqWAj07dVXX1QAltnpcOroHjT94EYPzvY1Ir4uIlQooVqC0b6m8aPHBS2jwWjq0y/Y6gm9yHiXmW/FXp/evislDICWknjh9Co3q1kNEWLgGpd8pA5TWb9qAFClewIvp0uDYsf1SLslDojzouQSWCEpMTzU9wJVLCpTmz5op293Th1BGOUszAIlLDUtaz4v+E6BUumQJHNq7VW7+GETFhKN2nVoY//l4TJw2UZ5CawmMmBEZE4Xc+fKicsXKGD9uAsaNG48JEyZgwvjPsXTxDwqAOJi6mBQU/fv3V91dX86bi3x58+HUseMKLGKio/HFF1+gYP4CGDJkBH5YuAQTxJ9s770jT7oBsHE8wKafUapwUcRGRkth435SC42KVC1KuzYSlNxjpRYtXISaVaqqfv/dO3aicvnyiAwLlXhY8Pm4sciRPRvGfzYGY8eOTbRx48apeNmcVoz4dBgWsutNjRlw4faDB8iWIyu8bt1U3XkOuxOhEZHIlS83tqxe6+56E3jaLk/mdSq6QUm3KP1OsUVJdb3Vx4tp06Fj67ZPAKW9aJPzDQwrnRVRd67Aysn+5Nrs+n4ear+VCQ1eTYuueT5A8O1LCpTkv07v3xCTh6Bklbx7+do1NKnfAIF+/rrr7XeIEMM3ZG0uBzZt34zUaVLgtRcz4OzZYwqU2KLkbhSVPCzpyZa7k+fPKFCaMX6c/LbRF7dnWlrPuf4boFRCQGnPdqn4+b0iG/btP4QiBUqgW+/uqF+7Bux8FdZqRvNWLTFsyDCBEfe4HraosAWH4OEUqOFA6datW6uB06VKlULvPr1x7uxZNTjcGmPC2TNn1SDuUydOqlYcvha+e9cuAaV3EejrC5PDhp+3bkHBXHkRExGlmqgVKEVHIYeAknuMklN10fmK++IFC8PrynX06tYd0wXA7AJJTqcdc+bORvmyZcSPcNX6ZBhhjku2KM2b9yX69uqlut4ISuFR0fg4z8fYJuGz642tR77+gXg/8/s4tnsv7HJ+hKeZ387Hp/2HiBv36+0alH5brJgtcs16DuiHD955F0P7f/IoKEkevHhkD1rneAODK+RFxK1rcp3j1dgzU2ggOpQpg+ZvvYSOuSSfeF1Qc9toUPptMXmYtkz7U+fOom6NmmqMEgcp67T7dblBKR72OCd27duNN954Fe+/9QZOnTosacqxRmx1dudfA5QuXLuMOtWqYdmC+ZK/LfTF7ZmW1nOu5x6UCCMlihfHvj27BRjcr+/zw42DBw1FpldeQoP6dWA1m2CXfevWb0DmzFnV1PzsAlNvfglAsIWHx3H8D99aY8uS0fWmBjCy281qx+GDh5A/f36EBAXBbLEgMjYWI0eORLYPP1RjJxjG4aNHkfkD+S0FOo8l3ISEhSGzuNmycZMbeOinhNuufTv069MX5UuVwZWLF90tPHJO3t4PBMgyq8HadG+MFaBf9NMqQHbnzm01Nstqtsg+hxpzNWz4MLQWyIsRaKK7eV99hWLFiiIiOER9osBqs6rB5iuXLFMDu9VYA0lHFpbuFaaq1uMyKh2z5JcIjj2TJSsW9TQuacZr9uDmdYzq0h4zRw5BhD8/3BqnWkMIowd+/glfdGmHyT07IiLgHpzxbMl72I2h9WQxdZi2nAX9rIBSq6bNECp5Wbco/bbceTNe5VOz1YLbt71wx+smLOZY1dLNKRZozILu/B2nyqSw0FDERkXJPv09Pa3/jp5rUOINTiAoX7489u7dq2DCAIv79+8ha9bMaNOmlWopImTExpoxfNgI9br9J598gmnTpqFKlSrqq9o8joBUXKCLr+kPHjwYQ4cNw4zp07Fh9VpYYmLh/cBbgVLTxo0xfcYMVK9dE1XlCSxn9o8QJGDEcH18fJAjRw71hhohim/P0V8OEt+zhwMpOaZITAqwnzZtxEuZMqGOPClbTOaEs3J/moXTB/AYTk9AfypXrqzeuON5sNUs1hSLBnXr4vSJk+r8YgQGCXolSpRQ0xmwVYyDvzdu+Ml9/lII+gb4o6Tsv+N1OzGtdGX9x8RUU8aKhlAkIO3ga9bWhLFfCSCl1tntGRsFhykGcXbOQSMAJUfzn9avS7XKShreunETrZu10F1vWlpaT13PNSgZhSghiTCSCCFiNpsVp8+cxJkzp8SNsc2B2BiTem1/4MCBGCYgtHPnzsRj7969i0aNGql9gwYNQv8BA9Rr+e+8/gbmzpylWhIuXb4ksDVMQdTxkyfUhJDbt25Tcx/R2BLF77rxeI6B4sBwggphLFSe1hgO481xF5GxMWoKglvXb6hB2YbohsfcuHFDQdIAicfSpUvVJJYGKDGc7+YvwKfDhqttfIWa29ilN2nSJDU/CmcJNwvgEYg4IHbN+nXo0b27mjeF6aZalDQo/SEpSEpYUU/kHEDPVjpJV6a3AUoGLHFsGrtdnXaODUl4kufxWr8qpiPT77zk5YZ16mpQ0tLSeup67kHJgCVWTlyyYCVo8KmdgxZdLvdYJGUOKXTFDDeJ28UIG4QSDpjmutrPbjlZ51tvvbp2V60FnDLA7ZeYVIyEJ5uAC8esGH4ZcaEfhvG3EV8Vviz52rPqhhNw4ZghQ3RDPwhLj8eT4XBgtlXiEh4ahiYNG7lnAU+IM+NLSzzG5v6ESqzFjK49uuPSxUsq3txnVOZPWwYgUAzDOGfDPPc/s2L0xbjgObGbjWZcY5pxns64eNgEjuwc4O0U9xxE+4yMUWL81fkl5Bfj+v1dYni8FzhWsEWTpoiQPP9PvPVmXEsjLxvLP5MWxvF/d5r+F2RcL8OYxobptNZ6XM9919uTzH0z0PgtM1ZY7puDlZOyBDfGTcMlC2O2ANWrV091l7FiiIyKxN49e1C6WAns3rZD4MihxiG51DHinxTYfLrlW0/uQdG/zxge/XCKqbEu4gdnazZkxM0zfonHihGyCGxsxeB4JJvEndsMN55GN5xY0i77IzkRp9TUahC3h59PW57+GsBmwJvneT3TYvTFeBpyNuAnl2m8ro+nK/OcnHKCcR8zIe3fnQY8BwIBAdyA/7/7uhlxuHL58j8GSowD8yzTgK22ng8+3P5HZPhJv2h/1B+tX8rIM7xGfEjk0ih7uP3vzsNa/379J0GJxpvCDUluUHIf4LbH3fHmYesNu9GGDx+OatWqoXbt2qjBsT4tW2LLzxvV22Ws7Ako4qMcK36x0hMjvLCy9JThv6HHw+QnMNyAJUey4KclyB33h249f9PUsRJnNbM2TX6zNcPTjSH6TbcEKbaQEexoT3L7tOTpr0PAUhVWUhlwgDvj/FvhGvt/y91TF4MSeyR8tcnjt2EKeNzwQzhyiBu72OP5QImXlg2GNB4gSOW2J7h9ghLjYLh3b3jk8F/EL8H+jFS+kgqG+Z6AQFB4PC/+1WJ4DPfSpYtoJA8xQYGBkvaShiroxxLhL5BxnkZl+8jHZHkPiv1aWiS1nedlHM9vNTr54CPbmH/UIU/5tJ4Ux1/b9vj2/49+63ju+aXx70P9mTgYacvrZVwrrhvLP3NuWs+nnmtQelrijcObyOjq8vPzU1/655gltS3hBjNM3Wbuu1uZsfr/0SPH/D89YCHgWdD+WqGiCt8E+7sKCM/4sBKw2S245+WF/r36wGGVtCSsecSLZpwTjcd6Lv82MbyEuHFaBxpb/DzT2Ignp2QwGoY83x6i/ULc5GmP/vhNia+qAvVstSSkq0ATxHxp5AfGz4jznxH94X3BDz3zsz6sdDzT4s/6/3vEOPCePH/hHFq1boyQEAGlxHAVebpX/yIxLCM9XRKPFcuWY/369SpObF3m26SGG5qRLsYxXD5JhnuOn7S6+C1Ki+Q9hwJu9Vz3FE/LiJNnPI24Gds83Rj2R+R5vBHWL/ynOzFePeORwTMulOH2j4h+uMtqB+bNm4cTJ07Iw5p7GhVHApBqaXlKg9LvkHGD0liAGE+LnnBk7Ps33GRGXI04/VqhYuz7NTdPW55hKVCymfHpkCFYu+JHuOwuWG3u9PVMU2Pdczv94PrfJYbHcBV00GSdFaKxVNtl/aGxQHbbX5m0Kl5MC6lBVV6UsDn7umpZSRDjw5YfQj7hnulmXIM/Kh7PeyE6Olq1sJ49e/YXafBXi+fBtL9y9TLatmuGwEA/2Wac198DSsY5c1qQ2jVr4cH9B2qsIF+q4HhBz/QwzDgmqfybmNdcTmzevRmbfl4v11XKmr8AlIy8QOM6zTOeTF9juxFvLv+IGAb9MywsLOwR/40WbRUHMYecLI1TsfDFF7o10o1+/REpvxPOgZDfsWMHASWT+O0ud/6ov1rPrzQo/Q4ZhQjNuEGNpacZbv9pMQ5Piuev6fe4eVryDMsV58Tde7dRuVw5hAeHwm6xY+u2HejWrTt69OiBfv36oVevXujdu7ea/oDG33xzkOf2+Hn+ERnx8TRPGb+55HgvFrBbN2/B7Bkz1YeL1SB+j1ZFfqiYn5YxmaLltxug3P4+GtaT5Lk/KTePi+4ISq44N8RzMH5UeIQCJkOMw5YtW/Dee+9h1apViZXNnxHDZcVFvxcuXKjeBiWM0e+n4f/vEcNhHC5evIDGTeogKMjfI9y/B5QYB573N/O+wphRo9UbjPw+I0Fp+qyZ6NmzpzLmW2PJ6T14TFJpZPjLtB3w6UD069tT4FcgRbbL/6d6WgyLxhbBuXPnYvx491cJxowZo1pcTp48qboUGRfjejNuf0TGedGf48ePqylO+JYx04HbVdpZ+J1JcSPhsFWOk+F+8803KFSoEG7evKnCp/3R/OWZtrGxsajfoA5OnT6qHthUS/Dvu+20/kPSoKT1t8somCk+xS1dughDPxmIOJsUwjYnzp69gK+//gZfffWVKrD5Dbv69etj0aJFWLx4MVasWKG+f2cUlvSLyz9TcHoe7xk/yljnUhXcUsgPGzwEr2Z4UX3I2HhL0Ch8OdVDgQL55Gk5QNyy8OUTs/gp3ru74dzhPUlGPB6Pw69JXAoScGyauwIyxcSiY7v2CA4KSnDhBiVvb2/15qaXl1di2v1ZGZUeK7BKlSqpFgJuoz0N/39LDIPhnzt3Bu3aN1ddb393ixLDJ6A2lDy6f+++xN/80HbJ0qXVLP5du3YV+O+mphPp3Lkz5s+f/7tBafDnwzGgX282v7rzDk/v92WN3yXGgRYQEIC3334bDRo0UA8mjHPjxo3V3HDt27dX+4040f6IjPSicehC37591UOP4aefry/69uzl/vSS3Fd0x7eGDxw4oKZBYRzo7s/kr4dpywcLG+bOm47Rnw2WezVW+S27tbQekQYlrb9dLKhoFCGiZ6/uOLBnD+IJSnYODiZ4uJ/S+cRXuHBhNU8UC00WZNzOdaOwNIy/3RUJQUMKUYaRUOhxQaDgP2434qDcy7EcfG0UwMZ2Q8Y6l2wl4Mzu48Z8huJ5C6BKiTIIDQxOPJbxIijly58XwaHeUreZ5cmYXV3iJ6OUEE5iIa+i82hcPM/F7YaOElYTLHFFTI5ULQ0cM8Xw/f38kefjXGoCVOVGxDC5z2q1qPTj70T/k1Ki/4neeKzIqhzPeLIrj8bJWVmhMRyjhe2vFtOK4Vy9egUdO7VCaGiQx3n9fV1vrPQrlCuHQP8A9/kzrSWvlJVtbA3hNrozri2Nv7n8hZjmCWnLVpXhk0Zj4IC+fPNBbf9ToJRwnOfhyk+JFyHko+zZsX//fnX9jDhzvraKFSpi9KhR6rcx1YnyJCkz9NhvhkW/Df8ZrhEO7dqVqyicLz/sZgtcnGIlYZ8a/yZLd75yb2P6KK89wuC94F4+svmRDSpdxV/VaiXL02cOoV6DKoiMChL/HRJHdYSWVqI0KGn97WJhSaOiY8JRoVJxqejOSaFlUQUnoYIDV+2yjLSYUKJcUfy4Yininawk3FBgk0I0LCQcF05dgM1sw+Jly9VEnz4P7iPSFoPtu7bAaoqWwlAKZYd7Qs37Ad7Yd3SnPK2aVQFskTDMNgvCgkKxZuUajBo+Cl/Pm487t++pLjYL3bmkcmLNxP8KcqSiExvQqz/Gjx6H1i3a4Ms5cwQ+rFLIEqLs+PnnDShUOD8iIwPleJvqOuC4q/CwUKxYvhJDhw3HV1J5+vj6wC7g4lCgwbcmrfC6fRPTp0/DuHETsVTc/vzzz9i88Sf4eN9XIGSVeHvdvo3FPyzE1ElfYMHX38CX447sVjjk+Ac+3pg5bx5ezPAy5s6ci5/X/4zz5y5IvJwSn2gcPHgAMZEhcg4OnDx5Gg8EplTFEycVt8STEBUdFY2jh4/AHGuCjfGSMB/Ik/7X33yNWdNnqA82cxJWA4a4tEkFM2ToEHzz9ZeIcxLExE/XXwspFCs9xvnq1cto2by+gIqvGuPiriH/IlCi3+7sq8RrfuTIIXTv2lVN1so48Vrx00dly5XBt9/MUxWyjS0YkndUl5KkGY2AydZRtpZ+9+13WLN6jVyfKHlg4JQeAgiSf4eOHYrBA/ohjg8Rks785IivXOdly5bhhx9+wObNm9X1MGBDhS9LTmPy448/YvnKFTh8+LCa3Z+tNArWhNqZMrwNma95T3kH+iPzu2/j0N69cn9I/O1xEj9eWyfWrV6LkgUKICYqTM3vZpWHmbCQUKxfsxZLJD/s2bkLsdExsKs3WCXucv15D0WERWDPjt1YsmSJ6mIzxiQxfjz3m9evyjEmiZcNfgGBmDxlGt5/9y3s3bNL8u1ZREbIeUnejQ6Pwk2BYZYRJnMUbnt5wcTj5B522uWBiXPgiZ+hESFyP3hLWtsRK/cEvwPo7x+IH5etxMqly9TkvVa5Rhzz5G5RciI42B9lyhbDvft31G+jbNLSMqRBSesfVXh4KAoUzIXQsCApXI03Tlh6S2UiiwirGSUrFsOqH5epeo97Wf05pDLctmUnKpeqhPFjJqBR02aYPnUabsnTr5f/PWTNkRn3vG7IU6mAivjLCmfp2uUoUaEQzNHh6k1Fq1RE125cQ7VKVdChdVup0Oar2diLFSuG4yeOwWzhrOUJ3SMJFYqa6kGArU/3Xhg76jOcPnUGRYoWkafua+KWwGPGtm1bUKhQfkRFBklBLsAlBf31GzdRvWplNG/aAl/PX4AefXqjfMUKuHThPFxSaNsEpHbv3onCRQrgs8/GYMni5ahesw5eevFFNKhbC0cPHRDgc+JLAaNSZUqjb6/eGP3pSFQoXx5Fi7OQvy3AZcGa9WvxccH8yJTxZRTKUwClS5TB1KnTVcV94eIl5MmdCzcun1NvaHXo2Bndu/eQsOVpXc5RfdNQ7MeVP6Jq5SpqnBPHXx06cgQFihRGt+7dMGfWbNSpXUd9OsezG4QwNe+ruRg7eoSACr91J5X231Dh8NoQOM6cPoW2LRshJCgA8S5eLO79e0CJULhkyUIMGzJYVepsqWC6EIjKVyiPJT/MV7/NNqfkBTdEERZoBGF2bTVp0gRjx45FsaLF0Lh+A8QKrLJVijA/YEQ/9O/dS0DJpb7ZeF+guUK5sqo7bMqUKahVq5Yaz8d0oJ9cEqLy5cunxkONGfsZihYrik8lb3P8D9PMIWDsCUpOAScfSbus772NYwcOyHlIfhBQ4oe9Cfo/rVmPgtk/QnhIIMxyT23ZsgMFCxREvTp1MXDAJyhRrDga1K+Pe3f5+SOL5AebAEoA6lSvjSZ1GmL8uPEqz7Rr104N/mee4VcC8uTKiUvnTqvvbY6fOBmvv/kOMqRPjUIF86Fc2dLYs3u3PADYcWjfAZQoXBghwX6S77yRV87tp00/qzLDJXF12Qh1VvTu1wsTxo9V93ys3A+LBY6KFCqGZg2boEObtsibKzfmzJ6jpiThwwOBkPdt9RpVcOz4Udn2x8c6aj2/0qCk9Y8qQArTYkVLqKc7hxRaLMQFRaSwcoNSuDw1lqpUDGtWLZd6j3sSQEncHTpwBK+kewWf9OmPsKhIVVBazWZcE2h4P8u78JEnRIdNCkQpNE0CPKt/XoOS5QrAJKBEIIi2mNGqZQuMGDJInoYjYDZHCxzFSIU/B81bNIFdjmUlqFrAJEzVmiXhskWpb/eeEm4/NfN6L6nE2rVrA5MpRty7W5SKCPBERgSKewciYmLRrHkLjB45QuApGtHyZB8rx82cPQttJHxrTIyEbZFKtRxmz5ku4MLuMScCg0NQpkwZXDh7Sp0HQenStWuqRYkfO2ZLil9gIIqULIapUybAKYU/K9JDp07g9Zdewu0bt2A2WVSrgEPifPnadeT46CNcv3BaPfVv2LQZH+XIgaAAX9V6wVYlk6RfM4FOAhErKFZmBQoWwA+LFqrKhYNt+fZRy5YtMXr0aFUx0yzi9vsfvkPXzu3lt1ldQ16nv1qscAkGFy6cQ8e2zRUo8RMwbpD560GJeYN5ZNCgAZg8cYLqLmIeVvGS7eXKl8WcGV/g1q1buCrX4/L1G7h9547Kq4w3u7XOnDmTUHE7cP/BA+TIlh17duyUa+SATUBpyOiBGDygP+KlEmc6f73gazRv1kQBB/2IiorC/fv31fEEMr7unitXLtWCEyN5yyTAcPfeXVQoU1a1/DBuvwAlibNvUCA++vA9nDh0SB4k+KYZW5U4sW4UWjVviU8kzzNveolfH3+UE19/9ZXyn/mQc8wR9po3b4qY2GgFSitXrESj2vURGyq/BbjZjX7v3j3lnnF9IOeaPWtmnD9zUoDcjOhYMyZPmyEAlgdhoUHid5RqBeMHynfv2o0iBfJLXvWW42PRvlNHdO3ZTUEO70eC3R1J14IF8+LM8WPy24aDch65cubC4X2HYIk2wRJrwqkTJ5Hzoxy4cvmKnCPzLssdOxo0rIN169bIum5R0vqlNChp/aPy8fFFuXIVVAHPQktBiRpjJL9lf7glFmWqlMDaNStUnWeAElsrdm3fg7zZ88BXKglWKKxY+E28mz7eyJI9Mx7cuSWFqF01z/PJfPVPq1G2fCEpMCOkErDizMXz8pRaBPfveEmBy7FEAhWy9JHCuGSpYrhz6wbiJF6q4ksIU32GRMLp0607PunbVyoSG2553USePLlw4MA+BUpbtmxC/vx5EBHmL/slnAsXkFUqv1s3r6vWBraG8Vt+V69fQ2Ep/COkkgkMDFIfab5y5YLExSaVg1MqGyfq16+H76VidDn5JhVbJWQplSMrHotUtqHRUWjatiX6SaURJxWKVfw/e/Ui3no5A/wkXdj9ZWWXjSzPXb6MnDlz4I6EQXj0DQ1B0RLFsXn9OgWOHFNzXSpuvol0/cpVVZn9vPFnebIvi5joGPVbtTpJ+OzuqVu3rlrntbOJfb/we7Ro1lAqvRhJM7l+UgH/1WLYjMO1a1fQu0dHBAf4qYr/7wIliufap09PTBj3uQIlY+oItggVL1kcb7zyEjJnyYJX33gHr7z2JkqUKKm6oNR1lOtpgINVfkebYlG7Zk1MHDde5RV2hw4eNRAD+/aGiy1Skr8nT52M2rVqIigoSAGWMWkijQDWv39/NRib/jIe/M4ju5pmTpuOkcNHqLA4E78nKLHrzS9E8uB772Du9Ok4eeI0jp84hY2btqBlq5bInzcvvK5cV3ly2owZKF+suEA47xl3dx+N47Q+ypYVRw4fVPmJY7PKFC8t+dBXxYVxY9gqfIkrPxCe5cP3cen8GTjZGiv3/1KBq3JlS8Iq972DECThsbtwh4BS4UIFEBbsL9vN2LRjG/LkywM/Px8JO051aW4S8C8tDw0xEZK2AnRdunbFoIGD4bRKXuTDgtwfnIC3ZbPmmDp5svosFI91CFTVqVsTCxZ8I79ZBrmvq5aWIQ1KWv+ogoMDUKlyaSnIY6RS4OR87qZvzpiuQMlqQsWaZfHThtWPgpIU7ls3bUfJAsURFRYigGBVoBQnBd91b2/kzpcLPvduy2+O9ZBKSCqcVet+lII0nxuUpCBf8uMKZH//A4z7bCxmzJiJSZO/kCfaaRg0fBg++OB9nJUn8zj6SUCSMO1cxjEMB3p3k0K4fz8BIbZY2TBlymTUqVNLKsAQBUpFihREuIAS9y3/cRXefOttTBz/Ob75ej5mzZmLabNmYdiI4fJ0mw3BHGNksQkwlsGq1cul4Gal50R4ZDSqVqmCg3t3IU7SxiGFuFUqDb61Nmf2bLTr2AEVa1fHS++8ji6tWyCec1DJ+Z+/dhk53nsFQT4P2AgngOeO+5nLl5Dz45y4e1lASdIkWsL5dMwYdGvfTipcs4IgjpVp2aKFGp/E9Owr51iuNMfZzFfjYRYuXqzccNqG8uXLq8pPgZJUaAu+W4AB/XpJRWaSilK2/w01DkGAsHBRoLdz+5aS5iF/Oyi5JG999tlozJg+zd2iJFDKqRrYSlehYgXMmTFFTV9w4co1nL90GdevC3AIOBBwmH4hISFYu3YtevTuhYrVquD111/HFxMnqUqd14AtSp8OHaK63gikwaHBqFe3tuoi5puhbE2iPzS28JQoUUK9TcaXCtiqtHX7dmzduhWdO3REz67dFNzYH2tRMkAp2/vvoLBAUaWKVVG+QhU0bdYCU6dPwf17d+CwCIgJXPQUCBvaS66znB/HOtG4TtAuJ+D93bx5kn9tCAkPR7MWLVG6VDmJ59cKjBhHA+r4htvHObLj6qXz6oHGJnl32cofUbFCGUlTu9qmPrEkabp11y6UFOiMCA2UNLEgQGCoRJlSkm6rBfr44OFChw4dMGXSeLl/5AEiIhQFixbBp6PHYNfOPdi2bTu2S1rs2rkLzRo1xni5511yj6lrJfdCw0Z1sX79WvHb4yUKLa0EaVDS+kcVHhGCIsXyICDgnhSMVgVICpZY0cgywmZCpdrlsX4tW5TYLZcAS1K4792zD0XyF0J4cKCq+NWTrRR81+7dQ+asH8Lf5748jVrkaVOeZqXg/XHtSpQslhfm6CgpTJ1YumwZsr77Lr768ivMmjUH8+Z9jblff4MvpVDnOJ0oeepnQc2CM7FFScJh607nDu0xeGB/NyjJE2mIVDJVqlQWmPheCuWtKF6sCCLCOT2AAwt+WIK33n4XM6Z9IaAk/s/9SsL5GrPnzMGqlSthjokVd06BwQ3IJSDD1ppbXnfRs09/NG/eHFHhoarSoJvFS5agqFQAn38+FodPHMXdQD907tcTPdu3kYrUplrOLl67iPdfTSdP8vfckCfpyIqRoJQjRw7cF5AijMUIdB0/dRoF8uRRUweYBZYaN2qEJYuXqKdvVmat27RB0cJFpAKarMbDTJg0EeMnjFcfh/Z8E5EtH3PmzMLMqV8oOFUVokDMX13lGKB0/vxZdO/cDiFBgaryc8OMQgHl7qlK+Z2wyvQVcF6+fClGffqpav1gS5BqUZLtVapWxjaBfLZwsDXILJWz0VLEvME3zAg2HBt34PAheMk1qyxwPG3qVHfaij9sURox5BM4LZKm4ie7taKjIvHTTz+p1/fZzfa15Cdev4jIcHycKwdq1qqBMWNGYfiwoRjx6Qg1LQTfWvtZ8hivF8FI/rstAZT8JQ8XLZAbh/fuhklA2WSSOLO7Ve5Li5VdYAzbpcY9TZBzdcOge8wVIYmDt6uVL4dv5V5yyTrzQGRsLH7eshV169ZDntx5MGvGDDXgnedGUMqZLSuuXjivHkjoz6o1q1FUHjKcAju8z+IlP7NVd+vOHfLwUQih8mDFcsIk+0eOHoV27drCLOHcu+8txxXBxXNnBQTtCJRzeT9rZpSvVAkDBw5G79590K17d9XS1qNbdxzYu08ATOIv9xTH09WrV1vy0DlJG3b//wV5RuuZlgYlrX9ULNxr1KyGC2dOI06esqVklMJbTApNV7wDEZYolKlSGmtWLxNCYhuTW+wO45s8hQoWQGRYiBRwdjXOwiIVkJc8uWb+4AN437kjBS5blAQgpNBdsnIpihcqCFNULFw2F7Zv3oYcWT5EgL+fggIW3nzSVxUJK4CEpfGEqYBJfjNsPr1y8kujG4HLDVIJ8SmfXQ7FixdFZESwagXatfcQsmbLAT+/+1LIu7sYWRi7XDS+rcMn8jhs/nkzysvTd7OmzVGxclUMHjZCDZh2WPlWkBUPvH2QSyqbvbt3qy4/tpJFS6UxZPQIdGnRQionqczibLh0+Rxey5gevvcfuM8hTqBH7Oyli8iePTvuXbsi5894xyEq1oyy5ctj7Zo1uHjhIgrmLwBvOY7jQhhXwhEH4bL1Q1Xcss0wnreRTnFybXp174YNP65GvMAAz4lg+VdXObwWvGbXrl5Bu1YtEOjr87BF6W+q75guBw8eRPu27WAx81MjCaAk2yuUL4utKxdL1rWqt8XY+sG5wuySZhz7w+9GLl2yVAEW05xj1+rWq6sGPxNCrFKJD/z0Ewzs30vuCclncn0J/oQzpj9hZI1cu3cF+A8JaEVEh6Nk6eKYO09gRe4J1fUsYTGOxrVS+dlIH67KbwK1f1AACuTOhtNHD6h70Sl+80GD01uwBZYtUfRnyKDBaN+m7SP5gescg1RaYGXF9z8gzspB1rJd8j9bG2MITOs3IPsHmfHTuvVyjAs+D7yR7b0PcOXMBcTznpD4rV23VoCnkMRV4i1AyLdfeQ7bt28VUCqM0FC5p2Q77/djx44ij0A+gWupwH29WrXVQwehLUJAsnTp0lgwf74az8eXNxhHGvOLumcl3naJB+G6ZtVK4o+PejORaaGl5SkNSlr/qFjRDRkyGKtXLJfCUkDIACX1lOtEhDkKhUsWwupVy2TbL0GpoAFKUnjyCZevzweGhSNL5mzYuWWHPL2yQHQhNDIKTQUm8ufNo7qV+KmUsKAQ5M/Dt2BmJxb6BBdVySVAAMPxBCW64/aOHTsmghKPo3vCBFuAikhlwW606MhQ1QoUEByO4iVK4+t5s90FtFQK7FpzD2BnywJbH1yoXaM2jh44IoU6x/zwXGS/VIiczsBmMeHK1evIke1j3LpyU73lYxfYi4wxoUWrNujXpYeqbHmuN27cxGsvvYKb126KX6wYzOKXGecvX8ZHH+XAnauXVEsZ3/Bh2Ox2bNu6DWZOn4EunTqrN904BorHnjt3Dm+88Yb61INR0fAcjMrGqChtVjPq1KgucHpXLiHTUK6fXMO/usrh9WGcLpw/r0Ap7JEWJbebv1LME0wLfhqmaqXK6sPO7mss6S7LcmXLYN3S7wUa2BpEcJD8RFiSPHTT6xYyZ86MO7dvqxY8vhgQbTKpOYtmTJ2mKnKrAMHgUYMwdGB/xAks2wj9HNgv7lW6S9icNbtixYpY8O0CyTd2TJ8xTUFFWFiohCuQLG6NfEpLGpQCkTPbezh2aK9qEVKtqQJqfCFBfU6EcCZ+bdu6DVkzZ1HTD3j6yzf4cgmI+8oDCqcyUPlR8jenNOAYKbYkNW3QECOGDFMQ6Svgn/X9D3Dp9Dm4OIZItm3dtg0F8ucT4DTBKg9RnMaCDzt79uySh49i6i1ZDuAmKMXGxqg3/lavWo0mjRpj6cJFCs4IdexGZitdJUmXaLn3jXFjzC/G/c1rwBayUydPoGXTRoiOjpRrFKdBSesX0qCk9beLBbMqrEVxAjcnThxD+1at1HxC/J4VB8fyO2Us0GIt8pRatiTWrf1RPV0aYsHMyQ0JSuFhnPDRDTaEEBbMrVu1EwgqiE0/b8XWLTvRUn43atwMxYoURWxMjFRM8lQq7nZs34H35Kl2xIiROHv2PM6cOau64NbL0y8L7ieBEsNmEz4HzbLA9QSGa9euqZnEixUripiocAUuhJ6Nmzbj7TffwNjPxuL8+YvKZsyYhZ07dyeCUstmLdGjc3cBwCM4dvIUjhw/pfyzxEZJfM0IDApGgXyFMajPYFw5d1VAcDdaNW+LrB98hN6de0n6cW4ahzy9m6WyKYzuXXri4L4DuHTxnFRUJpy/4G5RunXlglQcEiZfqxaguXntBt5/911k+TCz+jQLKxumDcfHsMVi4sSJ6jh+puTChQvYt2+f6nrjpy14zqysz585LdewpXrrkKCi5sJiz9dfLKPSu3jhPLp37ojwkOC/HZSM69+ofgMcPHDQPchZ0k7No1S+LH5c9oNqFWFeYCXMbmV2vYVHRKhxXqzQr16+gsMCo526dMYH772vxs0RVC0CBROmTUDrZo0REx4OswDp4KFDMXnSZPW2HN+mmy2gzy7Va9evK0hga0rVqlVRo3p1HDtyFF43b6nv8H333Xfq7TSmmWerG8+B0BAkaZfzow9x7PAByW+S9yUd+faiMW6Q58jzYndc23btULJkSdWSxjFzq1evVtD39by5AvZsibJjyOAhmD59Jm7c9IKPry9Wr/wRH2fLLnlyv/KLb1R+lCUbbly+ijj1wODALYGvjBkyYJW4vSfQHZkwRcWuXTtUK63RosRxRew+ZpdjtqzZkC9vXty7fUcAT7bLubBViW/VcXvnjp1wXe4jXie+Zci5pSIk7ZkOHPP35exZmDRe0lv8ZeuXnKqW1iPSoKT1t4uFLo1ihREVHYFGdeuorjLCEMcBubum4uSp0oJp06bg5KljUtDZ1DEUCzlW2pMmTZQnSz4xSmUlhZ56VdjukgohBJ98MlB1bfTo0VOeGk/B18cPU6ZMk8rfLJU7v11ll0LfjiuXr2NA/8GoXq02GtRvgtGjP4fXLc4H457XyYirZ2XBT6lwjIjxm/HhOo/h5ykmTpgIq4ndFgIScj6sNK9cvIx+ffqhQoVKqFSpCobIk/UtCcdssakCe+mipcibMw8KFSyC7Dk+xodZs+ODDz5A2ZLFce7MSYEdO44ePYFmjZujaMFi6EkQ2ntQKrbjWPjdInAgO9+WY2vV/oOHUa1yDamYPsKEcZ+p8+Vg2mFDhiLI/4GKp8Mp4McB4AJWEz4fh0GSXuGhYYmgxKdwQhArRg42rlevHt555x2psIorUOJbV/SHMDVlwngs/eF7SQM5To0xk/T6m0CJLXlet26ia4f2/wgo8fozHdYKLAwVOFCTdMpvXvPhI0fg2LFDCfmEraWED6YRWzPsqsWuXt16yJYlK9q2aYO9e/dizcpVWL9qtboGHH9z7grfziyEjWvXwaJg4g769+uvxjbxDUV+3ufo0aPqOpmtcj0EcoKCQjBj+iyUKl4K+fPllzxXQXWjcioBpplnGjGPE5RCw8PE3964wYkdJQ+p1lVxoGa6V/ejG0oJISHidtKkSWrW/CxZsqiWHY6ts7CbWO4r3qv8rM2AAQNRtmwF5C9QALVr1MSOzVtV6xnTjIPYO7RtB+9791We45QFbBGe9+U8AbaPUVLivm3LdtnnEig8jT59eqlWH0ISjWFwSgC+8DB54iR5ULCpVjCOyePgcra0+Xj7YMTQYcj18ceqW5ytvZMnT1ZTK/CBKjrWhEYN6uPyhbOq5Up3vWk9SRqUtP52PQJKUrHySW6xVLIzvvjCDTysbKVgVl1UbJJn4awmReSQardYaLsBhRWQPMFKIafekJECnjN4q7e47BbECESxNUVNgme1yJIgYRVI4DxEshRQsJgFmMwOxHCuFVm3CjxZzO5Xtp/UoqQGKkucFGyoOLjjQmOl7YYHtlg51fe+LA6LepXfarZKHOyIiYmVQpytDowLu2gcuHv/AapXrYG7XncRG2NCeGQUIqJj8OD+fdSoWhmtWzaHyeyeJynWFKMG7dpV/CWesmSXiGHs5jARcGItCAsOhc0cK+nD7goBIImjzRqr4soJBdVkfVaJe8Kxam4ZWaoKJ+GcDOMYlNDQUDULNAGK23iufHJna1KAj7ekq4Cuqlh5kZhoKun+MhmgevXKFXTt2D5hHqW/F5SMvBAeFo6G9RsItLm/pee+9gLBajA005/pQvSQdI7jA4EbPFihc5Zrzhmk0l/yDruiCEpM51i7GRGy3xpjhkn2cboHXiu2inBOK+PtOQVnzHNyPZmHbWxdjIpFiDw0EAyYTowX8yvNSCPVHSXxIlwQqN35iq1eAkfigI1P/MM8wbFxHFDO6S0scj8xfE51wHNQUC33aaw5RnUPumebtyMyQvKy5BnV5S0Qx1YfPiARFNn6xu+6Ecr5woGN2yXuUXJMeFiE5EX+dkMRv/BvdLsZLUqEw2iBP5Vn5X5SkC+Zj3HkubI7ky1SjCNb04y5p9Q9LOmxc/cedO7YQeLGFzzkOvIaJdzvWlqGNChp/e1iQWQURgZksPJdvGiRKvgMOHmSGXrSPhoL/ke3JeVXUtuf7PevhflHjOfIVjOuMw12796txjcZEMZKhwU9f/PNJnbPcDvT6nG//ilTLRESx/Pnz2P9+vUqfjwX934mWIL9hWIcGC5fv+/Ro6tUhvwo7t8LSgzPgA+2qmzfvl2lC1sTCQSeaaaM/x7f9g+YkUaJ254UL3WO7j+/2PeMmnGtmG/mzp2rWvX4m9eM15Knq6XlKQ1KWv+ojMqWYEBTBVVCgfY8y/McWUhzxmKOA5oxYwauXr2q5sbhGBTOh8PuQ+43IPLfIqPSIbwZYGdcv79LDI/hX7t2FW3a8qO4wQ/T6G+IBs+V4dGMtCDcMi1o3Kb175KRZzzzLa8Tt/+deVfr2ZEGJa1/VCygjErlv1Rg8fyMc+R58+mWLTMcJF6jRg01HqhTp06YNWuWeqOKlS8L9n9bxcu4M16MP9f/7mvH8FjZXb58CW3btVZvRSWG/zdEw7iORv410sGoiDUo/ftklDlc8nrxOhn5ltv+zvyr9WxIg5LWPyoWSiykWEDRuP53V7b/tHi+RsVK44BbdkUaLRNGYf5vLMQZd8bRuGaG/V0y0u706VNoJ6DEmdG5TelvioaRBp7514Cl/1I+flZkXCMa7y0uPfOuvmZaj0uDktY/qicVUEbB9V+R5/l7FuKGGRWw4ebfIs94/1PxYroQSi5cOI+GDeshiIO5ZZvS3xClx9PgSab179KTrhFNSyspaVDS+kelC6snF9yeYORp/yb9G+JkgNL169fQrn2rx1qUuPxr4+d5bTzT4p9OF62kldQ109JKShqUtLS0nlkRitjidubMKTRsVAsRER5jlP6qj+JqaWn9p6RBSUtL65kVQYljga5cvYwBn/REZFS4bNOgpKWl9fSkQUlLS+uZFVuTCErsemvbrhnCw0NkmwFHGpS0tLT+vDQoaWlpPbNiNxtB6dy5s2jVujFCQoN0i5KWltZTlQYlLS2tZ1bseuM8SgSlrl3bIyIizA1KipU0KGlpaf15aVDS0tJ6ZmV0vV2+dBmtm7dAeHDIw2+9aWlpaT0FaVDS0tJ6ZmW89Xbh/Hm0bdkKUeER6kv3GpS0tLSelp45UOKYBBaONGMeDK4b8txmrP8ee9xPmiHPbY/bk8J5kl9/1Aw9ad/jpqX1XxMhibMrX7xwAR1at0VURKQGJS0traeqZw6UjKZ2Fo5cpxFKDBmfDuB2rtMMd1w3IIZmuPX0i2ZAjiGu063xKQnDf0+/PI839hnhebrnkr8942XEwYiP4d4zDoZbz+No9FODktZ/Vcz/vHcuX7qEZg0bIywkVIOSlpbWU9UzCUocvBkeHo4rV6784ovq3P/NN98gICAgEWwIF8ZHRQ1YMfzhd7Xu3Lmjfh84cACXL19OhA9DXKdbHk9/zGazCtcw7qNxH397fqOLRr+NdSNOhoWGhuLGjRtq3cvLC0uWLEmMq2cc6J8nSHkCk4Ykrf+qmPd5D5w7dw6tmjZHpO5609LSesp6JkCJhSGNAEMjSBBqSpcuDZPJlAhKdGOVQrNAgXw4d+oIHE621AjcWEyINZtgFohRkGMWwJElf+/fvhddWneG3erAqGHDsHLJ4l+AkhEmISc4OBhVq1ZF4cKFJZyCsiyKokWLoUgRt3F7zWrV4Ov9AC6CjYRvsQhcmRimRcU3JiYaNpMZLqsFu7dtQ9tmLSWuLmzdthnN69SCVeJGGDLioc6dsGWzw9/XDzNnzEBUZJT4726NojsjDbS0nnvx1kywuPg4dZ+fOXsW7du0RURYuBrMzd28Ix7exVpaWlp/TM8EKPGJ0YABGuFgmwBG7ty5VcuS5/4YgYd8+XPj9LG9AjY22B1OfNK/D4qVLI78BfIjS5YsKFq4CMqXKYtjx45h50/b0bFZBzhsTnw2bARW/PCD8udxUGKYBCW2HPn6+uLBgwe4f5/mrZb37t1XdvjgIRQrWAD+Pt5wSdh2uxNHDh9D/nyFkDtPPuTOlw8f5/oYLZs2gcNqwp4tW9GhRRvYxP8tWzaiWbUqsAhMeQIQ4+KQsJ3i38njJ5A9azbcvuUlcOdu5dKtSlr/KTGrJ5i6N+WB5PzFCwqUwkPD3A8XsluDkpaW1tPQMwNKBBQuCQbs3urfvz8yZcqEo0ePqn1sKWJ3VIzARIECeXHm+H44XU64pCC1mGMQFRONnbt2olChQrh54yZioqLlOAcObNuHLq06wSlAM6TfAKxesvQRQKG4bsBYUFAQ9u/fr0Bt4cKFmD9/AaZNm4Hhw0dg0KAh6NSxE/LnzgXfB/dhE5BxCrhZLHZERMYgLDoGoRKPH9evQc2a1QWIorFr0xb0aN9FQMmFzZs3olOjhrDJ+RHKGKaxZMsUwWj50mV4+SU578NHFDwZ8Ma4aWn9J5QASTR1jzgduHz1Clo2a46Q4GD3vSu7NShpaWk9DT0ToGSMxyEUcH3fvn0oVqyYgqUKFSqo1h01XshqRayASZEi+XH2hAFK8nTpcsAZ58Itr1soV64cggODYLfYBGQc2Ld1D9o3balaa0YNHoYNK1erglYVtgmgxKUxPmjPnj2oVq0aGjZsiK5du2HSpC8wc+ZsLF++EqtXr8HATwaiTPFiiAgNdbcoCYw57AJ6DgE28cMicdq+dxfqN6gLa2w09m3bhfbN2knc3a1kXRo3UV1vPFeGZ5jZZJZKIAQVypXH22+9hY7tO8AUa0p0p0FJ6z+jBEgyQMkpduHSJXSWhxTdoqSlpfW09UyAEiHAaDnZvn07ChYsiA0bNig4GjJkCIoWLYojR44omIm2O1CwUD5cPHNECtEEUIoT2JD102fPqBYljvPZt3svWrfqiJL5i6FjcwElpx0jPhmCtUt/fCIoMWwDSlg40zgDMI2tRg6BItryZctRoUwpREdEwClx4TZTrBl7du3Dhp9+xoaNGzFy1EjUqFoFtphYHNp1AHUr18HhIycxZ86XaFe3vgIlY0A4w2O4wUHBaNSgIdq1aYv7d+8pYOrdsxdiY2PVfg1KWv8ZJUASjfme9/aly5fRs3sPhIaEuu9d2a1BSUtL62nomel6o61btw4FChTApk2bFLjYbHaYTGbMnTsPDQQigoNDEG2xqcHcl86dFNBwqKdNl0AQxzHM+2oe3nzzTZw+dRo3rt/Ad98tRrumbdC+WXM4HTYM6z8Ia5asVAXt46BEYJk6dSry5cunYIvxyJ+/gBrQnTdvPtmeX5b5lf+ZMqZHvjy5MG3KFBXHK5evIut7WdCicTP11NumTRt8NXsOHAJDh3cdxGvpXkaZMhXwYZYs6FCvAWwW98BxnjNBiOddulRpNG/WDIF8m0/8vHP7DqpUqoxatWrh+PHjKj0YTx5jxFtL67kUs7cYs7kBSux669i2XeL0AHSiQUlLS+tp6JnpeiOoREREwM/PT61zTJLZzFf1rQJLFoGkUAUlMTExWLZsmRpLxFYZtjoRHjgNQKtWrVCiRAmMHDkSVgELq/izdf0mtG/aCi6bE4N7DcCqhcueCEqMA8PntAM0vv1GCwkJUWHR3NsCERjoi8AgX4lLlIrrtWvXUKtcJUQHhgocCeAlQBDhbffWnQJHzRAWHoFFSwXc6tRLBCXGuVKlSgrK5s2bp6YSIBDxnHj+gYGBGDFiBHLmzIn27durN+oYHv3W0nrexbuTYxBtAkoXBZQ6CShxegD9CRMtLa2nqWemRcmAJdquXbtQpUoVVK9eE2XKlJP1amq9cuWqKFeuvKxXx+3btxVU0D2XO3bsQIMGDXDx4kUFH2yFsQhY7d68A51atIXL7sLQ3p9g9a+AEv0inHTv3h2dO3dGt27dlPG3sd6tW1cMGfoJgoL9BHbc3Wdnz55FszoNEBsWqbrjVCsXC3hZ375xK7o1aaPAbd3P69GpQWPYBZSMuF+9elUBGsGJRv+4JCxxSWAioHmer25R0voviLncGe8GpfOXL6Fzuw4alLS0tJ66npkxSqoFRiCAcBAWFoZTp07j6NHjYsdw4sRJHDt2XODnBHbv3o3MmTPj5MmTie45oWOpUqWwdetWBRPffvstypQtiyvXrmPbhs1o37Q1rLEWDO0zEGsWLVdhPQ5K9IuQEhkZqcZJceA1jX562rJlS1G0WCF4+9yTsN2gxIkxyxQrgV1bt2Pv3r3Yu3+fGmO1Y+cuAaVt6NywJWwOOzZu3STrjWEzWxLDY3zZMqbmfxI44jbu43aaAU3GmCb+Ztz/qHiuxrl7Atfj2z3tcXluM9Y93Sdlj/v//5HncY8fn9Q2Y+m57nndk5JxjKd5bn9c3EZ//8z5af1STEGXpKPV6cAleaDo3L4DIjiYO0726OTV0tJ6SnomQMmzciHEXLp0CfPnz1ev5k+fPhOzZs3BggXf4ptvFmD8+PFqnNCZM2cUNBAm2C01ZcoUBRSEDELHrFmzsGjpMuzesgO9O3aD3WJH/y698OMP7ukBPCszLg1wYVcbu/aWLl36iHFGbdqs2TORv0Bu3L13KwGUHLh79y4aN2iIunXqoGmL5mjXoQO6dO6CtWvXY8embejVvL3qjtuyfQu6NWmmut4M6GFc2aVGEPKEJi4N43aeG5eM5x/teuN5GhW60YpHM9Ld2MdtxvrjRneGeW43/EhqnxG2kc7Gdk93xjZP4zbDvyfto1+e4XnuM5aPG7c/SY+7N/x63B4XtxnHeMZV68+JKaim/5CHjDPnz6NjG931pqWl9fT1zIESK77p06erFiK+mv/FF1PVcuzYz/HZZ59jwoQJCooINIQIwgbHDxEuWAnTDLBg19vGNRvQvllr2ExWfNKtD1YJKD1emXHJbQyb3Whvv/02unTpoqYn6NevnzJjvX//vhg1egTCwoIkHDeYqfAk/BhTLEw2KxziF2fV5tty+7bvQfdmbWGV7Zu2bELH+o1giXVPDzBu3DgUKVJEjauicZ0DyfnWH5eGcaoE2g8//KDCY9z/v+I5GhW5ARfG+uMVvLE01j3NOO7RdffS0zyPN9aNfcaxhp+/xx739/HjjbAM+7Vw6NZd0z5qnnGkGWHRjHR6krj/yWEkJSPMf6Mepsc/LcaAoMSxhucuXkSX9h0TZ+Z+GD3P+Hra79WTjqVpPbd60uWm/X/0Z4/X+lfpmQMlVjJ8+6xdu/bw8w3Ag/s+ieb9wFeWD9R4Hc7YbbROGF1WhA8uFTDJkk32mzZvRrMmTeGw2DCoZ1+sWLjkF5UZ1w2/CEqcEZxLfiOOYXHJViMaf9+9ewcREQzfrmDNOJZh0rhOc9mdOLx7H9q0bAmLxG3ntu3o2LhF4ozbHJ/EOaM4g/iJEyceMXYtnj59Whl/nzp1So1V4nGM7++V57ly6YYAghLjzNYpxtW9zjgb7o11uvdcdy95DCfBlGNcNqnMJN1dHMDOuNFvt/9udzSGafibsO4UKHEkxEdAyyHuaUbYRlie648vjX00dxy57g7XMOO8fnkM3TO8h+aSc6AbIwxPM9KIYbiN7pimbnM6jXN7mF6e/hi/1bHx3O92Y1yXpMzY714+br90z7Ce7Kc73vHxRvzd6cV9j7rntoQ0iedvd1ju62fApBG+/OYy4bc4V9c1nuHQf8YlYbtx/Q2jP0+O58P9XDIt2XJ75cpldGzTGv7e3ogXv1S4Yup6q7gmxFmZOw2MdP+1cJgP4o3rkeAH/TSO4dKwODGCG02ljdr20C9Pt066k31cN/K7+vRKYvrT3NfAHQfP7Y/uf9Tc19gIU4XLJdPaSBcV3mPHif8umsr3xtIdrvt6SbyVX8aSfjMd3cfHq3OhGb8fNeP8H4mXShtPN4Y9dPNr9kv/PK8Dz8d9LdzX46H/xrk9TD8u6Yf7WnBOvcS0knRKTLOEcDzNMw6J6c5jE9JY+ZNgDNcwz3B5nHFfGqb179IzAUqeYob68ccfUbp0GVStWhNly1RE+XKVUaZ0BZQrWwmlSpVG+fLl8eWXX6pClO4JSEYmNkCC2whKAcFBOH/uHJw2O8aNGI01y93zKHlmVsM9W4Zu3ryp5m3iN93YwsN1turwN1t6jNYetu4wfAOSjLjQEn/LDRnsG4gjhw8LKNlw5OAhDO7VT3W98ThP91x63kiME83TjfGby98r43iGFx0drSwgIBAhIWGIioxBUFAIfH38ERtrUmPD+PkWLvlGHtc50JzjtghpfCuPx3M73wyMjo5RSx8fH+UuJCRU9vnLseJvYAju3rkvx4TL72j1KRhO7xAWFg4vrzsI8g9GtITv6+sHXz8JJyoc3n7eCkQZFt9+vHXrlgqTrYeEVePtQ27nJKQMk26NeDL8QAmXYQbLeQUEBEl4Eep8GEe6pV/+/v6J58i0CA0NUefo7S1ALv5ynW4YBwI54/jggQ/CwyQdmF5yjuHiL8PhPi7DwyPUefFzN4wzw6O509Qn0a/AwGDxyw8hwYxviITprZZ0Z6zT3f3799WLBTwvHx9f2cdzjFTxvXfvgTovng/Ti8cyzHv37qn04fFcN8KkX/fuuq+Fn1+AXBe649ucwbh+/bpyRz/40WbGmcfwTU4+GISFhUoYXrhx46Y69vbtO7h8+arELUjFieMAfXgN/QNw8fIV3L4r4Qb44tKVi/CSBwp/OYdrcuyNm14qvry/aMw3vKYM31jngwPT/84dL1y8dE4tmSYXzl/EhvU/yQNPI5w8cUy9sOEn6XDpylVxd0ldfx7HhxueN+38+fOJ+YQfwua50R3Pi+EwTLrj+EY/P3/ljmMNed1pdEf3TBuuc3+QxP/Ovbu4I+kSKOWK1x15iJJ1pjn9Ynox7Zifb8u5B8u1DJDzv3P7HgL9QxASGCpu7kseChV3kYnrIcFy7eUhkPcMryvTleu8Xj4+fgiUfBwZESXpF6ribeR7XleGF8Yw/eUayvYweYDzC/BX8QtlfpH8xrwZGy33d1CYyr/RUbEqL6syQO7VCLkPAsW/iKhIhEdKvqaf4k+EhMl40m1kZLR7XSxa/IoIl30J2xk33jOMC43x49vJkZFRyg+6YZgRcmxMdKy67+iOx3B6FLr3XKexnOE2umVvgVF2sYxmyz3jqb7tKcbzZ1g2K98kjlFhWeXBOEbiyd/8QgP9iZIyxmYzyzJShcEXbPj1A64zDD5w053xdjG3M04sb3k+3MeylG65j8DFngLeO6oHw2xV52qK5YM738SOUeUq/WL9YpTp/5/yW+vv0TMHSgQCozL28wuEn1RKrJgemq8yo6uNmc4AC0/QoKmnOhpBQ9zeuSWFpVSGDMNwQ/FYAya4jwUfw2BFxYLJqDS5jRUJl7xxDHjxDPOR33zSUK0M8hQj2y0muUmlIOTHdBme53G/1wz/f68YR54Xx3R17NgRLVu2RLNmLVG/XhO0aN4W7dp2RpvWHdGkcUs0adIUTZs2RYsWLVTXI9/ya9u2rTKOA+O21q1bKz86d+qOtm06omOHrujQvov41Qbt23VBj+590aB+UzRq2BydOnaXfZ3Fv1ZybDe0a9cBdevWR6tWbdC9cw80bdxM+dW1Wxe0bNMCrdu2QqdOnVT4nD+qcePGasoHLtu1a6f21a9fX320mHHi7On8zTcUO3TooMJhmC1btEPrVh3QtUtP+d0Nbdq0VefCtxcZf55L7959xc9OaNqkJXr26Cvx7o2GDZooN71795a0aKLCGDBggPjbRvnJdOKycaMWyt9mzVqgTp16EnYncdselSpVEf/bqHTim5n0g2FxdvmGDeurNKhXtwlq12yGtq17oEGDRiq9e/Tooc6B58JjGQfjHLmvTp06KqxevfqIP42V9e3bX51XjRo1VBx79eolaVtXtvdV6cQ3P+knjX61atUevXr2Q906jdC8WRs5535o3ry1ctenTx+VLpzVvkuXrnIdO6NggaISZnN8MrAfihYriCpVK0v+6YyyZcurN1EHDBiIqtWqo0TZ0ujcszsat2yOj/LkQqsO7dC8bQvkL1pQbevZvy/yyQNHwybNMGjQIBUG307leTJsxq1nz57qLVfu4xxklSqXQ86Ps0i6N1Hn/XHOfPLAVBnVqldBwcIFULxUSbSVc8xbuAgKFiqmrl81eaj6OGdedU3r1Wuous8ZDvMPX/7gOvMAH3TYjc00rliRD2EV0K1rL7kuDZE7V35Jo76SrzsgT5486trxeM6txnh16twJJUuXQpNmcs169USpMqVRo1ZN1SVPv2rWrImhQ4dKujZH2Qrl0W9Af7SS/FCoUFH06dUf7Vp3QuFCJTB0yEh079YHxYqWRp/en6hrUbpUBfTrOwgDPxmm3HTu1ENt53Vo3qw1BvQfghrV66r8wjB43ZleAwcORCOJT8nyZdH7k/5o2rolipQqgaYS39aduklalUOnDt0wauho1KtaT/JefQwbOlLdnxUrVMOQwZ+iW8/e6vge/fqgc49uKF2xPFp3aC/XpR8qlK+q8jvdVa5UQ8WB+aiW+FO1Si0V52ZNW6nrx/uG585hBLyvO3Tooh5wWbb07jVAHd+4cXOVXxl/phnvW+YBfgCdxzANS5YsKdewnrrv6RfPmWVX5cqV1XVs37EDKletInmyCrr16K6uQbWqtVR6MawypSuqsqhJ41YoXqysLFuo612nbg00bFwHPXr3QCU5tmLlSujeuxeq1KiOylUqq3uF15xfZuC9x2vPNGZ5xLgxvoxXm3ZtUUHcV6n+f+29B2BVVfY9/P1nHGfmN8XGOGNvICq9916k94TQiyJFUCwgSu/Se68KqCi9KaAC0juE3mtCek9eScL69to3J3lEUJwJYuSscLjv3nvKPn2dfcqthoCWLVBZrlWrS9wknapVrSUDepFT2kDKUk7KF9OEJJ5ttzEWvy1kS40SO3fnmkYy0q40PAnbvPclJTcDn9IYlTmnxYz/voTDEBAavjN++hrz3rg3Mvja+RHSBOAro6LnN918Zb/ToJycHqSmgkcoTJw4EQsXfobvvt2CWTPnYd7cBVi96mvMnDEXc+fO08M+Fy9eLHYWqv3PP/9cDXcAciff3LlzZXS/VNxvwqJFX2DlitVYtXKNPP8EX325HN9u3KR+Llq0GBvWf48vFy/Vz79s3Pgd1qxZJ/bmi7/rsW7115gvblasWIEVK5fjsy8W4cslX2oYXEz/5Zdf6jv+5iL6ZcuW6TPeL1myBF988YXKyGf8TbkWL/5SwluGGdPnaPgrV6zBooWL8dVXSzRe1FQuWLBA/V24cJHKvOSr5WKWYcGnn2lc6B+/8cdDQGmPv5cvWyVmNaZOmSHuFkv8V2LevAXybp7IuxyTJ08VM0XC/AwzZ87ErFmz1D3lHjNmjLhZIM9myu+xmDP7E8yetRAjPp4ov+eqPOPHj9edmgzb/GY60K9x48ZpnCdNmoLBg4eKP3MwffpMfPzxSMyePQdTp07VNXvTp0/X+HHamm4WLVqkV94vWLBQ8n0qBg8arnkzftxkDBwwFHPnfKLhDxgwQMNlePw9aOBQkW2erqHr1asHxo4bjanTpqJ37z4YO3acbqz48MOPMHDwYIyeMA7d3n0b/QYPwISpk/D+hx+gz6A+mD5nhvzuiR4ffoiJ06ahT78BSihGjx6NIUOGKDn64IMP0LdvXyWD3KRBLTFJ2zvvvoUJE0dLx9tR7ruJPMOEWHQRwlgDw0cMw3s9e0jn3gm9BwzEB716i/suIls/jBo1Vjru7njrre4i34e6rpDEcfjw4Uoo6DfXOPKcNXbq/fv317WPXbp0E/LRCx/26iOd7Zvqnu9IPt977z2MHDlSr13e7CLhf4wPe4v7rm/q7z59+2i8mM4Mh2HS/979+uLNbl0xcNBgyetReLvbu+j9QV+xMxof9OyNfn0HYfIkSZfeAzB0yAiMGT1Bng3ExAlTMW7sJAl/CPr3G6zPe3/UHwPkftTIcZrXJr+Y58yjEaNHYfrsWRg2aiSGjRwh+TAFgz4ejg/7D8SosRMxetQ4DB0wHKMGj8KoEWPVz9Gjxkt5nICxYyZi5OixGDJiOKbOnIHho0di7KSJGDtxgtob8fEYtTtl8oz0e15ZhijnpInTxA/xZ+xYqQOTNR1ohg0bJnYmqcwsa8OHjXL8Gj1OyyXTioZpO3ToUPTr10/TnM+cctdL84qG7+gf3/fuLWk3oL+UvUHoLWk/asxoDBU3oySO/foO1nRiug0bOlLTrfvbPSX8IRrmgIF9MGhwX4wZPwZ9xY/u776DCZMnYYCUvb4SBtfGshzyaxCUg/cso0xvhk+CyvAHDBqId3u8j85SnvoNHICPRI73evSU8tMXb0k+k7i/072H5jEHN4wLtZim3aex+G0h2xElU5CMMaQm8/3NCE9mpPEUJUo8j8WTkqwf2KRbQ3LUnlwz+3crY8KmyWw3M0z4fMX31Oxwbp3ufkru/wa+cvj6S5WvUf3y6mjNnKuz4NykbwYBNMbE0/eeV3WbQn/op2M4H+/8dsLydUty6/HQvUN6ec/1SbpOSex4vG54UzxIVj+c/KE7409GmE7amWfGmHeOcdLW3Pv+Nve0T1mTJQ6Um/Gg4doCX3+p5qd9597RONIPXs2zjHgxHCePfQ3jQLv0x/iVmfBnduP47cSLMhg3DIPuvF7GheuiMtLB1x/zzPcdwzayOP46ecV3P3bLd846OicPGC7DyoivSz8ITb9cck9/eA4Yf4vbZDdc7iSdlvDoZ3740euMuNBPk7cZYTpyOVfKyd9p6SdxPnP6NBrUqYVL58+pdtjlEj/EX7pxS7iUl3I4cjv+G/nNlX4zTF8ZnPeUhXYor0tlNzIZ++qG8kk9YRvCs9J4Yrjbk/Hpo3Q3tCPv+N7JI0l7l9y7Hf84TZMhT0bcb/DDR05+fNuEYezw3qyPNO9UPoZLP+iv+OGEwzxOdT7izbrnEydTH9S+uqMbxy/a43vTTphBnrl3jFN+fA2f8+qUd7lK2HTDZwzr5vYy5DJ2TLyccHyMpC/T1omnuGHblZ6ON8bvxvCYfixP4qcYxsf5LW587NM46eakj3FvnqlMYujG8cNpK3zLt7lmjoPxy+K3hbtGlNhZs0CwoGlFkcLEBYdmAVz6gjiatMLo68ZcfTt/8973N+3cCoaoqEZJDKe/WKl8/VB7cjVhmbBNBWNBN/aNXV97vBq75t73HTVZ6Y2F3mfYyQqYsGhYETM61h/LY56bRY8Zix2NcezSHuNo/MgcXy7S1AW0JBlcAJ22GNZ3wabakcbL8YP+mnRzTPoCSk0XsZMWvgnXyHIzc6v3ZhFlxmJKI4sjf4Y95znj4MSDV8rqTOXyPdPgBrvqJxs72jHxyzCOXefK8DKHmWEy/DPh+MbH/L5ZHpq0c4x59tMmQw4nXBoTB8rgG0/zO2OxudiXOGleiTH5aK66WJdppunmc1VDt457zWMlkk58TJzM1chorsm0n26kTAv5CTwaiIBGjRF+LSR9AS4N46JETcJ0yp+R3fH/VulrjJOPlNfJfy0TmtfmvY9sWu5Ffrk3dVkJk9R/2vGNl7Gj6SVxV1mF2Jl6YdJf08nnN6++z2lf0zndTkY46WFp+8L3vMpzNUwj3rNeOmE6ZfzGsB2/HTfGPf0zi7kz7GRcfZ8bY+RhOtE4Mv7YjfPMSVNjTHx8n5tn5rfvvRrx10lfXp33plzT+P7mO8dvp+xqejGOPmmlz+iXTzgsOyY+vs941WUVaW7N9cfhmnx03BpD/yx+W7hrRIkFQgsvSYSQpODLV7B10xakkjCJ4QnWKWlGWb0UQMPETeG8G2C4lIOEg1eO/kxFyww+MySJV19jRhLGmAqY1dA0Tku7VatW6boqE6ap1BYW2QkssdKn6SiHHRk3ZRw6cQwd2rVHSFCwkg4dAVlYWFhkAe4qUWLnzYaOpGj44CGYP2uO88V9eU4GT5WlNoRCRtix0/7dJkqUmySJ2/O5E4e/f44oUWYuLjfy+xouAt+0aZP6Q7+zOm5GXobNdQI0/M1nNHcrHS0s/lv4EiXWPZfXgyOnTqJ18xa4djVI2wxLlCwsLLIKd3XqTUmGEKJgadyaNGiI0OBrqj3i3LInbR0Bt+1yoTB3uhnNi9G+GFLha/jcvOPV1755zntfN5mNr92bPad77m7gwlPKyGcGxp4JlxonbnfmR225UJqLjs2OOLrlQuPixYvrbyOnkY+/bxa+eZ75N6/Gre97hsX1CtyRx91i3LVniBrfW1hkJ/gSJZbhRGlHDh0/hlbNmt/kwEkLCwuL/w13jSgZIkHyM3/uPPTv01fPMlKClOzVb5/xPIzadesgR44c6VoXEgo2jnTLqyEYNOz0jeaJhjsZuH2fv+nWEANzNW6MX0b7Q6MkLu097+mH7/uGDRuq//xNeyQmhLFPuzxLo2fPnrr9mNtbuYU1V65cuh2c566QRHH3Es9iMjIbWXk1fhv/fO/NbyMj3xs7dMtn5jnt8EqyxC3QJJ60x3sjt4VFdoEvUWLZpkYp8MRxtG3ZSqfeLFGysLDIStzVqTft8KWha+rnj2/WrEWKW0hOinT0Yvj9pmPS+BUsUljJErdQGhLgSxqMMYSA03XckRGfkICKFSri0KHDenCYcWfsatg+Rt36XElWfO2RVOh6Kn2fgoaNGmHCuPEaHp85WhxHo0R3/HYbt67mz5sP33//vR5SRmLENULcck2tEu0t+WoJSpcqJb8d+QxJMudAmSnIjLAzZNYdFWm/DbEyhJDvPPKbbtLfyXXRZ4t0S6vuxPDYqTeL7AdfosRFsmwrAk+eQMuA5qqdtkTJwsIiK3H3pt6kpeMOs9jEeFQoWRoXTpwBv4Hm5c4AMSQJ06ZOQ+eOnbB+/UaUF9ITGRGGFN3mK508O3p3kp52y3M7eEjh2LFjcPnCRYSERWD0+An4T47H0K3zW5g0fbqesEvCwFN7Dx486BCSZEcLc+r4CXy/8VvVZpFMJCW5cPjwEfCDuw0bNsbwESNx4eJlJIusXnHjSkpF9foNMG3seKR6HO0Ud84p55BGmjsmTp07i5dfzI21Xy2Hx+Voicx2XZIXc12+ZBnKlSiBZG6XFiKVkOTGuQsXMHPWLNSvWw9vtGuPA3v2IZnbnV1uPbU7NiYWM6fP0PetZRS9ZfMWh1gJGUp0u3R6r16dumjSqDFWrViJ+FghZUKcXJJu+48fQZ1atZEQHQu3hJ9qexSLbIYbNEpS1/j9xD2BB9GmTWvV4rI+WlhYWGQV7urUGwnRpeCreLVCZcSGRqQRpVQ9A4MamAZCRlYsW46QkHCULlMWmzd9h1Rv2pf1hZDs2LENzz77HOrUboCePXuhbt3a+LBHT1y8chUN/f3x1/v/Ar+GTdCpa1ddfE1ywkPiaKhN0bM25NmUiZNQvUpVPe6e5Gnr1m147rkXlHzxtOgCBQuhdMmyiA4JFiKTKKQnFXX8m2K6ECVqwXyJEreCetwefLH0K3FTSuIVqbv4DDmi7Bp3uVIzteyrpShVtAg8iXFwC5G6dDUYr+TJoyfMtmrREjWqVcdj//oXDh04qFoglxClgf0HoHixYhgx/GP0ePc9VK9aTQkjpyvnzJurJwWPGTUaQwcPQZVKlXHi2HFdJM/PpJy/cglVyldEyMUrehwC5bawyE64gShJXdJdbyeP67QyP31hiZKFhUVW4u5NvQmhIFE6fvqUEqXEiJh0osTzL/iR17x58uLyxUvgAWdvvd0d3d/qihQhStQMRUTHoFLlCnhXiEICv7YvhMXlSkC8PE9wJeFS0FW88PSzOCkkwUMtVRpB6d69u57Gy9/mcMkpEyaiWuUqSBJ3fBYXF4+goGAhRFwz5MW58xfwn8eewNb1X4uM1CiloHYTf8wYOyGDKEmrTc6h8ZKwPhrUH/5+fkhOogbMiZMzPZdheH7KciFK1Ch5RfakxAS4JG5cdG20T7ExMXqc/8ABA5TsUDtEYvTNuq/13iPEKTEhUcOkNozTlDyRl2SNGii+40FyXo2LB8EhIahXrQaCzlwU/5MtUbLIdvAlSlrupc4ePnlCPyXBzwlZomRhYZGVuKtrlKjROXbqJKqUKY8EIUrUcJipN+4oq1+vHhLjE4SweLFw0SIUyJcXURHOF/K379qNx594TD9ImcITnJO5FicJ3qREuLxuXL52Bbmffx6njpMoOet4GKYvUWJYJDBTJ05SzU0CiYr4zZOCafghxVOnTuOzz7+QsJ7EZ7NnCJHiibepaNSiFWaOm4hUIStKlJT8OBolronq2b8PWrdprVNmevDZTaa4OP249MslqlFKEdk9HjeSlPC5VaN2SkjkZ198jrLly6Njp05Kdkh63uzcBTWqv4rvv/0OiULqVNMkxIprswYNGYwSxYtj4/oNiIuJ1Sk3uqMdpveV4GBUKVcBl0+d06k6S5QsshtuplHae+SQfu+PHyDlMwsLC4uswt1boyQdNDvuqyHXUL18RcSERDgk6boQDSEM/Iji4489Dr/GTdDUvxmKFiuOf/zf/+Hb9euUKC1dsQqvvPIy+OVrEiXVjgghIlFyJ7txJeQqnn/6SZw4GgjPdWfKi4SG313id5xuIEqTJqNyxYq62NotfvOLzmPHjkf+/AVRqFARVK32Kh56KAcWzZoufnOhtRdV6zfAlJFjfkSUqFGiVujjCWNRoXJFJMTGSxjXtXH/EcT+ksVfoUThwkqUvBJvlxClZUuXoWKFCshfqCDKVaqI51/OjU5vdlENEYlPWEgoXm//Gh7/z2OoXKGiTk/yK9bUiEVER+li7aefegoli5fAp/M/gSvROYfKLfE9d/UKKonfIZeuagdj1yhZZDdkJkrc/HHg+BHdVcoPUrNtsbCwsMgq3MWpN2ngpPPmEQDVhRRdvnAe3mSXrqM5eOggcr2QExPHT9CPdy7+4gt89vnnKFK8GN7p9hbc0vGvXf8Nnn76ad1FxnU72mAKQUnWBdkuhIRewysv5cbx48eUkKlGRcgSP1bY7a235D7jAMvx48ahapWqqsXhswH9B6BcmXLYt3e/LsJOEFOiVCksnDVbp7sSxa9a9eth7PARSHE7h2Y6n2xwtETUKG3ZsQ05X8yFY0ePqp8kKpSR/vG3E3YqvvriK5QqUhDJSbHiLhHrNm3BSy+8iLWr1jiHVIp8/Mhnp86dNZ5JEndeuZ7pwvkLug7pkYcextfr1ulz+sswLl26hAmSfo8++ijmz5uvU3HUtO07eEC/Ip8QF6/bqq1GySK7ITNRSpQ2gydzN2/mh6Crl3XApC8tLCwssgB3derN0fKkoHnzAKxbtwrJKUIApPPml5gDmvg5mhCxw0XPXH/zxdIlKJS/AMKvheL85Ut6JhG/wG7IAf1TzYn85tfwc+fOjf37hexwvY88o6aqd/9+aNosQNf6cP0Ot+lTw1StWjUlSryv+WoNrFy6LG3az43I+DgULFwIn8/7VHe5JSR70civCcaNHKVnP5lvSxEczVKe6OhoVKxYUb8WbggYp8foH985B2imYOWyVShZqCC8STFISIrH2x/2Rq/u78MtstENiWTPHj3Qvl071XjxGQmU+Z0k9jp2eAO9en6g8pIAkRSpdkzC4pe3uXiddpk2JJ78+rW5Zz5YWGQn/GjqTdqM/UcPw69RPVwLskTJwsIia3FXp95IHNjQzZs3Bz0/eFdIURJihZSQYEyeMFGnmqh10m3x0rGfOn8Wzzz1FL79er1uCSahekru58yZo58TWbhwoZ6ATQJAMsFDHnngIzUvkeER6tdXy5fhiSefwGcLFymJ4pqlJ554ArVr11Z56K5F8xbo9HoHXDx3HoFHjqBD1y7405/vx/zps1QzlZjiReu2bdD9zW5IEnJCjZIvUSJBIRH57rvvkDNnTrRu3Rrbtm3D+fPnMW3aNBQsWBBff/21EsAVQpRyPvs0gi6fV03YlNlzUalseRw7clR3sg0eMgSP5siB14QoUTYeVMlFq0uWLFGtEdcp5cuTF4s//wKREZF6XMDixYt1QfjOnTv11O+5c+eqTDRMjzVr1mgamelIC4vsBF+ixDLsTknG3sMH8MZrbXQNoyVKFhYWWYm7RpRIkNhZ80yk80KAqlariJDQqwgKCVZicVyIgu7qYofOBcliP86VhF49emLRvE90fQ0XX8+ePRulSpVCnjx5ULZsWT1DyJCAzZs3K1EoWqQI5s2eo9qpqLhYIWUfIN8redQdSdbq1avRo0cPJTd0F3joMCqXr4CC+fKjQsUKmLvwU7zfswe2bPxOF2dTo7R67VoUzl8Ae3bu0oXkhiiReDB8+kXDc5uaNWuGvHnzokCBAihTpoweOGk0QpcuXkLpUiUxfNgQcefBtZBQtGrWAkVE5qLFi2HY8OH4ZM5cDOzbX4kc1yJRZsaVdooUKoyRH4/Qs5V4xtJXX36lYfAdCdmAAQP0bBmGRZLFE8XDw8M1/Wnseg6L7AZfoqRT3VIfj5w+gdYtmuLyhbOWKFlYWGQp7qpGyTFc35OM/gN6Y+68mXB5XEoizHQW19DolnshIB6xqzu43EJEpJPnqd4kNrTPqTajoTLTejSc9qLR3V9yz0aV2imdphJDOyQ21LYY8kDiQ9IRFx2jflODxEXeqe5kpHhT5J47yFKQwIMcXW7d6earUWL4NPSL/pOkkODQGBmNITni+U3c6abxpHwSdmJSop7ZRNlSPSnwJDlTi44b7oxzabw4fZjChewiMw1l5zvKbcgYDd1wJ+HIkSPT7+mXJUoW2Q03TL2xrkq9OHgsEM2bNkZ4SJDURUuULCwssg53jShlgMQiGefOncb3mzYIiXEWO3OxdzpRSrsmp5GQ68lCKOR3SqpDitjxGwLBqyEqhliokd/JJDjihqdrm0+C+BIa4+46r9IAqyaLxIWLwflcwuVz7h4j6fIlKL5EyRhfv33D8A3XmyykhbLRHyFK1LDxOXfjkQiyI0gVcqbGx60xJGnO1B+v4p/ITFmMDAyT6UMiuH79el38znTic01ncWfxC5DWQZs0dnY73pj3zo0YlgljnH/SyYsbdvVC+sWy3NGN/hRrzEf5wd3t6oYuLDIjM1Hi2Wd7Du5DM7+GiIkKlzJtidLtwJTXzObH75yimPFerr5/ac/1nY89vbew+B3gN0CUnIrFjtvpvJ3pL+3ATT3Typd2y//SftMd7ZlOP91dGkxl5TNjlISIoV3f977IbE8Pi+SLtLD1XCQ+E7fm2c3A98YfY9RNGkzY6X7dDMb/W7z+OdBfQyRNWDSGVN4yXIubIy0vlMRL+ulhpj55mG74PlmMV54Lwea9pDY8YqRESUfP8sf0T3snV891R6sIr5RBIcx8Z/HTYBlm+T56JBBtWwQg7NpVyQtLlH4OLKOmzPqWXdM++D7jgbm85zXDvtxLGrPc6j1N2oDNuKOxsPg94DdIlG6/A6cdpwI7JMRUbgP+zmyMHXM1v33BeyVIaXLc7L1x/1Mwbn2Nrxvf9z/n138L+u0bFxqTVrxa/EIwm9KMM+3jxZXgIF2oz8X1Fy5c0LVgF8ScFRMWGalnb6Wk8BiJtOldyQN+Zy9ZiFJKCrV68jvFBW9qvB6O6pb3LhIp1Z1Y/BSYnizfZ06fwmttWiIs+IqkpyVKPwfTDnD6/lpICELEcPlCaGjoDYbPY2L5/Twh8ak8jJdfJnAjPt6FeC4NoLadeUDtuxjdgCPE1bQ1Fha/B/wmiBJhKtYvqWCZ3RhjcDvPMr8nfO1kfkf81LvM8LV7O/azGjcL+2bPLG4TTDKaVIfcxyTEo3ylinjwwQfxyCOP4OGHH3auDz2ERx56EO+9+y48SUmIPH8OOxd/jn1fr0NSVDS8QrKSpIPh1GtSVDj2rVqCs9s26IeXSZRIoqxG6efBzp5r8o4EHkbLAD9Ehl2TdOMAwJbtm4F1XgdnUrZIcAYPHYLHnnhczdPPPoNnxPB8Ou4mpuGO4DZtWsDjlXLpTsCoUaPRru0baNu2E9q0a4eP+vTWtY9r16xFbHSMLmnQNaZ3cPBnYfFr4zdDlCwssgV8iZJ0CnFJCShYpDD+/Oc/6+GeJUqUQMmSJVG+bBmUL14M40ePQYqMwDfOnoM6jzyMgBefxdbPFyDFlYQkIVpcXxO4+TvUfuQBDK5VBSlhIbr+7nqqdPa2o/lZkChx/d2xo0fwettWiAoPsRqln0A6URLD9Zr9Bw3EC7ly4oUXc+Ff//k3/njfffjDH/6AHDly6Dl1L7zwApq3CIDHw7Pb4tG1azfUqV0fM2fNw5z58zFi1EghUm1QpnRpjBszVg/E5QDCEiWL3xMsUbKw+CVQoiT/cV1RcgoSXC4UKloE999/P/r06YOYmBg9UDQ+LhaxseGIkc7FIx35mmlT0OChf6Dlv/+CvvUqIy74IhK9Ht2xtX/9Wvjn+BuGVy2L1KhQJIn/3KhgidLPg0RJ1ygJUWrauIGz681qlG4JQ5RYvrhJJSI2Rj8gfvHqFSxdtRJ//8ffcf+f/oQZM2bgqjy/evUqwsLCdcqN6dy9+zvo+uabQoZ4ZEuyHhAcGRWJ4cOGoVaNmjh18pQlSha/O1iiZGFxm2CzL82/dADJcsNF/ilChFzIV7gQ7vvTHzFsyGB43S7pVNxITvEiRTqWpBQPkr0pWDZuIuo98Cc0efRPaPXUA9g6ewo80skkybsDa9agwcN/xqBXhShFh+jUG9ctWaL082CHzKk3fiqoZYtm+lFcPrNE6eYgeTGGm1J0M4IQG+66DbxwBv985EH8/f77sOmbdfCmunWxtrOzlgcEe9HxjW5o3bw1kqXcJ/ND3l6XrtPb8sM2VK5QFZs3bVH/SGAtLH4vsETJwuI2kU6UQKIkROh6CqITk/BKgQK4/89/wpiRI4QccTGrdB5iUjxeuLiAW8jQyvFT0VDIULeS+dAu99N4p3xRRJw7qiP1Qxs2oNG//g/D61VBakwIvAyDnb0lSj8Ls0bp+PHjaNGiRfphqhY/Ayla3G3p5a41IUnUjp64egEP5HgQ/5Sy/MPGb6R8e3TjAbWnLI9JSR688UZX+DX0gyc2HqlSdll+qRXdsu0HVChXHrt37dL0d8iqhcXvA5YoWVjcJjITpVQhSlEJSXgpXz78SUbhL7+YC82b+kuH3RxNA/wxbNBgxCXGwetOVqJU++9/xPSuHTH3vbfxao77sWzo+0hNisWOtV+j7oP3oV+10kiJuiadFzsmq1G6HVB7wTVKJ0+eRKtWrXSqyHbStwElPw5RIkmiOXb5vBKlf0hZ3vzNunSipEddyJXTzG92ewtvd3sbngQXvEn8VJSk/dmzeO2N9mjcsC5CrgXZqTeL3x0sUbKwuE3cQJR4GpKQmcj4RLyYJw/+8Mf/hz/fdx/+8X9/xT//+Xf87e//h2qVKiMiJkI1SmsmTUeDh+7HjO4dERp4EAEFcqHDy48i/OAO7F2/Ho0f/Rs+rFQMnrDLlij9ArBDpjl8+LB+AzEyMtISpdtBGlHixgF+v5JE6fCF0/jnIw/g73+6D1s2fH0DUWJZj3cl4PUur6N2rZro88FH6P1BH3Tv/j4qVq2CytUr45t1q8UvT3qeWKJk8XuBJUoWFreJzEQpOTUZMYlco1QYf7zvDwjwb4LAQwdw4MA+7BNz6fwFJHll5O32Yt2UmWic46+Y9VZzJMeGYv6wQfB76D582r0TTm3ehOZPPYxeFYvCG37VEqVfAHbG1GAcPXpUvxFpidJt4lZEKccD+Nt9f9Q1SoYo8csIXKsU645Fu85tUKNmNXR5ozPe794dI0eNwOKlS3A1OFj94U5QS5Qsfm+wRMnC4jbBZp+Nv+6qEsNP4sQkJiFPgfz4f3/4fxg1cgRSpdNO1s/S8GPOHl3UnepJxbrJs+D/4F8wu5sfPK5wRF69iq4F86FtrqfxWZ+eaPPkg+hXvSSSI4Lh1U7MrlG6HTA/uBvrxIkTeL1dO4SHhzlrlDSzHDsWPwbTTQmQlDN+ionfrjwkROmBRx4UonQftmzcgFQ9DNWxx9PnE90J6PxWR3Tp0hFJiYlCilzweN26843ngqV4ebgtD1HNONzWwuL3AEuULCx+CUwHzE4mJRVxSYnIkz8f/vjHP2LChAnp26h51e8JCmHiZ0nWzJyFBg/+CbPebg6PO0p3u30zaQoaPfoA2r74GAIeux8f1S0Jb2Sw+CudjPT1tqP/eVBzwfQ+fOgg/BrWR0RYqKa3JUo/DercdFqNnx0R4xLSv/fcCTzw4AP465/ux6aN30LYkVrUNUpSJt1uDzp06ICOHTsIMeLuTucrCmaXmzF8bjVKFr8nWKJkYfFLYDpgjrKlg4hzJSJvgfxKlMaMGePTcUgHLqNrfvYhRczyOVPR6Kk/Y/7breBNjEaCdCTusDB0L1MKdf75V9R55P9Dvybl4Ym6qqN8dl7S02iQFreGIUpH9FtvzRERKkRJ0t0SpZ+GL1GiRikpWdLw4hk89NBD+Nuf/4JN336XVgblXzpRcqN9+/Zo2bI5klzxmvY0LPOGGJmr1ShZ/J5giZKFxS9BWgfMToQddHRcHF7K8zLuu+8+TJ48OX1E7ZX3LrGYet2L68lurJ8xDQEP34+ZHZsjJSEe8dL5eNyJ2L5gAer982H43f9H9K5SAskRQfBwJxL4rTfb0fwcmN7Mh5MnjitRCg0Oshql2wCThjvZmFYk9jw88tT5s0qU/nL/n7F502Yt47qQW67OOUpuvPlmFzRvHiBupHT7ECJDijLfW1j8HmCJkoXFL0FaB6wjcemk411J+GHbNqxdu1Y/ims0Slzz4dEOg0TJi/VzPkHjRx/B5Hc7IiUxUUbw18W44YqIQK+6/mj8cA4M8a8PT3S4z7febGfzc6AGg+coBR4+jOb+TRAZFqraPkuUfh4sX0YrRLIZJ6Sf08ejRo3SD+KyLDukh4Q0VQYAydi/fz/27Nkl9hPTfLGw+P3DEiULi18C0wFz6k06Dh6259GptjSCZNZtyDvIKByp8kxIDzVPV44dROS1U3pit9d9HYkyik9wJyHyagguy7vgc0fgSfEIUZIgpGPSHsriJ8E0J1HavWsnWjT1Q3REuNUo3SZIgnQxNw0XYXu8cEtakjSxDKdPp+mggGTKOWCSB6omC8m3sLhXYImShcUvgemAdaT900b+c+zxT5+x47lxDYcxwqjkat7RWZp7i5+EIajHjx+Dn38DhIYFSQfPA0Ft2v0cfMvff2MsLO4VWKJkYWGRbUGtBxcZHz12BE0DGiMsLFg6cbtl0MLCIutgidLvEGa0dzsjP9/3t2P/f4UJI7PJKvyU376/swKZw/H1/2bPfX//2vCVxddkFW7mN82dhpl6O3r0CFq09EdERIijUbqLROlm6fBTxrj5rcFXvjuBX+p/Vslj/PH1Kyv8tfj9whKl3yHYeXBKgubnGgAzdWEWdWZuQLIa9NvIZsL2lcE8N/Lwt5HpduSiHePO+Mnr7bq/XfiG4yuzCYNX88zIkdUy/BL4ymGMkTsrZDJ+0XAdC8OiudNgeM633k7Av2kjhITyW293lygxbUneKBt/m3VrNKYMGOObF7z+mvANP7M8vs9osgr0i+WC8TXXW/lv7Bp7P2X3l8CUT5Mv9DMr/LX4/cISpd8hTCNA83MNAO2wUTQN0p1uNOi3afSSkpKwceNGbNiwIb3RojGy8LdZWEpDOX8O9N/Eh27oL3+bhj+rYMIx6WzS0YTBK8Ol/EYWPstKGX4JGL6Rw5ibyf3fgn4kJiZi3LhxiIqKUqJAAnOnwXAZzomTx1G7zqu4FnJ3iRLTkWkaHR2Nzz//HPHx8TeUA8pL45sP5jl//5owst5MLlNWaIfPswr0i36bcHm9Vdnjc6YbDfOY9m9l95cgIiICK1asSPf31053i+yHe5oosdJlNv8rjD+m4cnst++7m9kx9n4pMtwKEeHnM/hZAWkIHP+lgXKsKWjPhMvGgo0VjWkYHX+yFvRRQtSzW0xDnBCfgGYBATh27KjIwd00zg4yfhaB701DamT0lc/I6Htv4kR3y7/6CocPHNDPjJg04Jkwxu6t3GY2me1pRMTQvldl9SLJLaQgPa0dN/zNg/xSk+UqcdND++QdTbpfaTD3tzK+MM/o/83g6053MzHNKJeEr2mpMqd12slpZImnh4v9zO5pbhep17kryo0ePd/HggWfwu1KkvInROn2vfivwPixszsuZej119sISeO2dklv/bvjwd8ALduS1smS35/MnYe+H32ksrH8Uk6vpDtlS0lh5+yUb1O2TYedOf1/SR4Qt+1eHrNMsDy4RSZ+gsTrySDQvGoZYdnx8eNn/f0JGHfp9dotaeCVARBPovfx1xiGbQi3cZPZjsHNnmWGec8BWoC0OwcPHpBymiBx5WBB0l7+WKt+ecwsfu+4Z4gSKwgrnqn4tzK+dv4b0B0r9a0aPRrz3lyN8bVzu6BdIzP9o1n8+SKEhPBTGHIv/kp7qB+/NDBhsOH58ssvcfnyZW2w6Yd5n9Wgj2yKJGU1rl7pTFatXIX3uneXxjBRwpcG25WMnbt2YfFXn2PJ0iVYvHixmqVLl2L9+vXaaJr4mjiYe/pproxLlXLlMHXCBCVKbm34xW6mBpn2Mxvf9yq3z70+42Ne5DcP6YuOicG3m75HTGysprXaIdgJudw4tG8/IoJDkCqkST8wmubP7ZrMMvneZ353wzMRgd/nYsfN7d3aKUo6JAp5SRLz3jvvoH/vPnBJp8Ezn2gvs1+3Mga+z/jR1JTUZBwOPAQ/v8aIjAwXwnDniRLjy/w+c+Y0mjSsi9A0jZJI9at3esxfpnFMZDRa+gfgyMHDQgY8OHv2rJbhFSuWYc3aFVi5aglWr1mFVatWYd26ddi7d2/6VJ1vmjJuxvDeFzez5/sss8kMyS4pF5Cy4EFIVDi27tiJHdt2Ycf2ndi3b5+eCUaZfsrvn8PN3DCOS5YswYcffoi4uEQpfxkabbZXvrtCma8jRozAJ598ouSGdm4li3nuK++tZOB7tivvvdsd7qQ4Cdctz5wyY7cBWNwM9xRRMkTCVCbtsKVhY4U0z3nP37T/34DuEhISVPVuwruZYTj80jkPeTMymIr8S8KmXUMO6O/58+elw6iPiIgwecaRmIy4SUL4WYc00I1JAx4wN3DgQHXPe/M+q0EffYkSO5B2bdri2w3r5V5G2jzHJTkVFStUxDNPP4HatWuhevXqamrVqoU33ngDsUJGmFZ0z7hSZjMSN/nJK99VKF0K0ydNEvsyYmeaeyW+yRllwPhBY9yYKw3DoeEzX6MREcPf9GPXnt14+OGH0b9vPyF6Iou45XOa2KholChcFN+sXosU8YvExWi4jKyZf2c2md8Z2fibVyOvrx21J+5cEvfdu3djy/eb9Fwm2nNL+PFJiWjWNABvdXkTiVJWXSwnYt/Ibfy4mVzGTma7bq9bNYEJifFo2tQPa9eulrTwOOl1B0EZGK/Tp0/Bv0kDhIUGSfllSWNZu+PB34BkYR4pYn6Q9H69dVu4ExJVqzj844/x2OOP4/EnHsOj/8mBv/39z/jXv3LgcT4T07hx4/QpOlPujDHPGE/feumbJ7Rj3pv08M0bmsxQokTynOLFzE9m4d+P/wcvv5QPL7/8CnLnzo28efPC398fgYGB6XIYWRiOCcMYA74zxoRt7NAN62zfvn1RuXJlbf/YRnm8LiHYB4Qw7hD7TjtEQ3JUr149dOzYUUmbkcH4RWPs8reR09zT0K5v+hk7V69eRZXKlRAcdFHKqSVKFj+Ne4IosYKYCrNy5UoMHToUQ4YMwbBhw/DNN9/gypUr6Z2uqVSsbHR3uzB26U+XLl2ko6+tjR/vWcm5fsNUUhres7Ho1q2bNggM24R5u+EauyZuDIvfG5s+ZZJ2UtoIebzSeSXh1JmzmDlzJmJiYtLD4ZUjx7p16yIoKEj9+CXh/xLQRyVK4jfjHxoSgkpCiiJ5QOB1aaREFk5TVShVBtMmjNc0M4bpw7hRPl81PJ/R8Jlv+vF9RSFKk8eNU2JCgpKUJO6EMNIvk14mL3hv/DRhMFxzz/fGjkZEDMOhRinwyBHkeOghvPTcCzh84KBqkVQmMdGRUSiSrwDWrlwto3chh2KfGgcTrvGb9n1l8n3ua9fXGBl55b2xQzfpdoQo9R8wAL17fehMsyXLM5GBGqW42DgkxicouaPGjdNxxh8a37CN377vzW8TnpvlTTqcZOl4J04cj14f9JA4p6XXHQTznOFzMfdrbVvqrrdfkyiZ+qLlTkgSCefAPv2wYM48XFfyn4IYGQwFhQQjOCQIx04cwct5c2PJ0q9w7do1hEg94KCK+cg8N+2Eb5nnle9M+SZ4b9Lf/Db54muMu8ygN5p2170YN3Ucylcqj5BrIYiSMhseHi7peVK/61agQAElFfTbt06YsH1loGy80hh7DMOUUfOc7SIHPYyjV8i125OEQYP7YcCAPuLfjVNtbK848MycFsY/Y8+8p+Ez+mHCNe2Irx3ev9a+LVatXCIycpDqlBlLlCxuhnuGKLHysMKVKlUKL7zwAipUqKDaivLlyyNnzpy6CJUVifZYAX0bJV59zc1g7NP9p59+qt/9Mo1dcHAw2rZtq4tcTRisxJMmTcLcuXP1Ge8zh/tzMPKYhoONSsOGDXHh/Fl43Fwj4pFGKQEtW7bGQ4/8Czly/AvHjh3TMIx7htu5c2csX75c5TJ+ZjXoI0NVoiQd6J7de9CyeQsZcUsjRQrFMKVfrVyyLOZNnaqym0aNctH4NnInTpzQBZmcvmBnw+e+eVC9YgVMnyyEUckJ09uDmMhY1bCQHJ86depHnRENR7l79uzBtm3blECb8E3eaETEMBxqD/YdPIAyxUqgR+dueE3SOS46RkkSCVGsdIAkSutWrRGiIvKLfUOUuKB0165davi5CBMGw2Oe8P7cuXPYuXMnDh8+rESWhnaNrDSUkVM3lDksLCyt83HCCIuMgJ+/P7p27oLQ4GsaJqfePEKYYkXO+JhYp4wkJqhb4yfloHumMzWepqPiPf1mx0m5OEXDDo92PUKUkvkBYCFK27dvRZPGDeESf+90r8N8oGxnz55Bh9fa3GWilKokoLWU60P7DiBViLmWLeY7jZCS8JgwlCxXHD9s3ZKeTyat6ZZX5iHznFPifEfyxDj6tg10y/xkWTFth/GPROfo0aNaR+iW73zlJHjhuhzPdTfGThmDug3rwJXkaG1M+WNZo2bps88+0/D5jIZlgn6zLaHMDNeEwSsNy8zp06d12pFE0DynP/Rf4+SWtHE7/rVv3w7vvddd2rBodUs/afib9pkuvJpyaGQxfjLNfO3QsD08fvy41hve0y7fm3SaNHECBik5c4vslihZ3Br3BlFKdSpwXGI8ylcohzGjR2nFSpKGgZV42rRpSp6oXWEFMhWJo2xWLFPJqRXQqzQIbLRMxctcafkZADc7LPnNaZ8jR44gb568uHrlqr5nhdZKTSMdl6ncjj83LljkM4ZlGkleNYy0Cs+40Q7v2XC9KuQvKYGNlyMX7W7fsROzhJA99fRTOBIYqG7YGJh1KzNmzlTNFteycFEu45fVoI+abmKo2Zg7Zw56vPe+ah0kJTVuSpRKlUsjSk5DqXkhRMf8ZuPbokULFCtWTDVhZcuVVfJ7TDoGkiKutaG9KmXLYtrEifqMC1aPHTuB2jVqo1rVajrVQTecclRiIe/pZtOmTarlq1KlCurWq4fSZUrr2hInX8SIHE7CyT+Rl2m3//AhlC9eCucCjythWr1ipZM/UnaoUSr4Sl6skWfJlF9kI4n6+uuvUalSJTUMr0yZMlgnz1QbJfbYiUycMBGlS5dGc4lrZZEn14svIn/+fNqhkJywE3v//fdRtGhRTYtXXs6DEiVLYOvWH6Tzcamdho0b4Z//+AdyPPAgihcpgqpVq+K0dFxuSf8eH/TEzMlTNF5cY1WjRg2EXgtxyqHISc1IjNQNpvXGDRt1SpHrmRYsWICCBQqq7IUKF8arNV7FoUMHderN7ZXyLJ3OxUsXUEmIakhwkJNedxCsc4yDTr01biCkmSdz/7pEydRPEuHgkGBUqVQB4ULeuUaLsnmlTtFQ4xQUJeSjSF5s2bJZ0jpDK8Lpz5FjRmPV6tUYOXIknn32Wc1flpcPP+qFDevX6/Qp6w//Tp08iebNmiNSyJKGIXnKcsN6xbLN6eoikudtZIAWJPmgdUPCSm9HaOTee92D0dPGok692tIeOdpWGtYHEhi2J9RSm7Zw4/oNqFWzJgoXKoQiUvaqv1od33z9jZZvTQO5kpw0aNAAFStWRLly5bQ+scyz/rB8L1i4EB/16gWvkKTIiBi0btUeD/zzIR3I0X6DBg0RJmSPce/duze+XPyF/v5i8WJtpwxx13orhnWhbds2OHTwkC6kZ52eOm2qltFixYujaLGi6CrunKm+tAGYuFuzdjX8mwqhdydImqQRPeapk7UWFum4N9YoSYvJnRURSbEoXbEUZk6b4oxmpFKx4nBdT548ebSjZIWMklHN+o0bUKdOHRSXijZ40CCckQ46OUkaCyFX8TJ6PnriON7p/g5KliyJJk2a6GJjQ16WL1mCb5Yvl85eRobHj6Fdm9fw8N8egH8jP6mwXRF0LUjsJmHEx0OxfecWbeg+/WQBVq2STjaZjZXTcZNMjR07VrUbvGcDsWzZMm0A2In26dMHwUHB2oixof1s4SK83bELGUlaxJ2GnA3fqXOnkDt/bpw6elwaXE0StUftwvbtO9CofgO4EpO0g+Si1DsBykLD+E4UEjN69Gjt1DgpJy90sXXVCpUwaewYxMTFamdPrUcCpzCZHpI31ARRC0dNCv0JDQtD1Rq10KldeyS7EuBKoSo/GVXLVMCcqTOU/LGDeqNTR80nkheuj7pw7jyOHA7U3/SXjXup4iUwf85cHSXHJSZgzbq1KFCwoEOgpazQmJRhZ+UWf3cdOYRSBQoj/HIwZs6ZjcqSNxGhYUr0IiOiUDh/fqxavkTyQOSXtD0kRJXEZtGiRRo/jnrnfjIfr+TNg5CrQZqP30kn+krOF7F3zx4hHym4FhYO/4BmGNSvN4KuXNIyS60OF7pS8xAZEYnLl4LR5o3XUa16ZXhFdpKlwNMnUF7I3mv+ATgWeBjHThyFS8pQvHRYfh1aY0TfvqoJuijhvvhibnyzaq2StQSRldOE+/bsRd5X8uDyxUu6c2/ZkqXI8/Ir+Hb9d4iKikZQyDUMHDwQ9evV0bVJLnbWqV6ERISrtvbMqdN3vNdh2WZ6BEpe1qtZCxGSVs538tIs3GEo6RCCoORC0u3oyUCUq1QSsfERUqo9UsVYn5w6xfJ9KS4S+Urmx+4ftkudFhtShqltTEhx4bX3uyJXnpfx7vvv4eD+AwgJDUGi5E+DZvWxYN4cXPdKOBIvoUs4vG8fShYsoppCEpBEye+Fn32GYkJiN3/7vZKcU0KKGwX4ofObHZEobZ9H2iO2LZSZxI1rAlmGB00bj8Y160jZSNTpZO7iZHtz6eJF5M+bDytXrBAy4UagEJGXcubC+NFjcPHCBVwIuoIx48bixedfwO7tO7UukaQ0b94c77zzjmq2SGI2bd6smtxkyack8X/omJFo499M6quz5GD3rr1C7srB398Pu/fsxGGpI4nSPidJmasng6EZUyciMcWDbbt2ItcLOXFaSCLbAzfzXsyqtatQslQxRIULaUwSIiZkvniJEljHZRXBwTqYeVUGAoMHDoJH2m+WcZLabft3oVjFEohPipM0sUTJ4ta4h4hSKsKTYlC8bFFMnzxROzJOx7BB4Hz8izJi53QCG90pkyfj6aeeQq8PeumUHNcbcYR37sQprWihMVEoUaokuqRNWXHN04ABA9LUxB506tARfd59V8JIxD6ppM2atkaOfzyEd7q+5ZAb6WA80kCUKl4MkyeP1zDHj5+IChXKSwPH6TlHy0RNFDUGlI9yklwUlI576tSpOkJrKKO21gHNlbxRezWk/0DMGjdJeo+Mqq6VXxqTU+dPI3eB3DgZePQGokR/z548jYa16yI2PFLTiW7uBOgvDQkOF3QybW8gSiIUidIzjz+GgoULoZDEtVihwqgtI9gz0ugnCXFkWhlD2dmAL1m5Cq9IAxoTGSadtdiRjqN62UqYN32WrhEhGaR2pVOnTs66HKYX814MOxlqf7p3744uHTshSToLElTuBuKUVOcunXXXDRvXmxGlbQf3oVjeAgi5cAWRQnxeffVVTJk4Sf2NioxBwbx5sWrFEomzdBIib5c3u6JHjx4qP/OY17ikBFSvWQOrl6/QDqBHrw90MbBD4qQTdXmxZNlyNBJC4kpwFv8zDWkcP2SE7EnF9zu24cXcORF04ZxqB+IlLVo3b4YhPTl6lziLDCniZ4K4q98mABOHDVOiRLk6d3kT3Tu/iWSGyc5S0mRA337wb+Kn8eai7yqVKmPW9Blih+FK2ku6Xr12FfnyvoyDB/arpoodYVhUpJL5I4cO3/FexxCl8+fO4Y12rykRZhn+tXo7lmdDlKjN3H9QOn1pY2ITwoWgUxudfANRuhgbgbwl8ipR4k5PajZSJf0TxW6rbh1QrFQJ1XJTe8dBW6LkQz3/Olg0fx63rqYTpQNCPArmfgUhMlCiNidYSFWZcmXx/fqN8EpZNWX47KULKFKsEIKCqC135KHMXvGDRMkjMg+YOhb1q9VQ0sXpWmpzOHB4rf1rKF+2nBIe1rN2rVrjrU5d4JYBFbXhcUlCrET+nu+/j9o1amrdYRtITRYHAqZ8s0zzqtqe1GQMHDEMrRr7S1l0drK5XR60bt0O/fv3E//Y9kkZFNlIlOrXqyft9XgpkzJQlDSpVq0qpk2Zqv5xg0qixLVd+zYYPLi/toHXgkKQL18+rFm9Rus9CT/X5W2SwUfhgoWQwOlmccOyui/wIIqVLSb+xkoeUlvMWv2rFR2LbIR7ZuqNjVl4YgxKlCuOoQP7I0xGnsHXrumIvF27djr9wQbq7OkzyPnsc/js04XakbJCRkjDX6Xmq+gglTkuMhrHTp3Es88/jxPHjmuDxI6LIyk2DInSiHTq0AX9e34gDVgSErwu/LB5F55/7ElEhsroTxoGPctGGoFKZStg5jTuzPLi9JlzeOml3DiwlyMzRzM1ZcoUnfrg6JBar0KFCmHr1q0qE99zVFehRCmcE6LDEX/fnh9i0fQ5SoAMDDE5feEMXi70Ek4dOXYjUZI4XpKwa5SrhGsXr+C6NFBMrzsBX6JEkjRq1ChpuL3yxiFK1PpVKFMOnTu8hlVrVmP5smVYKeRh9apViJK8IaFh3JnmXPvAdWDvSSNdpGRpPPnoo4gKuyaNonQS0olzCm/mpKlKWNiYr167Brly5kS7tm2xa8dOXcys03viX2w8p2TL45233sbxo8dw5OhRBB47hoNSNpoGBCipM8TKpAybVI7KN+/bhZL5CyPi6jUkSeP7/fffo0CevDhx/IQQpWgZgefEsq++ELldCI8W4lS4sGqCOIVIAkwyvOfAPlSqVgUTx4xTWQcOHYLmTfylA+FWfi6+FvnXrEW9Wq8iKTEuPf9Z3rj+bePGb9GvzyDUalAPjz/+H5w5dkSJErU7rVo0w4D3egi5cUnHLd2jpEe8yFmvlT+mjBypRMktxOLrDRtQ8OU8uHLmvO6WC4+JVmK0cukyDY+avOefeRZrlq/EiSMnRO6jOHT0iBCD/ShauCBWr3RIHtdAhUtnW/PVGkLATzGh7ihYrynfOSkPr7dpixDp7EmOf63ezhAllmmaw4cPokzZ4oiPj5Ky7ZEynaFR4q7Lc7GheLloHuzavFXspzpESUyCkFr/9i3Sd08yLandcUn+1G9aB5/OmaVEKVnqJv3bu2MHXnkupxIlTotu27kDL+fNo5ooakvZXpw5e0Y139S27JNy6pW2KDNRItkfOmsS/v3AgyiQNx9eyZcXefPnQ+EihdGpY0f1i2uXQsJC8VKuF7FJiFgKSbK0c4lSxqh92i6yPP/c8wi+clXr5scff4xcuXJh1qxZWj6ZP6yHJHQkSoNGDkfrJk2FsCRqmnGdUssWbdCvn9QzIUo808kj8UyUct+gfn3MnDpR1zWy3WSbyOnzOCE8bqm/56QNLJAvD/bu3i7uvNiw8Ts8/cSTWo+pdb5ME3RVZcz7yiu4fP6CEiUSqN0H9kpelUCiHhHAduhXKjQW2Q73EFG6rkSpZPkSeOxfOVC4UBG8IhXnySef1C2oVA2z8/l8wUIUePElRIeGO1oEjlilUs35chGef+pphF8JRkRkpM7NU3uwdu1aXUzMTouVnrurXm/bGf3e7ykNUZKOzrf/sBcvPP40osKv6cjF402RxjAZxQoUwZypk7Vh5+ipYf16GPTRh+KPQ7y4zoBaJMrFBZWcHuS5K1u2bFHDtSPlS5XW7d/sxAf3G4BZ4yelsSAHphGnRilX3pw3EiVpF9iInTlxCjUrV0XEtVB5d+eIEsFGmqPvOVyj1KOHpocvUSojxG/OjGnaSVB2kjklV+KGu7M4un333Xd13cNHH32k6xb6DxmKZ/7zGCLTiBKPRKhUomw6UWKnwykt5nGXTp2RL29e1K1dRwjsFh258ywkau44rdCwfgPUb9AA9Ro2QKPGjVCrdm3MmzdPt3mzAzMpw6tHEnLLgT0oLfkYHRymI1d2FO1bt0G3rt10SqxwgfxYsfRLkcmNS9KpPf3sszri5RoOaiqZxzVq10SlKpWxYd3X2nFu370TeXO/hA3rNyBeOqmzFy6hpsj76bw5Eh9Hq0byzKlLpkPLlq0wacI0DPh4GJ586nGcO35U7HmUKDXz90Pft99VosRzjjj9kSDXWs2bYJoQVa/8JlEKj41G2RIl8dUni1STsXrDNyhZvDiiQsJ0ZL5VOuJ//v0fKFGgMKpXeRVVq1ZHZRndVxaCV7F8OWzf+oPmEfPtanAQqgnJuipy3+m+xxClw4cOo3G9BggPDfvVNUqqTRLDcEksypcrjegoSTcpCyk8xDGNKF2Xon4xLhL5SxXEnh+2S5kQokS3kr4kSo1bN8XEEaO1rLEckLAmS/7UaVILn3/6Ca6LX5xq4pb+Pdu2IfczzyE06JoS/q+WLcVf//43KQ+VtUzVrFlTp5u49qxylQo4evSQtFGJkl5S1wRCl4SgSdoJ2R84fTzKFSuBb79Zj9179+pOzrDwtMX9bANFljPnzuIZaSupfeagzAwiKePZC+fx73//G6eOndDn1CpxelzXscngjuuMQjkdLe/ivW70GTJQNUrJbmdNFIlSs4CWGDhwgMjnlXLKQQjPePLqeqhZQpSYRkyT4ydPIOcLL+DwvgMS72RpFz/XjRtx0RFaTufJ/d/+8leULFpMd9VyiQIHwVy/V75MWdWa6WyC2P1u8/eoUaWiDj44Rar6JJabX6nsWGQf3DNTb1SLRyTGomL18nj37W74YcsPSjYOHjyoFVtHNlLxp02chArSaKQkymhQGiytyNK4rN/5Ax76+z9x9ayMSMTeBRnJcGqOO+a45oQ7sEhukpI80lF2xrC+/cVtIpLYqO08jJeefQFRaR/sTJYG1etOQclCxTFv6hSnsZdnny1YgBrlyiExPl41DVRhc+cLiRIXnD/00ENKzriImeunaNix79+/XzupMdLxDes3UMmFAf2m+xNnT+L5l5/HycxESRoMLgJvUKcu4mPZYHDUqm+zHmyHRDam6XfffYdWrVqJbB554RAlvqdGad6sGTcQJRrKRY0SpznryyiTax9UtS9x+2HHTjwno0gSJY80tCRKNcpXwewp0x2iJHEkUWL+srEOvhqErl3exMtCRk6fPIUoIUpcazZlgjTIzHMJl1NPXMega7Zo+FyMSKNgB+mWhNx6cC9KF8wgSmzMOeVUtEhRfL1uPcpIA801SlxcHxUXj+ISzsKFC7W80dBvt1z1UExpwDnFEZeYiGaN/XRrdo1adVG0RGm836MnYqMitHNhPEg0uWiX5YRTFcnSs+w7GoiXXsqF80KUuEg+IVnKYpvW6P/u++JOOjxqlEjKJX71WgXcQJQSRYbeQu7b+TWTEXYS3urxnh5KSe2BrlcKPIznn3sO+7ftVM0IOzPttCUMr8flaKxEfuYHp20a1auPhKhYzdM7CaYfyelxKcNNGzdBVFh4GlG6wwGnQUm8pB3LarIQmdioGDSoVxsXz5/R9LiRKF3H5fgoFCxTCHslHUmUWNaoUeI0qZ/kyayxkzSPSECc8ucQpc8WfIJUTnmKXab5bhKlpx2iRE3Nxu+/w/Mv5kJQcLDWd5VJ0kHLrQwevLr2kTvnfImS5J8QpQFTx8G/bgO4EpKUuJnzoDiAY31hHboq/uZ89nns3Lpd2kVxJwSKAweujdpzcD+efuYZ1SgxzswPhs929dtvv1WiwrrO9iVB4tV36CC08QuQsuVouDgF2a7d6xgwgG2mo7WllJw6rCHt3expkiZpcYpNiIdfkyaYMm6CyOBB2zbtMHHUSFyXAQTPB1sqA8lcz72A44ePqHaRGi3ueuNRDJFSNji1zHad6bvos0Xo9lo7iZ/IIX8yRHTK669TdCyyEe4NjZI0UmyoYhLiUKVaZf28gDYCUvm080y7siIuW7oUpYoVR5iMgDgPr+/EzP10Pl5+6SVcC3IaItUgSYULkvs+vfvomqYjhw9pY/NWp3cw8KOPpEImSjjJ2C9EKfdzORERSjW5NJ7S0LBRrVS6IuZPm6kNmkvscXFsKelYT0lHM3vGTHTu2Emn4dgZ8Pwndubcxk05Gb6RQ2UXO1wv9Xr714SMOB0Fr7TLzvf0hXPIWzi/qqTZQDJMGrrbvHkzOnfqpOmku2HE3BGwHZIO9rrE/9zps0LyGiMuJk7yRmQRWTntV6NKNSyQ/KHc+oz2aUSmWO7CkYaTC9rZGDPevH79zTd49ulnwDOZSFT4vFaNWpg1Y5aOOlMknmbhPtOTDTgb0KJCRPk9Lj7n2Vd+fn7p253NLh/+piw0zAdSSCYPNW8kc7sDD6JiqTKIvhau750zibwYIoSO2p48r7yiU4iaZxJO5y6d0OGN9mKH6zPov8SDZEP80vImDfluIX5tm7VEcNBVnDt/Dleu8pwvsSuEhIc6xklnUUfI8hTuWpMyyDh7Je22bef0wsuStifFPw+SxP8Ob3RAPymfTofpdH7Ucvq3bomJkybq1AsNieTOHbtRulQFHDt+GuXLVcBWKRcsKywjXFzP0TnLJacpuObKI527V4zbkyiyZxxLQO0ndzSy7N/pTscMBM6dPYe2LdshLCRUnnEtGfNKu747DpZNQ5iooezQ4XV8JwRBiZI8c+qVyCplJiI2GqXKlMKe7SScnP6SdkjahHjJ22ZtW2HSuPFOOiqBcLa0N28ZgHFjR0vZFQKiae/FmlWr8YIQguAgHmHhTEW/kicfNm3e4hBnbd8kz5nfmjfUADltiSOPhC1lxMVdbzMnIsCvMbzxiY5Gme8lXZ3yImVL5FENd82aGD50mMaR6+coH+vIwMGDUK58OX3OaTo+S2+XxP33mzbhuReex+ULF3V6eujoEWjfopWUXU69SX2RQWOL5u3Qr39fIWiO5lOJuLSRHBTNmT1D5HDKFusWT/Zu1KABTp44qSTszKlT4hc1Tl4cEcL8pAyavpeBGGWh9ojxcDRxzqJ33XQg6cEpwimjx+h5V/qZH5Ya1u1fo9BYZCvcG0RJK8B1JMhIndoY7g5TbZFUPG0MxLASskG4ePGinh3Cs5BY0fmMO5OoveGCX9NocMcSd85xUWuMjCIrlCuHr9eshlfevf92TwyXxuN6ikvDObT3CPLnyaufFaE2it83IlGqVbUmFs2Z7zRm0gCy8n7w0YcY1LcfApr4YcWy5doRUjbOt3MHnunYKQcNf5Ms8DfXJbBh4cJbJUNpnQgblzMXL6BwyeIy2j+Rrh1huGzQZsyYoSd0m0b0joGNkDSA7CBciW40D2iFY0dPaEdMWSlzw7r1sHD+J5o3SpTS5OGVceWZT8wHapQ4DccP6pI88XgHbv9lWtFwi/GYMeMkbZyzpAYPHoItW7bqOjTmHckW05PnzTA/eS4MiSgX5ZNEkTDR/x07dmj6qr+UU2Vx4kKCsufQQVSrXAXRIULS2HnIM+6i48ieZ3RxSoIL700eMTxqgjilqucaSZnk1O2O7dvTG/aFny5AVfHz8uUriI9LkPIXhzi5OpsPpKxIY//222+jTZs26jZOZA08dgJNGvvp9OG5s2eEsLmQJKRqhIy2q1arpnGK1XOTZMQvHUXLtm0wceoU1YLRkIDFSDoFCNkIaN4azf2bIT46Jr2MsZzwczesG6tXr9YzwZiOV65c1uMBfMskp1rWrFmj5elOg2EwzJMnTonMLWWAEyr5Q32JlJ9fiSgZsLyynFDbx92qptwYsAyz/PFIiP2790rbIOVJ5KcGJ0FIzOudO+rZaqYMM168jhkzFnXr1MP5cxckD+OwXUhW5UrVkDv3S5KvQqKFdJMEjRk9HmXLlsfBg4e1zHO9ZHh4hO7aZP7QL1PH+akQTje5JK0mzZqG1q1aKFFSRpcmq9ZJMSaNqR3Knz+/fsiaU7801MpzCYP5yCzLxRdffKFaHJZt1qNZc2ajcLGiCBUSmyjlaMzkiejc/nUlSnpyvicVA/oPRUCAPyKjeCYaD4+V+u5ORtOmAZg/f47KQFkYBrVDPOqCbQFP7Gc4LJ+UkXWZG2Y49ehoWx3CFhoehmtiXLQjYSZIHaKWa+/WnZCK7WitJd7MrV+zzFhkD9wTRIkaEmot4oVAcD3SsqXLlCjoKCKtQTCNASva/PnzdR1Jr169tMHT83rKlk3fks4Fu9z+PHbseOmoN+LNLm+iYrnyuCpkxJOYgA/e/wCDBvSVhiBJwwm+EoISxUvq2hp2MmxEXC43ypcphwVz52tFpiqYFXjLDz/g5Vwvolyp0jpFxI6NYdIO5eJUH89X4fk+PG9l/HhnBEpDTQlP0z157LiqxknKtm7bhk6dO6FxUz88/J9HpeFpire7dkMgT5GWjpcNGXeD8eBDhsO0uGOQFkin3oQouV1eIayLMXbMBCWDJEYcgTfzb4oVS5Y6z9IadXUqVzZ6XHxfTTp+HhhKgkTCwEMnud6HxIPpQHtjx45DkSLFEBhIIuTGwoWfSeNZS9dNUNPD81q4jZjxZ9rScBqWn23geiXmOdd3kJSxQ9AyIh1aukZJ4kGitPvQAfhxykeIEjUGfGamLahZIbH4QfLU5BHzfdfOPWhQvzGKFikh5aiWlIPyGNRbygs1AZIGF6VjK1SkKPLlLYRKFaurqSak+rX2HbFr+24lZCeOH5dRfHkpVyVQp3YdtG3fAV9+8aUS7IsXzgtZS1SidOTYUS27nMZ7tVp1nD11WrVHb3brivkLPtVOmlOTKpuUv08XfYYnnnoGM6ZO12k3UyZ4NXWjePFSKFmiDGq8WhuFChbF4EHDtCzxPTsxpiGnppl/dxqm3p48eQrdOr+tgxpHo3R3iBLl4UGh7MRJGphuBizDLEuNGjVC4KHD2jbowEnc6Pf3evbUQQv9MeWF5fLSxSsoU7oi8uQpKHlZCe3avoG1a77RwUDwtatS5qid9CJaBmxDhgxD4cJFpT7UhZ9fUynnFTB79hyVg36ZOkWixHLqSU3G3AXzpQ3rDG+CK50oEY49x9A96xXzn+WJZySxHnGwwWckK/SfhJxrD1k/2dawvS1VupQet6LTdeLP5JnT0eud9yTuDlHi54UCDx9DgYIFULZcSbRt11rI3RVtIzp16oxPPp2bns+UgYYDmqeeeir9nDOTVrwy3dnWsg3nUQWvv/46KlauhHmffuJobsXe4SOBOtCIj47VwSzjyLrNEvtrlhmL7IF7RKMkIwVpfHi4IzVFx44e047MkAJWkswVkWcqUTvDCs8POJLc8L3pMHi6c+1aJFDldRvtuTNn4aWK25WI1atWYP03a8Qup+fEjTQEO3bsQs1atcXUxMlTJyUMF+bMnoV9u/eoxkdH9lKBuX19hDR2y4UssEOknCZMNkbUcPDL19RWdO3aNX0ROu3QsHMeMmiQNsLsvLgwc8iwofiwX198NKCffrpl3KjRuHD2nNrn+iaSKxIG04jeKdBnklbd1SKj6aCgUPj7NUPYtRAlRiQJJBuMs2+jbuCbR+yIqUHiPZ8zLnxOd85vD06fPivxEsLAz5cIOeP0G7Vu1B4xPenO+MmyYNxzBM7RKDVKxm8lC/LblyjxPoGamOgYpHCKT+zotCX/STzolznkjn44Rp5zrYmLZzedwp49+3H10lU9xfk6O06R+8uvvsKHvXtj756D2LF9r5g9+GHLDrRt8zqKCHm6fPq8Euio2BjNvyOBR3Snn1cM12Fwis6bSuItZVk6Imqdtm/fjmNHjqbvVuIW8Ghxzziw8+C0BRcJx7nicebcaSTExqUTJRN/poUTp2iRZzu+/24LLl7k6dFOXGlIPo02hel6p2Hy8PSpM2jfukPa1BvXufz6REk7W0knpsPgwYPTCbIB3/OdDpQkH8y0lpZBSX9Oq1NLx3Jo0p3vOTUVER6F777djN279sOVRC2MPItg+ec6H8c+NTPMi5CQMGmfNmD9+o0I5aYUKSvGL4ZFOYxhmeW0aogQXE5T89nNwOdaB8QflmnGjdokasgYJ/rta7i2ku+5S5faHE55UWNMMh6VEIeYCCGRUtaVKMlz1tdLly5K+7ZVBiz75F4GfvEuSatghEc4J++bNGF4DJf12NRZvqd8Jnw+41o5roWkrBcuXtRBDA39+HjECF0raNyx3jLmxlhY+OIe0ihJI5VWiXTaiaOItNETGwE+NxXRVDRTCdm48DmvphFT+9LZcx2APhN7qULEUtw8WyRROiCuoUmbsmFDII0Q15Ho0QDJ4jfXqKRI5yINhC42TguTC3p1WpDXNMKgMkvY7Nx9ZWNnZN6b5+zceaYJiVuSECt9Tv+lM+T6ABIS9V8M3VM7xekrDTutEb1T0BEb80HSgenBM4JmTJuNjeu+0fiSKLEh4/ogk96+8piG0KS/ibPpnMw93/Oq5wtJPPW8Gskr555anYx0M/Yz+8ewjTHhKhESOSiSapQkTXkgIDU0PIk9nSiJJS7cNf76XrmY1vnthMfF/cxL7TSlLLADrVq5sh7ux7LB8Fl+aA7KszzP5sSZg0fFruS/uFc/JI48mJLlkemoO4RIlISoa96nlRXmOdOYcvgahqGdSCoJe6L4m6CLv1OF4Bu5aYdpo3YlfxgPxsHEg/5Tm8OpEK6XMXbvNJg3lI9Tyq+3fUOnd+42UWJ6HDp0SLWRrLMG5h3zm2VHv0MosmscmDcmL8QOr+Y3yy01kXyvZYH57WKZEiN5nCLxZXqTgPO90yY57sy94zajTqmRcsqdpiRX6q+Qey2/N4Fv3OgPr8xz/jZtIo3KIcbc63u5p8bMRa2TxJmbDFJkoMDlB7TLqTaWKfrDASTjxDrLOOq3CD3OMQI0lN/8dtw6dZbGN+3Me8po5DOyk5DySBjuXqYWn+uXOOPAmBtjYeGLe2gxt6NqZiWixoJXUyNMI8BKxOf8rfbEmIrHZzTql9zTLhsXLhSmHarQr0sjcF1G5Wyo9Yv4ck+7VHMnS4PEnW262FfssFPiYlhdUM3Ok7KJf7q2iEaeUyuhGpb08JzKTuPbOPi+52+u09CFwWmdIjtw+q9hyHsTBv3hyE87UT5Pi9+dgiFK/JSHruVhPKgJYaMppMDEVQlHmiy+8vimvcmPzHnCK+NlOgjzXi5iHPJi3GtYYow/5t48873XMOSZNqTyH++pjXEL0dFRKsOSZ3yuREk7IKex9pWXC6Gd3UdescvnzE/Jx7S8IVmqVK48Rg4dLiPqOOloeQBmEi5cOK9f5X+Hh0LG8TtZbOAlXDFc58Kwtcxo2ZHnIpeWKxNf2tHylJF+vvHTMkLinioEPtUl8ot9Ei9e02TPMCxTLHtOXLSzZpjir9Hy8TevdxqaZhLO0SNH0bF9R0RFRIpsTFun3jE7fi045cxJV3bOXEfHewMtQ0xrGskb5o9xw3xRLaWkm0lzcyUZZZo7hs9M/jl54ZQj5mtGG8Z3KVIGWQdMmBqOGIap5ZT/RLwUIcQkTFxArc9vAiMn/UmXOc0Y/33D8Y2HDn4kDrxn+8c1clpORV4+c+Ln6wfdOjI5bWxGG2zsZMTzxvLMq68xz4xd/mad1Gl6udc2kenBOKYZC4vMuCeIkoVFdgE7fa6V4vors1aKi395VATPjTLTgcakd3r3KNjxMc34rb+ABo116k0Jre35LCwssgiWKFlY/IZA8sOOn1M2PN+Ka+X27t2rmhpq/jJrEc3I+V6FIUonT5xAa/8AS5QsLCyyHJYoWVj8hsCOnwSIUzckRSQBZpqBz3jvS5KsRskhSocOHETH1u0QJYTSmQKVl5YoWVhYZAEsUbKw+I3hZmtADCky13udIBkwPUiUjh45gvbNWupnY5QfWaJkYWGRRbBEycLiNwRfEmSIEK+ZCZIx9zqYLtSu8eiD+q/WRDA/EqtpJS8tUbKwsMgCWKJkYfEbwq2IUObnxtzroLaNGqXDhw7Br0FDPZPLOUhWXlqiZGFhkQWwRMnCwiLbwky98aO4jevVR2R4hB59YQmShYVFVsESJQsLi2wLapS4G5C73po0aIiQoGA9L8oSJQsLi6yCJUoWFhbZFiRK3B24f98+NKpbz2qULCwsshyWKFlYWGRbcOqNGiWuUWpcvwGiIyKtRsnCwiJLYYmShYVFtoVZo3Ti2HE0b+znaJTsYm4LC4sshCVKFhYW2RaGKFGj1LKxP8LDwvQbfJYoWVhYZBUsUbKwsMi24BEJXKMUePgwOrRqk/ZRXKtRsrCwyDpYomRhYZFtQY0SiRJP5vav20C/9WY1ShYWFlkJS5QsLCyyLUiUeDJ34KHDqFmpKkKvXbNEycLCIkthiZKFhUW2hSFKhw4eRKNadREdFWWJkoWFRZbCEiULC4tsC7OYm0SpXs3aCA8JtccDWFhYZCksUbKwsMi2MAdOctdb7eqvIjT4mj1w0sLCIkthiZKFhUW2hdEo7d2zF7WEKEWEhlmiZGFhkaWwRMnCwiLbwhClw4cOw79hYz0e4LqderOwsMhCWKJkYWGRbeFLlKhRsh/FtbCwyGpYomRhYZFtwTVKuuvtwEEE1G+E6PBIJU/kSZYrWVhYZAUsUbKwsMi2IClyu904dfIk2jdtgeiIKFxPvW6JkoWFRZbBEiULC4tsC7Pr7UhgIPxr10do0DWrUbKwsMhSWKJkYWGRbWGm3nZs2xg36F8AAAJ+SURBVI4G1Woi/FqoJUoWFhZZCkuULCwssi1IikiUDu4/gOb1GyM2KsZOvVlYWGQpLFGysLDItiBR4q43fhS3frUaCAsOsUTJwsIiS2GJkoWFRbaFmXrbvWuXHg8Qdk2Ikj0ewMLCIgthiZKFhUW2hVnMvXfPHrRu1hxx0TH2HCULC4sshSVKFhYW2RZmjRI/ilutUmX9KC6n3ixRsrCwyCpYomRhYZFt4UuUApr4ITIs3E69WVhYZCksUbKwsMi2MIu5OfXm36gx4mNi7dSbhYVFlsISJQsLi2wLo1Hit96aNfJDTGQUUq9fh/xzyJIlTBYWFv8jLFGysLDItjBEaf/efaheriKCg4KQIs8sUbKwsMgqWKJkYWGRbUGi5HK5sGP7djSuXQ+R4eFITkmxRMnCwiLLYImShYVFtoU5HuDA/v1o7ReA6MhIfWaJkoWFRVbBEiULC4tsC5IiGk69VStXAdeCg5GcaomShYVF1sESJQsLi2wLkqSkpCRs/WErAuo3QmRYhE7HkSjpcUqWKFlYWPyPsETJwsIi24JEiWuU9u/bh7b+zRAfFYvU5BRVJCWLSVVbFhYWFv89LFGysLDItjC73i6cP4+3O7/paJRSUpUopfC92rKwsLD472GJkoWFRbYFNUo8cJLXZI9chTTp1Ju8I0myM28WFhb/KyxRsrCwyLZQgiTkiMbt9cCbIkRJ6BEJkjEWFhYW/wssUbKwsMi2oPaIGiW3xwOXECWPEKWU65YoWVhYZB0sUbKwsMj2sMTIwsLiTsESJQsLCwsLCwuLW8ASJQsLCwsLCwuLW8ASJQsLCwsLCwuLW8ASJQsLCwsLCwuLmwL4/wG/DMMP216RpwAAAABJRU5ErkJggg==)"
      ],
      "metadata": {
        "id": "6lnvDurXiUJ3"
      }
    },
    {
      "cell_type": "markdown",
      "source": [
        "* 사이킷런에서 confusion_matrix( ) API 제공"
      ],
      "metadata": {
        "id": "B9T9hqTkiQTA"
      }
    },
    {
      "cell_type": "code",
      "source": [
        "from sklearn.metrics import confusion_matrix\n",
        "\n",
        "confusion_matrix(y_test, fakepred)"
      ],
      "metadata": {
        "colab": {
          "base_uri": "https://localhost:8080/"
        },
        "id": "bmUA6wBRe3T4",
        "outputId": "51db7963-6db2-4b58-84d6-56ce669d2819"
      },
      "execution_count": 10,
      "outputs": [
        {
          "output_type": "execute_result",
          "data": {
            "text/plain": [
              "array([[405,   0],\n",
              "       [ 45,   0]])"
            ]
          },
          "metadata": {},
          "execution_count": 10
        }
      ]
    },
    {
      "cell_type": "markdown",
      "source": [
        "TN=405, FP=0\n",
        "\n",
        "FN=45,  TP=0"
      ],
      "metadata": {
        "id": "0gsdnHwEi914"
      }
    },
    {
      "cell_type": "markdown",
      "source": [
        "**정확도 = 예측 결과와 실제 값이 동일한 건수/전체 데이터 수 = (TN + TP)/(TN + FP + FN + TP)**"
      ],
      "metadata": {
        "id": "TR_HZb18JKUW"
      }
    },
    {
      "cell_type": "markdown",
      "source": [
        "Positive 양성으로 1, Negatie 음성으로 0 값을 각각 할당\n",
        "\n",
        "불균형한 이진 분류 데이터 세트에서는 Positice 데이터 건수가 매우 작기 때문에 Negative로 예측 정확도가 높아지는 경향이 발생\n",
        "\n",
        "그러므로 정확도는 분류 모델의 성능을 측정할 수 있는 한가지 요소이고 판단 오류를 일으키는 경우가 많으므로 **정밀도(Precision)와 재현율(Recall)**을 알아보자.\n",
        "\n",
        "\n",
        "\n",
        "## **03 정밀도와 재현율**\n",
        "\n",
        "---\n",
        "\n",
        "Positive 데이터 세트의 예측 성능에 좀 더 초점을 맞춤\n",
        "\n",
        "**정밀도 = TP / (FP + TP)**\n",
        "\n",
        "**재현율 = TP / (FN + TP)**"
      ],
      "metadata": {
        "id": "52PfFbQLJcEz"
      }
    },
    {
      "cell_type": "markdown",
      "source": [
        "정밀도는 예측을 Positive로 한 대상 중 예측과 실제 값이 Positice로 일치한 데이터 비율\n",
        "\n",
        "재현율은 실제 값이 Positive인 대상 중에 예측과 실제 값이 Positive로 일치한 데이터 비율"
      ],
      "metadata": {
        "id": "YK6uHow8KDiU"
      }
    },
    {
      "cell_type": "markdown",
      "source": [
        "** 업무에 따라 정밀도와 재현율 지표 중에 더 중요한 지표로 간주될 수 있음"
      ],
      "metadata": {
        "id": "Yi2a3aA-KrR7"
      }
    },
    {
      "cell_type": "markdown",
      "source": [
        "사이킷런에서 API 제공\n",
        "\n",
        "- 정밀도: **precision_score( )**\n",
        "- 재현율: **recall_score( )**\n"
      ],
      "metadata": {
        "id": "l_6ZWD-kKrLF"
      }
    },
    {
      "cell_type": "code",
      "source": [
        "from sklearn.metrics import accuracy_score, precision_score, recall_score, confusion_matrix\n",
        "#confusion matrix, accuracy, precision, recall 등 다양한 평가 호출: **get_clf_eval( )**\n",
        "\n",
        "def get_clf_eval(y_test, pred):\n",
        "  confusion = confusion_matrix(y_test, pred)\n",
        "  accuracy = accuracy_score(y_test, pred)\n",
        "  precision = precision_score(y_test, pred)\n",
        "  recall = recall_score(y_test, pred)\n",
        "  print('오차 행렬')\n",
        "  print(confusion)\n",
        "  print('정확도: {0:.4f}, 정밀도: {1:.4f}, 재현율: {2:.4f}'.format(accuracy, precision, recall))"
      ],
      "metadata": {
        "id": "jlSM2JTne3RF"
      },
      "execution_count": 11,
      "outputs": []
    },
    {
      "cell_type": "code",
      "source": [
        "import pandas as pd\n",
        "from sklearn.model_selection import train_test_split\n",
        "from sklearn.linear_model import LogisticRegression\n",
        "\n",
        "titanic_df=pd.read_csv('/titanic_train.csv')\n",
        "y_titanic_df=titanic_df['Survived']\n",
        "X_titanic_df=titanic_df.drop('Survived', axis=1)\n",
        "X_titanic_df=transform_features(X_titanic_df)\n",
        "\n",
        "X_train, X_test, y_train, y_test= train_test_split(X_titanic_df, y_titanic_df, test_size=0.2, random_state=11)\n",
        "\n",
        "lr_clf=LogisticRegression()\n",
        "\n",
        "lr_clf.fit(X_train, y_train)\n",
        "pred=lr_clf.predict(X_test)\n",
        "get_clf_eval(y_test, pred)"
      ],
      "metadata": {
        "id": "qBmun0TCe3OZ",
        "colab": {
          "base_uri": "https://localhost:8080/"
        },
        "outputId": "7d8302f8-9db5-4794-cba7-3099cfa30d5d"
      },
      "execution_count": 12,
      "outputs": [
        {
          "output_type": "stream",
          "name": "stdout",
          "text": [
            "오차 행렬\n",
            "[[104  14]\n",
            " [ 13  48]]\n",
            "정확도: 0.8492, 정밀도: 0.7742, 재현율: 0.7869\n"
          ]
        },
        {
          "output_type": "stream",
          "name": "stderr",
          "text": [
            "/usr/local/lib/python3.7/dist-packages/sklearn/linear_model/_logistic.py:818: ConvergenceWarning: lbfgs failed to converge (status=1):\n",
            "STOP: TOTAL NO. of ITERATIONS REACHED LIMIT.\n",
            "\n",
            "Increase the number of iterations (max_iter) or scale the data as shown in:\n",
            "    https://scikit-learn.org/stable/modules/preprocessing.html\n",
            "Please also refer to the documentation for alternative solver options:\n",
            "    https://scikit-learn.org/stable/modules/linear_model.html#logistic-regression\n",
            "  extra_warning_msg=_LOGISTIC_SOLVER_CONVERGENCE_MSG,\n"
          ]
        }
      ]
    },
    {
      "cell_type": "markdown",
      "source": [
        "정밀도에 비해 재현율이 낮음 -> 재현율 또는 정밀도를 좀 더 강화\n",
        "\n",
        "### **정밀도/재현율 트레이드오프**\n",
        "\n",
        "정밀도와 재현율은 상호 보완적인 평가 지표이므로 한쪽을 강제로 높이면 다른 하나는 수치가 떨어짐\n",
        "\n",
        "사이킷런의 분류 알고리즘은 각각 레이블별 결정 확률을 구하고 더 큰 확률을 가진 것을 예측값으로 함\n",
        "\n",
        "**predict_proba( )**: 예측 확률을 반환"
      ],
      "metadata": {
        "id": "z-fvcN7oNieI"
      }
    },
    {
      "cell_type": "code",
      "source": [
        "pred_proba=lr_clf.predict_proba(X_test)\n",
        "pred=lr_clf.predict(X_test)\n",
        "print('pred_proba( ) 의 결과 Shape: {0}'.format(pred_proba.shape))\n",
        "print('pred_proba array에서 앞 3개만 샘플로 추출 \\n:', pred_proba[:3])\n",
        "\n",
        "pred_proba_result=np.concatenate([pred_proba, pred.reshape(-1, 1)], axis=1)\n",
        "print('두 개의 class 중에서 더 큰 확률을 클래스 값으로 예측 \\n', pred_proba_result[:3])"
      ],
      "metadata": {
        "colab": {
          "base_uri": "https://localhost:8080/"
        },
        "id": "Txn1MrBBKYuX",
        "outputId": "7b64ba69-d0e0-4d1f-de80-e05524820c12"
      },
      "execution_count": 13,
      "outputs": [
        {
          "output_type": "stream",
          "name": "stdout",
          "text": [
            "pred_proba( ) 의 결과 Shape: (179, 2)\n",
            "pred_proba array에서 앞 3개만 샘플로 추출 \n",
            ": [[0.46191519 0.53808481]\n",
            " [0.878675   0.121325  ]\n",
            " [0.87716185 0.12283815]]\n",
            "두 개의 class 중에서 더 큰 확률을 클래스 값으로 예측 \n",
            " [[0.46191519 0.53808481 1.        ]\n",
            " [0.878675   0.121325   0.        ]\n",
            " [0.87716185 0.12283815 0.        ]]\n"
          ]
        }
      ]
    },
    {
      "cell_type": "markdown",
      "source": [
        "현재 임계값은 0.5로 설정\n",
        "\n",
        "이때 임곗값을 Binarizer 클래스를 이용하여 변경하여 트레이드 오프 방식 이해"
      ],
      "metadata": {
        "id": "ktaNaTBXebUg"
      }
    },
    {
      "cell_type": "code",
      "source": [
        "from sklearn.preprocessing import Binarizer\n",
        "\n",
        "X=[[1, -1, 2],\n",
        "   [2, 0, 0],\n",
        "   [0, 1.1, 1.2]]\n",
        "\n",
        "binarizer=Binarizer(threshold=1.1)\n",
        "print(binarizer.fit_transform(X))\n",
        "#1.1보다 크면 1을 갖도록"
      ],
      "metadata": {
        "id": "ulHkpQpEe3MK",
        "colab": {
          "base_uri": "https://localhost:8080/"
        },
        "outputId": "9523ea87-ce1d-4604-bdec-921ed8ccd46b"
      },
      "execution_count": 14,
      "outputs": [
        {
          "output_type": "stream",
          "name": "stdout",
          "text": [
            "[[0. 0. 1.]\n",
            " [1. 0. 0.]\n",
            " [0. 0. 1.]]\n"
          ]
        }
      ]
    },
    {
      "cell_type": "code",
      "source": [
        "from sklearn.preprocessing import Binarizer\n",
        "\n",
        "custom_threshold=0.5\n",
        "\n",
        "pred_proba_1=pred_proba[:,1].reshape(-1,1)\n",
        "\n",
        "binarizer=Binarizer(threshold=custom_threshold).fit(pred_proba_1)\n",
        "custom_predict=binarizer.transform(pred_proba_1)\n",
        "\n",
        "get_clf_eval(y_test, custom_predict)"
      ],
      "metadata": {
        "id": "-IExbRrwe3Jq",
        "colab": {
          "base_uri": "https://localhost:8080/"
        },
        "outputId": "ae707af1-9c84-4060-9399-92f60faf4833"
      },
      "execution_count": 15,
      "outputs": [
        {
          "output_type": "stream",
          "name": "stdout",
          "text": [
            "오차 행렬\n",
            "[[104  14]\n",
            " [ 13  48]]\n",
            "정확도: 0.8492, 정밀도: 0.7742, 재현율: 0.7869\n"
          ]
        }
      ]
    },
    {
      "cell_type": "code",
      "source": [
        "#임곗값을 0.4로\n",
        "custom_threshold=0.4\n",
        "\n",
        "pred_proba_1=pred_proba[:,1].reshape(-1,1)\n",
        "\n",
        "binarizer=Binarizer(threshold=custom_threshold).fit(pred_proba_1)\n",
        "custom_predict=binarizer.transform(pred_proba_1)\n",
        "\n",
        "get_clf_eval(y_test, custom_predict)"
      ],
      "metadata": {
        "id": "UH4Rj2SMe3HR",
        "colab": {
          "base_uri": "https://localhost:8080/"
        },
        "outputId": "1e250714-46c3-48e5-afdb-f208795d3082"
      },
      "execution_count": 16,
      "outputs": [
        {
          "output_type": "stream",
          "name": "stdout",
          "text": [
            "오차 행렬\n",
            "[[98 20]\n",
            " [10 51]]\n",
            "정확도: 0.8324, 정밀도: 0.7183, 재현율: 0.8361\n"
          ]
        }
      ]
    },
    {
      "cell_type": "markdown",
      "source": [
        "정확도는 올라가고 정밀도는 올라감\n",
        "\n",
        "- 분류 결정 임곗값은 Positive 예측값을 결정하는 확률의 기준이 되므로 임곗값을 낮추면 True 값이 많아짐\n",
        "- 그러므로 재현율은 높아지고 실제 양성을 음성으로 예측하는 회수는 상대적으로 줄어들기 때문"
      ],
      "metadata": {
        "id": "qOiwrB-fhGTJ"
      }
    },
    {
      "cell_type": "markdown",
      "source": [
        "0.4부터 0.6까지 0.05씩 증가시키며 평가 지표 조사"
      ],
      "metadata": {
        "id": "hnHbotVLhboa"
      }
    },
    {
      "cell_type": "code",
      "source": [
        "thresholds=[0.4, 0.45, 0.5, 0.55, 0.6]"
      ],
      "metadata": {
        "id": "Zyb4o2eLe3FL"
      },
      "execution_count": 17,
      "outputs": []
    },
    {
      "cell_type": "code",
      "source": [
        "def get_eval_by_threshold(y_test, pred_proba_c1, thresholds):\n",
        "  for custom_threshold in thresholds:\n",
        "    binarizer=Binarizer(threshold=custom_threshold).fit(pred_proba_c1)\n",
        "    custom_predict=binarizer.transform(pred_proba_c1)\n",
        "    print('임곗값:', custom_threshold)\n",
        "    get_clf_eval(y_test,custom_predict)\n",
        "\n",
        "get_eval_by_threshold(y_test, pred_proba[:,1].reshape(-1,1), thresholds)"
      ],
      "metadata": {
        "id": "MqPytxbfe3CW",
        "colab": {
          "base_uri": "https://localhost:8080/"
        },
        "outputId": "30da62f5-6822-4600-eff0-d1de7054267b"
      },
      "execution_count": 18,
      "outputs": [
        {
          "output_type": "stream",
          "name": "stdout",
          "text": [
            "임곗값: 0.4\n",
            "오차 행렬\n",
            "[[98 20]\n",
            " [10 51]]\n",
            "정확도: 0.8324, 정밀도: 0.7183, 재현율: 0.8361\n",
            "임곗값: 0.45\n",
            "오차 행렬\n",
            "[[103  15]\n",
            " [ 12  49]]\n",
            "정확도: 0.8492, 정밀도: 0.7656, 재현율: 0.8033\n",
            "임곗값: 0.5\n",
            "오차 행렬\n",
            "[[104  14]\n",
            " [ 13  48]]\n",
            "정확도: 0.8492, 정밀도: 0.7742, 재현율: 0.7869\n",
            "임곗값: 0.55\n",
            "오차 행렬\n",
            "[[109   9]\n",
            " [ 15  46]]\n",
            "정확도: 0.8659, 정밀도: 0.8364, 재현율: 0.7541\n",
            "임곗값: 0.6\n",
            "오차 행렬\n",
            "[[112   6]\n",
            " [ 16  45]]\n",
            "정확도: 0.8771, 정밀도: 0.8824, 재현율: 0.7377\n"
          ]
        }
      ]
    },
    {
      "cell_type": "markdown",
      "source": [
        "Precision_recall_curve( )\n",
        "\n",
        "- 입력 파라미터:\n",
        "\n",
        "y_true: 실제 클래스 값 배열\n",
        "\n",
        "probas_pred: Positive 칼럼의 예측 확률 배열\n",
        "\n",
        "- 반환 값:\n",
        "\n",
        "정밀도\n",
        "\n",
        "재현율"
      ],
      "metadata": {
        "id": "3De2ZM7WjHER"
      }
    },
    {
      "cell_type": "code",
      "source": [
        "from sklearn.metrics import precision_recall_curve\n",
        "\n",
        "#레이블 값이 1일 때의 예측 확률을 추출\n",
        "pred_proba_class1=lr_clf.predict_proba(X_test)[:,1]\n",
        "\n",
        "#실제값 데이터 세트와 레이블 값이 1일 때의 예측 확률을 precision_recall_curve 인자로 입력\n",
        "precisions, recalls, thresholds = precision_recall_curve(y_test, pred_proba_class1)\n",
        "print('반환된 분류 결정 임곗값 배열의 Shape:', thresholds.shape)\n",
        "\n",
        "#반환된 임계값 배열 로우가 147건이므로 샘플로 10건만 추출하되, 임계값을 15 Step으로 추출\n",
        "thr_index=np.arange(0, thresholds.shape[0], 15)\n",
        "print('샘플 추출을 위한 임계값 배열의 index 10개:', thr_index)\n",
        "print('샘플용 10개의 임곗값:', np.round(thresholds[thr_index],2))\n",
        "\n",
        "#15step 단위로 추출된 임계값에 따른 정밀도와 재현율 값\n",
        "print('샘플 임계값별 정밀도:', np.round(precisions[thr_index],3))\n",
        "print('샘플 임계값별 재현율:', np.round(recalls[thr_index],3))\n"
      ],
      "metadata": {
        "colab": {
          "base_uri": "https://localhost:8080/"
        },
        "id": "9WWhZx2XjG0n",
        "outputId": "c6aed3a1-64e4-457f-a02a-de0b3dc6ec15"
      },
      "execution_count": 19,
      "outputs": [
        {
          "output_type": "stream",
          "name": "stdout",
          "text": [
            "반환된 분류 결정 임곗값 배열의 Shape: (143,)\n",
            "샘플 추출을 위한 임계값 배열의 index 10개: [  0  15  30  45  60  75  90 105 120 135]\n",
            "샘플용 10개의 임곗값: [0.1  0.12 0.14 0.19 0.28 0.4  0.56 0.67 0.82 0.95]\n",
            "샘플 임계값별 정밀도: [0.389 0.44  0.466 0.539 0.647 0.729 0.836 0.949 0.958 1.   ]\n",
            "샘플 임계값별 재현율: [1.    0.967 0.902 0.902 0.902 0.836 0.754 0.607 0.377 0.148]\n"
          ]
        }
      ]
    },
    {
      "cell_type": "code",
      "source": [
        "import matplotlib.pyplot as plt\n",
        "import matplotlib.ticker as ticker\n",
        "%matplotlib inline"
      ],
      "metadata": {
        "id": "Gh9Goc2hjGxP"
      },
      "execution_count": 20,
      "outputs": []
    },
    {
      "cell_type": "code",
      "source": [
        "def precision_recall_curve_plot(y_test, pred_proba_c1):\n",
        "  precisions, recalls, thresholds = precision_recall_curve(y_test, pred_proba_c1)\n",
        "\n",
        "  plt.figure(figsize=(8,6))\n",
        "  threshold_boundary=thresholds.shape[0]\n",
        "  plt.plot(thresholds, precisions[0:threshold_boundary], linestyle='-', label='precsion')\n",
        "  plt.plot(thresholds, recalls[0:threshold_boundary], label='recall')\n",
        "\n",
        "  start, end=plt.xlim()\n",
        "  plt.xticks(np.round(np.arange(start, end, 0.1),2))\n",
        "\n",
        "  plt.xlabel('Threshold value'); plt.ylabel('Precision and Recall value')\n",
        "  plt.legend( ); plt.grid()\n",
        "  plt.show()\n",
        "\n",
        "precision_recall_curve_plot(y_test, lr_clf.predict_proba(X_test)[:,1])"
      ],
      "metadata": {
        "colab": {
          "base_uri": "https://localhost:8080/",
          "height": 388
        },
        "id": "TOZVXu6ijGt_",
        "outputId": "0a7a0095-8d4e-4059-c6ba-c0c1c5286750"
      },
      "execution_count": 21,
      "outputs": [
        {
          "output_type": "display_data",
          "data": {
            "text/plain": [
              "<Figure size 576x432 with 1 Axes>"
            ],
            "image/png": "[encoded data removed]"
          },
          "metadata": {
            "needs_background": "light"
          }
        }
      ]
    },
    {
      "cell_type": "markdown",
      "source": [
        "### **정밀도와 재현율의 맹점**\n",
        "\n",
        "임곗값을 변경함에 따라 정밀도와 재현율의 수치가 변경됨\n",
        "-> 그러므로 두 개의 수치를 상호 보완할 수 있는 수준에서 적용\n",
        "\n",
        "- 정밀도 100%가 되는 방법\n",
        "\n",
        ":확실한 기준이 되는 경우만 Positice로 에측하고 나머지는 모두 Negative로 예측\n",
        "\n",
        "FP=0, TP=1\n",
        "\n",
        "- 재현율이 100%가 되는 방법\n",
        "\n",
        ": 모든 환자를 Positive로 예측\n",
        "\n",
        "TP=30, FN=0"
      ],
      "metadata": {
        "id": "BYM4WtvVmsjK"
      }
    },
    {
      "cell_type": "markdown",
      "source": [
        "## **04 F1 스코어**\n",
        "\n",
        "---\n",
        "\n",
        "- 정밀도와 재현율을 결합한 지표\n",
        "- 정밀도와 재현율이 어느 한 쪽으로 치우치지 않는 수치를 나타낼 때 상대적으로 높은 값을 가짐\n"
      ],
      "metadata": {
        "id": "AUCkjvWznWg1"
      }
    },
    {
      "cell_type": "markdown",
      "source": [
        "![image.png](data:image/png;base64,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)"
      ],
      "metadata": {
        "id": "xHZkzGYAnbQY"
      }
    },
    {
      "cell_type": "code",
      "source": [
        "from sklearn.metrics import f1_score\n",
        "f1=f1_score(y_test, pred)\n",
        "print('F1 스코어: {0:.4f}'.format(f1))"
      ],
      "metadata": {
        "id": "z33QwRZHjF-R",
        "colab": {
          "base_uri": "https://localhost:8080/"
        },
        "outputId": "3adfe935-abdf-41b6-eecf-61acc8cc747a"
      },
      "execution_count": 22,
      "outputs": [
        {
          "output_type": "stream",
          "name": "stdout",
          "text": [
            "F1 스코어: 0.7805\n"
          ]
        }
      ]
    },
    {
      "cell_type": "code",
      "source": [
        "#get_clf_eval() 함수에 F1 스코어 추가\n",
        "\n",
        "def get_clf_eval(y_test, pred):\n",
        "  confusion=confusion_matrix(y_test, pred)\n",
        "  accuracy=accuracy_score(y_test, pred)\n",
        "  precision=precision_score(y_test, pred)\n",
        "  recall=recall_score(y_test, pred)\n",
        "\n",
        "  f1=f1_score(y_test, pred)\n",
        "  print('오차 행렬')\n",
        "  print(confusion)\n",
        "\n",
        "  print('정확도: {0:.4f}, 정밀도: {1:.4f}, 재현율: {2:.4f}, F1: {3:.4f}'.format(accuracy, precision, recall, f1))\n",
        "\n",
        "thresholds=[0.4, 0.45, 0.5, 0.55, 0.6]\n",
        "pred_proba=lr_clf.predict_proba(X_test)\n",
        "get_eval_by_threshold(y_test, pred_proba[:,1].reshape(-1,1), thresholds)"
      ],
      "metadata": {
        "colab": {
          "base_uri": "https://localhost:8080/"
        },
        "id": "dTOOzF4LndEy",
        "outputId": "c3d05b91-ca52-4d8b-aaad-ab155680b875"
      },
      "execution_count": 26,
      "outputs": [
        {
          "output_type": "stream",
          "name": "stdout",
          "text": [
            "임곗값: 0.4\n",
            "오차 행렬\n",
            "[[98 20]\n",
            " [10 51]]\n",
            "정확도: 0.8324, 정밀도: 0.7183, 재현율: 0.8361, F1: 0.7727\n",
            "임곗값: 0.45\n",
            "오차 행렬\n",
            "[[103  15]\n",
            " [ 12  49]]\n",
            "정확도: 0.8492, 정밀도: 0.7656, 재현율: 0.8033, F1: 0.7840\n",
            "임곗값: 0.5\n",
            "오차 행렬\n",
            "[[104  14]\n",
            " [ 13  48]]\n",
            "정확도: 0.8492, 정밀도: 0.7742, 재현율: 0.7869, F1: 0.7805\n",
            "임곗값: 0.55\n",
            "오차 행렬\n",
            "[[109   9]\n",
            " [ 15  46]]\n",
            "정확도: 0.8659, 정밀도: 0.8364, 재현율: 0.7541, F1: 0.7931\n",
            "임곗값: 0.6\n",
            "오차 행렬\n",
            "[[112   6]\n",
            " [ 16  45]]\n",
            "정확도: 0.8771, 정밀도: 0.8824, 재현율: 0.7377, F1: 0.8036\n"
          ]
        }
      ]
    },
    {
      "cell_type": "markdown",
      "source": [
        "임곗값이 0.6일 때 F1 값이 가장 높게 나오고 있음"
      ],
      "metadata": {
        "id": "T62LZfH1pOcr"
      }
    },
    {
      "cell_type": "markdown",
      "source": [
        "## **05 ROC 곡선과 AUC**\n",
        "\n",
        "- ROC 곡선: 수신자 판단 곡선, FPR을 X축, TPR을 Y축으로\n",
        "- TPR=True Positive Rate=재현율, 민감도=**TP/(FN + TP)**\n",
        "- TNR=True Negative Rate=특이성=**TN/(FP + TN)**\n",
        "- FPR=False Positive Rate= 1- 특이성=**FP/(FP + TN)**\n",
        "\n",
        "---\n",
        "\n",
        "ROC 곡선은 대각선으로 이은 직선과 멀수록 성능이 좋고 가까울수록 성능이 안좋음\n",
        "\n",
        "FPR을 변경하면서 TPR의 변화 값을 구함\n",
        "\n",
        "FPR=0 : 임곗값이 1 = positive로 예측하는 경우가 없으므로 FP=0\n",
        "\n",
        "FPR=1 : 임곗값이 0 = 전부 positive로 예측하므로 TN=0이 됨\n",
        "\n",
        "---\n",
        "### **roc_curve( )**:\n",
        "\n",
        "- 입력 파라미터: y_true: 실제 클래스 값 arrary, y_score: predict_prova의 반환 값\n",
        "- 반환값: fpr, thresholds\n",
        "\n"
      ],
      "metadata": {
        "id": "JWO0kpJ_pSx4"
      }
    },
    {
      "cell_type": "code",
      "source": [
        "from sklearn.metrics import roc_curve\n",
        "pred_proba_class1=lr_clf.predict_proba(X_test)[:,1]\n",
        "\n",
        "fprs, tprs, thresholds=roc_curve(y_test, pred_proba_class1)\n",
        "\n",
        "thr_index=np.arange(0, thresholds.shape[0],5)\n",
        "#결과값이 똑같이 나오려면 0부터 시작해야하는데 왜 교재에는 1부터 시작하는가?..\n",
        "\n",
        "print('샘플 추출을 위한 임곗값 배열의 index 10개:', thr_index)\n",
        "print('샘플용 10개의 임곗값: ',np.round(thresholds[thr_index],2))\n",
        "\n",
        "print('샘플 임곗값별 FPR: ', np.round(fprs[thr_index],3))\n",
        "print('샘플 임곗값별 TPR: ', np.round(tprs[thr_index],3))"
      ],
      "metadata": {
        "id": "pHY_XyOtjF5_",
        "colab": {
          "base_uri": "https://localhost:8080/"
        },
        "outputId": "d35cd7ae-4d4e-46c8-9637-0ab45e865166"
      },
      "execution_count": 31,
      "outputs": [
        {
          "output_type": "stream",
          "name": "stdout",
          "text": [
            "샘플 추출을 위한 임곗값 배열의 index 10개: [ 0  5 10 15 20 25 30 35 40 45 50]\n",
            "샘플용 10개의 임곗값:  [1.97 0.75 0.63 0.59 0.49 0.4  0.35 0.23 0.13 0.12 0.11]\n",
            "샘플 임곗값별 FPR:  [0.    0.017 0.034 0.051 0.127 0.161 0.203 0.331 0.585 0.636 0.797]\n",
            "샘플 임곗값별 TPR:  [0.    0.475 0.689 0.754 0.787 0.836 0.869 0.902 0.918 0.967 0.967]\n"
          ]
        }
      ]
    },
    {
      "cell_type": "code",
      "source": [
        "def roc_curve_plot(y_test, pred_proba_c1):\n",
        "  # 임곘값에 따른 FPR, TPR 값을 반환받음\n",
        "  fprs, tprs, thresholds=roc_curve(y_test, pred_proba_c1)\n",
        "  # ROC 곡선을 그래프 곡선으로 그림\n",
        "  plt.plot(fprs, tprs, label='ROC')\n",
        "  # 가운데 대각선 직선을 그림\n",
        "  plt.plot([0,1],[0,1], 'k--', label='Random')\n",
        "\n",
        "  # FPR X 축의 Scale을 0.1 단위로 변경, X, Y축 명 설정 등\n",
        "  start, end = plt.xlim()\n",
        "  plt.xticks(np.round(np.arange(start, end, 0.1), 2))\n",
        "  plt.xlim(0,1); plt.ylim(0,1)\n",
        "  plt.xlabel('FPR( 1 - Sensitivity)'); plt.ylabel('TPR( Recall )')\n",
        "  plt.legend()\n",
        "\n",
        "roc_curve_plot(y_test, pred_proba[:,1])\n"
      ],
      "metadata": {
        "id": "LpnntqEOjF1C",
        "colab": {
          "base_uri": "https://localhost:8080/",
          "height": 283
        },
        "outputId": "026623ef-f372-4208-ef04-c67c293eb45a"
      },
      "execution_count": 34,
      "outputs": [
        {
          "output_type": "display_data",
          "data": {
            "text/plain": [
              "<Figure size 432x288 with 1 Axes>"
            ],
            "image/png": "[encoded data removed]"
          },
          "metadata": {
            "needs_background": "light"
          }
        }
      ]
    },
    {
      "cell_type": "code",
      "source": [
        "from sklearn.metrics import accuracy_score, confusion_matrix, precision_score\n",
        "from sklearn.metrics import recall_score, f1_score, roc_auc_score\n",
        "import numpy as np\n",
        "\n",
        "#기존의 교재에 있는 y_target, preds가 뭔지 모르겠습니다.\n",
        "\n",
        "print(confusion_matrix(y_test, pred))\n",
        "print('정확도: ', np.round(accuracy_score(y_test, pred), 4))\n",
        "print('정밀도: ', np.round(precision_score(y_test, pred), 4))\n",
        "print('재현율: ', np.round(recall_score(y_test, pred), 4))"
      ],
      "metadata": {
        "id": "rqu9zn9ZjFwg",
        "colab": {
          "base_uri": "https://localhost:8080/"
        },
        "outputId": "737fd652-fa47-4ea7-991a-accceeea2404"
      },
      "execution_count": 39,
      "outputs": [
        {
          "output_type": "stream",
          "name": "stdout",
          "text": [
            "[[104  14]\n",
            " [ 13  48]]\n",
            "정확도:  0.8492\n",
            "정밀도:  0.7742\n",
            "재현율:  0.7869\n"
          ]
        }
      ]
    },
    {
      "cell_type": "code",
      "source": [
        "#get_clf_eval에 ROC AUC 값추가\n",
        "\n",
        "def get_clf_eval(y_test, pred):\n",
        "  confusion=confusion_matrix(y_test, pred)\n",
        "  accuracy=accuracy_score(y_test, pred)\n",
        "  precision=precision_score(y_test, pred)\n",
        "  recall=recall_score(y_test, pred)\n",
        "  f1=f1_score(y_test, pred)\n",
        "\n",
        "  roc_auc=roc_auc_score(y_test, pred_proba)\n",
        "  print('오차 행렬')\n",
        "  print(confusion)\n",
        "\n",
        "  print('정확도: {0:.4f}, 정밀도: {1:.4f}, 재현율: {2:.4f}, F1: {3:.4f}'.format(accuracy, precision, recall, f1, roc_auc))\n"
      ],
      "metadata": {
        "id": "iTiLTz8H0xyk"
      },
      "execution_count": 41,
      "outputs": []
    }
  ]
}